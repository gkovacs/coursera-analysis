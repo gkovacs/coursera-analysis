{
 "metadata": {
  "name": "",
  "signature": "sha256:eb752aa218ea09fed4bc6867e1e74a0bbc5f268cecd4d56b582567864bf573c7"
 },
 "nbformat": 3,
 "nbformat_minor": 0,
 "worksheets": []
}