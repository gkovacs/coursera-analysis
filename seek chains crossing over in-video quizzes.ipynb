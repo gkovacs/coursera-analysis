{
 "metadata": {
  "name": "",
  "signature": "sha256:0698c40f0d450a41ee944c352615eeb57d35a4401f1f99430ab1ec658a66649f"
 },
 "nbformat": 3,
 "nbformat_minor": 0,
 "worksheets": [
  {
   "cells": [
    {
     "cell_type": "markdown",
     "metadata": {},
     "source": [
      "do people seeek more forward or backward across in-video quizzes?\n",
      "\n",
      "how about across slide transitions?"
     ]
    },
    {
     "cell_type": "code",
     "collapsed": false,
     "input": [
      "from get_seek_chains import getSeekChainsFast\n",
      "from video_annotations import ml_004 as vid\n",
      "import numpy\n",
      "from numpy import mean\n",
      "from lectures_to_viewers import getViewersForLecture, getLecturesToViewers"
     ],
     "language": "python",
     "metadata": {},
     "outputs": [],
     "prompt_number": 2
    },
    {
     "cell_type": "code",
     "collapsed": false,
     "input": [
      "def num_quizzes_crossed(seek_chain, lecture_id):\n",
      "  quizzes_crossed = 0\n",
      "  if seek_chain.direction == 'forward':\n",
      "    for quiz_time in vid.in_video_quiz_times[lecture_id]:\n",
      "      if seek_chain.start + 2 <= quiz_time <= seek_chain.end - 2:\n",
      "        quizzes_crossed += 1\n",
      "  elif seek_chain.direction == 'back':\n",
      "    for quiz_time in vid.in_video_quiz_times[lecture_id]:\n",
      "      if seek_chain.end + 2 <= quiz_time <= seek_chain.start - 2:\n",
      "        quizzes_crossed += 1\n",
      "  return quizzes_crossed\n",
      "\n",
      "def num_slides_crossed(seek_chain, lecture_id):\n",
      "  quizzes_crossed = 0\n",
      "  if seek_chain.direction == 'forward':\n",
      "    for transition_time in vid.slide_transitions[lecture_id]:\n",
      "      if seek_chain.start <= transition_time <= seek_chain.end:\n",
      "        quizzes_crossed += 1\n",
      "  elif seek_chain.direction == 'back':\n",
      "    for transition_time in vid.slide_transitions[lecture_id]:\n",
      "      if seek_chain.end <= transition_time <= seek_chain.start:\n",
      "        quizzes_crossed += 1\n",
      "  return quizzes_crossed\n",
      "\n",
      "def num_seconds_crossed(seek_chain):\n",
      "  return int(abs(seek_chain.start - seek_chain.end))"
     ],
     "language": "python",
     "metadata": {},
     "outputs": [],
     "prompt_number": 16
    },
    {
     "cell_type": "code",
     "collapsed": false,
     "input": [],
     "language": "python",
     "metadata": {},
     "outputs": [],
     "prompt_number": 3
    },
    {
     "cell_type": "code",
     "collapsed": false,
     "input": [
      "\n",
      "#print vid\n",
      "\n",
      "#longest_video_length = max(vid.video_lengths.values())\n",
      "\n",
      "seconds_crossed_forward_norm = []\n",
      "seconds_crossed_back_norm = []\n",
      "\n",
      "quizzes_crossed_forward_norm = []\n",
      "quizzes_crossed_back_norm = []\n",
      "\n",
      "slides_crossed_forward_norm = []\n",
      "slides_crossed_back_norm = []\n",
      "\n",
      "quizzes_crossed_forward = []\n",
      "quizzes_crossed_back = []\n",
      "\n",
      "slides_crossed_forward = []\n",
      "slides_crossed_back = []\n",
      "\n",
      "forward_seek_counts = []\n",
      "back_seek_counts = []\n",
      "\n",
      "forward_seek_lengths = []\n",
      "back_seek_lengths = []\n",
      "\n",
      "seconds_crossed_forward = []\n",
      "seconds_crossed_back = []\n",
      "\n",
      "def normsum(arr, divisor):\n",
      "  return float(sum(arr)) / divisor\n",
      "\n",
      "for lecture_id,video_length in vid.video_lengths.items():\n",
      "  seek_chains = getSeekChainsFast(lecture_id)\n",
      "  num_viewers = len(getViewersForLecture(lecture_id))\n",
      "  num_quizzes = len(vid.in_video_quiz_times[lecture_id])\n",
      "  num_slides = len(vid.slide_transitions[lecture_id])\n",
      "  forward_seek_lengths_per_user = []\n",
      "  back_seek_lengths_per_user = []\n",
      "  quizzes_crossed_forward_per_user = []\n",
      "  quizzes_crossed_back_per_user = []\n",
      "  slides_crossed_forward_per_user = []\n",
      "  slides_crossed_back_per_user = []\n",
      "  for seek_chain in seek_chains:\n",
      "    quizzes_crossed = num_quizzes_crossed(seek_chain, lecture_id)\n",
      "    slides_crossed = num_slides_crossed(seek_chain, lecture_id)\n",
      "    seconds_crossed = num_seconds_crossed(seek_chain)\n",
      "    if seek_chain.direction == 'forward':\n",
      "      quizzes_crossed_forward_per_user.append(quizzes_crossed)\n",
      "      slides_crossed_forward_per_user.append(slides_crossed)\n",
      "      forward_seek_lengths_per_user.append(seconds_crossed)\n",
      "    elif seek_chain.direction == 'back':\n",
      "      quizzes_crossed_back_per_user.append(quizzes_crossed)\n",
      "      slides_crossed_back_per_user.append(slides_crossed)\n",
      "      back_seek_lengths_per_user.append(seconds_crossed)\n",
      "  seconds_crossed_forward.append(normsum(forward_seek_lengths_per_user, num_viewers))\n",
      "  seconds_crossed_back.append(normsum(back_seek_lengths_per_user, num_viewers))\n",
      "  seconds_crossed_forward_norm.append(normsum(forward_seek_lengths_per_user, num_viewers) / video_length)\n",
      "  seconds_crossed_back_norm.append(normsum(back_seek_lengths_per_user, num_viewers) / video_length)\n",
      "  forward_seek_counts.append(float(len(forward_seek_lengths_per_user)) / num_viewers)\n",
      "  back_seek_counts.append(float(len(back_seek_lengths_per_user)) / num_viewers)\n",
      "  forward_seek_lengths.append(mean(forward_seek_lengths_per_user))\n",
      "  back_seek_lengths.append(mean(back_seek_lengths_per_user))\n",
      "  quizzes_crossed_forward.append(normsum(quizzes_crossed_forward_per_user, num_viewers))\n",
      "  quizzes_crossed_back.append(normsum(quizzes_crossed_back_per_user, num_viewers))\n",
      "  slides_crossed_forward.append(normsum(slides_crossed_forward_per_user, num_viewers))\n",
      "  slides_crossed_back.append(normsum(slides_crossed_back_per_user, num_viewers))\n",
      "  if num_quizzes > 0:\n",
      "    quizzes_crossed_forward_norm.append(normsum(quizzes_crossed_forward_per_user, num_viewers) / num_quizzes)\n",
      "    quizzes_crossed_back_norm.append(normsum(quizzes_crossed_back_per_user, num_viewers) / num_quizzes)\n",
      "  if num_slides > 0:\n",
      "    slides_crossed_forward_norm.append(normsum(slides_crossed_forward_per_user, num_viewers) / num_slides)\n",
      "    slides_crossed_back_norm.append(normsum(slides_crossed_back_per_user, num_viewers) / num_slides)\n",
      "\n",
      "# normalize: per user per video\n",
      "\n",
      "print 'quizzes crossed forward norm', mean(quizzes_crossed_forward_norm)\n",
      "print 'quizzes crossed back norm', mean(quizzes_crossed_back_norm)\n",
      "print 'slides crossed forward norm', mean(slides_crossed_forward_norm)\n",
      "print 'slides crossed back norm', mean(slides_crossed_back_norm)\n",
      "print 'num seconds crossed forward norm', mean(seconds_crossed_forward_norm)\n",
      "print 'num seconds crossed back norm', mean(seconds_crossed_back_norm)\n",
      "\n",
      "print 'quizzes crossed forward', mean(quizzes_crossed_forward)\n",
      "print 'quizzes crossed back', mean(quizzes_crossed_back)\n",
      "print 'slides crossed forward', mean(slides_crossed_forward)\n",
      "print 'slides crossed back', mean(slides_crossed_back)\n",
      "print 'num seconds crossed forward', mean(seconds_crossed_forward)\n",
      "print 'num seconds crossed back', mean(seconds_crossed_back)\n",
      "print 'num forward seeks', mean(forward_seek_counts)\n",
      "print 'num back seeks', mean(back_seek_counts)\n",
      "print 'forward seek length average', mean(forward_seek_lengths)\n",
      "print 'back seek length average', mean(back_seek_lengths)"
     ],
     "language": "python",
     "metadata": {},
     "outputs": [
      {
       "output_type": "stream",
       "stream": "stdout",
       "text": [
        "quizzes crossed forward norm 0.0617120271063\n",
        "quizzes crossed back norm 0.0353128382998\n",
        "slides crossed forward norm 0.188701082187\n",
        "slides crossed back norm 0.0636255009603\n",
        "num seconds crossed forward norm 0.150840469003\n",
        "num seconds crossed back norm 0.0558406399273\n",
        "quizzes crossed forward 0.0619664815919\n",
        "quizzes crossed back 0.0336973636169\n",
        "slides crossed forward 0.572380175563\n",
        "slides crossed back 0.203198870881\n",
        "num seconds crossed forward 100.186513239\n",
        "num seconds crossed back 36.1608487391\n",
        "num forward seeks 0.744496798286\n",
        "num back seeks 0.655589347495\n",
        "forward seek length average 127.952045349\n",
        "back seek length average 51.0514619956\n"
       ]
      }
     ],
     "prompt_number": 18
    },
    {
     "cell_type": "code",
     "collapsed": false,
     "input": [
      "#total_num_quizzes = sum([len(x) for x in vid.in_video_quiztimes.values()])\n",
      "#total_num_slide = sum([len(x) for x in vid.slide_transitions.])\n",
      "#tota_num_videos = len(vid.in_video_quiztimes.keys())"
     ],
     "language": "python",
     "metadata": {},
     "outputs": [
      {
       "ename": "SyntaxError",
       "evalue": "invalid syntax (<ipython-input-5-7103816efef5>, line 2)",
       "output_type": "pyerr",
       "traceback": [
        "\u001b[1;36m  File \u001b[1;32m\"<ipython-input-5-7103816efef5>\"\u001b[1;36m, line \u001b[1;32m2\u001b[0m\n\u001b[1;33m    total_num_slide = sum([len(x) for x in vid.slide_transitions.])\u001b[0m\n\u001b[1;37m                                                                 ^\u001b[0m\n\u001b[1;31mSyntaxError\u001b[0m\u001b[1;31m:\u001b[0m invalid syntax\n"
       ]
      }
     ],
     "prompt_number": 5
    },
    {
     "cell_type": "code",
     "collapsed": false,
     "input": [
      "num_slides = 0.0\n",
      "for lecture_id,slide_transitions in vid.slide_transitions.iteritems():\n",
      "  num_slides += len(slide_transitions)\n",
      "\n",
      "#num_quizzes = 109.0\n",
      "#print num_slides"
     ],
     "language": "python",
     "metadata": {},
     "outputs": [
      {
       "output_type": "stream",
       "stream": "stdout",
       "text": [
        "339.0\n"
       ]
      }
     ],
     "prompt_number": 20
    },
    {
     "cell_type": "code",
     "collapsed": false,
     "input": [
      "num_forward_total = 0\n",
      "num_seconds_forward = 0\n",
      "num_forward_across_quiz = 0\n",
      "num_forward_across_slide = 0\n",
      "num_back_total = 0\n",
      "num_seconds_back = 0\n",
      "num_back_across_quiz = 0\n",
      "num_back_across_slide = 0\n",
      "\n",
      "for lecture_id,video_length in vid.video_lengths.items():\n",
      "  seek_chains = getSeekChainsFast(lecture_id)\n",
      "  for seek_chain in seek_chains:\n",
      "    #for seek_event in seek_chain.seek_events:\n",
      "    if True:\n",
      "      direction = seek_chain.direction\n",
      "      quizzes_crossed = num_quizzes_crossed(seek_chain, lecture_id)\n",
      "      slides_crossed = num_slides_crossed(seek_chain, lecture_id)\n",
      "      seconds_crossed = num_seconds_crossed(seek_chain)\n",
      "      if direction == 'forward':\n",
      "        num_forward_total += 1\n",
      "        num_seconds_forward += seconds_crossed\n",
      "        if quizzes_crossed > 0:\n",
      "          num_forward_across_quiz += 1\n",
      "        if slides_crossed > 0:\n",
      "          num_forward_across_slide += slides_crossed\n",
      "      if direction == 'back':\n",
      "        num_back_total += 1\n",
      "        num_seconds_back += seconds_crossed\n",
      "        if quizzes_crossed > 0:\n",
      "          num_back_across_quiz += 1\n",
      "        if slides_crossed > 0:\n",
      "          num_back_across_slide += slides_crossed\n",
      "\n",
      "total_seeks = num_forward_total + num_back_total\n",
      "\n",
      "forward_baseline = (num_seconds_forward / 70138.0)\n",
      "back_baseline = (num_seconds_back / 70138.0)\n",
      "\n",
      "print 'forward total:', num_forward_total, 'percent:', (num_forward_total * 100.0 / total_seeks)\n",
      "print 'seconds crossed forward:', num_seconds_forward\n",
      "print 'seconds crossed forward norm:', forward_baseline, 'percent:', forward_baseline*100.0/total_seeks\n",
      "print 'forward across quiz:', num_forward_across_quiz, 'percent:', (num_forward_across_quiz * 100.0 / total_seeks)\n",
      "print 'forward across quiz norm:', (num_forward_across_quiz / 109.0), 'percent:', (num_forward_across_quiz / 109.0)*100.0/total_seeks\n",
      "print 'forward across quiz ratio to baseline:', (num_forward_across_quiz / 109.0)/forward_baseline\n",
      "print 'forward across slide:', num_forward_across_slide, 'percent:', (num_forward_across_slide * 100.0 / total_seeks)\n",
      "print 'forward across slide norm:', (num_forward_across_slide / 339.0), 'percent:', (num_forward_across_slide / 339.0)*100.0/total_seeks\n",
      "print 'forward across slide ratio to baseline:', (num_forward_across_slide / 339.0)/forward_baseline\n",
      "\n",
      "print 'back total:', num_back_total, 'percent:', (num_back_total * 100.0 / total_seeks)\n",
      "print 'seconds crossed back:', num_seconds_back\n",
      "print 'seconds crossed back norm:', back_baseline, 'percent:', back_baseline*100.0/total_seeks\n",
      "print 'back across quiz:', num_back_across_quiz, 'percent:', (num_back_across_quiz * 100.0 / total_seeks)\n",
      "print 'back across quiz norm:', (num_back_across_quiz / 109.0), 'percent:', (num_back_across_quiz / 109.0)*100.0/total_seeks\n",
      "print 'back across quiz ratio to baseline:', (num_back_across_quiz / 109.0)/back_baseline\n",
      "print 'back across slide:', num_back_across_slide, num_back_across_slide, 'percent:', (num_back_across_slide * 100.0 / total_seeks)\n",
      "print 'back across slide norm:', (num_back_across_slide / 339.0), 'percent:', (num_back_across_slide / 339.0)*100.0/total_seeks\n",
      "print 'back across slide ratio to baseline:', (num_back_across_slide / 339.0)/back_baseline\n",
      "# forward seeks within same : what % of total seeks are these?\n",
      "# back seeks within same : what % of total seeks are these?\n"
     ],
     "language": "python",
     "metadata": {},
     "outputs": [
      {
       "output_type": "stream",
       "stream": "stdout",
       "text": [
        "forward total: 1169873 percent: 55.6198819399\n",
        "seconds crossed forward: 150980532\n",
        "seconds crossed forward norm: 2152.62100431 percent: 0.102343182654\n",
        "forward across quiz: 98613 percent: 4.68840926985\n",
        "forward across quiz norm: 904.706422018 percent: 0.0430129290812\n",
        "forward across quiz ratio to baseline: 0.420281331553\n",
        "forward across slide: 909675 percent: 43.2491527744\n",
        "forward across slide norm: 2683.40707965 percent: 0.127578621754\n",
        "forward across slide ratio to baseline: 1.24657664971\n",
        "back total: 933463 percent: 44.3801180601\n",
        "seconds crossed back: 50407224\n",
        "seconds crossed back norm: 718.686361174 percent: 0.0341688803488\n",
        "back across quiz: 47184 percent: 2.24329351088\n",
        "back across quiz norm: 432.880733945 percent: 0.0205806744117\n",
        "back across quiz ratio to baseline: 0.602322177421\n",
        "back across slide: 301129 301129 percent: 14.3167330374\n",
        "back across slide norm: 888.286135693 percent: 0.0422322508479\n",
        "back across slide ratio to baseline: 1.23598579809\n"
       ]
      }
     ],
     "prompt_number": 33
    },
    {
     "cell_type": "code",
     "collapsed": false,
     "input": [
      "print sum(vid.video_lengths.values())"
     ],
     "language": "python",
     "metadata": {},
     "outputs": [
      {
       "output_type": "stream",
       "stream": "stdout",
       "text": [
        "70138\n"
       ]
      }
     ],
     "prompt_number": 14
    },
    {
     "cell_type": "code",
     "collapsed": false,
     "input": [
      "total_seek_chain_length = 0\n",
      "\n"
     ],
     "language": "python",
     "metadata": {},
     "outputs": []
    }
   ],
   "metadata": {}
  }
 ]
}