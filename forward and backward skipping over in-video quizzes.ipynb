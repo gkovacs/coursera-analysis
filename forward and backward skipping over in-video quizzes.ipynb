{
 "metadata": {
  "name": "",
  "signature": "sha256:6aa3f6d0d7dcd89b9b88d2c8f435d23894d53d3d41c9ce2cad45627b13e17e64"
 },
 "nbformat": 3,
 "nbformat_minor": 0,
 "worksheets": [
  {
   "cells": [
    {
     "cell_type": "code",
     "collapsed": false,
     "input": [
      "from get_seek_chains import getSeekChainsFast\n",
      "from video_annotations import ml_004 as vid\n",
      "import numpy\n",
      "from numpy import mean\n",
      "from lectures_to_viewers import getViewersForLecture, getLecturesToViewers"
     ],
     "language": "python",
     "metadata": {},
     "outputs": []
    },
    {
     "cell_type": "code",
     "collapsed": false,
     "input": [
      "def num_quizzes_crossed(seek_chain, lecture_id):\n",
      "  quizzes_crossed = 0\n",
      "  if seek_chain.direction == 'forward':\n",
      "    for quiz_time in vid.in_video_quiz_times[lecture_id]:\n",
      "      if seek_chain.start <= quiz_time <= seek_chain.end:\n",
      "        quizzes_crossed += 1\n",
      "  elif seek_chain.direction == 'back':\n",
      "    for quiz_time in vid.in_video_quiz_times[lecture_id]:\n",
      "      if seek_chain.end <= quiz_time <= seek_chain.start:\n",
      "        quizzes_crossed += 1\n",
      "  return quizzes_crossed\n",
      "\n",
      "def num_slides_crossed(seek_chain, lecture_id):\n",
      "  quizzes_crossed = 0\n",
      "  if seek_chain.direction == 'forward':\n",
      "    for transition_time in vid.slide_transitions[lecture_id]:\n",
      "      if seek_chain.start <= transition_time <= seek_chain.end:\n",
      "        quizzes_crossed += 1\n",
      "  elif seek_chain.direction == 'back':\n",
      "    for transition_time in vid.slide_transitions[lecture_id]:\n",
      "      if seek_chain.end <= transition_time <= seek_chain.start:\n",
      "        quizzes_crossed += 1\n",
      "  return quizzes_crossed"
     ],
     "language": "python",
     "metadata": {},
     "outputs": []
    },
    {
     "cell_type": "code",
     "collapsed": false,
     "input": [
      "lengths_of_seeks_forward_over_in_video_quizzes = []\n",
      "lengths_of_seeks_back_over_in_video_quizzes = []\n",
      "lengths_of_seeks_forward_over_slides = []\n",
      "lengths_of_seeks_back_over_slides = []\n",
      "lengths_of_seeks_forward = []\n",
      "lengths_of_seeks_back = []\n",
      "\n",
      "for lecture_id,video_length in vid.video_lengths.items():\n",
      "  seek_chains = getSeekChainsFast(lecture_id)\n",
      "  num_viewers = len(getViewersForLecture(lecture_id))\n",
      "  "
     ],
     "language": "python",
     "metadata": {},
     "outputs": []
    }
   ],
   "metadata": {}
  }
 ]
}