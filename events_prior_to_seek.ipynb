{
 "metadata": {
  "name": "",
  "signature": "sha256:795f9f058210dd88101d6f816ede12a8d8b5e8c0939de4160e4bb379af9d2c0e"
 },
 "nbformat": 3,
 "nbformat_minor": 0,
 "worksheets": [
  {
   "cells": [
    {
     "cell_type": "code",
     "collapsed": false,
     "input": [
      "def \n",
      "\n"
     ],
     "language": "python",
     "metadata": {},
     "outputs": []
    }
   ],
   "metadata": {}
  }
 ]
}