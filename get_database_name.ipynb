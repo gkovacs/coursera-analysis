{
 "metadata": {
  "name": "",
  "signature": "sha256:6bc0bc73ff725bff0db1d56b11083ecaecd2aec2e34f8bba013828aea7eeb7d9"
 },
 "nbformat": 3,
 "nbformat_minor": 0,
 "worksheets": [
  {
   "cells": [
    {
     "cell_type": "code",
     "collapsed": false,
     "input": [
      "# noexport\n",
      "\n",
      "import os\n",
      "os.system('export_notebook get_database_name.ipynb')"
     ],
     "language": "python",
     "metadata": {},
     "outputs": [
      {
       "metadata": {},
       "output_type": "pyout",
       "prompt_number": 1,
       "text": [
        "0"
       ]
      }
     ],
     "prompt_number": 1
    },
    {
     "cell_type": "code",
     "collapsed": false,
     "input": [
      "databasename = 'ml-004_clickstream_video.sqlite'\n",
      "\n",
      "def getDatabaseName():\n",
      "  return databasename"
     ],
     "language": "python",
     "metadata": {},
     "outputs": []
    }
   ],
   "metadata": {}
  }
 ]
}