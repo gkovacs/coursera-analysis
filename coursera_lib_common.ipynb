{
 "metadata": {
  "name": "",
  "signature": "sha256:2920a7610984efd6bd3d7d1e9645db08c50fa1dc360d019fe0299c15605de5c9"
 },
 "nbformat": 3,
 "nbformat_minor": 0,
 "worksheets": [
  {
   "cells": [
    {
     "cell_type": "code",
     "collapsed": false,
     "input": [
      "# noexport\n",
      "\n",
      "import os\n",
      "os.system('export_notebook coursera_lib_common.ipynb')"
     ],
     "language": "python",
     "metadata": {},
     "outputs": [
      {
       "metadata": {},
       "output_type": "pyout",
       "prompt_number": 1,
       "text": [
        "0"
       ]
      }
     ],
     "prompt_number": 1
    },
    {
     "cell_type": "code",
     "collapsed": false,
     "input": [
      "def parseOptions(options, lst):\n",
      "  if options == None:\n",
      "    return tuple([None for x in lst])\n",
      "  for key in options:\n",
      "    assert key in lst, 'provided option ' + str(key) + ' is not in acceptable options ' + str(lst)\n",
      "  output = []\n",
      "  for x in lst:\n",
      "    if x in options:\n",
      "      output.append(options[x])\n",
      "    else:\n",
      "      output.append(None)\n",
      "  return tuple(output)"
     ],
     "language": "python",
     "metadata": {},
     "outputs": []
    }
   ],
   "metadata": {}
  }
 ]
}