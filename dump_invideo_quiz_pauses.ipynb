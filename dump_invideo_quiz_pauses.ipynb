{
 "metadata": {
  "name": "",
  "signature": "sha256:30992ace0b71d984c2cc98f815ede8530159fc3c97512a220c5aa4004365a081"
 },
 "nbformat": 3,
 "nbformat_minor": 0,
 "worksheets": [
  {
   "cells": [
    {
     "cell_type": "code",
     "collapsed": false,
     "input": [
      "# noexport\n",
      "\n",
      "import os\n",
      "os.system('export_notebook dump_invideo_quiz_pauses.ipynb')"
     ],
     "language": "python",
     "metadata": {},
     "outputs": []
    },
    {
     "cell_type": "code",
     "collapsed": false,
     "input": [
      "from coursera_analytics_common import *\n",
      "import os\n",
      "import json"
     ],
     "language": "python",
     "metadata": {},
     "outputs": [],
     "prompt_number": 1
    },
    {
     "cell_type": "code",
     "collapsed": false,
     "input": [
      "video_to_user_to_quiz_pause_events = {}\n",
      "\n",
      "count = 0\n",
      "if os.path.exists('video_to_user_to_quiz_pause_events.json'):\n",
      "  video_to_user_to_quiz_pause_events = json.load(open('video_to_user_to_quiz_pause_events.json'))\n",
      "else:\n",
      "  #for videonumber in listVideos():\n",
      "  #  video_to_user_to_quiz_pause_events[videonumber] = {}\n",
      "  for user,lectures in getViewersToLectures().iteritems():\n",
      "    for lecture_id in lectures:\n",
      "      if lecture_id not in video_to_user_to_quiz_pause_events:\n",
      "        video_to_user_to_quiz_pause_events[lecture_id] = {}\n",
      "      #video_length = vid.video_lengths[int(lecture_id)]\n",
      "      quizzes = vid.in_video_quiz_times[int(lecture_id)]\n",
      "      #print video_length\n",
      "      try:\n",
      "        all_events = extractAllEventsForUserInLecture(lecture_id, user)\n",
      "        if all_events == None:\n",
      "          continue\n",
      "      except DataException as e:\n",
      "        continue\n",
      "      for event in all_events:\n",
      "        for quiz_idx,quiz_time in enumerate(quizzes):\n",
      "          if event.event_type == 'pause' and abs(event.start - quiz_time) < 5:\n",
      "            if user not in video_to_user_to_quiz_pause_events[lecture_id]:\n",
      "              video_to_user_to_quiz_pause_events[lecture_id][user] = [[] for i in range(len(quizzes))]\n",
      "            video_to_user_to_quiz_pause_events[lecture_id][user][quiz_idx].append(event.timestamp)\n",
      "  json.dump(video_to_user_to_quiz_pause_events, open('video_to_user_to_quiz_pause_events.json', 'w'))\n"
     ],
     "language": "python",
     "metadata": {},
     "outputs": []
    }
   ],
   "metadata": {}
  }
 ]
}