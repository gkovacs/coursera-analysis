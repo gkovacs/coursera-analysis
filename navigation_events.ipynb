{
 "metadata": {
  "name": "",
  "signature": "sha256:239258fc27c3f6c2b6e32229b1d629c63758e20a1f276cdb0d23418d6c713b96"
 },
 "nbformat": 3,
 "nbformat_minor": 0,
 "worksheets": [
  {
   "cells": [
    {
     "cell_type": "code",
     "collapsed": false,
     "input": [
      "# noexport\n",
      "\n",
      "import os\n",
      "os.system('export_notebook navigation_events.ipynb')"
     ],
     "language": "python",
     "metadata": {},
     "outputs": [
      {
       "metadata": {},
       "output_type": "pyout",
       "prompt_number": 2,
       "text": [
        "0"
       ]
      }
     ],
     "prompt_number": 2
    },
    {
     "cell_type": "code",
     "collapsed": false,
     "input": [
      "class SeekEvent:\n",
      "  def __init__(self, timestamp, start, end, paused):\n",
      "    self.timestamp = timestamp\n",
      "    self.start = start\n",
      "    self.end = end\n",
      "    self.event_type = 'seeked'\n",
      "    self.paused = bool(paused)\n",
      "    if self.end >= self.start:\n",
      "      self.direction = 'forward'\n",
      "    else:\n",
      "      self.direction = 'back'\n",
      "  def __str__(self):\n",
      "    return dumps(self.__dict__)\n",
      "  def __repr__(self):\n",
      "    return str(self)\n",
      "\n",
      "class SeekChain:\n",
      "  def __init__(self, seek_events):\n",
      "    assert len(seek_events) > 0\n",
      "    self.seek_events = seek_events\n",
      "    self.start = seek_events[0].start\n",
      "    self.end = seek_events[-1].end\n",
      "    self.event_type = 'seek_chain'\n",
      "    if self.end >= self.start:\n",
      "      self.direction = 'forward'\n",
      "    else:\n",
      "      self.direction = 'back'\n",
      "    self.timestamp = seek_events[0].timestamp\n",
      "    self.timestamp_end = seek_events[-1].timestamp\n",
      "  def __str__(self):\n",
      "    output = self.__dict__\n",
      "    output['seek_events'] = [x.__dict__ for x in output['seek_events']]\n",
      "    return dumps(output)\n",
      "  def __repr__(self):\n",
      "    return str(self)\n",
      "\n",
      "class PlayEvent:\n",
      "  def __init__(self, timestamp, start, playback_rate):\n",
      "    self.timestamp = timestamp\n",
      "    self.start = start\n",
      "    self.playback_rate = playback_rate\n",
      "    self.event_type = 'play'\n",
      "\n",
      "class PlaySpan:\n",
      "  def __init__(self, timestamp, timestamp_end, start, end, playback_rate):\n",
      "    self.timestamp = timestamp\n",
      "    self.timestamp_end = timestamp_end\n",
      "    self.start = start\n",
      "    self.end = end\n",
      "    self.playback_rate = playback_rate\n",
      "    self.event_type = 'play_span'\n",
      "    if self.timestamp == None:\n",
      "      raise DataException('PlaySpan timestamp cannot be None')\n",
      "    if self.timestamp_end == None:\n",
      "      raise DataException('PlaySpan timestamp_end cannot be None')\n",
      "    if self.start == None:\n",
      "      raise DataException('PlaySpan start cannot be None')\n",
      "    if self.end == None:\n",
      "      raise DataException('PlaySpan end cannot be None')\n",
      "    if self.playback_rate == None:\n",
      "      raise DataException('PlaySpan playback_rate cannot be None')\n",
      "  def __str__(self):\n",
      "    return '(' + str(self.start) + ', ' + str(self.end) + ')'\n",
      "  def __repr__(self):\n",
      "    return self.__str__()\n",
      "\n",
      "class PauseEvent:\n",
      "  def __init__(self, timestamp, start):\n",
      "    self.timestamp = timestamp\n",
      "    self.start = start\n",
      "    self.event_type = 'pause'\n",
      "\n",
      "class RateChangeEvent:\n",
      "  def __init__(self, timestamp, start, playback_rate, paused):\n",
      "    self.timestamp = timestamp\n",
      "    self.start = start\n",
      "    self.playback_rate = playback_rate\n",
      "    self.event_type = 'ratechange'\n",
      "    self.paused = bool(paused)\n"
     ],
     "language": "python",
     "metadata": {},
     "outputs": [],
     "prompt_number": 1
    }
   ],
   "metadata": {}
  }
 ]
}