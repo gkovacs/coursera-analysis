{
 "metadata": {
  "name": "",
  "signature": "sha256:0afd090a77a788ee8499938705c38833f2b9952ca4abf10631e8c63fcf45761d"
 },
 "nbformat": 3,
 "nbformat_minor": 0,
 "worksheets": [
  {
   "cells": [
    {
     "cell_type": "code",
     "collapsed": false,
     "input": [
      "# noexport\n",
      "\n",
      "import os\n",
      "os.system('export_notebook dump_video_end_events.ipynb')"
     ],
     "language": "python",
     "metadata": {},
     "outputs": [
      {
       "metadata": {},
       "output_type": "pyout",
       "prompt_number": 1,
       "text": [
        "0"
       ]
      }
     ],
     "prompt_number": 1
    },
    {
     "cell_type": "code",
     "collapsed": false,
     "input": [
      "from coursera_analytics_common import *\n",
      "import os\n",
      "import json"
     ],
     "language": "python",
     "metadata": {},
     "outputs": [],
     "prompt_number": 1
    },
    {
     "cell_type": "code",
     "collapsed": false,
     "input": [
      "video_to_user_to_end_events = {}\n",
      "\n",
      "count = 0\n",
      "if os.path.exists('video_to_user_to_end_events.json'):\n",
      "  video_to_user_to_end_events = json.load(open('video_to_user_to_end_events.json'))\n",
      "else:\n",
      "  #for videonumber in listVideos():\n",
      "  #  video_to_user_to_end_events[videonumber] = {}\n",
      "  for user,lectures in getViewersToLectures().iteritems():\n",
      "    for lecture_id in lectures:\n",
      "      if lecture_id not in video_to_user_to_end_events:\n",
      "        video_to_user_to_end_events[lecture_id] = {}\n",
      "      video_length = vid.video_lengths[int(lecture_id)]\n",
      "      #print video_length\n",
      "      try:\n",
      "        all_events = extractAllEventsForUserInLecture(lecture_id, user)\n",
      "        if all_events == None:\n",
      "          continue\n",
      "      except DataException as e:\n",
      "        continue\n",
      "      for event in all_events:\n",
      "        if event.event_type == 'pause' and abs(event.start - video_length) < 5:\n",
      "          if user not in video_to_user_to_end_events[lecture_id]:\n",
      "            video_to_user_to_end_events[lecture_id][user] = []\n",
      "          video_to_user_to_end_events[lecture_id][user].append(event.timestamp)\n",
      "  json.dump(video_to_user_to_end_events, open('video_to_user_to_end_events.json', 'w'))\n",
      "    "
     ],
     "language": "python",
     "metadata": {},
     "outputs": []
    }
   ],
   "metadata": {}
  }
 ]
}