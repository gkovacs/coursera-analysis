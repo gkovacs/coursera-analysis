{
 "metadata": {
  "name": "",
  "signature": "sha256:c4c2b5c5eecbb80f4c4fa96d321f5330c83f0c6b5fe65a200ccd53510c786c64"
 },
 "nbformat": 3,
 "nbformat_minor": 0,
 "worksheets": [
  {
   "cells": [
    {
     "cell_type": "code",
     "collapsed": false,
     "input": [
      "# noexport\n",
      "\n",
      "import os\n",
      "os.system(\"export_notebook oneindexed.ipynb\")"
     ],
     "language": "python",
     "metadata": {},
     "outputs": [
      {
       "metadata": {},
       "output_type": "pyout",
       "prompt_number": 1,
       "text": [
        "0"
       ]
      }
     ],
     "prompt_number": 1
    },
    {
     "cell_type": "code",
     "collapsed": false,
     "input": [
      "class OneIndexedArray(object):\n",
      "  def __init__(self, data):\n",
      "    self.__array__ = [None] + data\n",
      "  def __len__(self):\n",
      "    return len(self.__array__) - 1\n",
      "  def __getitem__(self, i):\n",
      "    return self.__array__[i]\n",
      "  def __setitem__(self, i, v):\n",
      "    self.__array__[i] = v\n",
      "  def __str__(self):\n",
      "    return self.__array__[1:].__str__()\n",
      "  def __repr__(self):\n",
      "    return self.__array__[1:].__repr__()"
     ],
     "language": "python",
     "metadata": {},
     "outputs": []
    }
   ],
   "metadata": {}
  }
 ]
}