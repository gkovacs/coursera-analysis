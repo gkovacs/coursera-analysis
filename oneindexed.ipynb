{
 "metadata": {
  "name": "",
  "signature": "sha256:536c5b00a727f3434c423c2558e3e27472a0dd0e1c63d92c1981dbc302a8e933"
 },
 "nbformat": 3,
 "nbformat_minor": 0,
 "worksheets": [
  {
   "cells": [
    {
     "cell_type": "code",
     "collapsed": false,
     "input": [
      "# noexport\n",
      "\n",
      "import os\n",
      "os.system(\"export_notebook oneindexed.ipynb\")"
     ],
     "language": "python",
     "metadata": {},
     "outputs": [
      {
       "metadata": {},
       "output_type": "pyout",
       "prompt_number": 4,
       "text": [
        "0"
       ]
      }
     ],
     "prompt_number": 4
    },
    {
     "cell_type": "code",
     "collapsed": false,
     "input": [
      "class OneIndexedArray(object):\n",
      "  def __init__(self, data):\n",
      "    self.__array__ = [0] + data\n",
      "  def __len__(self):\n",
      "    return len(self.__array__) - 1\n",
      "  def __getitem__(self, i):\n",
      "    return self.__array__[i]\n",
      "  def __setitem__(self, i, v):\n",
      "    self.__array__[i] = v\n",
      "  def __str__(self):\n",
      "    return self.__array__[1:].__str__()\n",
      "  def __repr__(self):\n",
      "    return self.__array__[1:].__repr__()"
     ],
     "language": "python",
     "metadata": {},
     "outputs": [],
     "prompt_number": 2
    }
   ],
   "metadata": {}
  }
 ]
}