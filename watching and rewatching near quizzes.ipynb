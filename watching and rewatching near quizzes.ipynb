{
 "metadata": {
  "name": "",
  "signature": "sha256:f03ab7de3eaed7791391f050b14eba061d1c5b65b111c52da4b7e34a02d20c6c"
 },
 "nbformat": 3,
 "nbformat_minor": 0,
 "worksheets": [
  {
   "cells": [
    {
     "cell_type": "code",
     "collapsed": false,
     "input": [
      "from coursera_analytics_common import *"
     ],
     "language": "python",
     "metadata": {},
     "outputs": [
      {
       "output_type": "stream",
       "stream": "stdout",
       "text": [
        "59641\n",
        "8935\n"
       ]
      }
     ],
     "prompt_number": 1
    },
    {
     "cell_type": "markdown",
     "metadata": {},
     "source": [
      "is there more watching at the parts of the video preceding the in-video quizzes?\n",
      "\n",
      "is there more watching at the parts of the video following the in-video quizzes?\n",
      "\n",
      "same for rewatching sessions and watched-more-than-once"
     ]
    },
    {
     "cell_type": "code",
     "collapsed": false,
     "input": [
      "import video_annotations\n",
      "reload(video_annotations)\n",
      "from video_annotations import ml_004 as vid \n",
      "\n",
      "from oneindexed import OneIndexedArray\n",
      "from jsobj import Object\n",
      "#print dir(video_annotations)\n",
      "#print video_annotations.in_video_quiz_times_ml_004\n"
     ],
     "language": "python",
     "metadata": {},
     "outputs": [],
     "prompt_number": 2
    },
    {
     "cell_type": "code",
     "collapsed": false,
     "input": [
      "from numpy import arange, array, ones\n",
      "import numpy\n",
      "from scipy.stats import linregress, kurtosis\n",
      "\n",
      "def get_slope_and_intercept(views):\n",
      "  xi = arange(0,len(views))\n",
      "  slope,intercept,r_value,p_value,std_err = linregress(xi, views)\n",
      "  return slope,intercept\n",
      "\n",
      "def get_actual_and_predicted_views_at_time(views, time):\n",
      "  slope,intercept = get_slope_and_intercept(views)\n",
      "  #print slope, intercept\n",
      "  predicted_views = intercept + slope*time\n",
      "  actual_views = views[time]\n",
      "  return actual_views,predicted_views\n",
      "\n",
      "#print get_slope_and_intercept([12,8,6,4,2,0,-2,-4,-6,-8,-10,-12])"
     ],
     "language": "python",
     "metadata": {},
     "outputs": [],
     "prompt_number": 3
    },
    {
     "cell_type": "code",
     "collapsed": false,
     "input": [
      "from statsmodels.nonparametric.smoothers_lowess import lowess\n",
      "\n",
      "def lowess_array(arr):\n",
      "  xarr = array(range(len(arr)), dtype=numpy.float64)\n",
      "  result = lowess(endog=arr, exog=xarr, frac=0.02) #,frac=0.02)\n",
      "  return [x[1] for x in result]"
     ],
     "language": "python",
     "metadata": {},
     "outputs": [],
     "prompt_number": 4
    },
    {
     "cell_type": "code",
     "collapsed": false,
     "input": [
      "#print video_to_parts_played['13']\n",
      "#print lowess_array([0]*100)"
     ],
     "language": "python",
     "metadata": {},
     "outputs": [],
     "prompt_number": 5
    },
    {
     "cell_type": "code",
     "collapsed": false,
     "input": [
      "import json\n",
      "import numpy\n",
      "\n",
      "video_to_parts_played = json.load(open('video_to_parts_played.json'))\n",
      "\n",
      "#lecture_id = 13\n",
      "#parts_played = video_to_parts_played['13']\n",
      "#quiz_time = vid.in_video_quiz_times[13][0]\n",
      "#print get_actual_and_predicted_views_at_time(parts_played, quiz_time)\n",
      "\n",
      "ratios = []\n",
      "for lecture_id,parts_played in video_to_parts_played.iteritems():\n",
      "  lecture_id = int(lecture_id)\n",
      "  for quiz_time in vid.in_video_quiz_times[lecture_id]:\n",
      "    for quiz_time_sub in range(quiz_time - 1, quiz_time):\n",
      "      actual_views,predicted_views = get_actual_and_predicted_views_at_time(parts_played, quiz_time_sub)\n",
      "      ratios.append(actual_views / float(predicted_views))\n",
      "\n",
      "print numpy.mean(ratios)\n"
     ],
     "language": "python",
     "metadata": {},
     "outputs": [
      {
       "output_type": "stream",
       "stream": "stdout",
       "text": [
        "1.29419300641\n"
       ]
      }
     ],
     "prompt_number": 6
    },
    {
     "cell_type": "code",
     "collapsed": false,
     "input": [
      "import json\n",
      "import numpy\n",
      "\n",
      "video_to_parts_played_reviewsession = json.load(open('video_to_parts_played_reviewsession.json'))\n",
      "\n",
      "#lecture_id = 13\n",
      "#parts_played = video_to_parts_played['13']\n",
      "#quiz_time = vid.in_video_quiz_times[13][0]\n",
      "#print get_actual_and_predicted_views_at_time(parts_played, quiz_time)\n",
      "\n",
      "ratios = []\n",
      "for lecture_id,parts_played in video_to_parts_played_reviewsession.iteritems():\n",
      "  lecture_id = int(lecture_id)\n",
      "  for quiz_time in vid.in_video_quiz_times[lecture_id]:\n",
      "    for quiz_time_sub in range(quiz_time - 1, quiz_time):\n",
      "      actual_views,predicted_views = get_actual_and_predicted_views_at_time(parts_played, quiz_time_sub)\n",
      "      ratios.append(actual_views / float(predicted_views))\n",
      "\n",
      "print numpy.mean(ratios)\n"
     ],
     "language": "python",
     "metadata": {},
     "outputs": [
      {
       "output_type": "stream",
       "stream": "stdout",
       "text": [
        "1.28858731924\n"
       ]
      }
     ],
     "prompt_number": 7
    },
    {
     "cell_type": "code",
     "collapsed": false,
     "input": [
      "video_to_parts_played_more_than_once = json.load(open('video_to_parts_played_more_than_once.json'))\n",
      "\n",
      "#lecture_id = 13\n",
      "#parts_played = video_to_parts_played['13']\n",
      "#quiz_time = vid.in_video_quiz_times[13][0]\n",
      "#print get_actual_and_predicted_views_at_time(parts_played, quiz_time)\n",
      "\n",
      "ratios = []\n",
      "for lecture_id,parts_played in video_to_parts_played_more_than_once.iteritems():\n",
      "  lecture_id = int(lecture_id)\n",
      "  for quiz_time in vid.in_video_quiz_times[lecture_id]:\n",
      "    for quiz_time_sub in range(quiz_time - 1, quiz_time):\n",
      "      actual_views,predicted_views = get_actual_and_predicted_views_at_time(parts_played, quiz_time_sub)\n",
      "      ratios.append(actual_views / float(predicted_views))\n",
      "\n",
      "print numpy.mean(ratios)\n"
     ],
     "language": "python",
     "metadata": {},
     "outputs": [
      {
       "output_type": "stream",
       "stream": "stdout",
       "text": [
        "1.38501629186\n"
       ]
      }
     ],
     "prompt_number": 8
    },
    {
     "cell_type": "code",
     "collapsed": false,
     "input": [
      "video_to_parts_played_more_than_once = json.load(open('video_to_parts_played_more_than_once.json'))\n",
      "\n",
      "#lecture_id = 13\n",
      "#parts_played = video_to_parts_played['13']\n",
      "#quiz_time = vid.in_video_quiz_times[13][0]\n",
      "#print get_actual_and_predicted_views_at_time(parts_played, quiz_time)\n",
      "\n",
      "ratios = []\n",
      "for lecture_id,parts_played in video_to_parts_played_more_than_once.iteritems():\n",
      "  lecture_id = int(lecture_id)\n",
      "  for quiz_time in vid.slide_transitions[lecture_id]:\n",
      "    for quiz_time_sub in range(quiz_time - 1, quiz_time):\n",
      "      actual_views,predicted_views = get_actual_and_predicted_views_at_time(parts_played, quiz_time_sub)\n",
      "      ratios.append(actual_views / float(predicted_views))\n",
      "\n",
      "print numpy.mean(ratios)\n"
     ],
     "language": "python",
     "metadata": {},
     "outputs": [
      {
       "output_type": "stream",
       "stream": "stdout",
       "text": [
        "1.06829157855\n"
       ]
      }
     ],
     "prompt_number": 9
    },
    {
     "cell_type": "code",
     "collapsed": false,
     "input": [
      "def subtract_minval(arr):\n",
      "  minval = min(arr)\n",
      "  return [x-minval for x in arr]\n"
     ],
     "language": "python",
     "metadata": {},
     "outputs": [],
     "prompt_number": 10
    },
    {
     "cell_type": "code",
     "collapsed": false,
     "input": [],
     "language": "python",
     "metadata": {},
     "outputs": [],
     "prompt_number": 10
    },
    {
     "cell_type": "code",
     "collapsed": false,
     "input": [
      "#a = OneIndexedArray([0,1,2,3])\n",
      "#print a[1]\n",
      "#print a"
     ],
     "language": "python",
     "metadata": {},
     "outputs": [],
     "prompt_number": 11
    },
    {
     "cell_type": "code",
     "collapsed": false,
     "input": [
      "from numpy import var as variance\n",
      "\n",
      "def update_mean_dev(oldmean, oldmeandev, updatevalue):\n",
      "  alpha = 0.125\n",
      "  diff = abs(oldmean - updatevalue)\n",
      "  newmeandev = alpha*diff + (1-alpha)*oldmeandev\n",
      "  newmean = alpha*updatevalue + (1-alpha)*oldmean\n",
      "  return newmean,newmeandev\n",
      "\n",
      "def get_peaks(C, options=None):\n",
      "  output = []\n",
      "  max_height_global = 0\n",
      "  for i in range(0, len(C)):\n",
      "    curheight = C[i]\n",
      "    max_height_global = max(max_height_global, curheight)\n",
      "  area_global = sum(C)\n",
      "  slope_global,intercept_global = get_slope_and_intercept(C)\n",
      "  for start,end in find_peak_windows(C, options):\n",
      "    peak = Object()\n",
      "    peak.start = start\n",
      "    peak.end = end\n",
      "    peak.width = end - start\n",
      "    max_height = float('-inf')\n",
      "    # do things to compute the height per segment\n",
      "    slope = (C[end] - C[start]) / float(peak.width)\n",
      "    peak.peakidx = 0\n",
      "    for i in range(start, end):\n",
      "      curheight = C[i]\n",
      "      if curheight > max_height:\n",
      "        max_height = curheight\n",
      "        peak.peakidx = i\n",
      "    peak.height = max_height\n",
      "    peak.height_norm = peak.height / float(max_height_global)\n",
      "    #print 'peakidx:', peak.peakidx\n",
      "    #print 'slope_global:', slope_global\n",
      "    peak.height_expected = intercept_global + slope_global*peak.peakidx\n",
      "    peak.height_ratio = peak.height / peak.height_expected\n",
      "    #for i in range(start, end):\n",
      "    #  curbase = C[start] + slope*i\n",
      "    #  curheight = C[i] - curbase\n",
      "    #  max_height = max(max_height, curheight)\n",
      "    peak.width_norm = peak.width / float(len(C))\n",
      "    #peak.\n",
      "    # normalized peaks\n",
      "    peak.area = sum(C[start:end])\n",
      "    peak.area_norm = peak.area / float(area_global)\n",
      "    output.append(peak)\n",
      "  return output\n",
      "\n",
      "def find_peak_windows(C, options=None):\n",
      "  tau = 2\n",
      "  # if the current bin count C[i] is more than tau mean deviations from the current mean,\n",
      "  # and the bin counts are increasing, we say that the increase is significant, and begin a new peak window\n",
      "  p = 5\n",
      "  if options != None:\n",
      "    if 'tau' in options:\n",
      "      tau = options['tau']\n",
      "  \n",
      "  C = lowess_array(C)\n",
      "  C = OneIndexedArray(C)\n",
      "  windows = []\n",
      "  mean = C[1]\n",
      "  meandev = variance(C[1:p+1])\n",
      "  \n",
      "  #for i in range(1, len(C)):\n",
      "  i = 2\n",
      "  while i < len(C):\n",
      "    if (abs(C[i] - mean)/meandev > tau) and (C[i] > C[i-1]):\n",
      "      # begin a new peak window\n",
      "      start = i - 1\n",
      "      end = start + 1\n",
      "      while (i < len(C)) and (C[i] > C[i-1]): # go forward until you reach the peak\n",
      "        mean,meandev = update_mean_dev(mean, meandev, C[i])\n",
      "        i += 1\n",
      "      while (i < len(C)) and (C[i] > C[start]):\n",
      "        if (abs(C[i] - mean)/meandev > tau) and (C[i] > C[i-1]): # have found a new peak\n",
      "          #end = i\n",
      "          i -= 1\n",
      "          end = i\n",
      "          break\n",
      "        else:\n",
      "          mean,meandev = update_mean_dev(mean, meandev, C[i])\n",
      "          end = i\n",
      "          i += 1\n",
      "      windows.append([start, end])\n",
      "    else:\n",
      "      mean,meandev = update_mean_dev(mean, meandev, C[i])\n",
      "    i += 1\n",
      "  return windows"
     ],
     "language": "python",
     "metadata": {},
     "outputs": [],
     "prompt_number": 12
    },
    {
     "cell_type": "code",
     "collapsed": false,
     "input": [
      "arr = [0]*10 + [10] + [0]*10 + [10] + [0]*10 + [20, 10] + [0]*10\n",
      "#for start,end in find_peak_windows(arr):\n",
      "#  print arr[start:end]\n",
      "for peak in get_peaks(arr):\n",
      "  print peak"
     ],
     "language": "python",
     "metadata": {},
     "outputs": [
      {
       "output_type": "stream",
       "stream": "stdout",
       "text": [
        "{'peakidx': 10, 'area_norm': 0.2, 'end': 11, 'width_norm': 0.022727272727272728, 'width': 1, 'area': 10, 'height': 10, 'start': 10, 'height_expected': 0.8040873854827344, 'height_ratio': 12.436459246275197, 'height_norm': 0.5}\n",
        "{'peakidx': 21, 'area_norm': 0.2, 'end': 22, 'width_norm': 0.022727272727272728, 'width': 1, 'area': 10, 'height': 10, 'start': 21, 'height_expected': 1.1219168428470754, 'height_ratio': 8.9133165829145735, 'height_norm': 0.5}\n",
        "{'peakidx': 32, 'area_norm': 0.6, 'end': 34, 'width_norm': 0.045454545454545456, 'width': 2, 'area': 30, 'height': 20, 'start': 32, 'height_expected': 1.4397463002114166, 'height_ratio': 13.891336270190894, 'height_norm': 1.0}\n"
       ]
      }
     ],
     "prompt_number": 13
    },
    {
     "cell_type": "code",
     "collapsed": false,
     "input": [
      "import json\n",
      "video_to_parts_played = json.load(open('video_to_parts_played.json'))\n",
      "\n",
      "num_peaks_total = 0\n",
      "num_peaks_quizzes = 0\n",
      "num_peaks_slides = 0\n",
      "\n",
      "for lecture_id,parts_played in video_to_parts_played.iteritems():\n",
      "  lecture_id = int(lecture_id)\n",
      "  for peak in get_peaks(parts_played, {'tau': 5}):\n",
      "    start = peak.start\n",
      "    end = peak.end\n",
      "    is_quiz = False\n",
      "    is_slide = False\n",
      "    for quiz_time in vid.in_video_quiz_times[lecture_id]:\n",
      "      if start <= quiz_time <= end:\n",
      "        is_quiz = True\n",
      "    for transition_time in vid.slide_transitions[lecture_id]:\n",
      "      if start <= transition_time <= end:\n",
      "        is_slide = True\n",
      "    #if peak.height_ratio < 1.3:\n",
      "    #  continue\n",
      "    if is_quiz:\n",
      "      #print peak.width\n",
      "      num_peaks_quizzes += 1\n",
      "    if is_slide:\n",
      "      num_peaks_slides += 1\n",
      "    #if not is_quiz and not is_slide:\n",
      "    #  print peak.width\n",
      "    #print peak.height_ratio\n",
      "    num_peaks_total += 1\n",
      "\n",
      "print num_peaks_total\n",
      "print num_peaks_quizzes\n",
      "print num_peaks_slides\n",
      "\n"
     ],
     "language": "python",
     "metadata": {},
     "outputs": [
      {
       "output_type": "stream",
       "stream": "stdout",
       "text": [
        "11\n",
        "6\n",
        "1\n"
       ]
      }
     ],
     "prompt_number": 14
    },
    {
     "cell_type": "code",
     "collapsed": false,
     "input": [
      "video_to_parts_skipped_back_over = json.load(open('video_to_parts_skipped_back_over.json'))\n",
      "\n",
      "#print video_to_parts_skipped_back_over\n",
      "#lecture_id = 13\n",
      "#parts_played = video_to_parts_played['13']\n",
      "#quiz_time = vid.in_video_quiz_times[13][0]\n",
      "#print get_actual_and_predicted_views_at_time(parts_played, quiz_time)\n",
      "\n",
      "ratios = []\n",
      "for lecture_id,parts_skipped in video_to_parts_skipped_back_over.iteritems():\n",
      "  lecture_id = int(lecture_id)\n",
      "  #print lecture_id\n",
      "  for quiz_time in vid.in_video_quiz_times[lecture_id]:\n",
      "    for quiz_time_sub in range(quiz_time - 1, quiz_time):\n",
      "      actual_skips,predicted_skips = get_actual_and_predicted_views_at_time(parts_skipped, quiz_time_sub)\n",
      "      #print actual_skips, predicted_skips\n",
      "      ratios.append(actual_skips / float(predicted_skips))\n",
      "\n",
      "print numpy.mean(ratios)\n"
     ],
     "language": "python",
     "metadata": {},
     "outputs": [
      {
       "output_type": "stream",
       "stream": "stdout",
       "text": [
        "1.65139771759\n"
       ]
      }
     ],
     "prompt_number": 15
    },
    {
     "cell_type": "code",
     "collapsed": false,
     "input": [
      "video_to_parts_skipped_back_over = json.load(open('video_to_parts_skipped_back_over.json'))\n",
      "\n",
      "#print video_to_parts_skipped_back_over\n",
      "#lecture_id = 13\n",
      "#parts_played = video_to_parts_played['13']\n",
      "#quiz_time = vid.in_video_quiz_times[13][0]\n",
      "#print get_actual_and_predicted_views_at_time(parts_played, quiz_time)\n",
      "\n",
      "kurtosis_of_peaks = []\n",
      "for lecture_id,parts_skipped in video_to_parts_skipped_back_over.iteritems():\n",
      "  lecture_id = int(lecture_id)\n",
      "  #print lecture_id\n",
      "  for quiz_time in vid.in_video_quiz_times[lecture_id]:\n",
      "    if not (0 <= quiz_time-10 < quiz_time+1 <= len(parts_skipped)):\n",
      "      continue\n",
      "    curpart = parts_skipped[quiz_time-10:quiz_time+1]\n",
      "    curpart = subtract_minval(curpart)\n",
      "    #print curpart\n",
      "    #print curpart\n",
      "    curpart_kurtosis = kurtosis(curpart, fisher=False)\n",
      "    #print curpart_kurtosis\n",
      "    kurtosis_of_peaks.append(curpart_kurtosis)\n",
      "\n",
      "print numpy.mean(kurtosis_of_peaks)\n"
     ],
     "language": "python",
     "metadata": {},
     "outputs": [
      {
       "output_type": "stream",
       "stream": "stdout",
       "text": [
        "3.33556539427\n"
       ]
      }
     ],
     "prompt_number": 16
    },
    {
     "cell_type": "code",
     "collapsed": false,
     "input": [
      "video_to_parts_skipped_back_over = json.load(open('video_to_parts_skipped_back_over.json'))\n",
      "\n",
      "#print video_to_parts_skipped_back_over\n",
      "#lecture_id = 13\n",
      "#parts_played = video_to_parts_played['13']\n",
      "#quiz_time = vid.in_video_quiz_times[13][0]\n",
      "#print get_actual_and_predicted_views_at_time(parts_played, quiz_time)\n",
      "\n",
      "kurtosis_of_peaks = []\n",
      "for lecture_id,parts_skipped in video_to_parts_skipped_back_over.iteritems():\n",
      "  lecture_id = int(lecture_id)\n",
      "  #print lecture_id\n",
      "  for segnum in range(len(parts_skipped)/11):\n",
      "    if segnum < 2:\n",
      "      continue\n",
      "    curpart = parts_skipped[segnum*11:(segnum+1)*11]\n",
      "    #print curpart\n",
      "    curpart_kurtosis = kurtosis(curpart, fisher=False)\n",
      "    #print curpart_kurtosis\n",
      "    kurtosis_of_peaks.append(curpart_kurtosis)\n",
      "\n",
      "print numpy.mean(kurtosis_of_peaks)\n"
     ],
     "language": "python",
     "metadata": {},
     "outputs": [
      {
       "output_type": "stream",
       "stream": "stdout",
       "text": [
        "2.20458544734\n"
       ]
      }
     ],
     "prompt_number": 17
    },
    {
     "cell_type": "code",
     "collapsed": false,
     "input": [
      "video_to_parts_skipped_back_over = json.load(open('video_to_parts_skipped_back_over.json'))\n",
      "\n",
      "#print video_to_parts_skipped_back_over\n",
      "#lecture_id = 13\n",
      "#parts_played = video_to_parts_played['13']\n",
      "#quiz_time = vid.in_video_quiz_times[13][0]\n",
      "#print get_actual_and_predicted_views_at_time(parts_played, quiz_time)\n",
      "\n",
      "kurtosis_of_peaks = []\n",
      "for lecture_id,parts_skipped in video_to_parts_skipped_back_over.iteritems():\n",
      "  lecture_id = int(lecture_id)\n",
      "  #print lecture_id\n",
      "  for quiz_time in vid.slide_transitions[lecture_id]:\n",
      "    if not (0 <= quiz_time-10 < quiz_time+1 <= len(parts_skipped)):\n",
      "      continue\n",
      "    curpart = parts_skipped[quiz_time-10:quiz_time+1]\n",
      "    curpart = subtract_minval(curpart)\n",
      "    #print curpart\n",
      "    #print curpart\n",
      "    curpart_kurtosis = kurtosis(curpart, fisher=False)\n",
      "    #print curpart_kurtosis\n",
      "    kurtosis_of_peaks.append(curpart_kurtosis)\n",
      "\n",
      "print numpy.mean(kurtosis_of_peaks)\n"
     ],
     "language": "python",
     "metadata": {},
     "outputs": [
      {
       "output_type": "stream",
       "stream": "stdout",
       "text": [
        "2.15362967089\n"
       ]
      }
     ],
     "prompt_number": 18
    },
    {
     "cell_type": "code",
     "collapsed": false,
     "input": [
      "video_to_parts_skipped_forward_over = json.load(open('video_to_parts_skipped_forward_over.json'))\n",
      "\n",
      "#print video_to_parts_skipped_forward_over\n",
      "#lecture_id = 13\n",
      "#parts_played = video_to_parts_played['13']\n",
      "#quiz_time = vid.in_video_quiz_times[13][0]\n",
      "#print get_actual_and_predicted_views_at_time(parts_played, quiz_time)\n",
      "\n",
      "ratios = []\n",
      "for lecture_id,parts_skipped in video_to_parts_skipped_forward_over.iteritems():\n",
      "  lecture_id = int(lecture_id)\n",
      "  #print lecture_id\n",
      "  for quiz_time in vid.in_video_quiz_times[lecture_id]:\n",
      "    for quiz_time_sub in range(quiz_time - 1, quiz_time):\n",
      "      actual_skips,predicted_skips = get_actual_and_predicted_views_at_time(parts_skipped, quiz_time_sub)\n",
      "      #print actual_skips, predicted_skips\n",
      "      ratios.append(actual_skips / float(predicted_skips))\n",
      "\n",
      "print numpy.mean(ratios)\n"
     ],
     "language": "python",
     "metadata": {},
     "outputs": [
      {
       "output_type": "stream",
       "stream": "stdout",
       "text": [
        "0.541632955983\n"
       ]
      }
     ],
     "prompt_number": 19
    },
    {
     "cell_type": "code",
     "collapsed": false,
     "input": [
      "video_to_parts_skipped_forward_over = json.load(open('video_to_parts_skipped_forward_over.json'))\n",
      "\n",
      "#print video_to_parts_skipped_forward_over\n",
      "#lecture_id = 13\n",
      "#parts_played = video_to_parts_played['13']\n",
      "#quiz_time = vid.in_video_quiz_times[13][0]\n",
      "#print get_actual_and_predicted_views_at_time/'6(parts_played, quiz_time)\n",
      "\n",
      "ratios = []\n",
      "for lecture_id,parts_skipped in video_to_parts_skipped_forward_over.iteritems():\n",
      "  lecture_id = int(lecture_id)\n",
      "  #print lecture_id\n",
      "  for quiz_time in vid.slide_transitions[lecture_id]:\n",
      "    for quiz_time_sub in range(quiz_time - 1, quiz_time):\n",
      "      actual_skips,predicted_skips = get_actual_and_predicted_views_at_time(parts_skipped, quiz_time_sub)\n",
      "      #print actual_skips, predicted_skips\n",
      "      ratios.append(actual_skips / float(predicted_skips))\n",
      "\n",
      "print numpy.mean(ratios)\n"
     ],
     "language": "python",
     "metadata": {},
     "outputs": [
      {
       "output_type": "stream",
       "stream": "stdout",
       "text": [
        "1.01896847788\n"
       ]
      }
     ],
     "prompt_number": 20
    },
    {
     "cell_type": "code",
     "collapsed": false,
     "input": [
      "import json\n",
      "video_to_parts_played = json.load(open('video_to_all_seek_destinations.json'))\n",
      "\n",
      "num_peaks_total = 0\n",
      "num_peaks_quizzes = 0\n",
      "num_peaks_slides = 0\n",
      "\n",
      "for lecture_id,parts_played in video_to_parts_played.iteritems():\n",
      "  lecture_id = int(lecture_id)\n",
      "  for peak in get_peaks(parts_played, {'tau': 5}):\n",
      "    start = peak.start\n",
      "    end = peak.end\n",
      "    is_quiz = False\n",
      "    is_slide = False\n",
      "    for quiz_time in vid.in_video_quiz_times[lecture_id]:\n",
      "      if start-10 <= quiz_time <= end+10:\n",
      "      #if start <= quiz_time <= end:\n",
      "        is_quiz = True\n",
      "    for transition_time in vid.slide_transitions[lecture_id]:\n",
      "      if start <= transition_time <= end:\n",
      "        is_slide = True\n",
      "    if peak.height_ratio < 3.0:\n",
      "      continue\n",
      "    if is_quiz:\n",
      "      #print peak.width\n",
      "      num_peaks_quizzes += 1\n",
      "    if is_slide:\n",
      "      num_peaks_slides += 1\n",
      "    #if not is_quiz and not is_slide:\n",
      "    #  print peak.width\n",
      "    #print peak.height_ratio\n",
      "    num_peaks_total += 1\n",
      "\n",
      "print num_peaks_total\n",
      "print num_peaks_quizzes\n",
      "print num_peaks_slides\n",
      "\n"
     ],
     "language": "python",
     "metadata": {},
     "outputs": [
      {
       "output_type": "stream",
       "stream": "stdout",
       "text": [
        "69\n",
        "53\n",
        "55\n"
       ]
      }
     ],
     "prompt_number": 21
    },
    {
     "cell_type": "code",
     "collapsed": false,
     "input": [
      "import json\n",
      "video_to_parts_played = json.load(open('video_to_all_seek_sources.json'))\n",
      "\n",
      "num_peaks_total = 0\n",
      "num_peaks_quizzes = 0\n",
      "num_peaks_slides = 0\n",
      "\n",
      "for lecture_id,parts_played in video_to_parts_played.iteritems():\n",
      "  lecture_id = int(lecture_id)\n",
      "  for peak in get_peaks(parts_played, {'tau': 5}):\n",
      "    start = peak.start\n",
      "    end = peak.end\n",
      "    is_quiz = False\n",
      "    is_slide = False\n",
      "    for quiz_time in vid.in_video_quiz_times[lecture_id]:\n",
      "      if start-10 <= quiz_time <= end+10:\n",
      "        is_quiz = True\n",
      "    for transition_time in vid.slide_transitions[lecture_id]:\n",
      "      if start <= transition_time <= end:\n",
      "        is_slide = True\n",
      "    if peak.height_ratio < 5.0:\n",
      "      continue\n",
      "    #print peak.width\n",
      "    if is_quiz:\n",
      "      #print peak.width\n",
      "      num_peaks_quizzes += 1\n",
      "    if is_slide:\n",
      "      num_peaks_slides += 1\n",
      "    #if not is_quiz and not is_slide:\n",
      "    #  print peak.width\n",
      "    #print peak.height_ratio\n",
      "    num_peaks_total += 1\n",
      "\n",
      "print num_peaks_total\n",
      "print num_peaks_quizzes\n",
      "print num_peaks_slides\n",
      "\n"
     ],
     "language": "python",
     "metadata": {},
     "outputs": [
      {
       "output_type": "stream",
       "stream": "stdout",
       "text": [
        "81\n",
        "73\n",
        "4\n"
       ]
      }
     ],
     "prompt_number": 22
    }
   ],
   "metadata": {}
  }
 ]
}