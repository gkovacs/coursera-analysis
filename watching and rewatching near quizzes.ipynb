{
 "metadata": {
  "name": "",
  "signature": "sha256:a6f10fada8b22d14760841bf1ff40c2d58d156c8e3f326019b922b3f02a9c2a4"
 },
 "nbformat": 3,
 "nbformat_minor": 0,
 "worksheets": [
  {
   "cells": [
    {
     "cell_type": "code",
     "collapsed": false,
     "input": [
      "from coursera_analytics_common import *"
     ],
     "language": "python",
     "metadata": {},
     "outputs": [
      {
       "output_type": "stream",
       "stream": "stdout",
       "text": [
        "59641\n",
        "8935\n"
       ]
      }
     ],
     "prompt_number": 5
    },
    {
     "cell_type": "markdown",
     "metadata": {},
     "source": [
      "is there more watching at the parts of the video preceding the in-video quizzes?\n",
      "\n",
      "is there more watching at the parts of the video following the in-video quizzes?\n",
      "\n",
      "same for rewatching sessions and watched-more-than-once"
     ]
    },
    {
     "cell_type": "code",
     "collapsed": false,
     "input": [
      "import video_annotations\n",
      "\n",
      "#print dir(video_annotations)\n",
      "print video_annotations.in_video_quiz_times_ml_004"
     ],
     "language": "python",
     "metadata": {},
     "outputs": [
      {
       "output_type": "stream",
       "stream": "stdout",
       "text": [
        "{1: [], 2: [194], 3: [678], 4: [780], 5: [278], 6: [132], 7: [412], 8: [], 9: [544], 10: [484], 11: [648], 12: [], 13: [146, 376], 14: [111, 241, 400], 15: [315, 448], 16: [453], 17: [519], 18: [578], 19: [204], 20: [81], 21: [514], 22: [411], 23: [395], 24: [524], 25: [], 26: [], 27: [], 28: [], 29: [], 30: [787], 31: [], 32: [], 33: [427], 34: [338], 35: [587], 36: [523, 569], 37: [794], 38: [361], 39: [363], 40: [479], 41: [222], 42: [234], 43: [534], 44: [], 45: [702], 46: [651], 47: [375], 48: [151], 49: [211], 50: [403], 51: [687], 52: [731], 53: [228], 54: [301, 679], 55: [375], 56: [718], 57: [], 58: [10, 640], 59: [331], 60: [167], 61: [682], 62: [428], 63: [467], 64: [703], 65: [361], 66: [467], 67: [546], 68: [585], 69: [779], 70: [626], 71: [831], 72: [432], 73: [1166], 74: [662], 75: [931], 76: [770], 77: [185], 78: [432], 79: [384], 80: [440], 81: [269], 82: [587], 83: [300], 84: [520], 85: [861], 86: [597], 87: [196], 88: [728], 89: [442], 90: [596], 91: [273], 92: [611], 93: [422], 95: [710], 96: [799], 97: [823], 98: [464], 99: [373], 100: [427], 101: [486], 102: [311], 103: [498], 104: [204], 105: [787], 106: [346], 107: [658], 108: [724], 109: [809], 110: [397], 111: [644], 112: [557, 925], 113: [753], 114: []}\n"
       ]
      }
     ],
     "prompt_number": 6
    },
    {
     "cell_type": "code",
     "collapsed": false,
     "input": [
      "from numpy import arange, array, ones\n",
      "from scipy.stats import linregress, kurtosis\n",
      "\n",
      "def get_slope_and_intercept(views):\n",
      "  xi = arange(0,len(views))\n",
      "  slope,intercept,r_value,p_value,std_err = stats.linregress(xi, views)\n",
      "  return slope,intercept\n",
      "\n",
      "def get_actual_and_predicted_views_at_time(views, time):\n",
      "  slope,intercept = get_slope_and_intercept(views)\n",
      "  #print slope, intercept\n",
      "  predicted_views = intercept + slope*time\n",
      "  actual_views = views[time]\n",
      "  return actual_views,predicted_views\n",
      "\n",
      "#print get_slope_and_intercept([12,8,6,4,2,0,-2,-4,-6,-8,-10,-12])"
     ],
     "language": "python",
     "metadata": {},
     "outputs": [],
     "prompt_number": 25
    },
    {
     "cell_type": "code",
     "collapsed": false,
     "input": [
      "import json\n",
      "import numpy\n",
      "\n",
      "video_to_parts_played = json.load(open('video_to_parts_played.json'))\n",
      "\n",
      "#lecture_id = 13\n",
      "#parts_played = video_to_parts_played['13']\n",
      "#quiz_time = video_annotations.in_video_quiz_times_ml_004[13][0]\n",
      "#print get_actual_and_predicted_views_at_time(parts_played, quiz_time)\n",
      "\n",
      "ratios = []\n",
      "for lecture_id,parts_played in video_to_parts_played.iteritems():\n",
      "  lecture_id = int(lecture_id)\n",
      "  for quiz_time in video_annotations.in_video_quiz_times_ml_004[lecture_id]:\n",
      "    for quiz_time_sub in range(quiz_time - 1, quiz_time):\n",
      "      actual_views,predicted_views = get_actual_and_predicted_views_at_time(parts_played, quiz_time_sub)\n",
      "      ratios.append(actual_views / float(predicted_views))\n",
      "\n",
      "print numpy.mean(ratios)\n"
     ],
     "language": "python",
     "metadata": {},
     "outputs": [
      {
       "output_type": "stream",
       "stream": "stdout",
       "text": [
        "1.2920853861\n"
       ]
      }
     ],
     "prompt_number": 8
    },
    {
     "cell_type": "code",
     "collapsed": false,
     "input": [
      "import json\n",
      "import numpy\n",
      "\n",
      "video_to_parts_played_reviewsession = json.load(open('video_to_parts_played_reviewsession.json'))\n",
      "\n",
      "#lecture_id = 13\n",
      "#parts_played = video_to_parts_played['13']\n",
      "#quiz_time = video_annotations.in_video_quiz_times_ml_004[13][0]\n",
      "#print get_actual_and_predicted_views_at_time(parts_played, quiz_time)\n",
      "\n",
      "ratios = []\n",
      "for lecture_id,parts_played in video_to_parts_played_reviewsession.iteritems():\n",
      "  lecture_id = int(lecture_id)\n",
      "  for quiz_time in video_annotations.in_video_quiz_times_ml_004[lecture_id]:\n",
      "    for quiz_time_sub in range(quiz_time - 1, quiz_time):\n",
      "      actual_views,predicted_views = get_actual_and_predicted_views_at_time(parts_played, quiz_time_sub)\n",
      "      ratios.append(actual_views / float(predicted_views))\n",
      "\n",
      "print numpy.mean(ratios)\n"
     ],
     "language": "python",
     "metadata": {},
     "outputs": [
      {
       "output_type": "stream",
       "stream": "stdout",
       "text": [
        "1.2859674262\n"
       ]
      }
     ],
     "prompt_number": 7
    },
    {
     "cell_type": "code",
     "collapsed": false,
     "input": [
      "video_to_parts_played_more_than_once = json.load(open('video_to_parts_played_more_than_once.json'))\n",
      "\n",
      "#lecture_id = 13\n",
      "#parts_played = video_to_parts_played['13']\n",
      "#quiz_time = video_annotations.in_video_quiz_times_ml_004[13][0]\n",
      "#print get_actual_and_predicted_views_at_time(parts_played, quiz_time)\n",
      "\n",
      "ratios = []\n",
      "for lecture_id,parts_played in video_to_parts_played_more_than_once.iteritems():\n",
      "  lecture_id = int(lecture_id)\n",
      "  for quiz_time in video_annotations.in_video_quiz_times_ml_004[lecture_id]:\n",
      "    for quiz_time_sub in range(quiz_time - 1, quiz_time):\n",
      "      actual_views,predicted_views = get_actual_and_predicted_views_at_time(parts_played, quiz_time_sub)\n",
      "      ratios.append(actual_views / float(predicted_views))\n",
      "\n",
      "print numpy.mean(ratios)\n"
     ],
     "language": "python",
     "metadata": {},
     "outputs": [
      {
       "output_type": "stream",
       "stream": "stdout",
       "text": [
        "1.37961797878\n"
       ]
      }
     ],
     "prompt_number": 8
    },
    {
     "cell_type": "code",
     "collapsed": false,
     "input": [
      "def subtract_minval(arr):\n",
      "  minval = min(arr)\n",
      "  return [x-minval for x in arr]\n"
     ],
     "language": "python",
     "metadata": {},
     "outputs": [],
     "prompt_number": 43
    },
    {
     "cell_type": "code",
     "collapsed": false,
     "input": [
      "video_to_parts_skipped_back_over = json.load(open('video_to_parts_skipped_back_over.json'))\n",
      "\n",
      "#print video_to_parts_skipped_back_over\n",
      "#lecture_id = 13\n",
      "#parts_played = video_to_parts_played['13']\n",
      "#quiz_time = video_annotations.in_video_quiz_times_ml_004[13][0]\n",
      "#print get_actual_and_predicted_views_at_time(parts_played, quiz_time)\n",
      "\n",
      "ratios = []\n",
      "for lecture_id,parts_skipped in video_to_parts_skipped_back_over.iteritems():\n",
      "  lecture_id = int(lecture_id)\n",
      "  #print lecture_id\n",
      "  for quiz_time in video_annotations.in_video_quiz_times_ml_004[lecture_id]:\n",
      "    for quiz_time_sub in range(quiz_time - 1, quiz_time):\n",
      "      actual_skips,predicted_skips = get_actual_and_predicted_views_at_time(parts_skipped, quiz_time_sub)\n",
      "      #print actual_skips, predicted_skips\n",
      "      ratios.append(actual_skips / float(predicted_skips))\n",
      "\n",
      "print numpy.mean(ratios)\n"
     ],
     "language": "python",
     "metadata": {},
     "outputs": [
      {
       "output_type": "stream",
       "stream": "stdout",
       "text": [
        "1.64591374513\n"
       ]
      }
     ],
     "prompt_number": 11
    },
    {
     "cell_type": "code",
     "collapsed": false,
     "input": [
      "video_to_parts_skipped_back_over = json.load(open('video_to_parts_skipped_back_over.json'))\n",
      "\n",
      "#print video_to_parts_skipped_back_over\n",
      "#lecture_id = 13\n",
      "#parts_played = video_to_parts_played['13']\n",
      "#quiz_time = video_annotations.in_video_quiz_times_ml_004[13][0]\n",
      "#print get_actual_and_predicted_views_at_time(parts_played, quiz_time)\n",
      "\n",
      "kurtosis_of_peaks = []\n",
      "for lecture_id,parts_skipped in video_to_parts_skipped_back_over.iteritems():\n",
      "  lecture_id = int(lecture_id)\n",
      "  #print lecture_id\n",
      "  for quiz_time in video_annotations.in_video_quiz_times_ml_004[lecture_id]:\n",
      "    if not (0 <= quiz_time-10 < quiz_time+1 <= len(parts_skipped)):\n",
      "      continue\n",
      "    curpart = parts_skipped[quiz_time-10:quiz_time+1]\n",
      "    curpart = subtract_minval(curpart)\n",
      "    #print curpart\n",
      "    #print curpart\n",
      "    curpart_kurtosis = kurtosis(curpart, fisher=False)\n",
      "    #print curpart_kurtosis\n",
      "    kurtosis_of_peaks.append(curpart_kurtosis)\n",
      "\n",
      "print numpy.mean(kurtosis_of_peaks)\n"
     ],
     "language": "python",
     "metadata": {},
     "outputs": [
      {
       "output_type": "stream",
       "stream": "stdout",
       "text": [
        "3.3717759453\n"
       ]
      }
     ],
     "prompt_number": 60
    },
    {
     "cell_type": "code",
     "collapsed": false,
     "input": [
      "video_to_parts_skipped_back_over = json.load(open('video_to_parts_skipped_back_over.json'))\n",
      "\n",
      "#print video_to_parts_skipped_back_over\n",
      "#lecture_id = 13\n",
      "#parts_played = video_to_parts_played['13']\n",
      "#quiz_time = video_annotations.in_video_quiz_times_ml_004[13][0]\n",
      "#print get_actual_and_predicted_views_at_time(parts_played, quiz_time)\n",
      "\n",
      "kurtosis_of_peaks = []\n",
      "for lecture_id,parts_skipped in video_to_parts_skipped_back_over.iteritems():\n",
      "  lecture_id = int(lecture_id)\n",
      "  #print lecture_id\n",
      "  for segnum in range(len(parts_skipped)/11):\n",
      "    if segnum < 2:\n",
      "      continue\n",
      "    curpart = parts_skipped[segnum*11:(segnum+1)*11]\n",
      "    #print curpart\n",
      "    curpart_kurtosis = kurtosis(curpart, fisher=False)\n",
      "    #print curpart_kurtosis\n",
      "    kurtosis_of_peaks.append(curpart_kurtosis)\n",
      "\n",
      "print numpy.mean(kurtosis_of_peaks)\n"
     ],
     "language": "python",
     "metadata": {},
     "outputs": [
      {
       "output_type": "stream",
       "stream": "stdout",
       "text": [
        "2.20458544734\n"
       ]
      }
     ],
     "prompt_number": 62
    },
    {
     "cell_type": "code",
     "collapsed": false,
     "input": [
      "video_to_parts_skipped_forward_over = json.load(open('video_to_parts_skipped_forward_over.json'))\n",
      "\n",
      "#print video_to_parts_skipped_forward_over\n",
      "#lecture_id = 13\n",
      "#parts_played = video_to_parts_played['13']\n",
      "#quiz_time = video_annotations.in_video_quiz_times_ml_004[13][0]\n",
      "#print get_actual_and_predicted_views_at_time(parts_played, quiz_time)\n",
      "\n",
      "ratios = []\n",
      "for lecture_id,parts_skipped in video_to_parts_skipped_forward_over.iteritems():\n",
      "  lecture_id = int(lecture_id)\n",
      "  #print lecture_id\n",
      "  for quiz_time in video_annotations.in_video_quiz_times_ml_004[lecture_id]:\n",
      "    for quiz_time_sub in range(quiz_time - 1, quiz_time):\n",
      "      actual_skips,predicted_skips = get_actual_and_predicted_views_at_time(parts_skipped, quiz_time_sub)\n",
      "      #print actual_skips, predicted_skips\n",
      "      ratios.append(actual_skips / float(predicted_skips))\n",
      "\n",
      "print numpy.mean(ratios)\n"
     ],
     "language": "python",
     "metadata": {},
     "outputs": [
      {
       "output_type": "stream",
       "stream": "stdout",
       "text": [
        "0.539430464437\n"
       ]
      }
     ],
     "prompt_number": 14
    },
    {
     "cell_type": "code",
     "collapsed": false,
     "input": [],
     "language": "python",
     "metadata": {},
     "outputs": [
      {
       "output_type": "stream",
       "stream": "stdout",
       "text": [
        "kurtosis\n"
       ]
      }
     ],
     "prompt_number": 15
    }
   ],
   "metadata": {}
  }
 ]
}