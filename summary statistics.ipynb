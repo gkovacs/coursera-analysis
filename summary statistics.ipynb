{
 "cells": [
  {
   "cell_type": "code",
   "execution_count": 59,
   "metadata": {
    "collapsed": false
   },
   "outputs": [],
   "source": [
    "from lectures_to_viewers import getViewersToLectures\n",
    "from video_annotations import ml_004 as vid\n",
    "from get_seek_chains import getSeekChainsFast"
   ]
  },
  {
   "cell_type": "code",
   "execution_count": 60,
   "metadata": {
    "collapsed": false
   },
   "outputs": [],
   "source": [
    "import json"
   ]
  },
  {
   "cell_type": "code",
   "execution_count": null,
   "metadata": {
    "collapsed": false
   },
   "outputs": [
    {
     "name": "stdout",
     "output_type": "stream",
     "text": [
      "1377238\n",
      "59641\n",
      "8935\n",
      "16430\n",
      "113\n"
     ]
    }
   ],
   "source": [
    "all_viewers = set()\n",
    "viewed_at_least_half = set()\n",
    "viewed_at_least_quarter = set()\n",
    "num_lecture_starts = 0\n",
    "\n",
    "for viewer,lectures_viewed in getViewersToLectures().iteritems():\n",
    "  all_viewers.add(viewer)\n",
    "  num_lecture_starts += len(lectures_viewed)\n",
    "  if len(lectures_viewed) >= 56:\n",
    "    viewed_at_least_half.add(viewer)\n",
    "  if len(lectures_viewed) >= 28:\n",
    "    viewed_at_least_quarter.add(viewer)\n",
    "    \n",
    "print num_lecture_starts\n",
    "print len(all_viewers)\n",
    "print len(viewed_at_least_half)\n",
    "print len(viewed_at_least_quarter)\n",
    "print len(vid.video_lengths.keys())"
   ]
  },
  {
   "cell_type": "code",
   "execution_count": null,
   "metadata": {
    "collapsed": false
   },
   "outputs": [],
   "source": [
    "\n",
    "#user_to_num_lectures_started = {}\n",
    "all_viewers_v2 = set()\n",
    "for lecture_id,user_to_start_events in json.load(open('video_to_user_to_startzero_events_orig.json')).iteritems():\n",
    "  for user,start_events in user_to_start_events.iteritems():\n",
    "    all_viewers_v2.add(user)\n",
    "    #if user not in user_to_num_lectures_started:\n",
    "    #  user_to_num_lectures_started[user] = 0\n",
    "    #user_to_num_lectures_started[user] += 1\n",
    "\n",
    "print len(all_viewers_v2)"
   ]
  },
  {
   "cell_type": "code",
   "execution_count": null,
   "metadata": {
    "collapsed": false
   },
   "outputs": [],
   "source": [
    "seek_events_total = 0\n",
    "seek_chains_total = 0\n",
    "\n",
    "for lecture_id in vid.video_lengths.keys():\n",
    "  seek_chains = getSeekChainsFast(lecture_id)\n",
    "  for seek_chain in seek_chains:\n",
    "    seek_events_total += len(seek_chain.seek_events) \n",
    "    seek_chains_total += 1\n",
    "\n",
    "print seek_events_total\n",
    "print seek_chains_total"
   ]
  },
  {
   "cell_type": "code",
   "execution_count": null,
   "metadata": {
    "collapsed": false
   },
   "outputs": [],
   "source": [
    "print sum([len(x) for x in vid.in_video_quiz_times.values()])\n",
    "print sum([len(x) for x in vid.slide_transitions.values()])"
   ]
  },
  {
   "cell_type": "code",
   "execution_count": null,
   "metadata": {
    "collapsed": false
   },
   "outputs": [],
   "source": [
    "#video_to_user_to_end_events = json.load(open('video_to_user_to_end_events.json'))\n",
    "\n",
    "#for lecture_id,user_to_end_events in video_to_user_to_end_events.iteritems():\n",
    "#  "
   ]
  },
  {
   "cell_type": "code",
   "execution_count": null,
   "metadata": {
    "collapsed": false
   },
   "outputs": [],
   "source": [
    "# of in-video quizzes answered total\n",
    "import csv\n",
    "session_id_to_eventing_id = {}\n",
    "session_id_to_coursera_id = {}\n",
    "coursera_id_to_eventing_id = {}\n",
    "coursera_id_to_public_id = {}\n",
    "session_id_to_public_id = {}\n",
    "\n",
    "for line in csv.DictReader(open('hash_mapping.csv')):\n",
    "  coursera_id_to_eventing_id[line['user_id']] = line['eventing_user_id']\n",
    "  coursera_id_to_public_id[line['user_id']] = line['public_user_id']\n",
    "\n",
    "for line in csv.DictReader(open('id_map.csv')):\n",
    "  #session_id_to_eventing_id[line['session_user_id']] = line['eventing_user_id']\n",
    "  user_id = line['coursera_user_id']\n",
    "  session_id = line['session_user_id']\n",
    "  session_id_to_coursera_id[session_id] = user_id\n",
    "  if user_id not in coursera_id_to_eventing_id:\n",
    "    continue\n",
    "  public_id = coursera_id_to_public_id[user_id]\n",
    "  eventing_id = coursera_id_to_eventing_id[user_id]\n",
    "  session_id_to_eventing_id[session_id] = eventing_id\n",
    "  session_id_to_public_id[session_id] = public_id"
   ]
  },
  {
   "cell_type": "code",
   "execution_count": null,
   "metadata": {
    "collapsed": false
   },
   "outputs": [],
   "source": [
    "print len(session_id_to_coursera_id)\n",
    "print len(session_id_to_eventing_id)"
   ]
  },
  {
   "cell_type": "code",
   "execution_count": null,
   "metadata": {
    "collapsed": false
   },
   "outputs": [],
   "source": [
    "print len(session_id_to_eventing_id)\n",
    "print session_id_to_eventing_id['c693d0b484da0667b2bbbf157a2cd6c95ffe6376']"
   ]
  },
  {
   "cell_type": "code",
   "execution_count": null,
   "metadata": {
    "collapsed": false
   },
   "outputs": [],
   "source": [
    "import csv\n",
    "import json\n",
    "from memoized import memoized\n",
    "\n",
    "@memoized\n",
    "def loadjson(table_name):\n",
    "  return json.load(open('/lfs/local/0/geza/ml-004_data_export/' + table_name + '.json'))\n",
    "\n",
    "def get_table_path(table_name):\n",
    "  csv_path = '/lfs/local/0/geza/ml-004_data_export/'\n",
    "  return csv_path + table_name + '.csv'\n",
    "\n",
    "def get_table_data(table_name):\n",
    "  return csv.DictReader(open(get_table_path(table_name)), doublequote=False, delimiter=',', escapechar='\\\\')\n",
    "\n",
    "def print_first_lines(table_name, n=10):\n",
    "  for x in get_table_data(table_name):\n",
    "    if n <= 0:\n",
    "      break\n",
    "    n -= 1\n",
    "    print x"
   ]
  },
  {
   "cell_type": "code",
   "execution_count": null,
   "metadata": {
    "collapsed": false
   },
   "outputs": [],
   "source": []
  },
  {
   "cell_type": "code",
   "execution_count": null,
   "metadata": {
    "collapsed": false
   },
   "outputs": [],
   "source": [
    "\n",
    "invideo_quiz_itemids = {}\n",
    "review_quiz_itemids = {}\n",
    "\n",
    "for line in csv.DictReader(open('quiz_metadata.csv')):\n",
    "  if line['deleted'] != '0':\n",
    "    continue\n",
    "  if line['quiz_type'] == 'video':\n",
    "    if int(line['id']) > 144:\n",
    "      continue\n",
    "    invideo_quiz_itemids[line['id']] = True\n",
    "  if line['quiz_type'] == 'quiz':\n",
    "    if int(line['id']) > 141:\n",
    "      continue\n",
    "    review_quiz_itemids[line['id']] = True\n",
    "\n",
    "#print invideo_quiz_itemids"
   ]
  },
  {
   "cell_type": "code",
   "execution_count": null,
   "metadata": {
    "collapsed": true
   },
   "outputs": [],
   "source": [
    "'''\n",
    "invideo_quiz_itemids = set()\n",
    "\n",
    "for line in get_table_data('quiz_metadata'):\n",
    "  if line['deleted'] != '0':\n",
    "    continue\n",
    "  if line['duration'] != '0':\n",
    "    continue\n",
    "  quiz_id = int(line['id'])\n",
    "  if quiz_id > 144:\n",
    "    continue\n",
    "  if line['quiz_type'] != 'video':\n",
    "    continue\n",
    "  invideo_quiz_itemids.add(quiz_id)\n",
    "'''"
   ]
  },
  {
   "cell_type": "code",
   "execution_count": null,
   "metadata": {
    "collapsed": false
   },
   "outputs": [],
   "source": [
    "#print len(invideo_quiz_itemids)"
   ]
  },
  {
   "cell_type": "code",
   "execution_count": null,
   "metadata": {
    "collapsed": false
   },
   "outputs": [],
   "source": [
    "quiz_xml = loadjson('kvs_course.quiz.xml')\n",
    "for key,value in quiz_xml:\n",
    "  try:\n",
    "    tree = et.fromstring(value.encode('utf-8'))\n",
    "    print list(tree.iter('title'))[0].text\n",
    "  except:\n",
    "    continue"
   ]
  },
  {
   "cell_type": "code",
   "execution_count": null,
   "metadata": {
    "collapsed": false
   },
   "outputs": [],
   "source": [
    "\n",
    "'''\n",
    "import xml.etree.ElementTree as et\n",
    "#import lxml.etree as et\n",
    "\n",
    "nonzero_quizzes = []\n",
    "\n",
    "invideo_quiz_itemids = {}\n",
    "#review_quiz_itemids = {}\n",
    "\n",
    "\n",
    "quiz_xml = loadjson('kvs_course.quiz.xml')\n",
    "for key,value in quiz_xml:\n",
    "  try:\n",
    "    parts = key.split('.')\n",
    "    quiz_id = parts[1].split(':')[1]\n",
    "    tree = et.fromstring(value.encode('utf-8'))\n",
    "    score = list(tree.iter('maximum_score'))[0].text\n",
    "    score = int(score)\n",
    "    title = list(tree.iter('title'))[0].text\n",
    "    #print value\n",
    "    question_groups = [x.text for x in list(tree.iter('question_group'))]\n",
    "    print title, question_groups\n",
    "    #if ' min)' in title: #and score == 1:\n",
    "    #  nonzero_quizzes.append([title, quiz_id])\n",
    "    #  invideo_quiz_itemids[quiz_id] = title\n",
    "  except:\n",
    "    continue\n",
    "\n",
    "'''\n",
    "#print nonzero_quizzes"
   ]
  },
  {
   "cell_type": "code",
   "execution_count": null,
   "metadata": {
    "collapsed": false
   },
   "outputs": [],
   "source": [
    "print len(invideo_quiz_itemids)\n",
    "#print len(set(invideo_quiz_itemids.values()))\n",
    "#for x in nonzero_quizzes:\n",
    "#  print x"
   ]
  },
  {
   "cell_type": "code",
   "execution_count": null,
   "metadata": {
    "collapsed": false
   },
   "outputs": [],
   "source": [
    "print review_quiz_itemids"
   ]
  },
  {
   "cell_type": "code",
   "execution_count": null,
   "metadata": {
    "collapsed": false
   },
   "outputs": [],
   "source": [
    "\n",
    "'''\n",
    "import xml.etree.ElementTree as et\n",
    "#import lxml.etree as et\n",
    "\n",
    "review_questions = []\n",
    "\n",
    "review_quiz_itemids = {}\n",
    "\n",
    "quiz_xml = json.load(open('/lfs/local/0/geza/ml-004_data_export/kvs_course.quiz.xml.json'))\n",
    "for key,value in quiz_xml:\n",
    "  try:\n",
    "    parts = key.split('.')\n",
    "    quiz_id = parts[1].split(':')[1]\n",
    "    tree = et.fromstring(value.encode('utf-8'))\n",
    "    score = list(tree.iter('maximum_score'))[0].text\n",
    "    score = int(score)\n",
    "    title = list(tree.iter('title'))[0].text\n",
    "    retry_delay = list(tree.iter('retry_delay'))[0].text\n",
    "    retry_delay = int(retry_delay)\n",
    "    if ' min)' not in title and score > 1 and retry_delay == 600:\n",
    "      review_questions.append([title, quiz_id])\n",
    "      review_quiz_itemids[quiz_id] = title\n",
    "  except:\n",
    "    continue\n",
    "\n",
    "#print nonzero_quizzes\n",
    "'''"
   ]
  },
  {
   "cell_type": "code",
   "execution_count": null,
   "metadata": {
    "collapsed": false
   },
   "outputs": [],
   "source": [
    "#print len(review_questions)\n",
    "#for x in review_questions:\n",
    "#  print x\n",
    "#print len(set(review_questions))\n",
    "print len(review_quiz_itemids)\n",
    "print len(set(review_quiz_itemids.values()))"
   ]
  },
  {
   "cell_type": "code",
   "execution_count": null,
   "metadata": {
    "collapsed": false
   },
   "outputs": [],
   "source": [
    "print len(invideo_quiz_itemids.keys())"
   ]
  },
  {
   "cell_type": "code",
   "execution_count": null,
   "metadata": {
    "collapsed": false
   },
   "outputs": [],
   "source": [
    "print len(all_viewers)"
   ]
  },
  {
   "cell_type": "code",
   "execution_count": null,
   "metadata": {
    "collapsed": false
   },
   "outputs": [],
   "source": []
  },
  {
   "cell_type": "code",
   "execution_count": null,
   "metadata": {
    "collapsed": false
   },
   "outputs": [],
   "source": [
    "# from phpserialize import unserialize"
   ]
  },
  {
   "cell_type": "code",
   "execution_count": null,
   "metadata": {
    "collapsed": false
   },
   "outputs": [],
   "source": [
    "\n",
    "'''\n",
    "import xml.etree.ElementTree as et\n",
    "#import lxml.etree as et\n",
    "\n",
    "review_quiz_itemids = {}\n",
    "\n",
    "quiz_xml = loadjson('kvs_course.quiz.xml')\n",
    "for key,value in quiz_xml:\n",
    "  try:\n",
    "    #print value\n",
    "    parts = key.split('.')\n",
    "    quiz_id = parts[1].split(':')[1]\n",
    "    tree = et.fromstring(value.encode('utf-8'))\n",
    "    score = list(tree.iter('maximum_score'))[0].text\n",
    "    score = int(score)\n",
    "    title = list(tree.iter('title'))[0].text\n",
    "    retry_delay = list(tree.iter('retry_delay'))[0].text\n",
    "    retry_delay = int(retry_delay)\n",
    "    if 'Quiz' in title:\n",
    "      print title, quiz_id\n",
    "    #if ' min)' not in title and score > 1 and retry_delay == 600:\n",
    "    #  review_questions.append([title, quiz_id])\n",
    "    #  review_quiz_itemids[quiz_id] = title\n",
    "  except:\n",
    "    continue\n",
    "'''\n",
    "\n",
    "#print nonzero_quizzes\n"
   ]
  },
  {
   "cell_type": "code",
   "execution_count": null,
   "metadata": {
    "collapsed": false
   },
   "outputs": [],
   "source": [
    "print review_quiz_itemids"
   ]
  },
  {
   "cell_type": "code",
   "execution_count": null,
   "metadata": {
    "collapsed": false
   },
   "outputs": [],
   "source": [
    "quiz_counts = {}\n",
    "\n",
    "for line in loadjson('kvs_course.quiz.saved'):\n",
    "  key,value = line\n",
    "  if key.startswith('saved.quiz_id:'):\n",
    "    parts = key.split('.')\n",
    "    quiz_id = parts[1].split(':')[1]\n",
    "    user_id = parts[2].split(':')[1]\n",
    "    if quiz_id not in review_quiz_itemids:\n",
    "      continue\n",
    "    #if int(quiz_id) >= 145:\n",
    "    #  continue\n",
    "    if quiz_id not in quiz_counts:\n",
    "      quiz_counts[quiz_id] = 0\n",
    "    #if value['answers'] == {}:\n",
    "    #  continue\n",
    "    quiz_counts[quiz_id] += 1\n",
    "\n",
    "print json.dumps(quiz_counts, sort_keys=True, indent=2, separators=(',', ': '))"
   ]
  },
  {
   "cell_type": "code",
   "execution_count": null,
   "metadata": {
    "collapsed": false
   },
   "outputs": [],
   "source": [
    "quiz_counts = {}\n",
    "\n",
    "for line in loadjson('kvs_course.quiz.saved'):\n",
    "  key,value = line\n",
    "  if key.startswith('saved.quiz_id:'):\n",
    "    parts = key.split('.')\n",
    "    quiz_id = parts[1].split(':')[1]\n",
    "    user_id = parts[2].split(':')[1]\n",
    "    if int(quiz_id) >= 145:\n",
    "      continue\n",
    "    if quiz_id not in quiz_counts:\n",
    "      quiz_counts[quiz_id] = 0\n",
    "    if value['answers'] == {}:\n",
    "      continue\n",
    "    quiz_counts[quiz_id] += 1\n",
    "\n",
    "print json.dumps(quiz_counts, sort_keys=True, indent=2, separators=(',', ': '))"
   ]
  },
  {
   "cell_type": "code",
   "execution_count": null,
   "metadata": {
    "collapsed": false
   },
   "outputs": [],
   "source": [
    "non_invideo_quiz_items = 0\n",
    "unknown_session_id = 0\n",
    "unknown_eventing_id = 0\n",
    "\n",
    "user_to_invideo_quiz_answers = {}\n",
    "user_to_review_quiz_answers = {}\n",
    "\n",
    "users_before_feb = {}\n",
    "\n",
    "for line in csv.DictReader(open('quiz_submission_metadata.csv')):\n",
    "  item_id = line['item_id']\n",
    "  #print line['submission_time']\n",
    "  #if int(line['submission_time']) > 1388538061: # newer than jan 1, 2014\n",
    "  if int(line['submission_time']) > 1391185339: # newer than jan 31, 2014\n",
    "    continue\n",
    "  if item_id not in invideo_quiz_itemids and item_id not in review_quiz_itemids:\n",
    "    non_invideo_quiz_items += 1\n",
    "    continue\n",
    "  session_id = line['session_user_id']\n",
    "  users_before_feb[session_id] = True\n",
    "  if session_id not in session_id_to_eventing_id:\n",
    "    unknown_session_id += 1\n",
    "    continue\n",
    "  eventing_id = session_id_to_eventing_id[session_id]\n",
    "  coursera_id = session_id_to_coursera_id[session_id]\n",
    "  public_id = session_id_to_public_id[session_id]\n",
    "  # in video quizzes\n",
    "  if item_id in invideo_quiz_itemids:\n",
    "    if session_id not in user_to_invideo_quiz_answers:\n",
    "      user_to_invideo_quiz_answers[session_id] = {}\n",
    "    if item_id not in user_to_invideo_quiz_answers:\n",
    "      user_to_invideo_quiz_answers[session_id][item_id] = []\n",
    "    user_to_invideo_quiz_answers[session_id][item_id].append(line)\n",
    "  # review quizzes\n",
    "  if item_id in review_quiz_itemids:\n",
    "    if session_id not in user_to_review_quiz_answers:\n",
    "      user_to_review_quiz_answers[session_id] = {}\n",
    "    if item_id not in user_to_review_quiz_answers:\n",
    "      user_to_review_quiz_answers[session_id][item_id] = []\n",
    "    user_to_review_quiz_answers[session_id][item_id].append(line)\n",
    "  #eventing_id = coursera_id"
   ]
  },
  {
   "cell_type": "code",
   "execution_count": null,
   "metadata": {
    "collapsed": false
   },
   "outputs": [],
   "source": [
    "\n",
    "'''\n",
    "non_invideo_quiz_items = 0\n",
    "unknown_session_id = 0\n",
    "unknown_eventing_id = 0\n",
    "\n",
    "user_to_invideo_quiz_answers = {}\n",
    "user_to_review_quiz_answers = {}\n",
    "\n",
    "users_before_feb = {}\n",
    "\n",
    "for line in loadjson('kvs_course.quiz.saved'):\n",
    "  key,value = line\n",
    "  if key.startswith('saved.quiz_id:'):\n",
    "    parts = key.split('.')\n",
    "    quiz_id = parts[1].split(':')[1]\n",
    "    user_id = parts[2].split(':')[1]\n",
    "    item_id = quiz_id\n",
    "    session_id = user_id\n",
    "    if user_id not in all_viewers:\n",
    "      continue\n",
    "    parsed_value = value\n",
    "    submission_time = parsed_value['saved_time']\n",
    "    if int(submission_time) > 1391185339: # newer than jan 31, 2014\n",
    "      continue\n",
    "    if item_id not in invideo_quiz_itemids and item_id not in review_quiz_itemids:\n",
    "      non_invideo_quiz_items += 1\n",
    "      continue\n",
    "    # in video quizzes\n",
    "    if item_id in invideo_quiz_itemids:\n",
    "      if parsed_value['answers'] == {}:\n",
    "        continue\n",
    "      if session_id not in user_to_invideo_quiz_answers:\n",
    "        user_to_invideo_quiz_answers[session_id] = {}\n",
    "      if item_id not in user_to_invideo_quiz_answers:\n",
    "        user_to_invideo_quiz_answers[session_id][item_id] = []\n",
    "      user_to_invideo_quiz_answers[session_id][item_id].append(line)\n",
    "    # review quizzes\n",
    "    if item_id in review_quiz_itemids:\n",
    "      if session_id not in user_to_review_quiz_answers:\n",
    "        user_to_review_quiz_answers[session_id] = {}\n",
    "      if item_id not in user_to_review_quiz_answers:\n",
    "        user_to_review_quiz_answers[session_id][item_id] = []\n",
    "      user_to_review_quiz_answers[session_id][item_id].append(line)\n",
    "'''\n"
   ]
  },
  {
   "cell_type": "code",
   "execution_count": null,
   "metadata": {
    "collapsed": false
   },
   "outputs": [],
   "source": [
    "'''\n",
    "non_invideo_quiz_items = 0\n",
    "unknown_session_id = 0\n",
    "unknown_eventing_id = 0\n",
    "\n",
    "user_to_invideo_quiz_answers = {}\n",
    "user_to_review_quiz_answers = {}\n",
    "\n",
    "users_before_feb = {}\n",
    "\n",
    "for line in get_table_data('kvs_course.quiz'):\n",
    "  key = line['key']\n",
    "  value = line['value']\n",
    "  if key.startswith('saved.quiz_id:'):\n",
    "    parts = key.split('.')\n",
    "    quiz_id = parts[1].split(':')[1]\n",
    "    user_id = parts[2].split(':')[1]\n",
    "    item_id = quiz_id\n",
    "    session_id = user_id\n",
    "    if user_id not in all_viewers:\n",
    "      continue\n",
    "    parsed_value = unserialize(unserialize(value))\n",
    "    submission_time = parsed_value['saved_time']\n",
    "    if int(submission_time) > 1391185339: # newer than jan 31, 2014\n",
    "      continue\n",
    "    if item_id not in invideo_quiz_itemids and item_id not in review_quiz_itemids:\n",
    "      non_invideo_quiz_items += 1\n",
    "      continue\n",
    "    # in video quizzes\n",
    "    if item_id in invideo_quiz_itemids:\n",
    "      if session_id not in user_to_invideo_quiz_answers:\n",
    "        user_to_invideo_quiz_answers[session_id] = {}\n",
    "      if item_id not in user_to_invideo_quiz_answers:\n",
    "        user_to_invideo_quiz_answers[session_id][item_id] = []\n",
    "      user_to_invideo_quiz_answers[session_id][item_id].append(line)\n",
    "    # review quizzes\n",
    "    if item_id in review_quiz_itemids:\n",
    "      if session_id not in user_to_review_quiz_answers:\n",
    "        user_to_review_quiz_answers[session_id] = {}\n",
    "      if item_id not in user_to_review_quiz_answers:\n",
    "        user_to_review_quiz_answers[session_id][item_id] = []\n",
    "      user_to_review_quiz_answers[session_id][item_id].append(line)\n",
    "'''"
   ]
  },
  {
   "cell_type": "code",
   "execution_count": null,
   "metadata": {
    "collapsed": false
   },
   "outputs": [],
   "source": [
    "\"\"\"\n",
    "non_invideo_quiz_items = 0\n",
    "unknown_session_id = 0\n",
    "unknown_eventing_id = 0\n",
    "\n",
    "user_to_invideo_quiz_answers = {}\n",
    "user_to_review_quiz_answers = {}\n",
    "\n",
    "users_before_feb = {}\n",
    "\n",
    "for line in csv.DictReader(open('quiz_submission_metadata.csv')):\n",
    "  item_id = line['item_id']\n",
    "  #print line['submission_time']\n",
    "  #if int(line['submission_time']) > 1388538061: # newer than jan 1, 2014\n",
    "  if int(line['submission_time']) > 1391185339: # newer than jan 31, 2014\n",
    "    continue\n",
    "  if item_id not in invideo_quiz_itemids and item_id not in review_quiz_itemids:\n",
    "    non_invideo_quiz_items += 1\n",
    "    continue\n",
    "  session_id = line['session_user_id']\n",
    "  users_before_feb[session_id] = True\n",
    "  if session_id not in session_id_to_eventing_id:\n",
    "    unknown_session_id += 1\n",
    "    continue\n",
    "  eventing_id = session_id_to_eventing_id[session_id]\n",
    "  coursera_id = session_id_to_coursera_id[session_id]\n",
    "  public_id = session_id_to_public_id[session_id]\n",
    "  # in video quizzes\n",
    "  if item_id in invideo_quiz_itemids:\n",
    "    if session_id not in user_to_invideo_quiz_answers:\n",
    "      user_to_invideo_quiz_answers[session_id] = {}\n",
    "    if item_id not in user_to_invideo_quiz_answers:\n",
    "      user_to_invideo_quiz_answers[session_id][item_id] = []\n",
    "    user_to_invideo_quiz_answers[session_id][item_id].append(line)\n",
    "  # review quizzes\n",
    "  if item_id in review_quiz_itemids:\n",
    "    if session_id not in user_to_review_quiz_answers:\n",
    "      user_to_review_quiz_answers[session_id] = {}\n",
    "    if item_id not in user_to_review_quiz_answers:\n",
    "      user_to_review_quiz_answers[session_id][item_id] = []\n",
    "    user_to_review_quiz_answers[session_id][item_id].append(line)\n",
    "  #eventing_id = coursera_id\n",
    "\"\"\"\n",
    "  "
   ]
  },
  {
   "cell_type": "code",
   "execution_count": null,
   "metadata": {
    "collapsed": false
   },
   "outputs": [],
   "source": [
    "print len(users_before_feb)"
   ]
  },
  {
   "cell_type": "code",
   "execution_count": null,
   "metadata": {
    "collapsed": false
   },
   "outputs": [],
   "source": [
    "print non_invideo_quiz_items\n",
    "print unknown_session_id\n",
    "print unknown_eventing_id\n",
    "print len(user_to_invideo_quiz_answers)\n",
    "print len(user_to_review_quiz_answers)"
   ]
  },
  {
   "cell_type": "code",
   "execution_count": null,
   "metadata": {
    "collapsed": false
   },
   "outputs": [],
   "source": [
    "print non_invideo_quiz_items\n",
    "print unknown_session_id\n",
    "print unknown_eventing_id\n",
    "print len(user_to_invideo_quiz_answers)\n",
    "print len(user_to_review_quiz_answers)"
   ]
  },
  {
   "cell_type": "code",
   "execution_count": null,
   "metadata": {
    "collapsed": false
   },
   "outputs": [],
   "source": [
    "num_invideo_quiz_submissions = 0\n",
    "num_invideo_quizzes_submitted = 0\n",
    "\n",
    "for user,invideo_quiz_answers in user_to_invideo_quiz_answers.iteritems():\n",
    "  num_invideo_quiz_submissions += len(invideo_quiz_answers)\n",
    "  if len(invideo_quiz_answers) > 0:\n",
    "    num_invideo_quizzes_submitted += 1\n",
    "\n",
    "print num_invideo_quiz_submissions\n",
    "print num_invideo_quizzes_submitted"
   ]
  },
  {
   "cell_type": "code",
   "execution_count": null,
   "metadata": {
    "collapsed": false
   },
   "outputs": [],
   "source": [
    "num_review_quiz_submissions = 0\n",
    "num_review_quizzes_submitted = 0\n",
    "\n",
    "for user,review_quiz_answers in user_to_review_quiz_answers.iteritems():\n",
    "  num_review_quiz_submissions += len(review_quiz_answers)\n",
    "  if len(review_quiz_answers) > 0:\n",
    "    num_review_quizzes_submitted += 1\n",
    "\n",
    "print num_review_quiz_submissions\n",
    "print num_review_quizzes_submitted"
   ]
  },
  {
   "cell_type": "code",
   "execution_count": null,
   "metadata": {
    "collapsed": false
   },
   "outputs": [],
   "source": [
    "#print sum([len(x) for x in vid['in_video_quiz_times'].values()])"
   ]
  },
  {
   "cell_type": "code",
   "execution_count": null,
   "metadata": {
    "collapsed": false
   },
   "outputs": [],
   "source": [
    "#import gzip\n",
    "\n",
    "#max_timestamp = 0\n",
    "#for line in gzip.open('/lfs/local/0/geza/datastage.stanford.edu/csdl_01/ml-004_clickstream.gz'):\n",
    "#  data = json.loads(line)\n",
    "#  if 'timestamp' in data:\n",
    "#    max_timestamp = max(data['timestamp'], max_timestamp)\n"
   ]
  },
  {
   "cell_type": "code",
   "execution_count": null,
   "metadata": {
    "collapsed": false
   },
   "outputs": [],
   "source": [
    "#print max_timestamp"
   ]
  },
  {
   "cell_type": "code",
   "execution_count": null,
   "metadata": {
    "collapsed": false
   },
   "outputs": [],
   "source": [
    "num_lectures_started_to_num_users = [0]*114\n",
    "num_lectures_finished_to_num_users = [0]*114\n",
    "\n",
    "user_to_num_lectures_started = {}\n",
    "for user,lectures_viewed in getViewersToLectures().iteritems():\n",
    "  if len(lectures_viewed) == 0:\n",
    "    continue\n",
    "  user_to_num_lectures_started[user] = len(lectures_viewed)\n",
    "\n",
    "'''\n",
    "user_to_num_lectures_started = {}\n",
    "for lecture_id,user_to_start_events in json.load(open('video_to_user_to_startzero_events_orig.json')).iteritems():\n",
    "  for user,start_events in user_to_start_events.iteritems():\n",
    "    if user not in user_to_num_lectures_started:\n",
    "      user_to_num_lectures_started[user] = 0\n",
    "    user_to_num_lectures_started[user] += 1\n",
    "'''\n",
    "\n",
    "for user,num_lectures_started in user_to_num_lectures_started.items():\n",
    "  num_lectures_started_to_num_users[num_lectures_started] += 1\n",
    "\n",
    "user_to_num_lectures_finished = {}\n",
    "for lecture_id,user_to_end_events in json.load(open('video_to_user_to_end_events.json')).iteritems():\n",
    "  for user,end_events in user_to_end_events.iteritems():\n",
    "    if user not in user_to_num_lectures_started:\n",
    "      continue\n",
    "    if user not in user_to_num_lectures_finished:\n",
    "      user_to_num_lectures_finished[user] = 0\n",
    "    user_to_num_lectures_finished[user] += 1\n",
    "\n",
    "for user,num_lectures_finished in user_to_num_lectures_finished.items():\n",
    "  num_lectures_finished_to_num_users[num_lectures_finished] += 1\n",
    "\n"
   ]
  },
  {
   "cell_type": "code",
   "execution_count": null,
   "metadata": {
    "collapsed": false
   },
   "outputs": [],
   "source": [
    "print sum(user_to_num_lectures_finished.values())"
   ]
  },
  {
   "cell_type": "code",
   "execution_count": null,
   "metadata": {
    "collapsed": false
   },
   "outputs": [],
   "source": [
    "#print num_lectures_started_to_num_users"
   ]
  },
  {
   "cell_type": "code",
   "execution_count": null,
   "metadata": {
    "collapsed": false
   },
   "outputs": [],
   "source": [
    "print sum(num_lectures_started_to_num_users)"
   ]
  },
  {
   "cell_type": "code",
   "execution_count": null,
   "metadata": {
    "collapsed": false
   },
   "outputs": [],
   "source": []
  },
  {
   "cell_type": "code",
   "execution_count": null,
   "metadata": {
    "collapsed": false
   },
   "outputs": [],
   "source": [
    "# missing:\n",
    "# 1, 8, 12-20, 33-37, 39-40, 52, 65\n",
    "# additional which aren't in the quiz_metadata list at all: [73,74,75] + [66, 67, 68, 69, 70, 71]\n",
    "\n",
    "# questions for which answers are missing\n",
    "\n",
    "num_printed = 0\n",
    "for user,invideo_quiz_answers in user_to_invideo_quiz_answers.iteritems():\n",
    "  if len(invideo_quiz_answers) == 100:\n",
    "    answered_answers = sorted([int(x) for x in invideo_quiz_answers])\n",
    "    answered_answers_set = set(answered_answers)\n",
    "    missing_questions = []\n",
    "    for x in range(2, 130):\n",
    "      if x not in answered_answers_set:\n",
    "        if x in ([73,74,75] + [66, 67, 68, 69, 70, 71]):\n",
    "          continue\n",
    "        missing_questions.append(x)\n",
    "    print missing_questions\n",
    "    num_printed += 1\n",
    "    if num_printed >= 10:\n",
    "      break\n"
   ]
  },
  {
   "cell_type": "code",
   "execution_count": null,
   "metadata": {
    "collapsed": false
   },
   "outputs": [],
   "source": [
    "users_who_earned_certificate = set()\n",
    "\n",
    "for line in get_table_data('course_grades'):\n",
    "  user = line['session_user_id']\n",
    "  if user not in user_to_num_lectures_started:\n",
    "    continue\n",
    "  grade = float(line['normal_grade'])\n",
    "  if grade >= 80.0:\n",
    "    users_who_earned_certificate.add(user)"
   ]
  },
  {
   "cell_type": "code",
   "execution_count": null,
   "metadata": {
    "collapsed": false
   },
   "outputs": [],
   "source": [
    "grades_to_num_users = [0]*101\n",
    "\n",
    "user_to_grade = {}\n",
    "for line in get_table_data('course_grades'):\n",
    "  user = line['session_user_id']\n",
    "  if user not in user_to_num_lectures_started:\n",
    "    continue\n",
    "  grade = float(line['normal_grade'])\n",
    "  user_to_grade[user] = grade\n",
    "\n",
    "for user,grade in user_to_grade.items():\n",
    "  grade = int(round(grade))\n",
    "  if grade < 0:\n",
    "    grade = 0\n",
    "  if grade > 100:\n",
    "    grade = 100\n",
    "  grades_to_num_users[grade] += 1"
   ]
  },
  {
   "cell_type": "code",
   "execution_count": null,
   "metadata": {
    "collapsed": false
   },
   "outputs": [],
   "source": [
    "at_least_n_grade = [sum(grades_to_num_users[i:]) for i in range(len(grades_to_num_users))]"
   ]
  },
  {
   "cell_type": "code",
   "execution_count": null,
   "metadata": {
    "collapsed": false
   },
   "outputs": [],
   "source": [
    "print at_least_n_grade"
   ]
  },
  {
   "cell_type": "code",
   "execution_count": null,
   "metadata": {
    "collapsed": false
   },
   "outputs": [],
   "source": [
    "user_to_lectures_viewed = {}\n",
    "\n",
    "for line in get_table_data('lecture_submission_metadata'):\n",
    "  action = line['action']\n",
    "  user = line['session_user_id']\n",
    "  lecture = line['item_id']\n",
    "  submission_time = int(line['submission_time'])\n",
    "  if submission_time > 1391185339: # newer than jan 31, 2014\n",
    "    continue\n",
    "  if action == 'view':\n",
    "    if user not in user_to_lectures_viewed:\n",
    "      user_to_lectures_viewed[user] = set()\n",
    "    user_to_lectures_viewed[user].add(lecture)\n",
    "\n",
    "num_lecture_views_to_num_users = [0]*114\n",
    "\n",
    "for user,lectures_viewed in user_to_lectures_viewed.items():\n",
    "  num_lecture_views = len(lectures_viewed)\n",
    "  if num_lecture_views >= 113:\n",
    "    num_lecture_views = 113\n",
    "  num_lecture_views_to_num_users[num_lecture_views] += 1\n",
    "\n",
    "at_least_n_views = [sum(num_lecture_views_to_num_users[i:]) for i in range(len(num_lecture_views_to_num_users))]"
   ]
  },
  {
   "cell_type": "code",
   "execution_count": null,
   "metadata": {
    "collapsed": false
   },
   "outputs": [],
   "source": [
    "print sum([len(x) for x in user_to_lectures_viewed.values()])"
   ]
  },
  {
   "cell_type": "code",
   "execution_count": null,
   "metadata": {
    "collapsed": false
   },
   "outputs": [],
   "source": [
    "print at_least_n_views"
   ]
  },
  {
   "cell_type": "code",
   "execution_count": null,
   "metadata": {
    "collapsed": false
   },
   "outputs": [],
   "source": [
    "user_to_lectures_downloaded = {}\n",
    "\n",
    "for line in get_table_data('lecture_submission_metadata'):\n",
    "  action = line['action']\n",
    "  user = line['session_user_id']\n",
    "  lecture = line['item_id']\n",
    "  submission_time = int(line['submission_time'])\n",
    "  if submission_time > 1391185339: # newer than jan 31, 2014\n",
    "    continue\n",
    "  if action == 'download':\n",
    "    if user not in user_to_lectures_downloaded:\n",
    "      user_to_lectures_downloaded[user] = set()\n",
    "    user_to_lectures_downloaded[user].add(lecture)\n",
    "\n",
    "num_lecture_downloads_to_num_users = [0]*114\n",
    "\n",
    "for user,lectures_downloaded in user_to_lectures_downloaded.items():\n",
    "  num_lecture_downloads = len(lectures_downloaded)\n",
    "  if num_lecture_downloads >= 113:\n",
    "    num_lecture_downloads = 113\n",
    "  num_lecture_downloads_to_num_users[num_lecture_downloads] += 1\n",
    "\n",
    "at_least_n_downloads = [sum(num_lecture_downloads_to_num_users[i:]) for i in range(len(num_lecture_downloads_to_num_users))]"
   ]
  },
  {
   "cell_type": "code",
   "execution_count": null,
   "metadata": {
    "collapsed": false
   },
   "outputs": [],
   "source": [
    "print sum([len(x) for x in user_to_lectures_downloaded.values()])"
   ]
  },
  {
   "cell_type": "code",
   "execution_count": null,
   "metadata": {
    "collapsed": false
   },
   "outputs": [],
   "source": []
  },
  {
   "cell_type": "code",
   "execution_count": null,
   "metadata": {
    "collapsed": false
   },
   "outputs": [],
   "source": [
    "print at_least_n_downloads"
   ]
  },
  {
   "cell_type": "code",
   "execution_count": null,
   "metadata": {
    "collapsed": false
   },
   "outputs": [],
   "source": [
    "num_quizzes_answered_to_num_users = [0]*110\n",
    "num_review_quizzes_answered_to_num_users = [0]*19\n",
    "\n",
    "user_to_num_invideo_quizzes = {}\n",
    "for user,invideo_quiz_answers in user_to_invideo_quiz_answers.iteritems():\n",
    "  #user_to_num_invideo_quizzes[user] = len(invideo_quiz_answers)\n",
    "  item_ids = invideo_quiz_answers.keys() #set([x['item_id'] for x in invideo_quiz_answers])\n",
    "  user_to_num_invideo_quizzes[user] = len(item_ids)\n",
    "\n",
    "for user,num_invideo_quizzes in user_to_num_invideo_quizzes.items():\n",
    "  if num_invideo_quizzes > 109:\n",
    "    num_invideo_quizzes = 109\n",
    "  num_quizzes_answered_to_num_users[num_invideo_quizzes] += 1\n",
    "\n",
    "user_to_num_review_quizzes = {}\n",
    "for user,review_quiz_answers in user_to_review_quiz_answers.iteritems():\n",
    "  #user_to_num_invideo_quizzes[user] = len(invideo_quiz_answers)\n",
    "  item_ids = review_quiz_answers.keys() #set([x['item_id'] for x in review_quiz_answers])\n",
    "  #print len(item_ids)\n",
    "  user_to_num_review_quizzes[user] = len(item_ids)\n",
    "\n",
    "for user,num_review_quizzes in user_to_num_review_quizzes.items():\n",
    "  if num_review_quizzes > 18:\n",
    "    num_review_quizzes = 18\n",
    "  num_review_quizzes_answered_to_num_users[num_review_quizzes] += 1"
   ]
  },
  {
   "cell_type": "code",
   "execution_count": null,
   "metadata": {
    "collapsed": false
   },
   "outputs": [],
   "source": [
    "#print user_to_num_invideo_quizzes"
   ]
  },
  {
   "cell_type": "code",
   "execution_count": null,
   "metadata": {
    "collapsed": false
   },
   "outputs": [],
   "source": [
    "print num_lectures_started_to_num_users\n",
    "print num_lectures_finished_to_num_users\n",
    "print num_quizzes_answered_to_num_users\n",
    "print num_review_quizzes_answered_to_num_users"
   ]
  },
  {
   "cell_type": "code",
   "execution_count": null,
   "metadata": {
    "collapsed": false
   },
   "outputs": [],
   "source": [
    "at_least_n_lectures_watched = [sum(num_lectures_started_to_num_users[i:]) for i in range(len(num_lectures_started_to_num_users))]\n",
    "at_least_n_lectures_finished = [sum(num_lectures_finished_to_num_users[i:]) for i in range(len(num_lectures_finished_to_num_users))]\n",
    "at_least_n_invideo_quizzes = [sum(num_quizzes_answered_to_num_users[i:]) for i in range(len(num_quizzes_answered_to_num_users))]\n",
    "at_least_n_review_quizzes = [sum(num_review_quizzes_answered_to_num_users[i:]) for i in range(len(num_review_quizzes_answered_to_num_users))]"
   ]
  },
  {
   "cell_type": "code",
   "execution_count": null,
   "metadata": {
    "collapsed": false
   },
   "outputs": [],
   "source": []
  },
  {
   "cell_type": "code",
   "execution_count": null,
   "metadata": {
    "collapsed": false
   },
   "outputs": [],
   "source": [
    "from bokeh.plotting import *\n",
    "output_notebook()\n"
   ]
  },
  {
   "cell_type": "code",
   "execution_count": null,
   "metadata": {
    "collapsed": false
   },
   "outputs": [],
   "source": [
    "print at_least_n_lectures_finished[1]"
   ]
  },
  {
   "cell_type": "code",
   "execution_count": null,
   "metadata": {
    "collapsed": false
   },
   "outputs": [],
   "source": [
    "print at_least_n_views[1]"
   ]
  },
  {
   "cell_type": "code",
   "execution_count": null,
   "metadata": {
    "collapsed": false
   },
   "outputs": [],
   "source": [
    "p1 = figure(\n",
    "  title='User engagement with lectures and in-video quizzes on ML4',\n",
    "  y_axis_label='number of users',\n",
    "  x_axis_label='completed at least x% of material',\n",
    "  plot_width=800,\n",
    "  plot_height=400,\n",
    ")\n",
    "p1.line(\n",
    "  [100.0*float(i+1)/113 for i in range(113)], # x coordinates\n",
    "  [at_least_n_views[i+1] for i in range(113)], # y coordinates\n",
    "  color='#ff0000',\n",
    "  legend='began watching lecture',\n",
    ")\n",
    "p1.line(\n",
    "  [100.0*float(i+1)/113 for i in range(113)], # x coordinates\n",
    "  [at_least_n_lectures_finished[i+1] for i in range(113)], # y coordinates\n",
    "  color='#00ff00',\n",
    "  legend='finished watching lecture',  \n",
    ")\n",
    "p1.line(\n",
    "  [100.0*float(i+1)/100 for i in range(100)], # x coordinates\n",
    "  [at_least_n_invideo_quizzes[i+1] for i in range(100)], # y coordinates\n",
    "  color='#0000ff',\n",
    "  legend='submitted in-video quiz',\n",
    ")\n",
    "#p1.line(\n",
    "#  [100.0*float(1+i)/113 for i in range(113)], # x coordinates\n",
    "#  [at_least_n_downloads[i+1] for i in range(113)], # y coordinates\n",
    "#  color='#115555',\n",
    "#  legend='downloaded lecture'\n",
    "#)\n",
    "p1.line(\n",
    "  [100.0*float(1+i)/100 for i in range(100)], # x coordinates\n",
    "  [at_least_n_grade[i+1] for i in range(100)], # y coordinates\n",
    "  color='#000000',\n",
    "  legend='grade (from assignments and exams)'\n",
    ")\n",
    "\n",
    "\n",
    "#p1.line(\n",
    "#  [100.0*float(1+i)/18 for i in range(18)], # x coordinates\n",
    "#  [at_least_n_review_quizzes[i+1] for i in range(18)], # y coordinates\n",
    "#  color='#ffff00',\n",
    "#)\n",
    "\n",
    "show(p1)"
   ]
  },
  {
   "cell_type": "code",
   "execution_count": null,
   "metadata": {
    "collapsed": false
   },
   "outputs": [],
   "source": [
    "p1 = figure(\n",
    "  title='User engagement with lectures and in-video quizzes on ML4',\n",
    "  y_axis_label='number of users',\n",
    "  x_axis_label='completed at least x% of material',\n",
    "  plot_width=800,\n",
    "  plot_height=400,\n",
    ")\n",
    "p1.line(\n",
    "  [100.0*float(i+1)/113 for i in range(113)], # x coordinates\n",
    "  [at_least_n_views[i+1] for i in range(113)], # y coordinates\n",
    "  color='#ff0000',\n",
    "  legend='began watching lecture',\n",
    ")\n",
    "p1.line(\n",
    "  [100.0*float(i+1)/113 for i in range(113)], # x coordinates\n",
    "  [at_least_n_lectures_finished[i+1] for i in range(113)], # y coordinates\n",
    "  color='#00ff00',\n",
    "  legend='finished watching lecture',  \n",
    ")\n",
    "p1.line(\n",
    "  [100.0*float(i+1)/100 for i in range(100)], # x coordinates\n",
    "  [at_least_n_invideo_quizzes[i+1] for i in range(100)], # y coordinates\n",
    "  color='#0000ff',\n",
    "  legend='submitted in-video quiz',\n",
    ")\n",
    "p1.line(\n",
    "  [100.0*float(1+i)/113 for i in range(113)], # x coordinates\n",
    "  [at_least_n_downloads[i+1] for i in range(113)], # y coordinates\n",
    "  color='#115555',\n",
    "  legend='downloaded lecture'\n",
    ")\n",
    "p1.line(\n",
    "  [100.0*float(1+i)/100 for i in range(100)], # x coordinates\n",
    "  [at_least_n_grade[i+1] for i in range(100)], # y coordinates\n",
    "  color='#000000',\n",
    "  legend='grade (from assignments and exams)'\n",
    ")\n",
    "\n",
    "\n",
    "#p1.line(\n",
    "#  [100.0*float(1+i)/18 for i in range(18)], # x coordinates\n",
    "#  [at_least_n_review_quizzes[i+1] for i in range(18)], # y coordinates\n",
    "#  color='#ffff00',\n",
    "#)\n",
    "\n",
    "show(p1)"
   ]
  },
  {
   "cell_type": "code",
   "execution_count": null,
   "metadata": {
    "collapsed": false
   },
   "outputs": [],
   "source": [
    "p1 = figure(\n",
    "  title='User engagement with lectures and in-video quizzes on ML4',\n",
    "  y_axis_label='number of users',\n",
    "  x_axis_label='completed at least x% of material',\n",
    "  plot_width=800,\n",
    "  plot_height=400,\n",
    ")\n",
    "p1.line(\n",
    "  [100.0*float(1+i)/113 for i in range(113)], # x coordinates\n",
    "  [at_least_n_lectures_watched[i+1] for i in range(113)], # y coordinates\n",
    "  color='#ff0000',\n",
    "  legend='began watching lecture',\n",
    ")\n",
    "p1.line(\n",
    "  [100.0*float(1+i)/113 for i in range(113)], # x coordinates\n",
    "  [at_least_n_lectures_finished[i+1] for i in range(113)], # y coordinates\n",
    "  color='#00ff00',\n",
    "  legend='finished watching lecture',  \n",
    ")\n",
    "p1.line(\n",
    "  [100.0*float(1+i)/100 for i in range(109)], # x coordinates\n",
    "  [at_least_n_invideo_quizzes[i+1] for i in range(100)], # y coordinates\n",
    "  color='#0000ff',\n",
    "  legend='submitted in-video quiz',\n",
    ")\n",
    "p1.line(\n",
    "  [100.0*float(1+i)/18 for i in range(18)], # x coordinates\n",
    "  [at_least_n_review_quizzes[i+1] for i in range(18)], # y coordinates\n",
    "  color='#000000',\n",
    "  legend='review question',\n",
    ")\n",
    "\n",
    "show(p1)"
   ]
  },
  {
   "cell_type": "code",
   "execution_count": 335,
   "metadata": {
    "collapsed": false
   },
   "outputs": [],
   "source": [
    "users_who_opened_course = set() # session ids of users who opened course\n",
    "for session_id in getViewersToLectures().keys():\n",
    "  #if eventing_id not in eventing_to_session_id:\n",
    "  #  continue\n",
    "  #session_id = eventing_to_session_id[eventing_id]\n",
    "  users_who_opened_course.add(session_id)"
   ]
  },
  {
   "cell_type": "code",
   "execution_count": 335,
   "metadata": {
    "collapsed": false
   },
   "outputs": [],
   "source": []
  },
  {
   "cell_type": "code",
   "execution_count": 336,
   "metadata": {
    "collapsed": false
   },
   "outputs": [],
   "source": [
    "num_lectures_started_to_num_users = [0]*114\n",
    "num_lectures_finished_to_num_users = [0]*114\n",
    "\n",
    "user_to_num_lectures_started = {}\n",
    "for user,lectures_viewed in getViewersToLectures().iteritems():\n",
    "  if user not in users_who_earned_certificate:\n",
    "    continue\n",
    "  #if len(lectures_viewed) == 0:\n",
    "  #  continue\n",
    "  user_to_num_lectures_started[user] = len(lectures_viewed)\n",
    "\n",
    "'''\n",
    "user_to_num_lectures_started = {}\n",
    "for lecture_id,user_to_start_events in json.load(open('video_to_user_to_startzero_events_orig.json')).iteritems():\n",
    "  for user,start_events in user_to_start_events.iteritems():\n",
    "    if user not in user_to_num_lectures_started:\n",
    "      user_to_num_lectures_started[user] = 0\n",
    "    user_to_num_lectures_started[user] += 1\n",
    "'''\n",
    "\n",
    "for user,num_lectures_started in user_to_num_lectures_started.items():\n",
    "  num_lectures_started_to_num_users[num_lectures_started] += 1\n",
    "\n",
    "user_to_num_lectures_finished = {}\n",
    "for lecture_id,user_to_end_events in json.load(open('video_to_user_to_end_events.json')).iteritems():\n",
    "  for user,end_events in user_to_end_events.iteritems():\n",
    "    if user not in users_who_earned_certificate:\n",
    "      continue\n",
    "    if user not in user_to_num_lectures_started:\n",
    "      continue\n",
    "    if user not in user_to_num_lectures_finished:\n",
    "      user_to_num_lectures_finished[user] = 0\n",
    "    user_to_num_lectures_finished[user] += 1\n",
    "\n",
    "for user,num_lectures_finished in user_to_num_lectures_finished.items():\n",
    "  num_lectures_finished_to_num_users[num_lectures_finished] += 1\n",
    "\n"
   ]
  },
  {
   "cell_type": "code",
   "execution_count": 337,
   "metadata": {
    "collapsed": false
   },
   "outputs": [],
   "source": [
    "num_quizzes_answered_to_num_users = [0]*110\n",
    "num_review_quizzes_answered_to_num_users = [0]*19\n",
    "\n",
    "user_to_num_invideo_quizzes = {}\n",
    "for user,invideo_quiz_answers in user_to_invideo_quiz_answers.iteritems():\n",
    "  #user_to_num_invideo_quizzes[user] = len(invideo_quiz_answers)\n",
    "  if user not in users_who_earned_certificate:\n",
    "    continue\n",
    "  item_ids = invideo_quiz_answers.keys() #set([x['item_id'] for x in invideo_quiz_answers])\n",
    "  user_to_num_invideo_quizzes[user] = len(item_ids)\n",
    "\n",
    "for user,num_invideo_quizzes in user_to_num_invideo_quizzes.items():\n",
    "  if num_invideo_quizzes > 109:\n",
    "    num_invideo_quizzes = 109\n",
    "  num_quizzes_answered_to_num_users[num_invideo_quizzes] += 1\n",
    "\n",
    "user_to_num_review_quizzes = {}\n",
    "for user,review_quiz_answers in user_to_review_quiz_answers.iteritems():\n",
    "  if user not in users_who_earned_certificate:\n",
    "    continue\n",
    "  #user_to_num_invideo_quizzes[user] = len(invideo_quiz_answers)\n",
    "  item_ids = review_quiz_answers.keys() #set([x['item_id'] for x in review_quiz_answers])\n",
    "  #print len(item_ids)\n",
    "  user_to_num_review_quizzes[user] = len(item_ids)\n",
    "\n",
    "for user,num_review_quizzes in user_to_num_review_quizzes.items():\n",
    "  if num_review_quizzes > 18:\n",
    "    num_review_quizzes = 18\n",
    "  num_review_quizzes_answered_to_num_users[num_review_quizzes] += 1"
   ]
  },
  {
   "cell_type": "code",
   "execution_count": 338,
   "metadata": {
    "collapsed": false
   },
   "outputs": [],
   "source": [
    "at_least_n_lectures_watched = [sum(num_lectures_started_to_num_users[i:]) for i in range(len(num_lectures_started_to_num_users))]\n",
    "at_least_n_lectures_finished = [sum(num_lectures_finished_to_num_users[i:]) for i in range(len(num_lectures_finished_to_num_users))]\n",
    "at_least_n_invideo_quizzes = [sum(num_quizzes_answered_to_num_users[i:]) for i in range(len(num_quizzes_answered_to_num_users))]\n",
    "at_least_n_review_quizzes = [sum(num_review_quizzes_answered_to_num_users[i:]) for i in range(len(num_review_quizzes_answered_to_num_users))]"
   ]
  },
  {
   "cell_type": "code",
   "execution_count": 339,
   "metadata": {
    "collapsed": false
   },
   "outputs": [],
   "source": [
    "grades_to_num_users = [0]*101\n",
    "\n",
    "user_to_grade = {}\n",
    "for line in get_table_data('course_grades'):\n",
    "  user = line['session_user_id']\n",
    "  if user not in user_to_num_lectures_started:\n",
    "    continue\n",
    "  if user not in users_who_earned_certificate:\n",
    "    continue\n",
    "  grade = float(line['normal_grade'])\n",
    "  user_to_grade[user] = grade\n",
    "\n",
    "for user,grade in user_to_grade.items():\n",
    "  grade = int(round(grade))\n",
    "  if grade < 0:\n",
    "    grade = 0\n",
    "  if grade > 100:\n",
    "    grade = 100\n",
    "  grades_to_num_users[grade] += 1"
   ]
  },
  {
   "cell_type": "code",
   "execution_count": 340,
   "metadata": {
    "collapsed": false
   },
   "outputs": [],
   "source": [
    "at_least_n_grade = [sum(grades_to_num_users[i:]) for i in range(len(grades_to_num_users))]"
   ]
  },
  {
   "cell_type": "code",
   "execution_count": 341,
   "metadata": {
    "collapsed": false
   },
   "outputs": [],
   "source": [
    "#print at_least_n_grade"
   ]
  },
  {
   "cell_type": "code",
   "execution_count": 342,
   "metadata": {
    "collapsed": false
   },
   "outputs": [],
   "source": [
    "user_to_lectures_downloaded = {}\n",
    "\n",
    "for line in get_table_data('lecture_submission_metadata'):\n",
    "  action = line['action']\n",
    "  user = line['session_user_id']\n",
    "  lecture = line['item_id']\n",
    "  if user not in users_who_earned_certificate:\n",
    "    continue\n",
    "  submission_time = int(line['submission_time'])\n",
    "  if submission_time > 1391185339: # newer than jan 31, 2014\n",
    "    continue\n",
    "  if action == 'download':\n",
    "    if user not in user_to_lectures_downloaded:\n",
    "      user_to_lectures_downloaded[user] = set()\n",
    "    user_to_lectures_downloaded[user].add(lecture)\n",
    "\n",
    "num_lecture_downloads_to_num_users = [0]*114\n",
    "\n",
    "for user,lectures_downloaded in user_to_lectures_downloaded.items():\n",
    "  num_lecture_downloads = len(lectures_downloaded)\n",
    "  if num_lecture_downloads >= 113:\n",
    "    num_lecture_downloads = 113\n",
    "  num_lecture_downloads_to_num_users[num_lecture_downloads] += 1\n",
    "\n",
    "at_least_n_downloads = [sum(num_lecture_downloads_to_num_users[i:]) for i in range(len(num_lecture_downloads_to_num_users))]"
   ]
  },
  {
   "cell_type": "code",
   "execution_count": 343,
   "metadata": {
    "collapsed": false
   },
   "outputs": [],
   "source": [
    "user_to_lectures_viewed = {}\n",
    "\n",
    "for line in get_table_data('lecture_submission_metadata'):\n",
    "  action = line['action']\n",
    "  user = line['session_user_id']\n",
    "  lecture = line['item_id']\n",
    "  submission_time = int(line['submission_time'])\n",
    "  if submission_time > 1391185339: # newer than jan 31, 2014\n",
    "    continue\n",
    "  if user not in users_who_earned_certificate:\n",
    "    continue\n",
    "  if action == 'view':\n",
    "    if user not in user_to_lectures_viewed:\n",
    "      user_to_lectures_viewed[user] = set()\n",
    "    user_to_lectures_viewed[user].add(lecture)\n",
    "\n",
    "num_lecture_views_to_num_users = [0]*114\n",
    "\n",
    "for user,lectures_viewed in user_to_lectures_viewed.items():\n",
    "  num_lecture_views = len(lectures_viewed)\n",
    "  if num_lecture_views >= 113:\n",
    "    num_lecture_views = 113\n",
    "  num_lecture_views_to_num_users[num_lecture_views] += 1\n",
    "\n",
    "at_least_n_views = [sum(num_lecture_views_to_num_users[i:]) for i in range(len(num_lecture_views_to_num_users))]"
   ]
  },
  {
   "cell_type": "code",
   "execution_count": 354,
   "metadata": {
    "collapsed": false
   },
   "outputs": [
    {
     "data": {
      "text/html": [
       "<script type=\"text/javascript\">\n",
       "        Bokeh.$(function() {\n",
       "        var all_models = [{\"attributes\": {\"line_color\": {\"value\": \"#1f77b4\"}, \"line_alpha\": {\"value\": 0.1}, \"tags\": [], \"doc\": null, \"y\": {\"field\": \"y\"}, \"x\": {\"field\": \"x\"}, \"id\": \"6b2b9442-83d9-4d3e-bfd5-f5f59c372310\"}, \"type\": \"Line\", \"id\": \"6b2b9442-83d9-4d3e-bfd5-f5f59c372310\"}, {\"attributes\": {\"column_names\": [\"y\", \"x\"], \"tags\": [], \"doc\": null, \"selected\": {\"2d\": {\"indices\": []}, \"1d\": {\"indices\": []}, \"0d\": {\"indices\": [], \"flag\": false}}, \"callback\": null, \"data\": {\"y\": [7953, 7796, 7691, 7617, 7554, 7506, 7441, 7373, 7320, 7269, 7226, 7181, 7133, 7100, 7050, 7007, 6964, 6913, 6876, 6832, 6797, 6744, 6704, 6657, 6609, 6559, 6519, 6481, 6417, 6355, 6308, 6263, 6211, 6158, 6115, 6065, 6020, 5975, 5927, 5879, 5822, 5763, 5711, 5660, 5611, 5553, 5503, 5446, 5399, 5359, 5303, 5261, 5199, 5145, 5092, 5030, 4970, 4914, 4857, 4786, 4731, 4663, 4598, 4536, 4467, 4405, 4349, 4293, 4225, 4154, 4093, 4031, 3961, 3884, 3802, 3731, 3658, 3586, 3519, 3433, 3336, 3247, 3172, 3091, 3007, 2918, 2834, 2744, 2647, 2569, 2484, 2363, 2267, 2163, 2056, 1954, 1863, 1741, 1629, 1494, 1366, 1236, 1085, 963, 844, 712, 579, 470, 371, 254, 154, 71], \"x\": [0.8928571428571429, 1.7857142857142858, 2.6785714285714284, 3.5714285714285716, 4.464285714285714, 5.357142857142857, 6.25, 7.142857142857143, 8.035714285714286, 8.928571428571429, 9.821428571428571, 10.714285714285714, 11.607142857142858, 12.5, 13.392857142857142, 14.285714285714286, 15.178571428571429, 16.071428571428573, 16.964285714285715, 17.857142857142858, 18.75, 19.642857142857142, 20.535714285714285, 21.428571428571427, 22.321428571428573, 23.214285714285715, 24.107142857142858, 25.0, 25.892857142857142, 26.785714285714285, 27.678571428571427, 28.571428571428573, 29.464285714285715, 30.357142857142858, 31.25, 32.142857142857146, 33.035714285714285, 33.92857142857143, 34.82142857142857, 35.714285714285715, 36.607142857142854, 37.5, 38.392857142857146, 39.285714285714285, 40.17857142857143, 41.07142857142857, 41.964285714285715, 42.857142857142854, 43.75, 44.642857142857146, 45.535714285714285, 46.42857142857143, 47.32142857142857, 48.214285714285715, 49.107142857142854, 50.0, 50.892857142857146, 51.785714285714285, 52.67857142857143, 53.57142857142857, 54.464285714285715, 55.357142857142854, 56.25, 57.142857142857146, 58.035714285714285, 58.92857142857143, 59.82142857142857, 60.714285714285715, 61.607142857142854, 62.5, 63.392857142857146, 64.28571428571429, 65.17857142857143, 66.07142857142857, 66.96428571428571, 67.85714285714286, 68.75, 69.64285714285714, 70.53571428571429, 71.42857142857143, 72.32142857142857, 73.21428571428571, 74.10714285714286, 75.0, 75.89285714285714, 76.78571428571429, 77.67857142857143, 78.57142857142857, 79.46428571428571, 80.35714285714286, 81.25, 82.14285714285714, 83.03571428571429, 83.92857142857143, 84.82142857142857, 85.71428571428571, 86.60714285714286, 87.5, 88.39285714285714, 89.28571428571429, 90.17857142857143, 91.07142857142857, 91.96428571428571, 92.85714285714286, 93.75, 94.64285714285714, 95.53571428571429, 96.42857142857143, 97.32142857142857, 98.21428571428571, 99.10714285714286, 100.0]}, \"id\": \"087e9590-8aab-42b4-9234-d0e250fe71b8\"}, \"type\": \"ColumnDataSource\", \"id\": \"087e9590-8aab-42b4-9234-d0e250fe71b8\"}, {\"attributes\": {\"nonselection_glyph\": {\"type\": \"Line\", \"id\": \"d2ce79b1-2735-4db0-a639-56eb3aa793e8\"}, \"data_source\": {\"type\": \"ColumnDataSource\", \"id\": \"2b735041-e246-4808-8a73-36e2df0190be\"}, \"tags\": [], \"doc\": null, \"selection_glyph\": null, \"id\": \"d1734c8a-b1c5-47d5-b894-263cfa670138\", \"glyph\": {\"type\": \"Line\", \"id\": \"41911843-8491-4ce4-bc79-59d102918bc0\"}}, \"type\": \"GlyphRenderer\", \"id\": \"d1734c8a-b1c5-47d5-b894-263cfa670138\"}, {\"attributes\": {\"doc\": null, \"id\": \"b83d7860-6669-4b9f-b6f0-53c020517ee4\", \"tags\": []}, \"type\": \"BasicTickFormatter\", \"id\": \"b83d7860-6669-4b9f-b6f0-53c020517ee4\"}, {\"attributes\": {\"plot\": {\"subtype\": \"Figure\", \"type\": \"Plot\", \"id\": \"a77cc570-afd6-4c62-8f2d-0c5164c58fc8\"}, \"tags\": [], \"doc\": null, \"id\": \"1ddca66d-6017-43aa-a594-eb24b9a337e9\"}, \"type\": \"PreviewSaveTool\", \"id\": \"1ddca66d-6017-43aa-a594-eb24b9a337e9\"}, {\"attributes\": {\"nonselection_glyph\": {\"type\": \"Line\", \"id\": \"d6a81783-b0fa-4d84-871f-91801c80f6c5\"}, \"data_source\": {\"type\": \"ColumnDataSource\", \"id\": \"2a003a64-3173-4f74-b93e-9cf9d8dbd3d7\"}, \"tags\": [], \"doc\": null, \"selection_glyph\": null, \"id\": \"497b3565-c167-4f52-861a-4fa9a649e8e7\", \"glyph\": {\"type\": \"Line\", \"id\": \"425f211b-2c74-480a-8df9-1126aeba4c53\"}}, \"type\": \"GlyphRenderer\", \"id\": \"497b3565-c167-4f52-861a-4fa9a649e8e7\"}, {\"attributes\": {\"line_color\": {\"value\": \"#000000\"}, \"line_alpha\": {\"value\": 1.0}, \"tags\": [], \"doc\": null, \"y\": {\"field\": \"y\"}, \"x\": {\"field\": \"x\"}, \"id\": \"e4eabee0-eb77-428a-8074-a7bcc68207f0\"}, \"type\": \"Line\", \"id\": \"e4eabee0-eb77-428a-8074-a7bcc68207f0\"}, {\"attributes\": {\"line_color\": {\"value\": \"#1f77b4\"}, \"line_alpha\": {\"value\": 0.1}, \"tags\": [], \"doc\": null, \"y\": {\"field\": \"y\"}, \"x\": {\"field\": \"x\"}, \"id\": \"d6a81783-b0fa-4d84-871f-91801c80f6c5\"}, \"type\": \"Line\", \"id\": \"d6a81783-b0fa-4d84-871f-91801c80f6c5\"}, {\"attributes\": {\"plot\": {\"subtype\": \"Figure\", \"type\": \"Plot\", \"id\": \"a77cc570-afd6-4c62-8f2d-0c5164c58fc8\"}, \"tags\": [], \"doc\": null, \"id\": \"c503f4cf-67f3-4559-928a-2881d10f242e\"}, \"type\": \"ResetTool\", \"id\": \"c503f4cf-67f3-4559-928a-2881d10f242e\"}, {\"attributes\": {\"nonselection_glyph\": {\"type\": \"Line\", \"id\": \"85b74bcb-c96a-4f3c-9310-949f3e951478\"}, \"data_source\": {\"type\": \"ColumnDataSource\", \"id\": \"348e4a66-c3f4-4dc9-b967-79390f2d2f16\"}, \"tags\": [], \"doc\": null, \"selection_glyph\": null, \"id\": \"e652295e-b61d-4b51-9a89-0a1bf021d906\", \"glyph\": {\"type\": \"Line\", \"id\": \"e4eabee0-eb77-428a-8074-a7bcc68207f0\"}}, \"type\": \"GlyphRenderer\", \"id\": \"e652295e-b61d-4b51-9a89-0a1bf021d906\"}, {\"attributes\": {\"geometries\": [], \"tags\": [], \"doc\": null, \"id\": \"21c177be-7cc2-4c97-8ca6-993f051c0338\"}, \"type\": \"ToolEvents\", \"id\": \"21c177be-7cc2-4c97-8ca6-993f051c0338\"}, {\"attributes\": {\"plot\": {\"subtype\": \"Figure\", \"type\": \"Plot\", \"id\": \"a77cc570-afd6-4c62-8f2d-0c5164c58fc8\"}, \"tags\": [], \"doc\": null, \"id\": \"e7b8480e-964b-452e-b6ae-a58e64546353\"}, \"type\": \"ResizeTool\", \"id\": \"e7b8480e-964b-452e-b6ae-a58e64546353\"}, {\"attributes\": {\"plot\": {\"subtype\": \"Figure\", \"type\": \"Plot\", \"id\": \"a77cc570-afd6-4c62-8f2d-0c5164c58fc8\"}, \"tags\": [], \"doc\": null, \"dimension\": 0, \"ticker\": {\"type\": \"BasicTicker\", \"id\": \"d7d2fd79-6e60-42eb-b857-32cc917d8e39\"}, \"id\": \"b2adb1d6-8bd7-4ab2-a40d-88c56e30fd58\"}, \"type\": \"Grid\", \"id\": \"b2adb1d6-8bd7-4ab2-a40d-88c56e30fd58\"}, {\"attributes\": {\"nonselection_glyph\": {\"type\": \"Line\", \"id\": \"6b2b9442-83d9-4d3e-bfd5-f5f59c372310\"}, \"data_source\": {\"type\": \"ColumnDataSource\", \"id\": \"087e9590-8aab-42b4-9234-d0e250fe71b8\"}, \"tags\": [], \"doc\": null, \"selection_glyph\": null, \"id\": \"c20ca55b-97e9-4f95-851f-d05fdaa5a69a\", \"glyph\": {\"type\": \"Line\", \"id\": \"fd56b18b-7624-41da-8125-650815367230\"}}, \"type\": \"GlyphRenderer\", \"id\": \"c20ca55b-97e9-4f95-851f-d05fdaa5a69a\"}, {\"attributes\": {\"line_color\": {\"value\": \"#ff0000\"}, \"line_alpha\": {\"value\": 1.0}, \"tags\": [], \"doc\": null, \"y\": {\"field\": \"y\"}, \"x\": {\"field\": \"x\"}, \"id\": \"425f211b-2c74-480a-8df9-1126aeba4c53\"}, \"type\": \"Line\", \"id\": \"425f211b-2c74-480a-8df9-1126aeba4c53\"}, {\"attributes\": {\"plot\": {\"subtype\": \"Figure\", \"type\": \"Plot\", \"id\": \"a77cc570-afd6-4c62-8f2d-0c5164c58fc8\"}, \"dimensions\": [\"width\", \"height\"], \"tags\": [], \"doc\": null, \"id\": \"115d8145-3a91-4734-8b26-98d35e6fa867\"}, \"type\": \"BoxZoomTool\", \"id\": \"115d8145-3a91-4734-8b26-98d35e6fa867\"}, {\"attributes\": {\"line_color\": {\"value\": \"#0000ff\"}, \"line_alpha\": {\"value\": 1.0}, \"tags\": [], \"doc\": null, \"y\": {\"field\": \"y\"}, \"x\": {\"field\": \"x\"}, \"id\": \"41911843-8491-4ce4-bc79-59d102918bc0\"}, \"type\": \"Line\", \"id\": \"41911843-8491-4ce4-bc79-59d102918bc0\"}, {\"attributes\": {\"column_names\": [\"y\", \"x\"], \"tags\": [], \"doc\": null, \"selected\": {\"2d\": {\"indices\": []}, \"1d\": {\"indices\": []}, \"0d\": {\"indices\": [], \"flag\": false}}, \"callback\": null, \"data\": {\"y\": [8349, 8349, 8245, 8150, 8086, 8028, 7973, 7934, 7892, 7857, 7833, 7798, 7767, 7728, 7704, 7683, 7657, 7634, 7608, 7589, 7566, 7532, 7513, 7498, 7489, 7469, 7444, 7422, 7405, 7391, 7369, 7341, 7314, 7287, 7260, 7240, 7218, 7184, 7154, 7134, 7117, 7103, 7087, 7055, 7027, 7009, 6983, 6964, 6940, 6919, 6888, 6860, 6831, 6805, 6775, 6753, 6731, 6713, 6680, 6646, 6614, 6589, 6566, 6525, 6500, 6469, 6448, 6423, 6386, 6359, 6315, 6278, 6241, 6215, 6180, 6148, 6104, 6065, 6020, 5978, 5940, 5893, 5846, 5785, 5740, 5685, 5636, 5589, 5488, 5430, 5354, 5287, 5229, 5167, 5092, 5020, 4949, 4878, 4797, 4702, 4588, 4473, 4303, 4191, 4078, 3937, 3772, 3484, 3292, 3138, 2980, 2768], \"x\": [0.8928571428571429, 1.7857142857142858, 2.6785714285714284, 3.5714285714285716, 4.464285714285714, 5.357142857142857, 6.25, 7.142857142857143, 8.035714285714286, 8.928571428571429, 9.821428571428571, 10.714285714285714, 11.607142857142858, 12.5, 13.392857142857142, 14.285714285714286, 15.178571428571429, 16.071428571428573, 16.964285714285715, 17.857142857142858, 18.75, 19.642857142857142, 20.535714285714285, 21.428571428571427, 22.321428571428573, 23.214285714285715, 24.107142857142858, 25.0, 25.892857142857142, 26.785714285714285, 27.678571428571427, 28.571428571428573, 29.464285714285715, 30.357142857142858, 31.25, 32.142857142857146, 33.035714285714285, 33.92857142857143, 34.82142857142857, 35.714285714285715, 36.607142857142854, 37.5, 38.392857142857146, 39.285714285714285, 40.17857142857143, 41.07142857142857, 41.964285714285715, 42.857142857142854, 43.75, 44.642857142857146, 45.535714285714285, 46.42857142857143, 47.32142857142857, 48.214285714285715, 49.107142857142854, 50.0, 50.892857142857146, 51.785714285714285, 52.67857142857143, 53.57142857142857, 54.464285714285715, 55.357142857142854, 56.25, 57.142857142857146, 58.035714285714285, 58.92857142857143, 59.82142857142857, 60.714285714285715, 61.607142857142854, 62.5, 63.392857142857146, 64.28571428571429, 65.17857142857143, 66.07142857142857, 66.96428571428571, 67.85714285714286, 68.75, 69.64285714285714, 70.53571428571429, 71.42857142857143, 72.32142857142857, 73.21428571428571, 74.10714285714286, 75.0, 75.89285714285714, 76.78571428571429, 77.67857142857143, 78.57142857142857, 79.46428571428571, 80.35714285714286, 81.25, 82.14285714285714, 83.03571428571429, 83.92857142857143, 84.82142857142857, 85.71428571428571, 86.60714285714286, 87.5, 88.39285714285714, 89.28571428571429, 90.17857142857143, 91.07142857142857, 91.96428571428571, 92.85714285714286, 93.75, 94.64285714285714, 95.53571428571429, 96.42857142857143, 97.32142857142857, 98.21428571428571, 99.10714285714286, 100.0]}, \"id\": \"2a003a64-3173-4f74-b93e-9cf9d8dbd3d7\"}, \"type\": \"ColumnDataSource\", \"id\": \"2a003a64-3173-4f74-b93e-9cf9d8dbd3d7\"}, {\"subtype\": \"Figure\", \"type\": \"Plot\", \"id\": \"a77cc570-afd6-4c62-8f2d-0c5164c58fc8\", \"attributes\": {\"x_range\": {\"type\": \"DataRange1d\", \"id\": \"16e7ce0a-dd00-4d68-bc65-2b542934bce8\"}, \"right\": [], \"tags\": [], \"tools\": [{\"type\": \"PanTool\", \"id\": \"6b8d5c32-c0b7-4fef-a107-fe9d17d9e606\"}, {\"type\": \"WheelZoomTool\", \"id\": \"0c9aca93-6f4d-4f1e-9808-4d672ce07f74\"}, {\"type\": \"BoxZoomTool\", \"id\": \"115d8145-3a91-4734-8b26-98d35e6fa867\"}, {\"type\": \"PreviewSaveTool\", \"id\": \"1ddca66d-6017-43aa-a594-eb24b9a337e9\"}, {\"type\": \"ResizeTool\", \"id\": \"e7b8480e-964b-452e-b6ae-a58e64546353\"}, {\"type\": \"ResetTool\", \"id\": \"c503f4cf-67f3-4559-928a-2881d10f242e\"}, {\"type\": \"HelpTool\", \"id\": \"a3d9c770-195e-4a60-a18b-d752e2e1a8f3\"}], \"title\": \"User engagement among users who earned certificate\", \"extra_y_ranges\": {}, \"plot_width\": 800, \"renderers\": [{\"type\": \"LinearAxis\", \"id\": \"1ef43727-18c7-4649-8767-62ea2070bce7\"}, {\"type\": \"Grid\", \"id\": \"b2adb1d6-8bd7-4ab2-a40d-88c56e30fd58\"}, {\"type\": \"LinearAxis\", \"id\": \"4c7269f5-755b-41c0-bf21-d4e6c9e82865\"}, {\"type\": \"Grid\", \"id\": \"ee07fe47-dd6b-4354-8dec-d1c7c958ca43\"}, {\"type\": \"Legend\", \"id\": \"e6814dc7-f915-4b17-a05a-e86a0f1e9a63\"}, {\"type\": \"GlyphRenderer\", \"id\": \"497b3565-c167-4f52-861a-4fa9a649e8e7\"}, {\"type\": \"GlyphRenderer\", \"id\": \"c20ca55b-97e9-4f95-851f-d05fdaa5a69a\"}, {\"type\": \"GlyphRenderer\", \"id\": \"d1734c8a-b1c5-47d5-b894-263cfa670138\"}, {\"type\": \"GlyphRenderer\", \"id\": \"e652295e-b61d-4b51-9a89-0a1bf021d906\"}], \"extra_x_ranges\": {}, \"plot_height\": 400, \"tool_events\": {\"type\": \"ToolEvents\", \"id\": \"21c177be-7cc2-4c97-8ca6-993f051c0338\"}, \"above\": [], \"doc\": null, \"id\": \"a77cc570-afd6-4c62-8f2d-0c5164c58fc8\", \"y_range\": {\"type\": \"DataRange1d\", \"id\": \"571ce50e-d9e1-4f2e-8c62-569d4ef759d4\"}, \"below\": [{\"type\": \"LinearAxis\", \"id\": \"1ef43727-18c7-4649-8767-62ea2070bce7\"}], \"left\": [{\"type\": \"LinearAxis\", \"id\": \"4c7269f5-755b-41c0-bf21-d4e6c9e82865\"}]}}, {\"attributes\": {\"plot\": {\"subtype\": \"Figure\", \"type\": \"Plot\", \"id\": \"a77cc570-afd6-4c62-8f2d-0c5164c58fc8\"}, \"dimensions\": [\"width\", \"height\"], \"tags\": [], \"doc\": null, \"id\": \"6b8d5c32-c0b7-4fef-a107-fe9d17d9e606\"}, \"type\": \"PanTool\", \"id\": \"6b8d5c32-c0b7-4fef-a107-fe9d17d9e606\"}, {\"attributes\": {\"plot\": {\"subtype\": \"Figure\", \"type\": \"Plot\", \"id\": \"a77cc570-afd6-4c62-8f2d-0c5164c58fc8\"}, \"orientation\": \"bottom_left\", \"tags\": [], \"doc\": null, \"id\": \"e6814dc7-f915-4b17-a05a-e86a0f1e9a63\", \"legends\": [[\"began watching lecture\", [{\"type\": \"GlyphRenderer\", \"id\": \"497b3565-c167-4f52-861a-4fa9a649e8e7\"}]], [\"finished watching lecture\", [{\"type\": \"GlyphRenderer\", \"id\": \"c20ca55b-97e9-4f95-851f-d05fdaa5a69a\"}]], [\"submitted in-video quiz\", [{\"type\": \"GlyphRenderer\", \"id\": \"d1734c8a-b1c5-47d5-b894-263cfa670138\"}]], [\"grade (from assignments and exams)\", [{\"type\": \"GlyphRenderer\", \"id\": \"e652295e-b61d-4b51-9a89-0a1bf021d906\"}]]]}, \"type\": \"Legend\", \"id\": \"e6814dc7-f915-4b17-a05a-e86a0f1e9a63\"}, {\"attributes\": {\"plot\": {\"subtype\": \"Figure\", \"type\": \"Plot\", \"id\": \"a77cc570-afd6-4c62-8f2d-0c5164c58fc8\"}, \"tags\": [], \"doc\": null, \"id\": \"a3d9c770-195e-4a60-a18b-d752e2e1a8f3\"}, \"type\": \"HelpTool\", \"id\": \"a3d9c770-195e-4a60-a18b-d752e2e1a8f3\"}, {\"attributes\": {\"tags\": [], \"doc\": null, \"renderers\": [], \"callback\": null, \"names\": [], \"id\": \"571ce50e-d9e1-4f2e-8c62-569d4ef759d4\"}, \"type\": \"DataRange1d\", \"id\": \"571ce50e-d9e1-4f2e-8c62-569d4ef759d4\"}, {\"attributes\": {\"tags\": [], \"doc\": null, \"mantissas\": [2, 5, 10], \"id\": \"f7bfa79e-0aa3-4317-9d4a-909a94a6151f\", \"num_minor_ticks\": 5}, \"type\": \"BasicTicker\", \"id\": \"f7bfa79e-0aa3-4317-9d4a-909a94a6151f\"}, {\"attributes\": {\"plot\": {\"subtype\": \"Figure\", \"type\": \"Plot\", \"id\": \"a77cc570-afd6-4c62-8f2d-0c5164c58fc8\"}, \"dimensions\": [\"width\", \"height\"], \"tags\": [], \"doc\": null, \"id\": \"0c9aca93-6f4d-4f1e-9808-4d672ce07f74\"}, \"type\": \"WheelZoomTool\", \"id\": \"0c9aca93-6f4d-4f1e-9808-4d672ce07f74\"}, {\"attributes\": {\"line_color\": {\"value\": \"#1f77b4\"}, \"line_alpha\": {\"value\": 0.1}, \"tags\": [], \"doc\": null, \"y\": {\"field\": \"y\"}, \"x\": {\"field\": \"x\"}, \"id\": \"85b74bcb-c96a-4f3c-9310-949f3e951478\"}, \"type\": \"Line\", \"id\": \"85b74bcb-c96a-4f3c-9310-949f3e951478\"}, {\"attributes\": {\"plot\": {\"subtype\": \"Figure\", \"type\": \"Plot\", \"id\": \"a77cc570-afd6-4c62-8f2d-0c5164c58fc8\"}, \"tags\": [], \"doc\": null, \"dimension\": 1, \"ticker\": {\"type\": \"BasicTicker\", \"id\": \"f7bfa79e-0aa3-4317-9d4a-909a94a6151f\"}, \"id\": \"ee07fe47-dd6b-4354-8dec-d1c7c958ca43\"}, \"type\": \"Grid\", \"id\": \"ee07fe47-dd6b-4354-8dec-d1c7c958ca43\"}, {\"attributes\": {\"column_names\": [\"y\", \"x\"], \"tags\": [], \"doc\": null, \"selected\": {\"2d\": {\"indices\": []}, \"1d\": {\"indices\": []}, \"0d\": {\"indices\": [], \"flag\": false}}, \"callback\": null, \"data\": {\"y\": [8349, 8349, 8349, 8349, 8349, 8349, 8349, 8349, 8349, 8349, 8349, 8349, 8349, 8349, 8349, 8349, 8349, 8349, 8349, 8349, 8349, 8349, 8349, 8349, 8349, 8349, 8349, 8349, 8349, 8349, 8349, 8349, 8349, 8349, 8349, 8349, 8349, 8349, 8349, 8349, 8349, 8349, 8349, 8349, 8349, 8349, 8349, 8349, 8349, 8349, 8349, 8349, 8349, 8349, 8349, 8349, 8349, 8349, 8349, 8349, 8349, 8349, 8349, 8349, 8349, 8349, 8349, 8349, 8349, 8349, 8349, 8349, 8349, 8349, 8349, 8349, 8349, 8349, 8349, 8349, 8327, 8273, 8210, 8145, 7979, 7847, 7741, 7641, 7550, 7449, 7326, 7200, 7052, 6900, 6757, 6600, 6382, 6154, 5877, 5544], \"x\": [1.0, 2.0, 3.0, 4.0, 5.0, 6.0, 7.0, 8.0, 9.0, 10.0, 11.0, 12.0, 13.0, 14.0, 15.0, 16.0, 17.0, 18.0, 19.0, 20.0, 21.0, 22.0, 23.0, 24.0, 25.0, 26.0, 27.0, 28.0, 29.0, 30.0, 31.0, 32.0, 33.0, 34.0, 35.0, 36.0, 37.0, 38.0, 39.0, 40.0, 41.0, 42.0, 43.0, 44.0, 45.0, 46.0, 47.0, 48.0, 49.0, 50.0, 51.0, 52.0, 53.0, 54.0, 55.0, 56.0, 57.0, 58.0, 59.0, 60.0, 61.0, 62.0, 63.0, 64.0, 65.0, 66.0, 67.0, 68.0, 69.0, 70.0, 71.0, 72.0, 73.0, 74.0, 75.0, 76.0, 77.0, 78.0, 79.0, 80.0, 81.0, 82.0, 83.0, 84.0, 85.0, 86.0, 87.0, 88.0, 89.0, 90.0, 91.0, 92.0, 93.0, 94.0, 95.0, 96.0, 97.0, 98.0, 99.0, 100.0]}, \"id\": \"348e4a66-c3f4-4dc9-b967-79390f2d2f16\"}, \"type\": \"ColumnDataSource\", \"id\": \"348e4a66-c3f4-4dc9-b967-79390f2d2f16\"}, {\"attributes\": {\"plot\": {\"subtype\": \"Figure\", \"type\": \"Plot\", \"id\": \"a77cc570-afd6-4c62-8f2d-0c5164c58fc8\"}, \"tags\": [], \"doc\": null, \"axis_label\": \"number of users\", \"formatter\": {\"type\": \"BasicTickFormatter\", \"id\": \"b83d7860-6669-4b9f-b6f0-53c020517ee4\"}, \"ticker\": {\"type\": \"BasicTicker\", \"id\": \"f7bfa79e-0aa3-4317-9d4a-909a94a6151f\"}, \"id\": \"4c7269f5-755b-41c0-bf21-d4e6c9e82865\"}, \"type\": \"LinearAxis\", \"id\": \"4c7269f5-755b-41c0-bf21-d4e6c9e82865\"}, {\"attributes\": {\"plot\": {\"subtype\": \"Figure\", \"type\": \"Plot\", \"id\": \"a77cc570-afd6-4c62-8f2d-0c5164c58fc8\"}, \"tags\": [], \"doc\": null, \"axis_label\": \"completed at least x% of material\", \"formatter\": {\"type\": \"BasicTickFormatter\", \"id\": \"81a54364-48f5-4dde-a671-86e3ea363a29\"}, \"ticker\": {\"type\": \"BasicTicker\", \"id\": \"d7d2fd79-6e60-42eb-b857-32cc917d8e39\"}, \"id\": \"1ef43727-18c7-4649-8767-62ea2070bce7\"}, \"type\": \"LinearAxis\", \"id\": \"1ef43727-18c7-4649-8767-62ea2070bce7\"}, {\"attributes\": {\"tags\": [], \"doc\": null, \"mantissas\": [2, 5, 10], \"id\": \"d7d2fd79-6e60-42eb-b857-32cc917d8e39\", \"num_minor_ticks\": 5}, \"type\": \"BasicTicker\", \"id\": \"d7d2fd79-6e60-42eb-b857-32cc917d8e39\"}, {\"attributes\": {\"doc\": null, \"id\": \"81a54364-48f5-4dde-a671-86e3ea363a29\", \"tags\": []}, \"type\": \"BasicTickFormatter\", \"id\": \"81a54364-48f5-4dde-a671-86e3ea363a29\"}, {\"attributes\": {\"line_color\": {\"value\": \"#1f77b4\"}, \"line_alpha\": {\"value\": 0.1}, \"tags\": [], \"doc\": null, \"y\": {\"field\": \"y\"}, \"x\": {\"field\": \"x\"}, \"id\": \"d2ce79b1-2735-4db0-a639-56eb3aa793e8\"}, \"type\": \"Line\", \"id\": \"d2ce79b1-2735-4db0-a639-56eb3aa793e8\"}, {\"attributes\": {\"column_names\": [\"y\", \"x\"], \"tags\": [], \"doc\": null, \"selected\": {\"2d\": {\"indices\": []}, \"1d\": {\"indices\": []}, \"0d\": {\"indices\": [], \"flag\": false}}, \"callback\": null, \"data\": {\"y\": [7965, 7856, 7785, 7718, 7672, 7609, 7558, 7502, 7467, 7427, 7393, 7364, 7323, 7296, 7260, 7222, 7194, 7162, 7127, 7104, 7078, 7044, 7010, 6973, 6945, 6910, 6887, 6848, 6810, 6776, 6747, 6702, 6666, 6624, 6588, 6558, 6530, 6496, 6456, 6418, 6391, 6356, 6317, 6290, 6263, 6221, 6189, 6155, 6113, 6078, 6034, 6004, 5955, 5904, 5868, 5829, 5778, 5732, 5674, 5616, 5576, 5514, 5459, 5401, 5334, 5283, 5220, 5155, 5092, 5027, 4954, 4894, 4825, 4750, 4665, 4578, 4493, 4398, 4299, 4192, 4099, 4003, 3903, 3807, 3709, 3589, 3455, 3315, 3153, 2976, 2777, 2576, 2359, 2084, 1805, 1618, 1396, 1139, 836, 475], \"x\": [1.0, 2.0, 3.0, 4.0, 5.0, 6.0, 7.0, 8.0, 9.0, 10.0, 11.0, 12.0, 13.0, 14.0, 15.0, 16.0, 17.0, 18.0, 19.0, 20.0, 21.0, 22.0, 23.0, 24.0, 25.0, 26.0, 27.0, 28.0, 29.0, 30.0, 31.0, 32.0, 33.0, 34.0, 35.0, 36.0, 37.0, 38.0, 39.0, 40.0, 41.0, 42.0, 43.0, 44.0, 45.0, 46.0, 47.0, 48.0, 49.0, 50.0, 51.0, 52.0, 53.0, 54.0, 55.0, 56.0, 57.0, 58.0, 59.0, 60.0, 61.0, 62.0, 63.0, 64.0, 65.0, 66.0, 67.0, 68.0, 69.0, 70.0, 71.0, 72.0, 73.0, 74.0, 75.0, 76.0, 77.0, 78.0, 79.0, 80.0, 81.0, 82.0, 83.0, 84.0, 85.0, 86.0, 87.0, 88.0, 89.0, 90.0, 91.0, 92.0, 93.0, 94.0, 95.0, 96.0, 97.0, 98.0, 99.0, 100.0]}, \"id\": \"2b735041-e246-4808-8a73-36e2df0190be\"}, \"type\": \"ColumnDataSource\", \"id\": \"2b735041-e246-4808-8a73-36e2df0190be\"}, {\"attributes\": {\"line_color\": {\"value\": \"#00ff00\"}, \"line_alpha\": {\"value\": 1.0}, \"tags\": [], \"doc\": null, \"y\": {\"field\": \"y\"}, \"x\": {\"field\": \"x\"}, \"id\": \"fd56b18b-7624-41da-8125-650815367230\"}, \"type\": \"Line\", \"id\": \"fd56b18b-7624-41da-8125-650815367230\"}, {\"attributes\": {\"tags\": [], \"doc\": null, \"renderers\": [], \"callback\": null, \"names\": [], \"id\": \"16e7ce0a-dd00-4d68-bc65-2b542934bce8\"}, \"type\": \"DataRange1d\", \"id\": \"16e7ce0a-dd00-4d68-bc65-2b542934bce8\"}];\n",
       "        Bokeh.load_models(all_models);\n",
       "        var plots = [{'modeltype': 'Plot', 'elementid': 'dc7e1f2b-d73b-4cf0-b157-9b575dbe2ab1', 'modelid': 'a77cc570-afd6-4c62-8f2d-0c5164c58fc8'}];\n",
       "        for (idx in plots) {\n",
       "        \tvar plot = plots[idx];\n",
       "        \tvar model = Bokeh.Collections(plot.modeltype).get(plot.modelid);\n",
       "        \tBokeh.logger.info('Realizing plot:')\n",
       "        \tBokeh.logger.info(' - modeltype: ' + plot.modeltype);\n",
       "        \tBokeh.logger.info(' - modelid: ' + plot.modelid);\n",
       "        \tBokeh.logger.info(' - elementid: ' + plot.elementid);\n",
       "        \tvar view = new model.default_view({\n",
       "        \t\tmodel: model,\n",
       "        \t\tel: '#' + plot.elementid\n",
       "        \t});\n",
       "        \tBokeh.index[plot.modelid] = view;\n",
       "        }\n",
       "    });\n",
       "    </script>\n",
       "<div class=\"plotdiv\" id=\"dc7e1f2b-d73b-4cf0-b157-9b575dbe2ab1\"></div>\n",
       "\n"
      ]
     },
     "metadata": {},
     "output_type": "display_data"
    }
   ],
   "source": [
    "p1 = figure(\n",
    "  title='User engagement among users who earned certificate',\n",
    "  y_axis_label='number of users',\n",
    "  x_axis_label='completed at least x% of material',\n",
    "  plot_width=800,\n",
    "  plot_height=400,\n",
    ")\n",
    "p1.line(\n",
    "  [100.0*float(i+1)/112 for i in range(112)], # x coordinates\n",
    "  [at_least_n_views[i+1] for i in range(112)], # y coordinates\n",
    "  color='#ff0000',\n",
    "  legend='began watching lecture',\n",
    ")\n",
    "p1.line(\n",
    "  [100.0*float(i+1)/112 for i in range(112)], # x coordinates\n",
    "  [at_least_n_lectures_finished[i+1] for i in range(112)], # y coordinates\n",
    "  color='#00ff00',\n",
    "  legend='finished watching lecture',  \n",
    ")\n",
    "p1.line(\n",
    "  [100.0*float(i+1)/100 for i in range(100)], # x coordinates\n",
    "  [at_least_n_invideo_quizzes[i+1] for i in range(100)], # y coordinates\n",
    "  color='#0000ff',\n",
    "  legend='submitted in-video quiz',\n",
    ")\n",
    "#p1.line(\n",
    "#  [100.0*float(1+i)/113 for i in range(113)], # x coordinates\n",
    "#  [at_least_n_downloads[i+1] for i in range(113)], # y coordinates\n",
    "#  color='#115555',\n",
    "#  legend='downloaded lecture'\n",
    "#)\n",
    "p1.line(\n",
    "  [100.0*float(1+i)/100 for i in range(100)], # x coordinates\n",
    "  [at_least_n_grade[i+1] for i in range(100)], # y coordinates\n",
    "  color='#000000',\n",
    "  legend='grade (from assignments and exams)'\n",
    ")\n",
    "#p1.line(\n",
    "#  [100.0*float(1+i)/18 for i in range(18)], # x coordinates\n",
    "#  [at_least_n_review_quizzes[i+1] for i in range(18)], # y coordinates\n",
    "#  color='#ffff00',\n",
    "#)\n",
    "\n",
    "p1.legend.orientation = \"bottom_left\"\n",
    "\n",
    "'''\n",
    "p1.legend.legend_spacing = 0\n",
    "p1.legend.legend_padding = 1\n",
    "#p1.legend.label_height = 3\n",
    "p1.legend.label_text_font_size = '9pt'\n",
    "#p1.legend.label_text_font = 'times'\n",
    "p1.legend.border_line_width = 0\n",
    "#p1.legend.glyph_height = 10\n",
    "p1.legend.border_line_alpha = 0\n",
    "'''\n",
    "\n",
    "show(p1)"
   ]
  },
  {
   "cell_type": "code",
   "execution_count": 344,
   "metadata": {
    "collapsed": false
   },
   "outputs": [
    {
     "data": {
      "text/html": [
       "<script type=\"text/javascript\">\n",
       "        Bokeh.$(function() {\n",
       "        var all_models = [{\"attributes\": {\"column_names\": [\"y\", \"x\"], \"tags\": [], \"doc\": null, \"selected\": {\"2d\": {\"indices\": []}, \"1d\": {\"indices\": []}, \"0d\": {\"indices\": [], \"flag\": false}}, \"callback\": null, \"data\": {\"y\": [8349, 8349, 8349, 8349, 8349, 8349, 8349, 8349, 8349, 8349, 8349, 8349, 8349, 8349, 8349, 8349, 8349, 8349, 8349, 8349, 8349, 8349, 8349, 8349, 8349, 8349, 8349, 8349, 8349, 8349, 8349, 8349, 8349, 8349, 8349, 8349, 8349, 8349, 8349, 8349, 8349, 8349, 8349, 8349, 8349, 8349, 8349, 8349, 8349, 8349, 8349, 8349, 8349, 8349, 8349, 8349, 8349, 8349, 8349, 8349, 8349, 8349, 8349, 8349, 8349, 8349, 8349, 8349, 8349, 8349, 8349, 8349, 8349, 8349, 8349, 8349, 8349, 8349, 8349, 8349, 8327, 8273, 8210, 8145, 7979, 7847, 7741, 7641, 7550, 7449, 7326, 7200, 7052, 6900, 6757, 6600, 6382, 6154, 5877, 5544], \"x\": [1.0, 2.0, 3.0, 4.0, 5.0, 6.0, 7.0, 8.0, 9.0, 10.0, 11.0, 12.0, 13.0, 14.0, 15.0, 16.0, 17.0, 18.0, 19.0, 20.0, 21.0, 22.0, 23.0, 24.0, 25.0, 26.0, 27.0, 28.0, 29.0, 30.0, 31.0, 32.0, 33.0, 34.0, 35.0, 36.0, 37.0, 38.0, 39.0, 40.0, 41.0, 42.0, 43.0, 44.0, 45.0, 46.0, 47.0, 48.0, 49.0, 50.0, 51.0, 52.0, 53.0, 54.0, 55.0, 56.0, 57.0, 58.0, 59.0, 60.0, 61.0, 62.0, 63.0, 64.0, 65.0, 66.0, 67.0, 68.0, 69.0, 70.0, 71.0, 72.0, 73.0, 74.0, 75.0, 76.0, 77.0, 78.0, 79.0, 80.0, 81.0, 82.0, 83.0, 84.0, 85.0, 86.0, 87.0, 88.0, 89.0, 90.0, 91.0, 92.0, 93.0, 94.0, 95.0, 96.0, 97.0, 98.0, 99.0, 100.0]}, \"id\": \"0e3c8dfe-4e82-4657-a117-82606fd6350d\"}, \"type\": \"ColumnDataSource\", \"id\": \"0e3c8dfe-4e82-4657-a117-82606fd6350d\"}, {\"attributes\": {\"line_color\": {\"value\": \"#115555\"}, \"line_alpha\": {\"value\": 1.0}, \"tags\": [], \"doc\": null, \"y\": {\"field\": \"y\"}, \"x\": {\"field\": \"x\"}, \"id\": \"59ce72b6-b926-4482-b01e-843eaf4a1770\"}, \"type\": \"Line\", \"id\": \"59ce72b6-b926-4482-b01e-843eaf4a1770\"}, {\"attributes\": {\"line_color\": {\"value\": \"#1f77b4\"}, \"line_alpha\": {\"value\": 0.1}, \"tags\": [], \"doc\": null, \"y\": {\"field\": \"y\"}, \"x\": {\"field\": \"x\"}, \"id\": \"f9e48073-6039-4408-911d-aa9215bf7b84\"}, \"type\": \"Line\", \"id\": \"f9e48073-6039-4408-911d-aa9215bf7b84\"}, {\"attributes\": {\"tags\": [], \"doc\": null, \"renderers\": [], \"callback\": null, \"names\": [], \"id\": \"aa493670-d8ae-4fd8-9b5d-79c2dfa38e15\"}, \"type\": \"DataRange1d\", \"id\": \"aa493670-d8ae-4fd8-9b5d-79c2dfa38e15\"}, {\"attributes\": {\"nonselection_glyph\": {\"type\": \"Line\", \"id\": \"f9e48073-6039-4408-911d-aa9215bf7b84\"}, \"data_source\": {\"type\": \"ColumnDataSource\", \"id\": \"6cdfff72-198a-4106-8660-c4083a96b136\"}, \"tags\": [], \"doc\": null, \"selection_glyph\": null, \"id\": \"ebe68a56-e076-468f-b451-7a093a198d04\", \"glyph\": {\"type\": \"Line\", \"id\": \"59ce72b6-b926-4482-b01e-843eaf4a1770\"}}, \"type\": \"GlyphRenderer\", \"id\": \"ebe68a56-e076-468f-b451-7a093a198d04\"}, {\"attributes\": {\"plot\": {\"subtype\": \"Figure\", \"type\": \"Plot\", \"id\": \"22cc6d62-818b-4f12-9179-352292cbbc2f\"}, \"tags\": [], \"doc\": null, \"dimension\": 1, \"ticker\": {\"type\": \"BasicTicker\", \"id\": \"75d8f379-ab91-463b-9087-830c317e7596\"}, \"id\": \"52f8d0a7-b5cd-4e11-a5f6-f4d67b7369f2\"}, \"type\": \"Grid\", \"id\": \"52f8d0a7-b5cd-4e11-a5f6-f4d67b7369f2\"}, {\"attributes\": {\"line_color\": {\"value\": \"#000000\"}, \"line_alpha\": {\"value\": 1.0}, \"tags\": [], \"doc\": null, \"y\": {\"field\": \"y\"}, \"x\": {\"field\": \"x\"}, \"id\": \"04c2484c-3d4d-486e-81eb-bcab1fdf2a8c\"}, \"type\": \"Line\", \"id\": \"04c2484c-3d4d-486e-81eb-bcab1fdf2a8c\"}, {\"attributes\": {\"line_color\": {\"value\": \"#1f77b4\"}, \"line_alpha\": {\"value\": 0.1}, \"tags\": [], \"doc\": null, \"y\": {\"field\": \"y\"}, \"x\": {\"field\": \"x\"}, \"id\": \"bef22538-c7e7-4096-a507-959a1b8b8242\"}, \"type\": \"Line\", \"id\": \"bef22538-c7e7-4096-a507-959a1b8b8242\"}, {\"attributes\": {\"column_names\": [\"y\", \"x\"], \"tags\": [], \"doc\": null, \"selected\": {\"2d\": {\"indices\": []}, \"1d\": {\"indices\": []}, \"0d\": {\"indices\": [], \"flag\": false}}, \"callback\": null, \"data\": {\"y\": [8349, 8349, 8245, 8150, 8086, 8028, 7973, 7934, 7892, 7857, 7833, 7798, 7767, 7728, 7704, 7683, 7657, 7634, 7608, 7589, 7566, 7532, 7513, 7498, 7489, 7469, 7444, 7422, 7405, 7391, 7369, 7341, 7314, 7287, 7260, 7240, 7218, 7184, 7154, 7134, 7117, 7103, 7087, 7055, 7027, 7009, 6983, 6964, 6940, 6919, 6888, 6860, 6831, 6805, 6775, 6753, 6731, 6713, 6680, 6646, 6614, 6589, 6566, 6525, 6500, 6469, 6448, 6423, 6386, 6359, 6315, 6278, 6241, 6215, 6180, 6148, 6104, 6065, 6020, 5978, 5940, 5893, 5846, 5785, 5740, 5685, 5636, 5589, 5488, 5430, 5354, 5287, 5229, 5167, 5092, 5020, 4949, 4878, 4797, 4702, 4588, 4473, 4303, 4191, 4078, 3937, 3772, 3484, 3292, 3138, 2980, 2768], \"x\": [0.8928571428571429, 1.7857142857142858, 2.6785714285714284, 3.5714285714285716, 4.464285714285714, 5.357142857142857, 6.25, 7.142857142857143, 8.035714285714286, 8.928571428571429, 9.821428571428571, 10.714285714285714, 11.607142857142858, 12.5, 13.392857142857142, 14.285714285714286, 15.178571428571429, 16.071428571428573, 16.964285714285715, 17.857142857142858, 18.75, 19.642857142857142, 20.535714285714285, 21.428571428571427, 22.321428571428573, 23.214285714285715, 24.107142857142858, 25.0, 25.892857142857142, 26.785714285714285, 27.678571428571427, 28.571428571428573, 29.464285714285715, 30.357142857142858, 31.25, 32.142857142857146, 33.035714285714285, 33.92857142857143, 34.82142857142857, 35.714285714285715, 36.607142857142854, 37.5, 38.392857142857146, 39.285714285714285, 40.17857142857143, 41.07142857142857, 41.964285714285715, 42.857142857142854, 43.75, 44.642857142857146, 45.535714285714285, 46.42857142857143, 47.32142857142857, 48.214285714285715, 49.107142857142854, 50.0, 50.892857142857146, 51.785714285714285, 52.67857142857143, 53.57142857142857, 54.464285714285715, 55.357142857142854, 56.25, 57.142857142857146, 58.035714285714285, 58.92857142857143, 59.82142857142857, 60.714285714285715, 61.607142857142854, 62.5, 63.392857142857146, 64.28571428571429, 65.17857142857143, 66.07142857142857, 66.96428571428571, 67.85714285714286, 68.75, 69.64285714285714, 70.53571428571429, 71.42857142857143, 72.32142857142857, 73.21428571428571, 74.10714285714286, 75.0, 75.89285714285714, 76.78571428571429, 77.67857142857143, 78.57142857142857, 79.46428571428571, 80.35714285714286, 81.25, 82.14285714285714, 83.03571428571429, 83.92857142857143, 84.82142857142857, 85.71428571428571, 86.60714285714286, 87.5, 88.39285714285714, 89.28571428571429, 90.17857142857143, 91.07142857142857, 91.96428571428571, 92.85714285714286, 93.75, 94.64285714285714, 95.53571428571429, 96.42857142857143, 97.32142857142857, 98.21428571428571, 99.10714285714286, 100.0]}, \"id\": \"929e4319-e7f0-497b-aba1-35bf7310d091\"}, \"type\": \"ColumnDataSource\", \"id\": \"929e4319-e7f0-497b-aba1-35bf7310d091\"}, {\"attributes\": {\"tags\": [], \"doc\": null, \"renderers\": [], \"callback\": null, \"names\": [], \"id\": \"b9636aa3-c900-4d2c-974d-853cbd4a7805\"}, \"type\": \"DataRange1d\", \"id\": \"b9636aa3-c900-4d2c-974d-853cbd4a7805\"}, {\"attributes\": {\"plot\": {\"subtype\": \"Figure\", \"type\": \"Plot\", \"id\": \"22cc6d62-818b-4f12-9179-352292cbbc2f\"}, \"tags\": [], \"doc\": null, \"id\": \"59909246-8920-4e87-b029-0972303ea9ba\"}, \"type\": \"ResizeTool\", \"id\": \"59909246-8920-4e87-b029-0972303ea9ba\"}, {\"attributes\": {\"geometries\": [], \"tags\": [], \"doc\": null, \"id\": \"cf8fc838-7ce3-4b29-b488-0a0d1619ea88\"}, \"type\": \"ToolEvents\", \"id\": \"cf8fc838-7ce3-4b29-b488-0a0d1619ea88\"}, {\"attributes\": {\"doc\": null, \"id\": \"6d0f37bc-0258-4e68-a3a4-b6871a7ab301\", \"tags\": []}, \"type\": \"BasicTickFormatter\", \"id\": \"6d0f37bc-0258-4e68-a3a4-b6871a7ab301\"}, {\"attributes\": {\"tags\": [], \"doc\": null, \"mantissas\": [2, 5, 10], \"id\": \"4555056d-6115-4889-8b9a-d56572e51098\", \"num_minor_ticks\": 5}, \"type\": \"BasicTicker\", \"id\": \"4555056d-6115-4889-8b9a-d56572e51098\"}, {\"attributes\": {\"plot\": {\"subtype\": \"Figure\", \"type\": \"Plot\", \"id\": \"22cc6d62-818b-4f12-9179-352292cbbc2f\"}, \"tags\": [], \"doc\": null, \"dimension\": 0, \"ticker\": {\"type\": \"BasicTicker\", \"id\": \"4555056d-6115-4889-8b9a-d56572e51098\"}, \"id\": \"71cc527e-73d0-47d7-bf7d-3b8275c7769f\"}, \"type\": \"Grid\", \"id\": \"71cc527e-73d0-47d7-bf7d-3b8275c7769f\"}, {\"attributes\": {\"doc\": null, \"id\": \"3fab03dd-07a0-403a-8b00-436febe8db80\", \"tags\": []}, \"type\": \"BasicTickFormatter\", \"id\": \"3fab03dd-07a0-403a-8b00-436febe8db80\"}, {\"attributes\": {\"nonselection_glyph\": {\"type\": \"Line\", \"id\": \"bef22538-c7e7-4096-a507-959a1b8b8242\"}, \"data_source\": {\"type\": \"ColumnDataSource\", \"id\": \"0e3c8dfe-4e82-4657-a117-82606fd6350d\"}, \"tags\": [], \"doc\": null, \"selection_glyph\": null, \"id\": \"9c08d986-9d48-4ad8-9c38-785e1578e611\", \"glyph\": {\"type\": \"Line\", \"id\": \"04c2484c-3d4d-486e-81eb-bcab1fdf2a8c\"}}, \"type\": \"GlyphRenderer\", \"id\": \"9c08d986-9d48-4ad8-9c38-785e1578e611\"}, {\"attributes\": {\"line_color\": {\"value\": \"#ff0000\"}, \"line_alpha\": {\"value\": 1.0}, \"tags\": [], \"doc\": null, \"y\": {\"field\": \"y\"}, \"x\": {\"field\": \"x\"}, \"id\": \"240716c6-1e94-444d-9acc-c7bfaff91f9e\"}, \"type\": \"Line\", \"id\": \"240716c6-1e94-444d-9acc-c7bfaff91f9e\"}, {\"attributes\": {\"plot\": {\"subtype\": \"Figure\", \"type\": \"Plot\", \"id\": \"22cc6d62-818b-4f12-9179-352292cbbc2f\"}, \"dimensions\": [\"width\", \"height\"], \"tags\": [], \"doc\": null, \"id\": \"b87af22b-78ac-4198-a8c7-be557b0c3702\"}, \"type\": \"PanTool\", \"id\": \"b87af22b-78ac-4198-a8c7-be557b0c3702\"}, {\"attributes\": {\"plot\": {\"subtype\": \"Figure\", \"type\": \"Plot\", \"id\": \"22cc6d62-818b-4f12-9179-352292cbbc2f\"}, \"tags\": [], \"doc\": null, \"axis_label\": \"completed at least x% of material\", \"formatter\": {\"type\": \"BasicTickFormatter\", \"id\": \"6d0f37bc-0258-4e68-a3a4-b6871a7ab301\"}, \"ticker\": {\"type\": \"BasicTicker\", \"id\": \"4555056d-6115-4889-8b9a-d56572e51098\"}, \"id\": \"76ed0576-f16c-40fc-a6a5-906675737c59\"}, \"type\": \"LinearAxis\", \"id\": \"76ed0576-f16c-40fc-a6a5-906675737c59\"}, {\"attributes\": {\"plot\": {\"subtype\": \"Figure\", \"type\": \"Plot\", \"id\": \"22cc6d62-818b-4f12-9179-352292cbbc2f\"}, \"dimensions\": [\"width\", \"height\"], \"tags\": [], \"doc\": null, \"id\": \"ac586c22-161e-47a9-bb03-314ef99a923a\"}, \"type\": \"WheelZoomTool\", \"id\": \"ac586c22-161e-47a9-bb03-314ef99a923a\"}, {\"attributes\": {\"plot\": {\"subtype\": \"Figure\", \"type\": \"Plot\", \"id\": \"22cc6d62-818b-4f12-9179-352292cbbc2f\"}, \"dimensions\": [\"width\", \"height\"], \"tags\": [], \"doc\": null, \"id\": \"a0b06417-2210-4c6e-8221-0b995c5b2f1f\"}, \"type\": \"BoxZoomTool\", \"id\": \"a0b06417-2210-4c6e-8221-0b995c5b2f1f\"}, {\"attributes\": {\"plot\": {\"subtype\": \"Figure\", \"type\": \"Plot\", \"id\": \"22cc6d62-818b-4f12-9179-352292cbbc2f\"}, \"tags\": [], \"doc\": null, \"id\": \"23057666-c108-4ea4-a1e6-50e7348d47df\"}, \"type\": \"PreviewSaveTool\", \"id\": \"23057666-c108-4ea4-a1e6-50e7348d47df\"}, {\"attributes\": {\"plot\": {\"subtype\": \"Figure\", \"type\": \"Plot\", \"id\": \"22cc6d62-818b-4f12-9179-352292cbbc2f\"}, \"tags\": [], \"doc\": null, \"axis_label\": \"number of users\", \"formatter\": {\"type\": \"BasicTickFormatter\", \"id\": \"3fab03dd-07a0-403a-8b00-436febe8db80\"}, \"ticker\": {\"type\": \"BasicTicker\", \"id\": \"75d8f379-ab91-463b-9087-830c317e7596\"}, \"id\": \"4c172b5d-7603-40e3-89d8-f494a80682ad\"}, \"type\": \"LinearAxis\", \"id\": \"4c172b5d-7603-40e3-89d8-f494a80682ad\"}, {\"attributes\": {\"plot\": {\"subtype\": \"Figure\", \"type\": \"Plot\", \"id\": \"22cc6d62-818b-4f12-9179-352292cbbc2f\"}, \"tags\": [], \"doc\": null, \"id\": \"df3183f2-fa06-4716-8bee-3274b1b555bd\"}, \"type\": \"ResetTool\", \"id\": \"df3183f2-fa06-4716-8bee-3274b1b555bd\"}, {\"attributes\": {\"plot\": {\"subtype\": \"Figure\", \"type\": \"Plot\", \"id\": \"22cc6d62-818b-4f12-9179-352292cbbc2f\"}, \"tags\": [], \"doc\": null, \"id\": \"136f109f-70c8-4284-80bc-69f3ca99047b\"}, \"type\": \"HelpTool\", \"id\": \"136f109f-70c8-4284-80bc-69f3ca99047b\"}, {\"attributes\": {\"column_names\": [\"y\", \"x\"], \"tags\": [], \"doc\": null, \"selected\": {\"2d\": {\"indices\": []}, \"1d\": {\"indices\": []}, \"0d\": {\"indices\": [], \"flag\": false}}, \"callback\": null, \"data\": {\"y\": [7953, 7796, 7691, 7617, 7554, 7506, 7441, 7373, 7320, 7269, 7226, 7181, 7133, 7100, 7050, 7007, 6964, 6913, 6876, 6832, 6797, 6744, 6704, 6657, 6609, 6559, 6519, 6481, 6417, 6355, 6308, 6263, 6211, 6158, 6115, 6065, 6020, 5975, 5927, 5879, 5822, 5763, 5711, 5660, 5611, 5553, 5503, 5446, 5399, 5359, 5303, 5261, 5199, 5145, 5092, 5030, 4970, 4914, 4857, 4786, 4731, 4663, 4598, 4536, 4467, 4405, 4349, 4293, 4225, 4154, 4093, 4031, 3961, 3884, 3802, 3731, 3658, 3586, 3519, 3433, 3336, 3247, 3172, 3091, 3007, 2918, 2834, 2744, 2647, 2569, 2484, 2363, 2267, 2163, 2056, 1954, 1863, 1741, 1629, 1494, 1366, 1236, 1085, 963, 844, 712, 579, 470, 371, 254, 154, 71], \"x\": [0.8928571428571429, 1.7857142857142858, 2.6785714285714284, 3.5714285714285716, 4.464285714285714, 5.357142857142857, 6.25, 7.142857142857143, 8.035714285714286, 8.928571428571429, 9.821428571428571, 10.714285714285714, 11.607142857142858, 12.5, 13.392857142857142, 14.285714285714286, 15.178571428571429, 16.071428571428573, 16.964285714285715, 17.857142857142858, 18.75, 19.642857142857142, 20.535714285714285, 21.428571428571427, 22.321428571428573, 23.214285714285715, 24.107142857142858, 25.0, 25.892857142857142, 26.785714285714285, 27.678571428571427, 28.571428571428573, 29.464285714285715, 30.357142857142858, 31.25, 32.142857142857146, 33.035714285714285, 33.92857142857143, 34.82142857142857, 35.714285714285715, 36.607142857142854, 37.5, 38.392857142857146, 39.285714285714285, 40.17857142857143, 41.07142857142857, 41.964285714285715, 42.857142857142854, 43.75, 44.642857142857146, 45.535714285714285, 46.42857142857143, 47.32142857142857, 48.214285714285715, 49.107142857142854, 50.0, 50.892857142857146, 51.785714285714285, 52.67857142857143, 53.57142857142857, 54.464285714285715, 55.357142857142854, 56.25, 57.142857142857146, 58.035714285714285, 58.92857142857143, 59.82142857142857, 60.714285714285715, 61.607142857142854, 62.5, 63.392857142857146, 64.28571428571429, 65.17857142857143, 66.07142857142857, 66.96428571428571, 67.85714285714286, 68.75, 69.64285714285714, 70.53571428571429, 71.42857142857143, 72.32142857142857, 73.21428571428571, 74.10714285714286, 75.0, 75.89285714285714, 76.78571428571429, 77.67857142857143, 78.57142857142857, 79.46428571428571, 80.35714285714286, 81.25, 82.14285714285714, 83.03571428571429, 83.92857142857143, 84.82142857142857, 85.71428571428571, 86.60714285714286, 87.5, 88.39285714285714, 89.28571428571429, 90.17857142857143, 91.07142857142857, 91.96428571428571, 92.85714285714286, 93.75, 94.64285714285714, 95.53571428571429, 96.42857142857143, 97.32142857142857, 98.21428571428571, 99.10714285714286, 100.0]}, \"id\": \"bd41a043-0367-4f60-bcd4-366a370f95df\"}, \"type\": \"ColumnDataSource\", \"id\": \"bd41a043-0367-4f60-bcd4-366a370f95df\"}, {\"subtype\": \"Figure\", \"type\": \"Plot\", \"id\": \"22cc6d62-818b-4f12-9179-352292cbbc2f\", \"attributes\": {\"x_range\": {\"type\": \"DataRange1d\", \"id\": \"b9636aa3-c900-4d2c-974d-853cbd4a7805\"}, \"right\": [], \"tags\": [], \"tools\": [{\"type\": \"PanTool\", \"id\": \"b87af22b-78ac-4198-a8c7-be557b0c3702\"}, {\"type\": \"WheelZoomTool\", \"id\": \"ac586c22-161e-47a9-bb03-314ef99a923a\"}, {\"type\": \"BoxZoomTool\", \"id\": \"a0b06417-2210-4c6e-8221-0b995c5b2f1f\"}, {\"type\": \"PreviewSaveTool\", \"id\": \"23057666-c108-4ea4-a1e6-50e7348d47df\"}, {\"type\": \"ResizeTool\", \"id\": \"59909246-8920-4e87-b029-0972303ea9ba\"}, {\"type\": \"ResetTool\", \"id\": \"df3183f2-fa06-4716-8bee-3274b1b555bd\"}, {\"type\": \"HelpTool\", \"id\": \"136f109f-70c8-4284-80bc-69f3ca99047b\"}], \"title\": \"User engagement among users who earned certificate\", \"extra_y_ranges\": {}, \"plot_width\": 800, \"renderers\": [{\"type\": \"LinearAxis\", \"id\": \"76ed0576-f16c-40fc-a6a5-906675737c59\"}, {\"type\": \"Grid\", \"id\": \"71cc527e-73d0-47d7-bf7d-3b8275c7769f\"}, {\"type\": \"LinearAxis\", \"id\": \"4c172b5d-7603-40e3-89d8-f494a80682ad\"}, {\"type\": \"Grid\", \"id\": \"52f8d0a7-b5cd-4e11-a5f6-f4d67b7369f2\"}, {\"type\": \"Legend\", \"id\": \"106fbe1b-67fc-48dc-9fa6-616446aaf0e4\"}, {\"type\": \"GlyphRenderer\", \"id\": \"faefd90d-727a-431a-9e90-5cdee2ac07c8\"}, {\"type\": \"GlyphRenderer\", \"id\": \"4a4f24c4-6993-4a46-9c7c-f220952b7b38\"}, {\"type\": \"GlyphRenderer\", \"id\": \"bad0989e-5b8e-4693-b412-df50bb1d3cc5\"}, {\"type\": \"GlyphRenderer\", \"id\": \"ebe68a56-e076-468f-b451-7a093a198d04\"}, {\"type\": \"GlyphRenderer\", \"id\": \"9c08d986-9d48-4ad8-9c38-785e1578e611\"}], \"extra_x_ranges\": {}, \"plot_height\": 400, \"tool_events\": {\"type\": \"ToolEvents\", \"id\": \"cf8fc838-7ce3-4b29-b488-0a0d1619ea88\"}, \"above\": [], \"doc\": null, \"id\": \"22cc6d62-818b-4f12-9179-352292cbbc2f\", \"y_range\": {\"type\": \"DataRange1d\", \"id\": \"aa493670-d8ae-4fd8-9b5d-79c2dfa38e15\"}, \"below\": [{\"type\": \"LinearAxis\", \"id\": \"76ed0576-f16c-40fc-a6a5-906675737c59\"}], \"left\": [{\"type\": \"LinearAxis\", \"id\": \"4c172b5d-7603-40e3-89d8-f494a80682ad\"}]}}, {\"attributes\": {\"line_color\": {\"value\": \"#1f77b4\"}, \"line_alpha\": {\"value\": 0.1}, \"tags\": [], \"doc\": null, \"y\": {\"field\": \"y\"}, \"x\": {\"field\": \"x\"}, \"id\": \"3d710813-cf33-4ef9-91e3-52c3d4009c44\"}, \"type\": \"Line\", \"id\": \"3d710813-cf33-4ef9-91e3-52c3d4009c44\"}, {\"attributes\": {\"nonselection_glyph\": {\"type\": \"Line\", \"id\": \"3d710813-cf33-4ef9-91e3-52c3d4009c44\"}, \"data_source\": {\"type\": \"ColumnDataSource\", \"id\": \"929e4319-e7f0-497b-aba1-35bf7310d091\"}, \"tags\": [], \"doc\": null, \"selection_glyph\": null, \"id\": \"faefd90d-727a-431a-9e90-5cdee2ac07c8\", \"glyph\": {\"type\": \"Line\", \"id\": \"240716c6-1e94-444d-9acc-c7bfaff91f9e\"}}, \"type\": \"GlyphRenderer\", \"id\": \"faefd90d-727a-431a-9e90-5cdee2ac07c8\"}, {\"attributes\": {\"plot\": {\"subtype\": \"Figure\", \"type\": \"Plot\", \"id\": \"22cc6d62-818b-4f12-9179-352292cbbc2f\"}, \"legends\": [[\"began watching lecture\", [{\"type\": \"GlyphRenderer\", \"id\": \"faefd90d-727a-431a-9e90-5cdee2ac07c8\"}]], [\"finished watching lecture\", [{\"type\": \"GlyphRenderer\", \"id\": \"4a4f24c4-6993-4a46-9c7c-f220952b7b38\"}]], [\"submitted in-video quiz\", [{\"type\": \"GlyphRenderer\", \"id\": \"bad0989e-5b8e-4693-b412-df50bb1d3cc5\"}]], [\"downloaded lecture\", [{\"type\": \"GlyphRenderer\", \"id\": \"ebe68a56-e076-468f-b451-7a093a198d04\"}]], [\"grade (from assignments and exams)\", [{\"type\": \"GlyphRenderer\", \"id\": \"9c08d986-9d48-4ad8-9c38-785e1578e611\"}]]], \"tags\": [], \"orientation\": \"bottom_left\", \"legend_spacing\": 0, \"border_line_alpha\": {\"value\": 0}, \"doc\": null, \"border_line_width\": {\"value\": 0}, \"label_text_font_size\": {\"value\": \"9pt\"}, \"id\": \"106fbe1b-67fc-48dc-9fa6-616446aaf0e4\", \"legend_padding\": 1}, \"type\": \"Legend\", \"id\": \"106fbe1b-67fc-48dc-9fa6-616446aaf0e4\"}, {\"attributes\": {\"column_names\": [\"y\", \"x\"], \"tags\": [], \"doc\": null, \"selected\": {\"2d\": {\"indices\": []}, \"1d\": {\"indices\": []}, \"0d\": {\"indices\": [], \"flag\": false}}, \"callback\": null, \"data\": {\"y\": [7965, 7856, 7785, 7718, 7672, 7609, 7558, 7502, 7467, 7427, 7393, 7364, 7323, 7296, 7260, 7222, 7194, 7162, 7127, 7104, 7078, 7044, 7010, 6973, 6945, 6910, 6887, 6848, 6810, 6776, 6747, 6702, 6666, 6624, 6588, 6558, 6530, 6496, 6456, 6418, 6391, 6356, 6317, 6290, 6263, 6221, 6189, 6155, 6113, 6078, 6034, 6004, 5955, 5904, 5868, 5829, 5778, 5732, 5674, 5616, 5576, 5514, 5459, 5401, 5334, 5283, 5220, 5155, 5092, 5027, 4954, 4894, 4825, 4750, 4665, 4578, 4493, 4398, 4299, 4192, 4099, 4003, 3903, 3807, 3709, 3589, 3455, 3315, 3153, 2976, 2777, 2576, 2359, 2084, 1805, 1618, 1396, 1139, 836, 475], \"x\": [1.0, 2.0, 3.0, 4.0, 5.0, 6.0, 7.0, 8.0, 9.0, 10.0, 11.0, 12.0, 13.0, 14.0, 15.0, 16.0, 17.0, 18.0, 19.0, 20.0, 21.0, 22.0, 23.0, 24.0, 25.0, 26.0, 27.0, 28.0, 29.0, 30.0, 31.0, 32.0, 33.0, 34.0, 35.0, 36.0, 37.0, 38.0, 39.0, 40.0, 41.0, 42.0, 43.0, 44.0, 45.0, 46.0, 47.0, 48.0, 49.0, 50.0, 51.0, 52.0, 53.0, 54.0, 55.0, 56.0, 57.0, 58.0, 59.0, 60.0, 61.0, 62.0, 63.0, 64.0, 65.0, 66.0, 67.0, 68.0, 69.0, 70.0, 71.0, 72.0, 73.0, 74.0, 75.0, 76.0, 77.0, 78.0, 79.0, 80.0, 81.0, 82.0, 83.0, 84.0, 85.0, 86.0, 87.0, 88.0, 89.0, 90.0, 91.0, 92.0, 93.0, 94.0, 95.0, 96.0, 97.0, 98.0, 99.0, 100.0]}, \"id\": \"dad5bb7b-1567-45bf-9691-0ff20e178f69\"}, \"type\": \"ColumnDataSource\", \"id\": \"dad5bb7b-1567-45bf-9691-0ff20e178f69\"}, {\"attributes\": {\"line_color\": {\"value\": \"#00ff00\"}, \"line_alpha\": {\"value\": 1.0}, \"tags\": [], \"doc\": null, \"y\": {\"field\": \"y\"}, \"x\": {\"field\": \"x\"}, \"id\": \"8115c887-b6db-449e-b9b3-a5beb8939cc5\"}, \"type\": \"Line\", \"id\": \"8115c887-b6db-449e-b9b3-a5beb8939cc5\"}, {\"attributes\": {\"line_color\": {\"value\": \"#1f77b4\"}, \"line_alpha\": {\"value\": 0.1}, \"tags\": [], \"doc\": null, \"y\": {\"field\": \"y\"}, \"x\": {\"field\": \"x\"}, \"id\": \"2f5484d9-e697-4d07-a69b-c757d1eef006\"}, \"type\": \"Line\", \"id\": \"2f5484d9-e697-4d07-a69b-c757d1eef006\"}, {\"attributes\": {\"nonselection_glyph\": {\"type\": \"Line\", \"id\": \"2f5484d9-e697-4d07-a69b-c757d1eef006\"}, \"data_source\": {\"type\": \"ColumnDataSource\", \"id\": \"bd41a043-0367-4f60-bcd4-366a370f95df\"}, \"tags\": [], \"doc\": null, \"selection_glyph\": null, \"id\": \"4a4f24c4-6993-4a46-9c7c-f220952b7b38\", \"glyph\": {\"type\": \"Line\", \"id\": \"8115c887-b6db-449e-b9b3-a5beb8939cc5\"}}, \"type\": \"GlyphRenderer\", \"id\": \"4a4f24c4-6993-4a46-9c7c-f220952b7b38\"}, {\"attributes\": {\"tags\": [], \"doc\": null, \"mantissas\": [2, 5, 10], \"id\": \"75d8f379-ab91-463b-9087-830c317e7596\", \"num_minor_ticks\": 5}, \"type\": \"BasicTicker\", \"id\": \"75d8f379-ab91-463b-9087-830c317e7596\"}, {\"attributes\": {\"column_names\": [\"y\", \"x\"], \"tags\": [], \"doc\": null, \"selected\": {\"2d\": {\"indices\": []}, \"1d\": {\"indices\": []}, \"0d\": {\"indices\": [], \"flag\": false}}, \"callback\": null, \"data\": {\"y\": [5101, 4569, 4413, 4288, 4177, 4095, 4006, 3899, 3814, 3760, 3718, 3648, 3561, 3511, 3447, 3397, 3356, 3323, 3260, 3219, 3172, 3131, 3110, 3084, 3058, 3017, 2975, 2945, 2914, 2889, 2863, 2835, 2783, 2745, 2724, 2702, 2675, 2647, 2633, 2608, 2586, 2568, 2547, 2505, 2481, 2456, 2440, 2419, 2395, 2377, 2358, 2348, 2339, 2333, 2321, 2299, 2292, 2274, 2251, 2238, 2226, 2215, 2201, 2182, 2168, 2154, 2141, 2130, 2125, 2117, 2090, 2067, 2050, 2036, 2022, 2007, 1983, 1971, 1962, 1951, 1943, 1914, 1896, 1888, 1874, 1861, 1853, 1832, 1783, 1764, 1752, 1732, 1722, 1708, 1692, 1670, 1644, 1631, 1620, 1603, 1573, 1553, 1496, 1482, 1466, 1436, 1394, 1336, 1305, 1260, 1240, 1206, 1068], \"x\": [0.8849557522123894, 1.7699115044247788, 2.6548672566371683, 3.5398230088495577, 4.424778761061947, 5.3097345132743365, 6.1946902654867255, 7.079646017699115, 7.964601769911504, 8.849557522123893, 9.734513274336283, 10.619469026548673, 11.504424778761061, 12.389380530973451, 13.274336283185841, 14.15929203539823, 15.044247787610619, 15.929203539823009, 16.8141592920354, 17.699115044247787, 18.58407079646018, 19.469026548672566, 20.353982300884955, 21.238938053097346, 22.123893805309734, 23.008849557522122, 23.893805309734514, 24.778761061946902, 25.663716814159294, 26.548672566371682, 27.43362831858407, 28.31858407079646, 29.20353982300885, 30.088495575221238, 30.97345132743363, 31.858407079646017, 32.743362831858406, 33.6283185840708, 34.51327433628319, 35.39823008849557, 36.283185840707965, 37.16814159292036, 38.05309734513274, 38.93805309734513, 39.823008849557525, 40.70796460176991, 41.5929203539823, 42.47787610619469, 43.36283185840708, 44.24778761061947, 45.13274336283186, 46.017699115044245, 46.902654867256636, 47.78761061946903, 48.67256637168141, 49.557522123893804, 50.442477876106196, 51.32743362831859, 52.21238938053097, 53.097345132743364, 53.982300884955755, 54.86725663716814, 55.75221238938053, 56.63716814159292, 57.52212389380531, 58.4070796460177, 59.29203539823009, 60.176991150442475, 61.06194690265487, 61.94690265486726, 62.83185840707964, 63.716814159292035, 64.60176991150442, 65.48672566371681, 66.3716814159292, 67.2566371681416, 68.14159292035399, 69.02654867256638, 69.91150442477876, 70.79646017699115, 71.68141592920354, 72.56637168141593, 73.45132743362832, 74.33628318584071, 75.22123893805309, 76.10619469026548, 76.99115044247787, 77.87610619469027, 78.76106194690266, 79.64601769911505, 80.53097345132744, 81.41592920353982, 82.30088495575221, 83.1858407079646, 84.070796460177, 84.95575221238938, 85.84070796460178, 86.72566371681415, 87.61061946902655, 88.49557522123894, 89.38053097345133, 90.26548672566372, 91.15044247787611, 92.03539823008849, 92.92035398230088, 93.80530973451327, 94.69026548672566, 95.57522123893806, 96.46017699115045, 97.34513274336283, 98.23008849557522, 99.11504424778761, 100.0]}, \"id\": \"6cdfff72-198a-4106-8660-c4083a96b136\"}, \"type\": \"ColumnDataSource\", \"id\": \"6cdfff72-198a-4106-8660-c4083a96b136\"}, {\"attributes\": {\"line_color\": {\"value\": \"#0000ff\"}, \"line_alpha\": {\"value\": 1.0}, \"tags\": [], \"doc\": null, \"y\": {\"field\": \"y\"}, \"x\": {\"field\": \"x\"}, \"id\": \"1c60747e-062c-4311-ad89-6777650e4e44\"}, \"type\": \"Line\", \"id\": \"1c60747e-062c-4311-ad89-6777650e4e44\"}, {\"attributes\": {\"line_color\": {\"value\": \"#1f77b4\"}, \"line_alpha\": {\"value\": 0.1}, \"tags\": [], \"doc\": null, \"y\": {\"field\": \"y\"}, \"x\": {\"field\": \"x\"}, \"id\": \"167349ae-4b4d-4334-81b2-dd9d042d0e37\"}, \"type\": \"Line\", \"id\": \"167349ae-4b4d-4334-81b2-dd9d042d0e37\"}, {\"attributes\": {\"nonselection_glyph\": {\"type\": \"Line\", \"id\": \"167349ae-4b4d-4334-81b2-dd9d042d0e37\"}, \"data_source\": {\"type\": \"ColumnDataSource\", \"id\": \"dad5bb7b-1567-45bf-9691-0ff20e178f69\"}, \"tags\": [], \"doc\": null, \"selection_glyph\": null, \"id\": \"bad0989e-5b8e-4693-b412-df50bb1d3cc5\", \"glyph\": {\"type\": \"Line\", \"id\": \"1c60747e-062c-4311-ad89-6777650e4e44\"}}, \"type\": \"GlyphRenderer\", \"id\": \"bad0989e-5b8e-4693-b412-df50bb1d3cc5\"}];\n",
       "        Bokeh.load_models(all_models);\n",
       "        var plots = [{'modeltype': 'Plot', 'elementid': '0b4cd69e-fc6c-4b68-8c2c-dd08fe99ae35', 'modelid': '22cc6d62-818b-4f12-9179-352292cbbc2f'}];\n",
       "        for (idx in plots) {\n",
       "        \tvar plot = plots[idx];\n",
       "        \tvar model = Bokeh.Collections(plot.modeltype).get(plot.modelid);\n",
       "        \tBokeh.logger.info('Realizing plot:')\n",
       "        \tBokeh.logger.info(' - modeltype: ' + plot.modeltype);\n",
       "        \tBokeh.logger.info(' - modelid: ' + plot.modelid);\n",
       "        \tBokeh.logger.info(' - elementid: ' + plot.elementid);\n",
       "        \tvar view = new model.default_view({\n",
       "        \t\tmodel: model,\n",
       "        \t\tel: '#' + plot.elementid\n",
       "        \t});\n",
       "        \tBokeh.index[plot.modelid] = view;\n",
       "        }\n",
       "    });\n",
       "    </script>\n",
       "<div class=\"plotdiv\" id=\"0b4cd69e-fc6c-4b68-8c2c-dd08fe99ae35\"></div>\n",
       "\n"
      ]
     },
     "metadata": {},
     "output_type": "display_data"
    }
   ],
   "source": [
    "p1 = figure(\n",
    "  title='User engagement among users who earned certificate',\n",
    "  y_axis_label='number of users',\n",
    "  x_axis_label='completed at least x% of material',\n",
    "  plot_width=800,\n",
    "  plot_height=400,\n",
    ")\n",
    "p1.line(\n",
    "  [100.0*float(i+1)/112 for i in range(112)], # x coordinates\n",
    "  [at_least_n_views[i+1] for i in range(112)], # y coordinates\n",
    "  color='#ff0000',\n",
    "  legend='began watching lecture',\n",
    ")\n",
    "p1.line(\n",
    "  [100.0*float(i+1)/112 for i in range(112)], # x coordinates\n",
    "  [at_least_n_lectures_finished[i+1] for i in range(112)], # y coordinates\n",
    "  color='#00ff00',\n",
    "  legend='finished watching lecture',  \n",
    ")\n",
    "p1.line(\n",
    "  [100.0*float(i+1)/100 for i in range(100)], # x coordinates\n",
    "  [at_least_n_invideo_quizzes[i+1] for i in range(100)], # y coordinates\n",
    "  color='#0000ff',\n",
    "  legend='submitted in-video quiz',\n",
    ")\n",
    "p1.line(\n",
    "  [100.0*float(1+i)/113 for i in range(113)], # x coordinates\n",
    "  [at_least_n_downloads[i+1] for i in range(113)], # y coordinates\n",
    "  color='#115555',\n",
    "  legend='downloaded lecture'\n",
    ")\n",
    "p1.line(\n",
    "  [100.0*float(1+i)/100 for i in range(100)], # x coordinates\n",
    "  [at_least_n_grade[i+1] for i in range(100)], # y coordinates\n",
    "  color='#000000',\n",
    "  legend='grade (from assignments and exams)'\n",
    ")\n",
    "#p1.line(\n",
    "#  [100.0*float(1+i)/18 for i in range(18)], # x coordinates\n",
    "#  [at_least_n_review_quizzes[i+1] for i in range(18)], # y coordinates\n",
    "#  color='#ffff00',\n",
    "#)\n",
    "\n",
    "p1.legend.orientation = \"bottom_left\"\n",
    "p1.legend.legend_spacing = 0\n",
    "p1.legend.legend_padding = 1\n",
    "#p1.legend.label_height = 3\n",
    "p1.legend.label_text_font_size = '9pt'\n",
    "#p1.legend.label_text_font = 'times'\n",
    "p1.legend.border_line_width = 0\n",
    "#p1.legend.glyph_height = 10\n",
    "p1.legend.border_line_alpha = 0\n",
    "\n",
    "show(p1)"
   ]
  },
  {
   "cell_type": "code",
   "execution_count": 345,
   "metadata": {
    "collapsed": false
   },
   "outputs": [],
   "source": [
    "import json"
   ]
  },
  {
   "cell_type": "code",
   "execution_count": 346,
   "metadata": {
    "collapsed": false
   },
   "outputs": [
    {
     "name": "stdout",
     "output_type": "stream",
     "text": [
      "1962563\n",
      "1260676\n"
     ]
    }
   ],
   "source": [
    "num_start_events = 0\n",
    "num_videos_started = 0\n",
    "\n",
    "for lecture_id,user_to_start_events in json.load(open('video_to_user_to_startzero_events_orig.json')).iteritems():\n",
    "  for user,start_events in user_to_start_events.iteritems():\n",
    "    num_start_events += len(start_events)\n",
    "    if len(start_events) > 0:\n",
    "      num_videos_started += 1\n",
    "\n",
    "print num_start_events\n",
    "print num_videos_started"
   ]
  },
  {
   "cell_type": "code",
   "execution_count": 347,
   "metadata": {
    "collapsed": false
   },
   "outputs": [
    {
     "name": "stdout",
     "output_type": "stream",
     "text": [
      "1055775\n",
      "976933\n"
     ]
    }
   ],
   "source": [
    "num_end_events = 0\n",
    "num_videos_ended = 0\n",
    "\n",
    "for lecture_id,user_to_end_events in json.load(open('video_to_user_to_end_events.json')).iteritems():\n",
    "  for user,end_events in user_to_end_events.iteritems():\n",
    "    num_end_events += len(end_events)\n",
    "    if len(end_events) > 0:\n",
    "      num_videos_ended += 1\n",
    "\n",
    "print num_end_events\n",
    "print num_videos_ended"
   ]
  },
  {
   "cell_type": "code",
   "execution_count": 347,
   "metadata": {
    "collapsed": false
   },
   "outputs": [],
   "source": []
  },
  {
   "cell_type": "code",
   "execution_count": 347,
   "metadata": {
    "collapsed": false
   },
   "outputs": [],
   "source": []
  },
  {
   "cell_type": "code",
   "execution_count": 348,
   "metadata": {
    "collapsed": false
   },
   "outputs": [],
   "source": [
    "# at least num lectures watched to num users = sum([0:i])"
   ]
  },
  {
   "cell_type": "code",
   "execution_count": 349,
   "metadata": {
    "collapsed": false
   },
   "outputs": [
    {
     "name": "stdout",
     "output_type": "stream",
     "text": [
      "48131\n"
     ]
    }
   ],
   "source": [
    "users_who_started_at_least_one_lecture = set()\n",
    "\n",
    "for lecture_id,user_to_start_events in json.load(open('video_to_user_to_startzero_events_orig.json')).iteritems():\n",
    "  for user,start_events in user_to_start_events.iteritems():\n",
    "    if user not in users_who_started_at_least_one_lecture:\n",
    "      users_who_started_at_least_one_lecture.add(user)\n",
    "\n",
    "print len(users_who_started_at_least_one_lecture)"
   ]
  },
  {
   "cell_type": "code",
   "execution_count": 350,
   "metadata": {
    "collapsed": false
   },
   "outputs": [
    {
     "name": "stdout",
     "output_type": "stream",
     "text": [
      "48131\n",
      "15652\n",
      "8232\n"
     ]
    }
   ],
   "source": [
    "user_to_lectures_finished = {}\n",
    "\n",
    "for lecture_id,user_to_end_events in json.load(open('video_to_user_to_startzero_events.json')).iteritems():\n",
    "  for user,end_events in user_to_end_events.iteritems():\n",
    "    if user not in user_to_lectures_finished:\n",
    "      user_to_lectures_finished[user] = []\n",
    "    user_to_lectures_finished[user].append(lecture_id)\n",
    "\n",
    "num_users_who_finished_one_lecture = 0\n",
    "num_users_who_finished_quarter_lectures = 0\n",
    "num_users_who_finished_half_lectures = 0\n",
    "\n",
    "for user,lectures_finished in user_to_lectures_finished.iteritems():\n",
    "  num_lectures_finished = len(lectures_finished)\n",
    "  if num_lectures_finished >= 1:\n",
    "    num_users_who_finished_one_lecture += 1\n",
    "  if num_lectures_finished >= 28:\n",
    "    num_users_who_finished_quarter_lectures += 1\n",
    "  if num_lectures_finished >= 56:\n",
    "    num_users_who_finished_half_lectures += 1\n",
    "\n",
    "print num_users_who_finished_one_lecture\n",
    "print num_users_who_finished_quarter_lectures\n",
    "print num_users_who_finished_half_lectures"
   ]
  },
  {
   "cell_type": "code",
   "execution_count": 351,
   "metadata": {
    "collapsed": false
   },
   "outputs": [
    {
     "name": "stdout",
     "output_type": "stream",
     "text": [
      "41643\n",
      "11820\n",
      "6127\n"
     ]
    }
   ],
   "source": [
    "user_to_lectures_finished = {}\n",
    "\n",
    "for lecture_id,user_to_end_events in json.load(open('video_to_user_to_end_events.json')).iteritems():\n",
    "  for user,end_events in user_to_end_events.iteritems():\n",
    "    if user not in user_to_lectures_finished:\n",
    "      user_to_lectures_finished[user] = []\n",
    "    user_to_lectures_finished[user].append(lecture_id)\n",
    "\n",
    "num_users_who_finished_one_lecture = 0\n",
    "num_users_who_finished_quarter_lectures = 0\n",
    "num_users_who_finished_half_lectures = 0\n",
    "\n",
    "for user,lectures_finished in user_to_lectures_finished.iteritems():\n",
    "  num_lectures_finished = len(lectures_finished)\n",
    "  if num_lectures_finished >= 1:\n",
    "    num_users_who_finished_one_lecture += 1\n",
    "  if num_lectures_finished >= 28:\n",
    "    num_users_who_finished_quarter_lectures += 1\n",
    "  if num_lectures_finished >= 56:\n",
    "    num_users_who_finished_half_lectures += 1\n",
    "\n",
    "print num_users_who_finished_one_lecture\n",
    "print num_users_who_finished_quarter_lectures\n",
    "print num_users_who_finished_half_lectures"
   ]
  },
  {
   "cell_type": "code",
   "execution_count": 352,
   "metadata": {
    "collapsed": false
   },
   "outputs": [],
   "source": [
    "# overall course level engagements - graphs showing # users vs course percentage completion\n",
    "\n"
   ]
  },
  {
   "cell_type": "code",
   "execution_count": 353,
   "metadata": {
    "collapsed": false
   },
   "outputs": [
    {
     "ename": "NameError",
     "evalue": "name 'quiz_play_events' is not defined",
     "output_type": "error",
     "traceback": [
      "\u001b[1;31m---------------------------------------------------------------------------\u001b[0m\n\u001b[1;31mNameError\u001b[0m                                 Traceback (most recent call last)",
      "\u001b[1;32m<ipython-input-353-4ce787a1f3d8>\u001b[0m in \u001b[0;36m<module>\u001b[1;34m()\u001b[0m\n\u001b[0;32m      5\u001b[0m   \u001b[1;32mfor\u001b[0m \u001b[0muser\u001b[0m\u001b[1;33m,\u001b[0m\u001b[0mquizzes_pause_events\u001b[0m \u001b[1;32min\u001b[0m \u001b[0muser_to_quiz_pause_events\u001b[0m\u001b[1;33m.\u001b[0m\u001b[0miteritems\u001b[0m\u001b[1;33m(\u001b[0m\u001b[1;33m)\u001b[0m\u001b[1;33m:\u001b[0m\u001b[1;33m\u001b[0m\u001b[0m\n\u001b[0;32m      6\u001b[0m     \u001b[1;32mfor\u001b[0m \u001b[0mquiz_idx\u001b[0m\u001b[1;33m,\u001b[0m\u001b[0mquiz_pause_events\u001b[0m \u001b[1;32min\u001b[0m \u001b[0menumerate\u001b[0m\u001b[1;33m(\u001b[0m\u001b[0mquizzes_pause_events\u001b[0m\u001b[1;33m)\u001b[0m\u001b[1;33m:\u001b[0m\u001b[1;33m\u001b[0m\u001b[0m\n\u001b[1;32m----> 7\u001b[1;33m       \u001b[0mnum_quiz_pauses\u001b[0m \u001b[1;33m+=\u001b[0m \u001b[0mlen\u001b[0m\u001b[1;33m(\u001b[0m\u001b[0mquiz_play_events\u001b[0m\u001b[1;33m)\u001b[0m\u001b[1;33m\u001b[0m\u001b[0m\n\u001b[0m\u001b[0;32m      8\u001b[0m       \u001b[1;32mif\u001b[0m \u001b[0mlen\u001b[0m\u001b[1;33m(\u001b[0m\u001b[0mquiz_play_events\u001b[0m\u001b[1;33m)\u001b[0m \u001b[1;33m>\u001b[0m \u001b[1;36m0\u001b[0m\u001b[1;33m:\u001b[0m\u001b[1;33m\u001b[0m\u001b[0m\n\u001b[0;32m      9\u001b[0m         \u001b[0mnum_quizzes_paused\u001b[0m \u001b[1;33m+=\u001b[0m \u001b[1;36m1\u001b[0m\u001b[1;33m\u001b[0m\u001b[0m\n",
      "\u001b[1;31mNameError\u001b[0m: name 'quiz_play_events' is not defined"
     ]
    }
   ],
   "source": [
    "num_quiz_pauses = 0\n",
    "num_quizzes_paused = 0\n",
    "\n",
    "for lecture_id,user_to_quiz_pause_events in json.load(open('video_to_user_to_quiz_pause_events.json')).iteritems():\n",
    "  for user,quizzes_pause_events in user_to_quiz_pause_events.iteritems():\n",
    "    for quiz_idx,quiz_pause_events in enumerate(quizzes_pause_events):\n",
    "      num_quiz_pauses += len(quiz_play_events)\n",
    "      if len(quiz_play_events) > 0:\n",
    "        num_quizzes_paused += 1\n",
    "\n",
    "print num_quiz_pauses\n",
    "print num_quizzes_paused"
   ]
  },
  {
   "cell_type": "code",
   "execution_count": null,
   "metadata": {
    "collapsed": false
   },
   "outputs": [],
   "source": [
    "num_quiz_answers = 0\n",
    "num_quizzes_answered = 0\n",
    "\n",
    "for lecture_id,user_to_quiz_play_events in json.load(open('video_to_user_to_quiz_play_events.json')).iteritems():\n",
    "  for user,quizzes_play_events in user_to_quiz_play_events.iteritems():\n",
    "    for quiz_idx,quiz_play_events in enumerate(quizzes_play_events):\n",
    "      num_quiz_answers += len(quiz_play_events)\n",
    "      if len(quiz_play_events) > 0:\n",
    "        num_quizzes_answered += 1\n",
    "\n",
    "print num_quiz_answers\n",
    "print num_quizzes_answered"
   ]
  },
  {
   "cell_type": "code",
   "execution_count": null,
   "metadata": {
    "collapsed": false
   },
   "outputs": [],
   "source": [
    "import glob\n",
    "print glob.glob('*.json')"
   ]
  }
 ],
 "metadata": {
  "kernelspec": {
   "display_name": "Python 2",
   "language": "python",
   "name": "python2"
  },
  "language_info": {
   "codemirror_mode": {
    "name": "ipython",
    "version": 2
   },
   "file_extension": ".py",
   "mimetype": "text/x-python",
   "name": "python",
   "nbconvert_exporter": "python",
   "pygments_lexer": "ipython2",
   "version": "2.7.5"
  }
 },
 "nbformat": 4,
 "nbformat_minor": 0
}
