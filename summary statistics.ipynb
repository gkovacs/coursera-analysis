{
 "metadata": {
  "name": "",
  "signature": "sha256:2b5239ac548443207abf502ed304229d757ccec4adcd5af813485a9d64d704fe"
 },
 "nbformat": 3,
 "nbformat_minor": 0,
 "worksheets": [
  {
   "cells": [
    {
     "cell_type": "code",
     "collapsed": false,
     "input": [
      "from lectures_to_viewers import getViewersToLectures\n",
      "from video_annotations import ml_004 as vid\n",
      "from get_seek_chains import getSeekChainsFast"
     ],
     "language": "python",
     "metadata": {},
     "outputs": [],
     "prompt_number": 9
    },
    {
     "cell_type": "code",
     "collapsed": false,
     "input": [
      "all_viewers = set()\n",
      "viewed_at_least_half = set()\n",
      "viewed_at_least_quarter = set()\n",
      "num_lecture_starts = 0\n",
      "\n",
      "for viewer,lectures_viewed in getViewersToLectures().iteritems():\n",
      "  all_viewers.add(viewer)\n",
      "  num_lecture_starts += len(lectures_viewed)\n",
      "  if len(lectures_viewed) >= 56:\n",
      "    viewed_at_least_half.add(viewer)\n",
      "  if len(lectures_viewed) >= 28:\n",
      "    viewed_at_least_quarter.add(viewer)\n",
      "    \n",
      "print num_lecture_starts\n",
      "print len(all_viewers)\n",
      "print len(viewed_at_least_half)\n",
      "print len(viewed_at_least_quarter)\n",
      "print len(vid.video_lengths.keys())"
     ],
     "language": "python",
     "metadata": {},
     "outputs": [
      {
       "output_type": "stream",
       "stream": "stdout",
       "text": [
        "1377238\n",
        "59641\n",
        "8935\n",
        "16430\n",
        "113\n"
       ]
      }
     ],
     "prompt_number": 8
    },
    {
     "cell_type": "code",
     "collapsed": false,
     "input": [
      "seek_events_total = 0\n",
      "seek_chains_total = 0\n",
      "\n",
      "for lecture_id in vid.video_lengths.keys():\n",
      "  seek_chains = getSeekChainsFast(lecture_id)\n",
      "  for seek_chain in seek_chains:\n",
      "    seek_events_total += len(seek_chain.seek_events) \n",
      "    seek_chains_total += 1\n",
      "\n",
      "print seek_events_total\n",
      "print seek_chains_total"
     ],
     "language": "python",
     "metadata": {},
     "outputs": [
      {
       "output_type": "stream",
       "stream": "stdout",
       "text": [
        "6442590\n",
        "2103336\n"
       ]
      }
     ],
     "prompt_number": 12
    },
    {
     "cell_type": "code",
     "collapsed": false,
     "input": [
      "print sum([len(x) for x in vid.in_video_quiz_times.values()])\n",
      "print sum([len(x) for x in vid.slide_transitions.values()])"
     ],
     "language": "python",
     "metadata": {},
     "outputs": [
      {
       "output_type": "stream",
       "stream": "stdout",
       "text": [
        "108\n",
        "339\n"
       ]
      }
     ],
     "prompt_number": 14
    },
    {
     "cell_type": "code",
     "collapsed": false,
     "input": [
      "video_to_user_to_end_events = json.load(open('video_to_user_to_end_events.json'))\n",
      "\n",
      "for lecture_id,user_to_end_events in video_to_user_to_end_events.iteritems():\n",
      "  "
     ],
     "language": "python",
     "metadata": {},
     "outputs": []
    }
   ],
   "metadata": {}
  }
 ]
}