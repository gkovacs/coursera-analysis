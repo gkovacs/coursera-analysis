{
 "metadata": {
  "name": "",
  "signature": "sha256:5b149107b891ce91340e98f3fee4274877e03b7e6a34f790b1ff75cc3dd0df73"
 },
 "nbformat": 3,
 "nbformat_minor": 0,
 "worksheets": [
  {
   "cells": [
    {
     "cell_type": "code",
     "collapsed": false,
     "input": [
      "from lectures_to_viewers import getViewersToLectures\n",
      "from video_annotations import ml_004 as vid\n",
      "from get_seek_chains import getSeekChainsFast"
     ],
     "language": "python",
     "metadata": {},
     "outputs": [],
     "prompt_number": 9
    },
    {
     "cell_type": "code",
     "collapsed": false,
     "input": [
      "all_viewers = set()\n",
      "viewed_at_least_half = set()\n",
      "viewed_at_least_quarter = set()\n",
      "num_lecture_starts = 0\n",
      "\n",
      "for viewer,lectures_viewed in getViewersToLectures().iteritems():\n",
      "  all_viewers.add(viewer)\n",
      "  num_lecture_starts += len(lectures_viewed)\n",
      "  if len(lectures_viewed) >= 56:\n",
      "    viewed_at_least_half.add(viewer)\n",
      "  if len(lectures_viewed) >= 28:\n",
      "    viewed_at_least_quarter.add(viewer)\n",
      "    \n",
      "print num_lecture_starts\n",
      "print len(all_viewers)\n",
      "print len(viewed_at_least_half)\n",
      "print len(viewed_at_least_quarter)\n",
      "print len(vid.video_lengths.keys())"
     ],
     "language": "python",
     "metadata": {},
     "outputs": [
      {
       "output_type": "stream",
       "stream": "stdout",
       "text": [
        "1377238\n",
        "59641\n",
        "8935\n",
        "16430\n",
        "113\n"
       ]
      }
     ],
     "prompt_number": 8
    },
    {
     "cell_type": "code",
     "collapsed": false,
     "input": [
      "seek_events_total = 0\n",
      "seek_chains_total = 0\n",
      "\n",
      "for lecture_id in vid.video_lengths.keys():\n",
      "  seek_chains = getSeekChainsFast(lecture_id)\n",
      "  for seek_chain in seek_chains:\n",
      "    seek_events_total += len(seek_chain.seek_events) \n",
      "    seek_chains_total += 1\n",
      "\n",
      "print seek_events_total\n",
      "print seek_chains_total"
     ],
     "language": "python",
     "metadata": {},
     "outputs": [
      {
       "output_type": "stream",
       "stream": "stdout",
       "text": [
        "6442590\n",
        "2103336\n"
       ]
      }
     ],
     "prompt_number": 12
    },
    {
     "cell_type": "code",
     "collapsed": false,
     "input": [
      "print sum([len(x) for x in vid.in_video_quiz_times.values()])\n",
      "print sum([len(x) for x in vid.slide_transitions.values()])"
     ],
     "language": "python",
     "metadata": {},
     "outputs": [
      {
       "output_type": "stream",
       "stream": "stdout",
       "text": [
        "108\n",
        "339\n"
       ]
      }
     ],
     "prompt_number": 14
    },
    {
     "cell_type": "code",
     "collapsed": false,
     "input": [
      "#video_to_user_to_end_events = json.load(open('video_to_user_to_end_events.json'))\n",
      "\n",
      "#for lecture_id,user_to_end_events in video_to_user_to_end_events.iteritems():\n",
      "#  "
     ],
     "language": "python",
     "metadata": {},
     "outputs": []
    },
    {
     "cell_type": "code",
     "collapsed": false,
     "input": [
      "# of in-video quizzes answered total\n",
      "import csv\n",
      "session_id_to_eventing_id = {}\n",
      "\n",
      "for line in csv.DictReader(open('hash_mapping.csv')):\n",
      "  session_id_to_eventing_id[line['session_user_id']] = line['eventing_user_id']\n",
      "\n",
      "invideo_quiz_itemids = {}\n",
      "\n",
      "for line in csv.DictReader(open('quiz_metadata.csv')):\n",
      "  if line['quiz_type'] == 'quiz':\n",
      "    invideo_quiz_itemids[line['id']] = True"
     ],
     "language": "python",
     "metadata": {},
     "outputs": [
      {
       "output_type": "stream",
       "stream": "stdout",
       "text": [
        "{'user_id': '1', 'session_user_id': 'c693d0b484da0667b2bbbf157a2cd6c95ffe6376', 'eventing_user_id': 'e123d3d9c31622e9edb11c3f5604d0c1deee367e', 'public_user_id': 'ceb7520404e053a64bc23e85a73ca15f3d063f10'}\n"
       ]
      }
     ],
     "prompt_number": 4
    },
    {
     "cell_type": "code",
     "collapsed": false,
     "input": [
      "non_invideo_quiz_items = 0\n",
      "unknown_session_id = 0\n",
      "\n",
      "for line in csv.DictReader(open('quiz_submission_metadata.csv')):\n",
      "  if line['item_id'] not in invideo_quiz_itemids:\n",
      "    non_invideo_quiz_items += 1\n",
      "    continue\n",
      "  if line['session_user_id'] not in session_id_to_eventing_id:\n",
      "    unknown_session_id += 1\n",
      "    continue\n",
      "  eventing_id = session_id_to_eventing_id['session_user_id']\n",
      "  "
     ],
     "language": "python",
     "metadata": {},
     "outputs": []
    }
   ],
   "metadata": {}
  }
 ]
}