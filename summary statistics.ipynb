{
 "metadata": {
  "name": "",
  "signature": "sha256:989c91300dcb60af1c6dbce77685f39861ab82b32443be1a34cb3ad33095bdf6"
 },
 "nbformat": 3,
 "nbformat_minor": 0,
 "worksheets": [
  {
   "cells": [
    {
     "cell_type": "code",
     "collapsed": false,
     "input": [
      "from lectures_to_viewers import getViewersToLectures\n",
      "from video_annotations import ml_004 as vid\n",
      "from get_seek_chains import getSeekChainsFast"
     ],
     "language": "python",
     "metadata": {},
     "outputs": [],
     "prompt_number": 9
    },
    {
     "cell_type": "code",
     "collapsed": false,
     "input": [
      "all_viewers = set()\n",
      "viewed_at_least_half = set()\n",
      "viewed_at_least_quarter = set()\n",
      "num_lecture_starts = 0\n",
      "\n",
      "for viewer,lectures_viewed in getViewersToLectures().iteritems():\n",
      "  all_viewers.add(viewer)\n",
      "  num_lecture_starts += len(lectures_viewed)\n",
      "  if len(lectures_viewed) >= 56:\n",
      "    viewed_at_least_half.add(viewer)\n",
      "  if len(lectures_viewed) >= 28:\n",
      "    viewed_at_least_quarter.add(viewer)\n",
      "    \n",
      "print num_lecture_starts\n",
      "print len(all_viewers)\n",
      "print len(viewed_at_least_half)\n",
      "print len(viewed_at_least_quarter)\n",
      "print len(vid.video_lengths.keys())"
     ],
     "language": "python",
     "metadata": {},
     "outputs": [
      {
       "output_type": "stream",
       "stream": "stdout",
       "text": [
        "1377238\n",
        "59641\n",
        "8935\n",
        "16430\n",
        "113\n"
       ]
      }
     ],
     "prompt_number": 8
    },
    {
     "cell_type": "code",
     "collapsed": false,
     "input": [
      "seek_events_total = 0\n",
      "seek_chains_total = 0\n",
      "\n",
      "for lecture_id in vid.video_lengths.keys():\n",
      "  seek_chains = getSeekChainsFast(lecture_id)\n",
      "  for seek_chain in seek_chains:\n",
      "    seek_events_total += len(seek_chain.seek_events) \n",
      "    seek_chains_total += 1\n",
      "\n",
      "print seek_events_total\n",
      "print seek_chains_total"
     ],
     "language": "python",
     "metadata": {},
     "outputs": [
      {
       "output_type": "stream",
       "stream": "stdout",
       "text": [
        "6442590\n",
        "2103336\n"
       ]
      }
     ],
     "prompt_number": 12
    },
    {
     "cell_type": "code",
     "collapsed": false,
     "input": [
      "print sum([len(x) for x in vid.in_video_quiz_times.values()])\n",
      "print sum([len(x) for x in vid.slide_transitions.values()])"
     ],
     "language": "python",
     "metadata": {},
     "outputs": [
      {
       "output_type": "stream",
       "stream": "stdout",
       "text": [
        "108\n",
        "339\n"
       ]
      }
     ],
     "prompt_number": 14
    },
    {
     "cell_type": "code",
     "collapsed": false,
     "input": [
      "#video_to_user_to_end_events = json.load(open('video_to_user_to_end_events.json'))\n",
      "\n",
      "#for lecture_id,user_to_end_events in video_to_user_to_end_events.iteritems():\n",
      "#  "
     ],
     "language": "python",
     "metadata": {},
     "outputs": []
    },
    {
     "cell_type": "code",
     "collapsed": false,
     "input": [
      "# of in-video quizzes answered total\n",
      "import csv\n",
      "session_id_to_eventing_id = {}\n",
      "\n",
      "for line in csv.DictReader(open('hash_mapping.csv')):\n",
      "  session_id_to_eventing_id[line['session_user_id']] = line['eventing_user_id']\n"
     ],
     "language": "python",
     "metadata": {},
     "outputs": [],
     "prompt_number": 39
    },
    {
     "cell_type": "code",
     "collapsed": false,
     "input": [
      "print len(session_id_to_eventing_id)\n",
      "print session_id_to_eventing_id['c693d0b484da0667b2bbbf157a2cd6c95ffe6376']"
     ],
     "language": "python",
     "metadata": {},
     "outputs": [
      {
       "output_type": "stream",
       "stream": "stdout",
       "text": [
        "112029\n",
        "e123d3d9c31622e9edb11c3f5604d0c1deee367e\n"
       ]
      }
     ],
     "prompt_number": 41
    },
    {
     "cell_type": "code",
     "collapsed": false,
     "input": [
      "\n",
      "invideo_quiz_itemids = {}\n",
      "\n",
      "for line in csv.DictReader(open('quiz_metadata.csv')):\n",
      "  if line['quiz_type'] == 'video':\n",
      "    invideo_quiz_itemids[line['id']] = True\n",
      "\n",
      "print invideo_quiz_itemids"
     ],
     "language": "python",
     "metadata": {},
     "outputs": [
      {
       "output_type": "stream",
       "stream": "stdout",
       "text": [
        "{'216': True, '224': True, '265': True, '264': True, '227': True, '131': True, '130': True, '165': True, '166': True, '24': True, '25': True, '26': True, '27': True, '21': True, '22': True, '23': True, '223': True, '28': True, '29': True, '222': True, '4': True, '8': True, '220': True, '119': True, '258': True, '120': True, '121': True, '122': True, '123': True, '124': True, '125': True, '126': True, '127': True, '128': True, '129': True, '269': True, '268': True, '118': True, '59': True, '58': True, '55': True, '54': True, '57': True, '56': True, '51': True, '50': True, '53': True, '52': True, '259': True, '201': True, '199': True, '198': True, '200': True, '195': True, '194': True, '197': True, '196': True, '191': True, '190': True, '193': True, '192': True, '115': True, '114': True, '88': True, '89': True, '111': True, '110': True, '113': True, '112': True, '82': True, '83': True, '80': True, '81': True, '86': True, '87': True, '84': True, '85': True, '251': True, '256': True, '226': True, '257': True, '3': True, '254': True, '7': True, '247': True, '273': True, '255': True, '225': True, '245': True, '244': True, '108': True, '109': True, '241': True, '240': True, '243': True, '242': True, '102': True, '103': True, '100': True, '101': True, '106': True, '107': True, '104': True, '105': True, '39': True, '38': True, '33': True, '32': True, '31': True, '30': True, '37': True, '36': True, '35': True, '34': True, '246': True, '252': True, '60': True, '61': True, '62': True, '63': True, '64': True, '65': True, '179': True, '178': True, '177': True, '176': True, '175': True, '174': True, '173': True, '172': True, '171': True, '170': True, '272': True, '181': True, '253': True, '248': True, '182': True, '183': True, '180': True, '2': True, '167': True, '187': True, '184': True, '6': True, '186': True, '188': True, '189': True, '202': True, '221': True, '185': True, '99': True, '98': True, '168': True, '169': True, '229': True, '228': True, '91': True, '90': True, '93': True, '92': True, '95': True, '94': True, '97': True, '96': True, '11': True, '10': True, '12': True, '271': True, '117': True, '250': True, '116': True, '274': True, '275': True, '151': True, '150': True, '153': True, '152': True, '155': True, '154': True, '156': True, '238': True, '239': True, '234': True, '235': True, '236': True, '237': True, '230': True, '231': True, '232': True, '233': True, '48': True, '49': True, '46': True, '47': True, '44': True, '45': True, '42': True, '43': True, '40': True, '41': True, '1': True, '5': True, '9': True, '146': True, '147': True, '203': True, '145': True, '205': True, '204': True, '207': True, '206': True, '209': True, '208': True, '148': True, '149': True, '77': True, '76': True, '72': True, '79': True, '78': True, '263': True, '249': True, '262': True, '261': True, '270': True, '260': True, '267': True, '266': True}\n"
       ]
      }
     ],
     "prompt_number": 36
    },
    {
     "cell_type": "code",
     "collapsed": false,
     "input": [
      "non_invideo_quiz_items = 0\n",
      "unknown_session_id = 0\n",
      "unknown_eventing_id = 0\n",
      "\n",
      "user_to_invideo_quiz_answers = {}\n",
      "\n",
      "for line in csv.DictReader(open('quiz_submission_metadata.csv')):\n",
      "  if line['item_id'] not in invideo_quiz_itemids:\n",
      "    non_invideo_quiz_items += 1\n",
      "    continue\n",
      "  if line['session_user_id'] not in session_id_to_eventing_id:\n",
      "    unknown_session_id += 1\n",
      "    continue\n",
      "  eventing_id = session_id_to_eventing_id['session_user_id']\n",
      "  if eventing_id not in all_viewers:\n",
      "    unknown_eventing_id += 1\n",
      "    continue\n",
      "  if eventing_id not in user_to_invideo_quiz_answers:\n",
      "    user_to_invideo_quiz_answers[eventing_id] = []\n",
      "  user_to_invideo_quiz_answers[eventing_id].append(line)\n",
      "\n",
      "  "
     ],
     "language": "python",
     "metadata": {},
     "outputs": [],
     "prompt_number": 37
    },
    {
     "cell_type": "code",
     "collapsed": false,
     "input": [
      "print non_invideo_quiz_items\n",
      "print unknown_session_id\n",
      "print unknown_eventing_id\n",
      "print len(user_to_invideo_quiz_answers)"
     ],
     "language": "python",
     "metadata": {},
     "outputs": [
      {
       "output_type": "stream",
       "stream": "stdout",
       "text": [
        "503694\n",
        "1662341\n",
        "0\n",
        "0\n"
       ]
      }
     ],
     "prompt_number": 38
    },
    {
     "cell_type": "code",
     "collapsed": false,
     "input": [
      "num_invideo_quiz_submissions = 0\n",
      "num_invideo_quizzes_submitted = 0\n",
      "for user,invideo_quiz_answers in user_to_invideo_quiz_answers.iteritems():\n",
      "  num_invideo_quiz_submissions += len(invideo_quiz_answers)\n",
      "  if len(invideo_quiz_answers) > 0:\n",
      "    num_invideo_quizzes_submitted += 1\n",
      "\n",
      "print num_invideo_quiz_submissions\n",
      "print num_invideo_quizzes_submitted"
     ],
     "language": "python",
     "metadata": {},
     "outputs": [
      {
       "output_type": "stream",
       "stream": "stdout",
       "text": [
        "0\n",
        "0\n"
       ]
      }
     ],
     "prompt_number": 25
    },
    {
     "cell_type": "code",
     "collapsed": false,
     "input": [
      "import json"
     ],
     "language": "python",
     "metadata": {},
     "outputs": [],
     "prompt_number": 11
    },
    {
     "cell_type": "code",
     "collapsed": false,
     "input": [
      "num_start_events = 0\n",
      "num_videos_started = 0\n",
      "\n",
      "for lecture_id,user_to_start_events in json.load(open('video_to_user_to_startzero_events.json')).iteritems():\n",
      "  for user,start_events in user_to_start_events.iteritems():\n",
      "    num_start_events += len(start_events)\n",
      "    if len(start_events) > 0:\n",
      "      num_videos_started += 1\n",
      "\n",
      "print num_start_events\n",
      "print num_videos_started"
     ],
     "language": "python",
     "metadata": {},
     "outputs": [
      {
       "output_type": "stream",
       "stream": "stdout",
       "text": [
        "1962563\n",
        "1260676\n"
       ]
      }
     ],
     "prompt_number": 22
    },
    {
     "cell_type": "code",
     "collapsed": false,
     "input": [
      "num_end_events = 0\n",
      "num_videos_ended = 0\n",
      "\n",
      "for lecture_id,user_to_end_events in json.load(open('video_to_user_to_end_events.json')).iteritems():\n",
      "  for user,end_events in user_to_end_events.iteritems():\n",
      "    num_end_events += len(end_events)\n",
      "    if len(end_events) > 0:\n",
      "      num_videos_ended += 1\n",
      "\n",
      "print num_end_events\n",
      "print num_videos_ended"
     ],
     "language": "python",
     "metadata": {},
     "outputs": [
      {
       "output_type": "stream",
       "stream": "stdout",
       "text": [
        "1055775\n",
        "976933\n"
       ]
      }
     ],
     "prompt_number": 21
    },
    {
     "cell_type": "code",
     "collapsed": false,
     "input": [
      "users_who_started_at_least_one_lecture = set()\n",
      "\n",
      "for lecture_id,user_to_start_events in json.load(open('video_to_user_to_startzero_events.json')).iteritems():\n",
      "  for user,start_events in user_to_start_events.iteritems():\n",
      "    if user not in users_who_started_at_least_one_lecture:\n",
      "      users_who_started_at_least_one_lecture.add(user)\n",
      "\n",
      "print len(users_who_started_at_least_one_lecture)"
     ],
     "language": "python",
     "metadata": {},
     "outputs": [
      {
       "output_type": "stream",
       "stream": "stdout",
       "text": [
        "48131\n"
       ]
      }
     ],
     "prompt_number": 44
    },
    {
     "cell_type": "code",
     "collapsed": false,
     "input": [
      "user_to_lectures_finished = {}\n",
      "\n",
      "for lecture_id,user_to_end_events in json.load(open('video_to_user_to_startzero_events.json')).iteritems():\n",
      "  for user,end_events in user_to_end_events.iteritems():\n",
      "    if user not in user_to_lectures_finished:\n",
      "      user_to_lectures_finished[user] = []\n",
      "    user_to_lectures_finished[user].append(lecture_id)\n",
      "\n",
      "num_users_who_finished_one_lecture = 0\n",
      "num_users_who_finished_quarter_lectures = 0\n",
      "num_users_who_finished_half_lectures = 0\n",
      "\n",
      "for user,lectures_finished in user_to_lectures_finished.iteritems():\n",
      "  num_lectures_finished = len(lectures_finished)\n",
      "  if num_lectures_finished >= 1:\n",
      "    num_users_who_finished_one_lecture += 1\n",
      "  if num_lectures_finished >= 28:\n",
      "    num_users_who_finished_quarter_lectures += 1\n",
      "  if num_lectures_finished >= 56:\n",
      "    num_users_who_finished_half_lectures += 1\n",
      "\n",
      "print num_users_who_finished_one_lecture\n",
      "print num_users_who_finished_quarter_lectures\n",
      "print num_users_who_finished_half_lectures"
     ],
     "language": "python",
     "metadata": {},
     "outputs": [
      {
       "output_type": "stream",
       "stream": "stdout",
       "text": [
        "48131\n",
        "15652\n",
        "8232\n"
       ]
      }
     ],
     "prompt_number": 47
    },
    {
     "cell_type": "code",
     "collapsed": false,
     "input": [
      "user_to_lectures_finished = {}\n",
      "\n",
      "for lecture_id,user_to_end_events in json.load(open('video_to_user_to_end_events.json')).iteritems():\n",
      "  for user,end_events in user_to_end_events.iteritems():\n",
      "    if user not in user_to_lectures_finished:\n",
      "      user_to_lectures_finished[user] = []\n",
      "    user_to_lectures_finished[user].append(lecture_id)\n",
      "\n",
      "num_users_who_finished_one_lecture = 0\n",
      "num_users_who_finished_quarter_lectures = 0\n",
      "num_users_who_finished_half_lectures = 0\n",
      "\n",
      "for user,lectures_finished in user_to_lectures_finished.iteritems():\n",
      "  num_lectures_finished = len(lectures_finished)\n",
      "  if num_lectures_finished >= 1:\n",
      "    num_users_who_finished_one_lecture += 1\n",
      "  if num_lectures_finished >= 28:\n",
      "    num_users_who_finished_quarter_lectures += 1\n",
      "  if num_lectures_finished >= 56:\n",
      "    num_users_who_finished_half_lectures += 1\n",
      "\n",
      "print num_users_who_finished_one_lecture\n",
      "print num_users_who_finished_quarter_lectures\n",
      "print num_users_who_finished_half_lectures"
     ],
     "language": "python",
     "metadata": {},
     "outputs": [
      {
       "output_type": "stream",
       "stream": "stdout",
       "text": [
        "41643\n",
        "11820\n",
        "6127\n"
       ]
      }
     ],
     "prompt_number": 46
    },
    {
     "cell_type": "code",
     "collapsed": false,
     "input": [
      "# overall course level engagements - graphs showing # users vs course percentage completion\n",
      "\n"
     ],
     "language": "python",
     "metadata": {},
     "outputs": []
    },
    {
     "cell_type": "code",
     "collapsed": false,
     "input": [
      "num_quiz_answers = 0\n",
      "num_quizzes_answered = 0\n",
      "\n",
      "for lecture_id,user_to_quiz_play_events in json.load(open('video_to_user_to_quiz_play_events.json')).iteritems():\n",
      "  for user,quizzes_play_events in user_to_quiz_play_events.iteritems():\n",
      "    for quiz_idx,quiz_play_events in enumerate(quizzes_play_events):\n",
      "      num_quiz_answers += len(quiz_play_events)\n",
      "      if len(quiz_play_events) > 0:\n",
      "        num_quizzes_answered += 1\n",
      "\n",
      "print num_quiz_answers\n",
      "print num_quizzes_answered"
     ],
     "language": "python",
     "metadata": {},
     "outputs": [
      {
       "output_type": "stream",
       "stream": "stdout",
       "text": [
        "1251006\n",
        "1083618\n"
       ]
      }
     ],
     "prompt_number": 20
    },
    {
     "cell_type": "code",
     "collapsed": false,
     "input": [
      "import glob\n",
      "print glob.glob('*.json')"
     ],
     "language": "python",
     "metadata": {},
     "outputs": [
      {
       "output_type": "stream",
       "stream": "stdout",
       "text": [
        "['datastage_login.json', 'video_to_parts_played_more_than_once.json', 'video_to_parts_played.json', 'video_to_all_seek_destinations.json', 'video_to_all_seek_sources.json', 'video_to_parts_skipped_back_over.json', 'video_to_parts_skipped_forward_over.json', 'video_to_parts_played_reviewsession.json', 'video_to_user_to_startzero_events.json', 'video_to_parts_played_more_than_once_orig.json', 'ml-004_clickstream_video.sqlite_videolist.json', 'ml-004_clickstream_video.sqlite_lecturestoviewers.json', 'ml-004_clickstream_video.sqlite_viewerstolectures.json', 'video_to_user_to_end_events.json', 'video_to_user_to_quiz_play_events.json']\n"
       ]
      }
     ],
     "prompt_number": 19
    }
   ],
   "metadata": {}
  }
 ]
}