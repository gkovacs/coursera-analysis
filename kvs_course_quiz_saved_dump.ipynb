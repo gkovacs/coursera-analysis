{
 "metadata": {
  "name": "",
  "signature": "sha256:ebe8ad053360f3b05c098c4444af76e8da3d2ebc57ea2e2be059b40694616836"
 },
 "nbformat": 3,
 "nbformat_minor": 0,
 "worksheets": [
  {
   "cells": [
    {
     "cell_type": "code",
     "collapsed": false,
     "input": [
      "from phpserialize import unserialize\n",
      "import json"
     ],
     "language": "python",
     "metadata": {},
     "outputs": [],
     "prompt_number": 4
    },
    {
     "cell_type": "code",
     "collapsed": false,
     "input": [
      "import csv\n",
      "\n",
      "def get_table_path(table_name):\n",
      "  csv_path = '/lfs/local/0/geza/ml-004_data_export/'\n",
      "  return csv_path + table_name + '.csv'\n",
      "\n",
      "def get_table_data(table_name):\n",
      "  return csv.DictReader(open(get_table_path(table_name)), doublequote=False, delimiter=',', escapechar='\\\\')\n",
      "\n",
      "def print_first_lines(table_name, n=10):\n",
      "  for x in get_table_data(table_name):\n",
      "    if n <= 0:\n",
      "      break\n",
      "    n -= 1\n",
      "    print x"
     ],
     "language": "python",
     "metadata": {},
     "outputs": [],
     "prompt_number": 5
    },
    {
     "cell_type": "code",
     "collapsed": false,
     "input": [
      "output_options = []\n",
      "output_saved = []\n",
      "output_xml = []\n",
      "output_xml_backup = []\n",
      "output_submission = []\n",
      "output_template = []\n",
      "\n",
      "for line in get_table_data('kvs_course.quiz'):\n",
      "  key = line['key']\n",
      "  value = line['value']\n",
      "  if key.startswith('options.quiz_id:'):\n",
      "    parsed_value = unserialize(value)\n",
      "    output_options.append([key, parsed_value])\n",
      "    continue\n",
      "  if key.startswith('saved.quiz_id:'):\n",
      "    parsed_value = unserialize(unserialize(value))\n",
      "    output_saved.append([key, parsed_value])\n",
      "    continue\n",
      "  if key.startswith('xml.quiz_id:') and '.backup:' not in key:\n",
      "    parsed_value = unserialize(value)\n",
      "    output_xml.append([key, parsed_value])\n",
      "    continue\n",
      "  if key.startswith('xml.quiz_id:') and '.backup:' in key:\n",
      "    parsed_value = unserialize(value)\n",
      "    output_xml_backup.append([key, parsed_value])\n",
      "    continue\n",
      "  if key.startswith('submission.submission_id:'):\n",
      "    parsed_value = unserialize(unserialize(value))\n",
      "    output_submission.append([key, parsed_value])\n",
      "    continue\n",
      "  if key.startswith('template.template_id:'):\n",
      "    parsed_value = unserialize(value)\n",
      "    output_template.append([key, parsed_value])\n",
      "    continue\n",
      "\n",
      "output_path = '/lfs/local/0/geza/ml-004_data_export/'\n",
      "json.dump(output_options, open(output_path + 'kvs_course.quiz.options.json', 'w'))\n",
      "json.dump(output_saved, open(output_path + 'kvs_course.quiz.saved.json', 'w'))\n",
      "json.dump(output_xml, open(output_path + 'kvs_course.quiz.xml.json', 'w'))\n",
      "json.dump(output_xml_backup, open(output_path + 'kvs_course.quiz.xml.backup.json', 'w'))\n",
      "json.dump(output_submission, open(output_path + 'kvs_course.quiz.submission.json', 'w'))\n",
      "json.dump(output_template, open(output_path + 'kvs_course.quiz.template.json', 'w'))\n"
     ],
     "language": "python",
     "metadata": {},
     "outputs": [],
     "prompt_number": 7
    }
   ],
   "metadata": {}
  }
 ]
}