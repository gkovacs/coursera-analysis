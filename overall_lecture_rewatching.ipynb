{
 "metadata": {
  "name": "",
  "signature": "sha256:1d613d44cf0846e351fb91a58685e743f4af7557fa16496c737029343deccb0c"
 },
 "nbformat": 3,
 "nbformat_minor": 0,
 "worksheets": [
  {
   "cells": [
    {
     "cell_type": "code",
     "collapsed": false,
     "input": [
      "# noexport\n",
      "\n",
      "import os\n",
      "os.system('export_notebook overall_lecture_rewatching.ipynb')"
     ],
     "language": "python",
     "metadata": {},
     "outputs": []
    },
    {
     "cell_type": "code",
     "collapsed": false,
     "input": [
      "from coursera_analytics_common import *"
     ],
     "language": "python",
     "metadata": {},
     "outputs": [
      {
       "output_type": "stream",
       "stream": "stdout",
       "text": [
        "59641\n",
        "8935\n"
       ]
      }
     ],
     "prompt_number": 15
    },
    {
     "cell_type": "code",
     "collapsed": false,
     "input": [
      "import json\n",
      "import os\n",
      "\n",
      "video_to_user_to_startzero_events = json.load(open('video_to_user_to_startzero_events.json'))\n"
     ],
     "language": "python",
     "metadata": {},
     "outputs": [],
     "prompt_number": 1
    },
    {
     "cell_type": "code",
     "collapsed": false,
     "input": [
      "import numpy\n",
      "\n",
      "def avgvals(d):\n",
      "  return numpy.mean(d.values())\n",
      "\n",
      "total_rewatches = 0\n",
      "total_watches = 0\n",
      "lecture_to_total_rewatches = {}\n",
      "lecture_to_total_watches = {}\n",
      "total_rewatch_ratios = []\n",
      "for lecture_id,user_to_startzero_events in video_to_user_to_startzero_events.iteritems():\n",
      "  lecture_to_total_rewatches[lecture_id] = 0\n",
      "  lecture_to_total_watches[lecture_id] = 0\n",
      "  for user,startzero_events in user_to_startzero_events.iteritems():\n",
      "    rewatched = len(startzero_events) > 1 and max(startzero_events) > min(startzero_events) + 1000*3600 # one hour later\n",
      "    if rewatched:\n",
      "      total_rewatches += 1\n",
      "      lecture_to_total_rewatches[lecture_id] += 1\n",
      "    total_watches += 1\n",
      "    lecture_to_total_watches[lecture_id] += 1\n",
      "  if lecture_to_total_watches[lecture_id] > 0:\n",
      "    total_rewatch_ratios.append(lecture_to_total_rewatches[lecture_id] / float(lecture_to_total_watches[lecture_id]))\n",
      "\n",
      "print total_rewatches / float(total_watches)\n",
      "print avgvals(lecture_to_total_rewatches) / avgvals(lecture_to_total_watches)\n",
      "print numpy.mean(total_rewatch_ratios)"
     ],
     "language": "python",
     "metadata": {},
     "outputs": [
      {
       "output_type": "stream",
       "stream": "stdout",
       "text": [
        "0.173486288309\n",
        "0.173486288309\n",
        "0.151773813097\n"
       ]
      }
     ],
     "prompt_number": 12
    },
    {
     "cell_type": "code",
     "collapsed": false,
     "input": [
      "numLectures = max(listVideos()) + 1\n",
      "print numLectures\n",
      "lecture_end_times = video_annotations.video_lengths_ml_004\n",
      "print lecture_end_times"
     ],
     "language": "python",
     "metadata": {},
     "outputs": [
      {
       "output_type": "stream",
       "stream": "stdout",
       "text": [
        "115\n",
        "{1: 414, 2: 434, 3: 749, 4: 853, 5: 490, 6: 492, 7: 669, 8: 528, 9: 620, 10: 710, 11: 690, 12: 349, 13: 525, 14: 413, 15: 819, 16: 669, 17: 542, 18: 672, 19: 502, 20: 304, 21: 531, 22: 538, 23: 459, 24: 977, 25: 358, 26: 839, 27: 967, 28: 794, 29: 578, 30: 828, 31: 775, 32: 213, 33: 488, 34: 444, 35: 889, 36: 614, 37: 846, 38: 375, 39: 582, 40: 610, 41: 640, 42: 513, 43: 575, 44: 467, 45: 721, 46: 706, 47: 435, 48: 620, 49: 231, 50: 403, 51: 719, 52: 764, 53: 467, 54: 697, 55: 411, 56: 803, 57: 390, 58: 685, 59: 350, 60: 455, 61: 723, 62: 462, 63: 680, 64: 713, 65: 410, 66: 569, 67: 791, 68: 695, 69: 845, 70: 669, 71: 887, 72: 636, 73: 1181, 74: 944, 75: 943, 76: 1262, 77: 196, 78: 752, 79: 424, 80: 469, 81: 502, 82: 609, 83: 327, 84: 545, 85: 913, 86: 630, 87: 234, 88: 768, 89: 458, 90: 627, 91: 722, 92: 787, 93: 456, 95: 737, 96: 825, 97: 843, 98: 474, 99: 871, 100: 614, 101: 506, 102: 507, 103: 510, 104: 344, 105: 799, 106: 377, 107: 691, 108: 770, 109: 848, 110: 422, 111: 879, 112: 980, 113: 830, 114: 281}\n"
       ]
      }
     ],
     "prompt_number": 26
    },
    {
     "cell_type": "code",
     "collapsed": false,
     "input": [
      "lecture_to_user_to_start_timestamps = [{} for i in range(numLectures)]\n",
      "lecture_to_user_to_finish_timestamps = [{} for i in range(numLectures)]\n",
      "lecture_to_user_to_seek_timestamps = [{} for i in range(numLectures)]\n",
      "\n",
      "lecture_to_user_to_seek_times = [{} for i in range(numLectures)]\n",
      "\n",
      "for anon_username,event_type,curr_time,lecture_id,event_timestamp in listFields(['anon_username', 'event_type', 'curr_time', 'lecture_id', 'event_timestamp'], 'where event_type=\"play\"'):\n",
      "  if abs(curr_time - 0) > 3:\n",
      "    continue\n",
      "  if anon_username not in lecture_to_user_to_start_timestamps[lecture_id]:\n",
      "    lecture_to_user_to_start_timestamps[lecture_id][anon_username] = []\n",
      "  lecture_to_user_to_start_timestamps[lecture_id][anon_username].append(event_timestamp)\n",
      "\n",
      "for anon_username,event_type,curr_time,lecture_id,event_timestamp in listFields(['anon_username', 'event_type', 'curr_time', 'lecture_id', 'event_timestamp'], 'where event_type=\"pause\"'):\n",
      "  #if curr_time != lecture_end_times[lecture_id]:\n",
      "  if abs(curr_time - lecture_end_times[lecture_id]) > 3:\n",
      "    continue\n",
      "  if anon_username not in lecture_to_user_to_finish_timestamps[lecture_id]:\n",
      "    lecture_to_user_to_finish_timestamps[lecture_id][anon_username] = []\n",
      "  lecture_to_user_to_finish_timestamps[lecture_id][anon_username].append(event_timestamp)\n",
      "\n",
      "for anon_username,event_type,curr_time,lecture_id,event_timestamp in listFields(['anon_username', 'event_type', 'curr_time', 'lecture_id', 'event_timestamp'], 'where event_type=\"seeked\" and curr_time<>0'):\n",
      "  if curr_time == lecture_end_times[lecture_id]:\n",
      "    continue\n",
      "  if anon_username not in lecture_to_user_to_seek_timestamps[lecture_id]:\n",
      "    lecture_to_user_to_seek_timestamps[lecture_id][anon_username] = []\n",
      "    lecture_to_user_to_seek_times[lecture_id][anon_username] = []\n",
      "  lecture_to_user_to_seek_timestamps[lecture_id][anon_username].append(event_timestamp)\n",
      "  lecture_to_user_to_seek_times[lecture_id][anon_username].append(curr_time)\n"
     ],
     "language": "python",
     "metadata": {},
     "outputs": [],
     "prompt_number": 27
    },
    {
     "cell_type": "code",
     "collapsed": false,
     "input": [
      "users_who_finished_lecture = 0\n",
      "users_who_watched_again = 0\n",
      "\n",
      "rewatch_ratios_per_lecture = []\n",
      "\n",
      "for lecture_id in listVideos():\n",
      "  lecture_users_who_finished_lecture = 0\n",
      "  lecture_users_who_watched_again = 0\n",
      "  for user,finishtimes in lecture_to_user_to_finish_timestamps[lecture_id].iteritems():\n",
      "    if len(finishtimes) < 1:\n",
      "      continue\n",
      "    first_finish_time = min(finishtimes)\n",
      "    if user not in lecture_to_user_to_start_timestamps[lecture_id]:\n",
      "      continue\n",
      "    last_start_time = max(lecture_to_user_to_start_timestamps[lecture_id][user])\n",
      "    if last_start_time > first_finish_time + 1000*3600:\n",
      "      users_who_watched_again += 1\n",
      "      lecture_users_who_watched_again += 1\n",
      "    users_who_finished_lecture += 1\n",
      "    lecture_users_who_finished_lecture += 1\n",
      "  rewatch_ratios_per_lecture.append(lecture_users_who_watched_again / float(lecture_users_who_finished_lecture))\n",
      "print users_who_finished_lecture\n",
      "print users_who_watched_again\n",
      "print users_who_watched_again / float(users_who_finished_lecture)\n",
      "print numpy.mean(rewatch_ratios_per_lecture)"
     ],
     "language": "python",
     "metadata": {},
     "outputs": [
      {
       "output_type": "stream",
       "stream": "stdout",
       "text": [
        "934031\n",
        "117774\n",
        "0.126092174671\n",
        "0.108224829036\n"
       ]
      }
     ],
     "prompt_number": 30
    }
   ],
   "metadata": {}
  }
 ]
}