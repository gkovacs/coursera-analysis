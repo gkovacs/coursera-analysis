{
 "metadata": {
  "name": "",
  "signature": "sha256:a4de6b4b086d5ae52636d6fff9e8dfa0318b94628cda8496f226e457fa609f7e"
 },
 "nbformat": 3,
 "nbformat_minor": 0,
 "worksheets": [
  {
   "cells": [
    {
     "cell_type": "code",
     "collapsed": false,
     "input": [
      "from video_annotations import in_video_quiz_times_ml_004, video_lengths_ml_004\n",
      "from collections import Counter\n",
      "\n",
      "num_quizzes = Counter()\n",
      "\n",
      "print len(in_video_quiz_times_ml_004.values())\n",
      "for k,v in in_video_quiz_times_ml_004.iteritems():\n",
      "  num_quizzes[len(v)] += 1\n",
      "print num_quizzes\n"
     ],
     "language": "python",
     "metadata": {},
     "outputs": [
      {
       "output_type": "stream",
       "stream": "stdout",
       "text": [
        "113\n",
        "Counter({1: 93, 0: 13, 2: 6, 3: 1})\n"
       ]
      }
     ],
     "prompt_number": 3
    },
    {
     "cell_type": "code",
     "collapsed": false,
     "input": [
      "total_amount_of_video = 0\n",
      "for k,v in video_lengths_ml_004.iteritems():\n",
      "  total_amount_of_video += v\n",
      "\n",
      "print total_amount_of_video"
     ],
     "language": "python",
     "metadata": {},
     "outputs": [
      {
       "output_type": "stream",
       "stream": "stdout",
       "text": [
        "70138\n"
       ]
      }
     ],
     "prompt_number": 5
    }
   ],
   "metadata": {}
  }
 ]
}