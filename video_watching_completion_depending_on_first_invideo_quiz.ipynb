{
 "metadata": {
  "name": "",
  "signature": "sha256:93cc8d1f8fb8456ab58d9c6318c88a54a235999fc999575c51b69c2c05679769"
 },
 "nbformat": 3,
 "nbformat_minor": 0,
 "worksheets": [
  {
   "cells": [
    {
     "cell_type": "code",
     "collapsed": false,
     "input": [
      "from lectures_to_viewers import *\n",
      "from coursera_analytics_common import *\n",
      "from video_annotations import ml_004 as vid"
     ],
     "language": "python",
     "metadata": {},
     "outputs": [],
     "prompt_number": 1
    },
    {
     "cell_type": "code",
     "collapsed": false,
     "input": [
      "print vid['video_lengths']"
     ],
     "language": "python",
     "metadata": {},
     "outputs": [
      {
       "output_type": "stream",
       "stream": "stdout",
       "text": [
        "{1: 414, 2: 434, 3: 749, 4: 853, 5: 490, 6: 492, 7: 669, 8: 528, 9: 620, 10: 710, 11: 690, 12: 349, 13: 525, 14: 413, 15: 819, 16: 669, 17: 542, 18: 672, 19: 502, 20: 304, 21: 531, 22: 538, 23: 459, 24: 977, 25: 358, 26: 839, 27: 967, 28: 794, 29: 578, 30: 828, 31: 775, 32: 213, 33: 488, 34: 444, 35: 889, 36: 614, 37: 846, 38: 375, 39: 582, 40: 610, 41: 640, 42: 513, 43: 575, 44: 467, 45: 721, 46: 706, 47: 435, 48: 620, 49: 231, 50: 403, 51: 719, 52: 764, 53: 467, 54: 697, 55: 411, 56: 803, 57: 390, 58: 685, 59: 350, 60: 455, 61: 723, 62: 462, 63: 680, 64: 713, 65: 410, 66: 569, 67: 791, 68: 695, 69: 845, 70: 669, 71: 887, 72: 636, 73: 1181, 74: 944, 75: 943, 76: 1262, 77: 196, 78: 752, 79: 424, 80: 469, 81: 502, 82: 609, 83: 327, 84: 545, 85: 913, 86: 630, 87: 234, 88: 768, 89: 458, 90: 627, 91: 722, 92: 787, 93: 456, 95: 737, 96: 825, 97: 843, 98: 474, 99: 871, 100: 614, 101: 506, 102: 507, 103: 510, 104: 344, 105: 799, 106: 377, 107: 691, 108: 770, 109: 848, 110: 422, 111: 879, 112: 980, 113: 830, 114: 281}\n"
       ]
      }
     ],
     "prompt_number": 2
    },
    {
     "cell_type": "code",
     "collapsed": false,
     "input": [
      "numLectures = max(vid['video_lengths'].keys())\n",
      "print numLectures"
     ],
     "language": "python",
     "metadata": {},
     "outputs": [
      {
       "output_type": "stream",
       "stream": "stdout",
       "text": [
        "114\n"
       ]
      }
     ],
     "prompt_number": 3
    },
    {
     "cell_type": "code",
     "collapsed": false,
     "input": [],
     "language": "python",
     "metadata": {},
     "outputs": [],
     "prompt_number": 3
    },
    {
     "cell_type": "code",
     "collapsed": false,
     "input": [
      "#print len(user_to_lectures_finished.keys())"
     ],
     "language": "python",
     "metadata": {},
     "outputs": [],
     "prompt_number": 4
    },
    {
     "cell_type": "code",
     "collapsed": false,
     "input": [],
     "language": "python",
     "metadata": {},
     "outputs": [],
     "prompt_number": 4
    },
    {
     "cell_type": "code",
     "collapsed": false,
     "input": [
      "import csv\n",
      "\n",
      "def get_table_path(table_name):\n",
      "  csv_path = '/lfs/local/0/geza/ml-004_data_export/'\n",
      "  return csv_path + table_name + '.csv'\n",
      "\n",
      "def get_table_data(table_name):\n",
      "  return csv.DictReader(open(get_table_path(table_name)), doublequote=False, delimiter=',', escapechar='\\\\')\n",
      "\n",
      "def print_first_lines(table_name, n=10):\n",
      "  for x in get_table_data(table_name):\n",
      "    if n <= 0:\n",
      "      break\n",
      "    n -= 1\n",
      "    print x\n",
      "\n",
      "@memoized\n",
      "def get_eventing_to_session_id():\n",
      "  output = {}\n",
      "  for line in get_table_data('hash_mapping'):\n",
      "    session_id = line['session_user_id']\n",
      "    eventing_id = line['eventing_user_id']\n",
      "    output[eventing_id] = session_id\n",
      "  return output"
     ],
     "language": "python",
     "metadata": {},
     "outputs": [],
     "prompt_number": 5
    },
    {
     "cell_type": "code",
     "collapsed": false,
     "input": [
      "print_first_lines('hash_mapping')"
     ],
     "language": "python",
     "metadata": {},
     "outputs": [
      {
       "output_type": "stream",
       "stream": "stdout",
       "text": [
        "{'user_id': '1', 'session_user_id': 'c693d0b484da0667b2bbbf157a2cd6c95ffe6376', 'eventing_user_id': 'e123d3d9c31622e9edb11c3f5604d0c1deee367e', 'public_user_id': 'ceb7520404e053a64bc23e85a73ca15f3d063f10'}\n",
        "{'user_id': '2', 'session_user_id': 'cdd93750ed3ef3880789ba5ebc67c8b8fd1d626a', 'eventing_user_id': 'db63d8ddb3a31203eae1e3e50349dcf0dc8e7e8e', 'public_user_id': '28d90149720ad82f518b1965faee12de805efc8c'}\n",
        "{'user_id': '3', 'session_user_id': '34fb1dd4844e404c33b1f301a6f744a96b69db0f', 'eventing_user_id': 'e469f7d3c15b76071e0e865665232441ca9e0ddd', 'public_user_id': '181a341b261bf96943e38790e862a437de18e293'}\n",
        "{'user_id': '4', 'session_user_id': '13baa63d9578b64f11d7ba6bf4a0d5ba18112230', 'eventing_user_id': '979a35a36efa2c0ad797e471edc335f68fe2ee80', 'public_user_id': '38f0b3747f71a584cd758d6b1f31c268b3257b23'}\n",
        "{'user_id': '18', 'session_user_id': 'a02a252da933da4552e4bffeaee1b3c65dc2249a', 'eventing_user_id': 'd0397920606f46fb33cf2fd8bbd38301df86753a', 'public_user_id': '50b1382b2e68a603fc53eacac4a96c2e320de45a'}\n",
        "{'user_id': '30', 'session_user_id': '01774014ac873cafef58464692df913f3b1a872b', 'eventing_user_id': 'f44ab640d136ea6e76bb7ff22d8fdaba3423ee92', 'public_user_id': 'b1dfb0b8f4bf2a78694e04ccd4f7c67fb251d69c'}\n",
        "{'user_id': '694', 'session_user_id': '7fda88fedf7507f47710216aea91aa47ee925635', 'eventing_user_id': '323f5da9c7343fdd6f7b4e6bdd1c4813377fd18e', 'public_user_id': 'fc5e77c3fcdc05a00123db9a8a83c3e519a70973'}\n",
        "{'user_id': '1065', 'session_user_id': 'cb12262e9a4d41a64cf2978b7c168b1799516ac1', 'eventing_user_id': '29c357e49d912d5140abd6b9724d3477082e5386', 'public_user_id': '16affa0f3a619b39e0f80c1a2ba9a2823d6367e7'}\n",
        "{'user_id': '1156', 'session_user_id': '38178a0f0e2b7a398c93219e345fd37bac1ec769', 'eventing_user_id': '468167859ddf6f3f83c69d20da72beed868519ea', 'public_user_id': '7f94b9de14090164fdb4b453394b58e1e7eb91e6'}\n",
        "{'user_id': '1160', 'session_user_id': '278606101f3854b7e0db9282801f4f4bd3cda421', 'eventing_user_id': 'd99364c263653bde6236530eb8d6a90041cef783', 'public_user_id': '4cc89a86f00c1b179d7db27a5d17410c2f471edc'}\n"
       ]
      }
     ],
     "prompt_number": 6
    },
    {
     "cell_type": "code",
     "collapsed": false,
     "input": [
      "print len(getViewersToLectures().keys())"
     ],
     "language": "python",
     "metadata": {},
     "outputs": [
      {
       "output_type": "stream",
       "stream": "stdout",
       "text": [
        "59641\n"
       ]
      }
     ],
     "prompt_number": 7
    },
    {
     "cell_type": "code",
     "collapsed": false,
     "input": [],
     "language": "python",
     "metadata": {},
     "outputs": [],
     "prompt_number": 7
    },
    {
     "cell_type": "code",
     "collapsed": false,
     "input": [
      "users_who_opened_course = set() # session ids of users who opened course\n",
      "eventing_to_session_id = get_eventing_to_session_id()\n",
      "for session_id in getViewersToLectures().keys():\n",
      "  #if eventing_id not in eventing_to_session_id:\n",
      "  #  continue\n",
      "  #session_id = eventing_to_session_id[eventing_id]\n",
      "  users_who_opened_course.add(session_id)"
     ],
     "language": "python",
     "metadata": {},
     "outputs": [],
     "prompt_number": 8
    },
    {
     "cell_type": "code",
     "collapsed": false,
     "input": [
      "#print getViewersToLectures().keys()[0:100]"
     ],
     "language": "python",
     "metadata": {},
     "outputs": [],
     "prompt_number": 9
    },
    {
     "cell_type": "code",
     "collapsed": false,
     "input": [
      "#print eventing_to_session_id\n",
      "\n",
      "print len(users_who_opened_course)"
     ],
     "language": "python",
     "metadata": {},
     "outputs": [
      {
       "output_type": "stream",
       "stream": "stdout",
       "text": [
        "59641\n"
       ]
      }
     ],
     "prompt_number": 10
    },
    {
     "cell_type": "code",
     "collapsed": false,
     "input": [
      "# here we determine how many people enrolled vs passed the course\n",
      "\n",
      "\n",
      "\n",
      "\n",
      "\n",
      "#max_course_grade = 0\n",
      "total_num_users = 0\n",
      "num_users_earning_certificate = 0\n",
      "\n",
      "for line in get_table_data('course_grades'):\n",
      "  user = line['session_user_id']\n",
      "  if user not in users_who_opened_course:\n",
      "    continue\n",
      "  total_num_users += 1\n",
      "  grade = float(line['normal_grade'])\n",
      "  if grade >= 80.0:\n",
      "    num_users_earning_certificate += 1\n",
      "  #user = line['session_user_id']\n",
      "  #max_course_grade = max(grade, max_course_grade)\n",
      "\n",
      "print total_num_users\n",
      "print num_users_earning_certificate"
     ],
     "language": "python",
     "metadata": {},
     "outputs": [
      {
       "output_type": "stream",
       "stream": "stdout",
       "text": [
        "59641\n",
        "8615\n"
       ]
      }
     ],
     "prompt_number": 11
    },
    {
     "cell_type": "code",
     "collapsed": false,
     "input": [
      "users_who_earned_certificate = set()\n",
      "\n",
      "for line in get_table_data('course_grades'):\n",
      "  user = line['session_user_id']\n",
      "  if user not in users_who_opened_course:\n",
      "    continue\n",
      "  grade = float(line['normal_grade'])\n",
      "  if grade >= 80.0:\n",
      "    users_who_earned_certificate.add(user)"
     ],
     "language": "python",
     "metadata": {},
     "outputs": [],
     "prompt_number": 12
    },
    {
     "cell_type": "code",
     "collapsed": false,
     "input": [
      "print len(users_who_earned_certificate)"
     ],
     "language": "python",
     "metadata": {},
     "outputs": [
      {
       "output_type": "stream",
       "stream": "stdout",
       "text": [
        "8615\n"
       ]
      }
     ],
     "prompt_number": 13
    },
    {
     "cell_type": "code",
     "collapsed": false,
     "input": [
      "user_to_lectures_finished = {}\n",
      "\n",
      "for anon_username,event_type,curr_time,lecture_id,event_timestamp in listFields(['anon_username', 'event_type', 'curr_time', 'lecture_id', 'event_timestamp'], 'where event_type=\"pause\"'):\n",
      "  lecture_id = int(lecture_id)\n",
      "  if abs(curr_time - vid['video_lengths'][lecture_id]) > 3:\n",
      "    continue\n",
      "  if anon_username not in user_to_lectures_finished:\n",
      "    user_to_lectures_finished[anon_username] = set()\n",
      "  user_to_lectures_finished[anon_username].add(lecture_id)\n"
     ],
     "language": "python",
     "metadata": {},
     "outputs": [
      {
       "output_type": "stream",
       "stream": "stderr",
       "text": [
        "coursera_analytics_common.py:119: FutureWarning: read_frame is deprecated, use read_sql\n",
        "  data = read_frame(\"select \" + fieldnameString + \" from \" + getTableName() + \" \" + extraquery, database_instance)\n"
       ]
      }
     ],
     "prompt_number": 14
    },
    {
     "cell_type": "code",
     "collapsed": false,
     "input": [
      "user_to_lectures_started = getViewersToLectures()"
     ],
     "language": "python",
     "metadata": {},
     "outputs": [],
     "prompt_number": 15
    },
    {
     "cell_type": "code",
     "collapsed": false,
     "input": [
      "from bokeh.plotting import figure, output_notebook, show, vplot"
     ],
     "language": "python",
     "metadata": {},
     "outputs": [],
     "prompt_number": 16
    },
    {
     "cell_type": "code",
     "collapsed": false,
     "input": [
      "users_finishing_lecture2 = set()\n",
      "for user,lectures_finished in user_to_lectures_finished.items():\n",
      "  #if '2' in lectures_finished:\n",
      "  if 2 in lectures_finished:\n",
      "    users_finishing_lecture2.add(user)\n"
     ],
     "language": "python",
     "metadata": {},
     "outputs": [],
     "prompt_number": 17
    },
    {
     "cell_type": "code",
     "collapsed": false,
     "input": [
      "total_num_users = 0\n",
      "num_users_earning_certificate = 0\n",
      "\n",
      "for line in get_table_data('course_grades'):\n",
      "  user = line['session_user_id']\n",
      "  if user not in users_finishing_lecture2:\n",
      "    continue\n",
      "  total_num_users += 1\n",
      "  grade = float(line['normal_grade'])\n",
      "  if grade >= 80.0:\n",
      "    num_users_earning_certificate += 1\n",
      "  #user = line['session_user_id']\n",
      "  #max_course_grade = max(grade, max_course_grade)\n",
      "\n",
      "print total_num_users\n",
      "print num_users_earning_certificate"
     ],
     "language": "python",
     "metadata": {},
     "outputs": [
      {
       "output_type": "stream",
       "stream": "stdout",
       "text": [
        "26435\n",
        "4963\n"
       ]
      }
     ],
     "prompt_number": 18
    },
    {
     "cell_type": "code",
     "collapsed": false,
     "input": [
      "#print_first_lines('quiz_submission_metadata')"
     ],
     "language": "python",
     "metadata": {},
     "outputs": [],
     "prompt_number": 19
    },
    {
     "cell_type": "code",
     "collapsed": false,
     "input": [
      "from phpserialize import unserialize"
     ],
     "language": "python",
     "metadata": {},
     "outputs": [],
     "prompt_number": 20
    },
    {
     "cell_type": "code",
     "collapsed": false,
     "input": [
      "import json"
     ],
     "language": "python",
     "metadata": {},
     "outputs": [],
     "prompt_number": 21
    },
    {
     "cell_type": "code",
     "collapsed": false,
     "input": [],
     "language": "python",
     "metadata": {},
     "outputs": [],
     "prompt_number": 21
    },
    {
     "cell_type": "code",
     "collapsed": false,
     "input": [
      "user_to_question_to_answer_ids = {}\n",
      "quiz_id_to_question_ids = {}\n",
      "\n",
      "for line in get_table_data('kvs_course.quiz'):\n",
      "  key = line['key']\n",
      "  value = line['value']\n",
      "  if key.startswith('saved.quiz_id:'):\n",
      "    parts = key.split('.')\n",
      "    quiz_id = parts[1].split(':')[1]\n",
      "    user_id = parts[2].split(':')[1]\n",
      "    info = unserialize(unserialize(value))\n",
      "    if info['answers'] != {}:\n",
      "      for question_id,answer_id in info['answers'].items():\n",
      "        if quiz_id not in quiz_id_to_question_ids:\n",
      "          quiz_id_to_question_ids[quiz_id] = set()\n",
      "        quiz_id_to_question_ids[quiz_id].add(question_id)\n",
      "      #if quiz_id == '2':\n",
      "      #  print key\n",
      "      #  print info\n",
      "      #  break\n",
      "  #print unserialize(key)\n",
      "  #print unserialize(value)\n",
      "  #try:\n",
      "  #  print unserialize(value)\n",
      "  #except:\n",
      "  #  continue\n",
      "  #idx += 1\n",
      "  #if idx >= 100:\n",
      "  #  break"
     ],
     "language": "python",
     "metadata": {},
     "outputs": [],
     "prompt_number": 22
    },
    {
     "cell_type": "code",
     "collapsed": false,
     "input": [],
     "language": "python",
     "metadata": {},
     "outputs": [],
     "prompt_number": 22
    },
    {
     "cell_type": "code",
     "collapsed": false,
     "input": [
      "print quiz_id_to_question_ids\n",
      "# '2': l9nypDpiHq \n"
     ],
     "language": "python",
     "metadata": {},
     "outputs": [
      {
       "output_type": "stream",
       "stream": "stdout",
       "text": [
        "{'133': set(['38138194df029d49aa308883afc4771a', '802b8c51695b8b372bdabcb2ef1270b9', '478e178a367f5b623928e8d71dc85e7b', 'd031aac3ec4fc06cb62646a1a50cc774', '97bbb9f2d6b89de54d75bc416f19303e', 'e226597af147721924a669ea7466e9dd', 'f56bf49718b28f4015c64e1036e6d336', '677b8575a1a1428d9cab8807c60491a3', '78287c73bea361d7080ab0a2d4084f63', '70f32846bf7b48421fe010362dcc9115', '72fc4b74e90eb0d2a7d6cab46bc6b736']), '132': set(['52730d87bab3a266657abad0f3ef9b84', '61efe897397d7178d9e24294e1945241', '8a1ca358017c9d38f58d9fe21fdddea1', 'eae92ea2ff222579939a51541e655445', 'c5e55649bc53dbf9aa9b7baa5af86de7', 'dbad8abc3fe1ee50107a029e96d5028d', 'ea270a2348339ac306a5a59943f42be7', '670a9754c22f912fd2aed1c0a3536e2a']), '137': set(['fc86bc4759554ae573e7b7c9155a5aa4', 'c36bb3e7fd9cd72c073e8ff456fbc2c5', '08c48fcf0777f7497f0bc2149673b0ef', '879336c6a046a4a476576f2b41134cb4', '47780de0d1d7596309385185f0aea0d7']), '136': set(['67cd1611d22761533f721ba09e95bdd3', '4a132db161cd178a10c4cc254f44d0ba', '9154484818aafce709005282b29c355f', '7afc0e2105ebca304a4a66aee895d994']), '135': set(['48847584843dc6f8c177266e3285b84f', '3cbe29ae7fceb38193ababc4aa025726', 'bfb6de2253c01b938c28ef8beb12dc46', '397c45ebd10d6aec9636b799c1106146']), '134': set(['a90a801bb78fa915185f76d664554c0a', '38da80f7a4db59709de7bc6f94024c24', '37fc319f5557cf443e9ec18f807230aa', 'c3727e288b06d273b2bc79f256124eb3', 'c568fc4b1de32a02bb6c0b9b6d41a7cf', '2827079cacba7a73fbfb3e18e3fad338']), '139': set(['bf81f6be8e7ceff977f18de3dd5c1c4b', '277676d64979de1a31e037171168eee4', '11bdc21d931d5980f56db0b1759f20df', 'c610afcaabad65b8f5e6d5b87d5d75b4', '4cfdfeb8bb64cacbf7001326e8d062d7']), '138': set(['a635c5fa3e2c4659208956a121b68bdf', '453da3d5655f3a6830fb85a3307f85c2', '474bfe579b066c1a006340ad306ece48', '3e2dd3d04391a41cda17aca045c10258', '1658cdc542a4b71a8467cf84c5558d68']), '24': set(['8a904036386999c4f1f6846b687276c3', 'c8be7aa3a9ad4ddaa7a89759b749d4e5', '5b2ba42c35aaac2b01cd8a53ea9527d6', 'e5838670d9efc65d7133f262cd352ab8']), '25': set(['805a2e0fcda986965492bc212f552b86']), '26': set(['6f6afdadddd0e0c65c8c99853bfd0663']), '27': set(['791cf62ccc3d917d55572d730369f5d8']), '20': set(['1d52e82192d9efdd57487458a500445b', '25442ca43beb31c456d9401cecd8260a', '8c49047704acdc9cfe6529f38d528929', '745c80419d7729f1ca876307e9fcbee9', '1a0785c810a4e897c00fdda7d60edf04', '3f1569e462d56bd81f3c3007018f1162', '18fcab1ed8f8572be792b7f524dfdaad', 'd53367a9da8fe145b69c27edf1d03a21', 'e9df5fb04e042f78de777bde89ef8f13', '88164276effa24ddb273048e3900927a', '2cd5aeb5969cf0966d3ee42026c062d2', '504967122d5bf0be1461ec34a30be914', '47be24c929ebb1b97f49e9cbcb41aab0', '50fd63c99e56f7f88d2ee18e5c7a02ca', '2f376b541923160e0bf23b8c80d792c4', '52ae23f734ad68866eeab69deb44f84f', '7cd9872e32b4ca719faa6acef955a47b']), '21': set(['3c2b16ed68c0fc61df870ea549d79271', '57859454cf35d425bd94006afdc9e1fe']), '22': set(['cf2a66ef4fcbb82846f7d784de4763eb', '969fd508d737a44cd4a5fe69a583942f', 'cda9dad8fb55efcabea787717102f417']), '23': set(['00eb0e871e6ce85883cddb9d12d566c0', '8b4486925af827a18afd8fcaaabbf164']), '28': set(['e54e8c69a65bcbc318b917e38953c209']), '29': set(['58b4401ec2b72d36407ff4abf7865fce']), '4': set(['DIsCI26ARr']), '87': set(['ec298f2c4835d4bd5e4b448f35f997d2']), '120': set(['bc2ab645ba757cd97d3f50e3993d3f64']), '121': set(['f6ab17cb348527a33e403de57224e3f3']), '122': set(['db7ac39b702390eb0929ce1ceb07b189']), '123': set(['72b00ee9ed4d3116d52a59231660e6f2']), '124': set(['85d40f56b8198ce36032e931b35d292a']), '125': set(['0d200af3da37cab2aa3e859d15c54c8f']), '126': set(['315c02d43f693b1d1c416550e5ee1579']), '127': set(['e31bc125f0a632612b74d21176e67783']), '128': set(['6154392209e9092a4f26f58bdca96b21', '7a0b6840fe7e95897c280c307aa20ee1']), '129': set(['af72af8f5145bfb29cd414d1e54cb1d4']), '59': set(['853866b30fb844f960d86e3194e9e6ee']), '58': set(['885ec8468d4fe42b64fb743cc13da6c2']), '55': set(['6c4a5f15785489d0b24cd7d41f0deb3d']), '54': set(['7a1807638d9a042ef8e072bad4fd3bb1']), '57': set(['f6ae5fa4fcb77394ea1b126f11f16645']), '56': set(['6a3dddb6b2ba7c23fc7726c691894c02']), '51': set(['5433995b83ec4c858532e4f3f8eb5f9d']), '50': set(['3a56e066f61c9859ce51ff3c58a5c586']), '53': set(['103b548649cabfdc5f8f0d5e16b2ed27']), '293': set(['d0dc2a6737e39b4eda5b187f17ce7a94', 'matrix_q1', 'matrix_q2', 'matrix_q3', 'matrix_q4', 'matrix_q5', 'matrix_q6', 'matrix_q7', 'matrix_q8', '5d6819896770049873998a4f029a8590', '0eb937a7082c005a53f988e8e01307a9', '3e5f16f40c9c5bdcb18d0e421274cb9b', '6615d8d6b6b1eb3362855ccf99ffe078', 'b7b1eb2922a67c5850b2016f4867f9e5', '9331430978a584b240502ed58f487207', 'fef9ae52ca8a3645a27d833710965503']), '291': set(['matrix_q2', '389ea63a68501e251d8e44c3940818c7', '81afba7a44016046f48888f22942c212', '73db877e5a94b1ffa1429c6fc57ec857', 'd6e90ca0adc4df67ac503e865439c68e', 'b155d16e079f4a8478c3e34384be2796', '3a9ee157588d8eb4cf5cc9d05b315a41', '3b0c7130f9b29cbe977e0bfea20786fd']), '115': set(['36479f5e7e72617ec5ec73bb6b65b24c']), '114': set(['1a3df3fb59d472189819967b3aaaa445']), '117': set(['cc768bf5b7dceb35d7c5fb6aaef8cfb3']), '116': set(['c3852a52e0a8e44b8633811a4b5aefef', 'c9edaa1b01fc2ef39bc32dc0b82fc849']), '111': set(['5e31ccc98b0d4747929b08552099c32e']), '110': set(['b90b86698c1a9a3608141cae08a76fd5']), '113': set(['270b0a74e84141643ddd2137c7c47a1d']), '112': set(['d9e6137fa4a4e5818e82a7ac067427e8']), '82': set(['cccf380367a84a6e2f8ed71153bf2b2d']), '83': set(['48eea7bb4e2d62179c977be378915129']), '80': set(['4ebf199126200af80ec064a05cac1d9a']), '81': set(['88b382f2af1e18a65d67427c44d9f50c']), '119': set(['cea8fad2299fa9f620628fca53b37d31']), '118': set(['a32d3489f3a2b4a2300a6da656f5257b']), '84': set(['adecb4e71876ba4196d62b16f3c9edfc']), '85': set(['e40e45b5e17cac9140074e2fa42443d7', 'b7097a8d95c85a841144cc650f27ae8a']), '3': set(['XRH6Bfw1ub']), '7': set(['d8Rtc7LCHS']), '108': set(['ee46e63899c9907db7e61b3b287c3b9d']), '109': set(['5a9cc0e33d8bda7720bb611de21b8f7d']), '102': set(['00af3273c49ac5e7da4e8d75b436dd50']), '103': set(['c293a0716b94aadb55188f4844711372']), '100': set(['377314c298bb912f68760cd07b0658fb']), '101': set(['7df1109f26725ab15a3091df604dc981']), '106': set(['6854fb924b3515e240b052f04b3ba8e5']), '107': set(['21fcaa687ab58f0d1456e3b4c7dde560']), '104': set(['04b3ddeaa1ecf46d990de6f16b672d1b']), '105': set(['66661088cf7c1912eea06741f22234e0']), '38': set(['2f34f3972ff9229b54de55e22962e138']), '32': set(['e6c165be4366066b2b12c03a7a73261c']), '31': set(['e6c165be4366066b2b12c03a7a73261c']), '30': set(['48c58d91e8b4ba69e855527382fd0024']), '86': set(['42dbfd679204cd5962aef51e17aa6fc7']), '60': set(['5e0df061f0f71b13980dc4008b1da09c']), '61': set(['6ab5d4ebdb0bbeeafec3bdec9ba4ec1a']), '62': set(['788d097e06b20a04302c9e3ec6e3bc76', 'f72865cfcc4874aea29a54b67d8e6a03']), '63': set(['5ebd5f3774e0d6895f9fec318ff9acfc']), '64': set(['dd268b567e7f90f1e60fad9403dbf415']), '67': set(['PBBA3OTyCr', 'aZBy6UvubF', 'a4Cfb3FiCd', 'zrpO4I9f1X', 'yaPlAqJjWd', 'cqArwr9ROj', 'rOsNgDdMMT', 'I40Gv04sZZ', 'GKnVqLnSCt', 'wmasL95cqN', 'rXilzYCz8T', 'PfcWkYgEfx', 'UJzOeWJhAq', 'VDJiEAjArk', 'VNMHuSkRGz']), '68': set(['Zx2oT6zUKM', 'QeVl6b24zz', 'Z6tTkYHKDq', 'HHYgD8ehwj', 'Oe3q3MRfi3']), '69': set(['3DQKT3wr1p', 'KCtF4Q3ikE', 'rZ8xZFwlSz', 'Xscpe0EuDs', 'UzG2fgGwHT', 'MLBg6AmswH', 'qpdjDan1rg', 'es9ALaIU5U', 'TEUYtcZAwY', 'Lr4Z0n7Ht7']), '2': set(['l9nypDpiHq']), '6': set(['0d1iR1YFqK']), '99': set(['571e8aedb209d3427af2e2ce719e8f1f']), '98': set(['9d27e978bceaf129e6cec8eea85c4902']), '91': set(['42cdabf0b8c78e87c457bfbb23091ea2']), '90': set(['de2eaa1e18062a97c1877d7db640d51c']), '93': set(['49290bcbee8d16b1607477327003ebc6']), '92': set(['03056cf0f92ee5e4c590ad299dc6afa5']), '95': set(['f9ab666752e11d78a8619021194549d0']), '94': set(['df496a202d6056f7f8cfe39756a0cec0']), '97': set(['b382af52e6ef81b269fe991d1c612da8']), '96': set(['ef0b1aa37c40794830ec90d7563b729e']), '11': set(['nzOSLZkEXV']), '10': set(['F7CFqgWAOd']), '17': set(['BdirrkUBdc', '1s2QXkMUcz', 'B0dQouXqP3', 'zuxN5fnHZG', 'i31Ihgf3Yu', 'KbbiYnWtlT', '2pabsR0qhY', '1MZmjEN59g', '4mkWxeyT1g', 'wu2CnW4tis']), '16': set(['sDsoVl0Dtr', 'USrOqZUq1F', 'pUFWhnHx31', 'lAPs2pgPro', 'yccrjJ4moe', 'yHOQkhtpZ8', 'ACwzs4Plyw', 'iInO7QFkMy', 'TPp2ooExVG', 'zBSphZQyO7', 'h5vpVhDfzn', 'ND1MqxZ0Qs', 'BTtXNfipZk']), '88': set(['e3f604653c20f799729127dc8fbb6746']), '89': set(['427782b523e9c4b98e60f9830790e136']), '48': set(['5c05be748857f196ed7b9e53c1b3ce7e']), '49': set(['da7d98e2c5f96e59b3df6f6f06b23d4d']), '46': set(['525304f1c63b25d3c91039c84fb7f7f1']), '47': set(['fd3185c5e99048a2176cba5c8e2e47b8']), '44': set(['e20066c3ca636a3a383f6df848851d75', '5fb0393c15b1e33b2697739238828372']), '45': set(['b9dae914fb51e0c502f9d3cd827652ac']), '42': set(['1d036ffe94adadf12d016373ece24900']), '43': set(['e5673e3958bf0966215b10e527f5644b']), '41': set(['70b8c6c56af273d8bfa4e170fcaf94e9']), '1': set(['be536c7e35db5576cf1253d6e30f8744', 'beb5e86632c5970786d141bc1fe0528d']), '5': set(['MPky4kp4xX']), '9': set(['qC8kiV3NhH']), '140': set(['1989e6a9e25e60f8453ffc3456af6ecc', '376c56a99f4ad6a83dbd7859dc11cdd4', 'af1c001448d53804c9266be742ee473c', 'f5b0c6464577c7ba78b6472c76f9459f', '220e0eef3bfcb8adfe154ee31444a0b7']), '77': set(['996e62712319fa725077861bcf6de041']), '76': set(['8453c64fbd2235bf2d6d633b52b5d44a']), '75': set(['418c630ed1608ad78ea95fd6ec7ed231', 'cd056917f4dc9369791f178a3a2e83aa', 'b2a7eace2189e71e477eff0a3a54f0d4', '61170ca0746b6ce39adb4e2ce6034c9b', '9bcfcc3d4b911fa9fbfc9082d116e6aa', '309f916041eb9915b289f32f85296e39', '2c9ed48c07d4f25c959067388dfd0a1a', '78659b686811c9f25dab9550ba87402e', '139686c04d14acfef5b8b88713b39f1d']), '72': set(['cb22bb7a05d07a6948215d0e7f160b48', 'b525479091f6e8ab9e080e8b1fd747cb']), '71': set(['a1FDdLKfuI', 'DMiAnHMufc', 'AS9fqFOQEt', 'd4ZdhyjKY9', 'Nu9lBeqtUf', 'lvjc1qTcIW', 'ZvoL7Fnoy7', 'hAvygV6l8f']), '70': set(['NLa997JDvm', 'vxHGhuuZin', 'DlLgyR0XMI', 'JdNKebiK3F', 'VcZYL9bbey', 'w88qvpXaEG', '8C38YlZRlD', '0VPRyUB0wT']), '79': set(['06f5eddcb9f676c856a65cedace93509']), '78': set(['43dc4df04ba4d6f79d38f500e8f3fb28'])}\n"
       ]
      }
     ],
     "prompt_number": 23
    },
    {
     "cell_type": "code",
     "collapsed": false,
     "input": [
      "users_who_answered_quiz2 = set() # the first in-video quiz\n",
      "\n",
      "for line in get_table_data('kvs_course.quiz'):\n",
      "  key = line['key']\n",
      "  value = line['value']\n",
      "  if key.startswith('saved.quiz_id:2.user_id:'):\n",
      "    parts = key.split('.')\n",
      "    quiz_id = parts[1].split(':')[1]\n",
      "    user_id = parts[2].split(':')[1]\n",
      "    users_who_answered_quiz2.add(user_id)"
     ],
     "language": "python",
     "metadata": {},
     "outputs": [],
     "prompt_number": 24
    },
    {
     "cell_type": "code",
     "collapsed": false,
     "input": [
      "user_to_quizzes_answered = {}\n",
      "\n",
      "for line in get_table_data('kvs_course.quiz'):\n",
      "  key = line['key']\n",
      "  value = line['value']\n",
      "  if key.startswith('saved.quiz_id:2.user_id:'):\n",
      "    parts = key.split('.')\n",
      "    quiz_id = parts[1].split(':')[1]\n",
      "    user_id = parts[2].split(':')[1]\n",
      "    if user_id not in user_to_quizzes_answered:\n",
      "      user_to_quizzes_answered[user_id] = set()\n",
      "    user_to_quizzes_answered[user_id].add(quiz_id)\n"
     ],
     "language": "python",
     "metadata": {},
     "outputs": [],
     "prompt_number": 25
    },
    {
     "cell_type": "code",
     "collapsed": false,
     "input": [
      "print len(user_to_quizzes_answered)"
     ],
     "language": "python",
     "metadata": {},
     "outputs": [
      {
       "output_type": "stream",
       "stream": "stdout",
       "text": [
        "40314\n"
       ]
      }
     ],
     "prompt_number": 26
    },
    {
     "cell_type": "code",
     "collapsed": false,
     "input": [
      "\n",
      "invideo_quiz_itemids = {}\n",
      "review_quiz_itemids = {}\n",
      "\n",
      "for line in csv.DictReader(open('quiz_metadata.csv')):\n",
      "  if line['deleted'] != '0':\n",
      "    continue\n",
      "  if line['quiz_type'] == 'video':\n",
      "    invideo_quiz_itemids[line['id']] = True\n",
      "  if line['quiz_type'] == 'quiz':\n",
      "    review_quiz_itemids[line['id']] = True\n",
      "\n",
      "#print invideo_quiz_itemids"
     ],
     "language": "python",
     "metadata": {},
     "outputs": [],
     "prompt_number": 41
    },
    {
     "cell_type": "code",
     "collapsed": false,
     "input": [],
     "language": "python",
     "metadata": {},
     "outputs": [],
     "prompt_number": 42
    },
    {
     "cell_type": "code",
     "collapsed": false,
     "input": [
      "\n",
      "user_to_invideo_quiz_answers = {}\n",
      "user_to_review_quiz_answers = {}\n",
      "\n",
      "for line in csv.DictReader(open('quiz_submission_metadata.csv')):\n",
      "  item_id = line['item_id']\n",
      "  #if int(line['submission_time']) > 1391185339: # newer than jan 31, 2014\n",
      "  #  continue\n",
      "  if item_id not in invideo_quiz_itemids and item_id not in review_quiz_itemids:\n",
      "    continue\n",
      "  session_id = line['session_user_id']\n",
      "  # in video quizzes\n",
      "  if item_id in invideo_quiz_itemids:\n",
      "    if session_id not in user_to_invideo_quiz_answers:\n",
      "      user_to_invideo_quiz_answers[session_id] = {}\n",
      "    if item_id not in user_to_invideo_quiz_answers:\n",
      "      user_to_invideo_quiz_answers[session_id][item_id] = []\n",
      "    user_to_invideo_quiz_answers[session_id][item_id].append(line)\n",
      "  # review quizzes\n",
      "  if item_id in review_quiz_itemids:\n",
      "    if session_id not in user_to_review_quiz_answers:\n",
      "      user_to_review_quiz_answers[session_id] = {}\n",
      "    if item_id not in user_to_review_quiz_answers:\n",
      "      user_to_review_quiz_answers[session_id][item_id] = []\n",
      "    user_to_review_quiz_answers[session_id][item_id].append(line)\n",
      "  #eventing_id = coursera_id\n"
     ],
     "language": "python",
     "metadata": {},
     "outputs": [],
     "prompt_number": 45
    },
    {
     "cell_type": "code",
     "collapsed": false,
     "input": [],
     "language": "python",
     "metadata": {},
     "outputs": []
    },
    {
     "cell_type": "code",
     "collapsed": false,
     "input": [
      "completing_users_not_answering_quiz2 = set()\n",
      "\n",
      "for user in users_who_earned_certificate:\n",
      "  if user not in users_who_answered_quiz2:\n",
      "    completing_users_not_answering_quiz2.add(user)\n",
      "\n",
      "print len(completing_users_not_answering_quiz2)"
     ],
     "language": "python",
     "metadata": {},
     "outputs": [
      {
       "output_type": "stream",
       "stream": "stdout",
       "text": [
        "1827\n"
       ]
      }
     ],
     "prompt_number": 27
    },
    {
     "cell_type": "code",
     "collapsed": false,
     "input": [
      "completing_users_not_looking_at_videos = set()\n",
      "\n",
      "for user in users_who_earned_certificate:\n",
      "  if user not in user_to_lectures_finished or len(user_to_lectures_finished[user]) == 0:\n",
      "    completing_users_not_looking_at_videos.add(user)\n",
      "\n",
      "print len(completing_users_not_looking_at_videos)"
     ],
     "language": "python",
     "metadata": {},
     "outputs": [
      {
       "output_type": "stream",
       "stream": "stdout",
       "text": [
        "591\n"
       ]
      }
     ],
     "prompt_number": 34
    },
    {
     "cell_type": "code",
     "collapsed": false,
     "input": [
      "users_did_invideo_quiz_lecture2 = set()\n",
      "item_ids_with_nonnull_scores = {}\n",
      "for line in get_table_data('quiz_submission_metadata'):\n",
      "  user = line['session_user_id']\n",
      "  item_id = line['item_id']\n",
      "  score = line['raw_score']\n",
      "  if item_id not in item_ids_with_nonnull_scores:\n",
      "    item_ids_with_nonnull_scores[item_id] = 0\n",
      "  item_ids_with_nonnull_scores[item_id] += 1\n",
      "  #if item_id == '2':\n",
      "  #  if score != 'NULL':\n",
      "  #    users_did_invideo_quiz_lecture2.add(user)\n",
      "\n",
      "print item_ids_with_nonnull_scores"
     ],
     "language": "python",
     "metadata": {},
     "outputs": [
      {
       "output_type": "stream",
       "stream": "stdout",
       "text": [
        "{'211': 1, '133': 21119, '132': 22397, '137': 17264, '136': 14746, '135': 14549, '134': 17999, '139': 16341, '138': 19185, '24': 43495, '25': 11844, '26': 12322, '27': 26318, '20': 28050, '21': 28141, '22': 35137, '23': 24031, '28': 43095, '29': 23023, '4': 35184, '8': 4, '119': 6246, '120': 12229, '121': 7780, '122': 7310, '123': 9322, '124': 6978, '125': 8465, '126': 6049, '127': 7713, '128': 13694, '129': 8899, '118': 8228, '59': 18451, '58': 16673, '55': 13768, '54': 17224, '57': 21665, '56': 15685, '51': 19906, '50': 16885, '53': 23907, '-1': 20083, '-2': 20083, '294': 1, '293': 5801, '291': 7200, '115': 10024, '114': 8401, '88': 10025, '89': 14861, '111': 6882, '110': 6480, '113': 6762, '112': 5709, '82': 13055, '83': 21636, '80': 15031, '81': 11269, '86': 8638, '87': 11411, '84': 8792, '85': 16884, '3': 35756, '7': 39383, '108': 8749, '109': 10207, '102': 12128, '103': 6862, '100': 10674, '101': 8525, '106': 6863, '107': 8404, '104': 9419, '105': 7228, '38': 12756, '32': 20072, '31': 22732, '30': 25254, '60': 15126, '61': 15745, '62': 21558, '63': 12765, '64': 10784, '67': 40142, '68': 30057, '69': 32056, '2': 40065, '6': 32155, '99': 7993, '98': 12282, '280': 1, '91': 10833, '90': 12105, '93': 12170, '92': 11633, '95': 12061, '94': 8685, '97': 9948, '96': 14807, '11': 26222, '10': 28356, '13': 2, '15': 3, '17': 38980, '16': 52800, '18': 1, '117': 7112, '116': 19597, '48': 19783, '49': 18523, '46': 15715, '47': 13497, '44': 45135, '45': 15064, '42': 16619, '43': 24927, '41': 22530, '1': 84, '5': 31570, '9': 35799, '140': 14217, '77': 11167, '76': 15079, '75': 17635, '73': 1, '72': 42157, '71': 27737, '70': 25243, '79': 10980, '78': 11167}\n"
       ]
      }
     ],
     "prompt_number": 29
    },
    {
     "cell_type": "code",
     "collapsed": false,
     "input": [
      "print users_did_invideo_quiz_lecture2"
     ],
     "language": "python",
     "metadata": {},
     "outputs": [
      {
       "output_type": "stream",
       "stream": "stdout",
       "text": [
        "set([])\n"
       ]
      }
     ],
     "prompt_number": 30
    },
    {
     "cell_type": "code",
     "collapsed": false,
     "input": [
      "total_num_users = 0\n",
      "num_users_earning_certificate = 0\n",
      "\n",
      "for line in get_table_data('course_grades'):\n",
      "  user = line['session_user_id']\n",
      "  if user not in users_did_invideo_quiz_lecture2:\n",
      "    continue\n",
      "  total_num_users += 1\n",
      "  grade = float(line['normal_grade'])\n",
      "  if grade >= 80.0:\n",
      "    num_users_earning_certificate += 1\n",
      "  #user = line['session_user_id']\n",
      "  #max_course_grade = max(grade, max_course_grade)\n",
      "\n",
      "print total_num_users\n",
      "print num_users_earning_certificate"
     ],
     "language": "python",
     "metadata": {},
     "outputs": [
      {
       "output_type": "stream",
       "stream": "stdout",
       "text": [
        "0\n",
        "0\n"
       ]
      }
     ],
     "prompt_number": 31
    },
    {
     "cell_type": "code",
     "collapsed": false,
     "input": [
      "lecture_to_user_to_start_timestamps = [{} for i in range(numLectures)]\n",
      "lecture_to_user_to_finish_timestamps = [{} for i in range(numLectures)]\n",
      "lecture_to_user_to_seek_timestamps = [{} for i in range(numLectures)]\n",
      "\n",
      "lecture_to_user_to_seek_times = [{} for i in range(numLectures)]\n",
      "\n",
      "for anon_username,event_type,curr_time,lecture_id,event_timestamp in listFields(['anon_username', 'event_type', 'curr_time', 'lecture_id', 'event_timestamp'], 'where event_type=\"play\"'):\n",
      "  if abs(curr_time - 0) > 3:\n",
      "    continue\n",
      "  if anon_username not in lecture_to_user_to_start_timestamps[lecture_id]:\n",
      "    lecture_to_user_to_start_timestamps[lecture_id][anon_username] = []\n",
      "  lecture_to_user_to_start_timestamps[lecture_id][anon_username].append(event_timestamp)\n",
      "\n",
      "for anon_username,event_type,curr_time,lecture_id,event_timestamp in listFields(['anon_username', 'event_type', 'curr_time', 'lecture_id', 'event_timestamp'], 'where event_type=\"pause\"'):\n",
      "  #if curr_time != lecture_end_times[lecture_id]:\n",
      "  if abs(curr_time - lecture_end_times[lecture_id]) > 3:\n",
      "    continue\n",
      "  if anon_username not in lecture_to_user_to_finish_timestamps[lecture_id]:\n",
      "    lecture_to_user_to_finish_timestamps[lecture_id][anon_username] = []\n",
      "  lecture_to_user_to_finish_timestamps[lecture_id][anon_username].append(event_timestamp)\n",
      "\n",
      "for anon_username,event_type,curr_time,lecture_id,event_timestamp in listFields(['anon_username', 'event_type', 'curr_time', 'lecture_id', 'event_timestamp'], 'where event_type=\"seeked\" and curr_time<>0'):\n",
      "  if curr_time == lecture_end_times[lecture_id]:\n",
      "    continue\n",
      "  if anon_username not in lecture_to_user_to_seek_timestamps[lecture_id]:\n",
      "    lecture_to_user_to_seek_timestamps[lecture_id][anon_username] = []\n",
      "    lecture_to_user_to_seek_times[lecture_id][anon_username] = []\n",
      "  lecture_to_user_to_seek_timestamps[lecture_id][anon_username].append(event_timestamp)\n",
      "  lecture_to_user_to_seek_times[lecture_id][anon_username].append(curr_time)\n"
     ],
     "language": "python",
     "metadata": {},
     "outputs": [
      {
       "ename": "IndexError",
       "evalue": "list index out of range",
       "output_type": "pyerr",
       "traceback": [
        "\u001b[1;31m---------------------------------------------------------------------------\u001b[0m\n\u001b[1;31mIndexError\u001b[0m                                Traceback (most recent call last)",
        "\u001b[1;32m<ipython-input-32-40baa2d6d1b7>\u001b[0m in \u001b[0;36m<module>\u001b[1;34m()\u001b[0m\n\u001b[0;32m      8\u001b[0m   \u001b[1;32mif\u001b[0m \u001b[0mabs\u001b[0m\u001b[1;33m(\u001b[0m\u001b[0mcurr_time\u001b[0m \u001b[1;33m-\u001b[0m \u001b[1;36m0\u001b[0m\u001b[1;33m)\u001b[0m \u001b[1;33m>\u001b[0m \u001b[1;36m3\u001b[0m\u001b[1;33m:\u001b[0m\u001b[1;33m\u001b[0m\u001b[0m\n\u001b[0;32m      9\u001b[0m     \u001b[1;32mcontinue\u001b[0m\u001b[1;33m\u001b[0m\u001b[0m\n\u001b[1;32m---> 10\u001b[1;33m   \u001b[1;32mif\u001b[0m \u001b[0manon_username\u001b[0m \u001b[1;32mnot\u001b[0m \u001b[1;32min\u001b[0m \u001b[0mlecture_to_user_to_start_timestamps\u001b[0m\u001b[1;33m[\u001b[0m\u001b[0mlecture_id\u001b[0m\u001b[1;33m]\u001b[0m\u001b[1;33m:\u001b[0m\u001b[1;33m\u001b[0m\u001b[0m\n\u001b[0m\u001b[0;32m     11\u001b[0m     \u001b[0mlecture_to_user_to_start_timestamps\u001b[0m\u001b[1;33m[\u001b[0m\u001b[0mlecture_id\u001b[0m\u001b[1;33m]\u001b[0m\u001b[1;33m[\u001b[0m\u001b[0manon_username\u001b[0m\u001b[1;33m]\u001b[0m \u001b[1;33m=\u001b[0m \u001b[1;33m[\u001b[0m\u001b[1;33m]\u001b[0m\u001b[1;33m\u001b[0m\u001b[0m\n\u001b[0;32m     12\u001b[0m   \u001b[0mlecture_to_user_to_start_timestamps\u001b[0m\u001b[1;33m[\u001b[0m\u001b[0mlecture_id\u001b[0m\u001b[1;33m]\u001b[0m\u001b[1;33m[\u001b[0m\u001b[0manon_username\u001b[0m\u001b[1;33m]\u001b[0m\u001b[1;33m.\u001b[0m\u001b[0mappend\u001b[0m\u001b[1;33m(\u001b[0m\u001b[0mevent_timestamp\u001b[0m\u001b[1;33m)\u001b[0m\u001b[1;33m\u001b[0m\u001b[0m\n",
        "\u001b[1;31mIndexError\u001b[0m: list index out of range"
       ]
      }
     ],
     "prompt_number": 32
    },
    {
     "cell_type": "code",
     "collapsed": false,
     "input": [
      "# based on whether you answered the first in-video quiz, how many did you view?\n",
      "\n",
      "viewers_to_lectures = getViewersToLectures()"
     ],
     "language": "python",
     "metadata": {},
     "outputs": []
    }
   ],
   "metadata": {}
  }
 ]
}