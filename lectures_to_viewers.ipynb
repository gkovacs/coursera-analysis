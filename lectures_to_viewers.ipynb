{
 "metadata": {
  "name": "",
  "signature": "sha256:c7a589688087a683dee36ee9af9b7464aca7a887b9690ca83e354fa90ae8faea"
 },
 "nbformat": 3,
 "nbformat_minor": 0,
 "worksheets": [
  {
   "cells": [
    {
     "cell_type": "code",
     "collapsed": false,
     "input": [
      "# noexport\n",
      "\n",
      "import os\n",
      "os.system('export_notebook lectures_to_viewers.ipynb')"
     ],
     "language": "python",
     "metadata": {},
     "outputs": [
      {
       "metadata": {},
       "output_type": "pyout",
       "prompt_number": 6,
       "text": [
        "0"
       ]
      }
     ],
     "prompt_number": 6
    },
    {
     "cell_type": "code",
     "collapsed": false,
     "input": [
      "import json\n",
      "import os\n",
      "from memoized import memoized\n",
      "from get_database_name import getDatabaseName\n",
      "\n",
      "@memoized\n",
      "def getViewersToLecturesJsonMemoized(dbname):\n",
      "  jsonfile = dbname + '_viewerstolectures.json'\n",
      "  if not os.path.exists(jsonfile):\n",
      "    raise \"missing: \" + jsonfile\n",
      "    #json.dump(getViewersToLecturesReal(dbname), open(jsonfile, 'w'))\n",
      "  return json.load(open(jsonfile))\n",
      "\n",
      "def getViewersToLectures():\n",
      "  return getViewersToLecturesJsonMemoized(getDatabaseName())\n",
      "\n",
      "@memoized\n",
      "def getLecturesToViewersJsonMemoized(dbname):\n",
      "  jsonfile = dbname + '_lecturestoviewers.json'\n",
      "  if not os.path.exists(jsonfile):\n",
      "    raise 'missing: ' + jsonfile\n",
      "    #json.dump(getLecturesToViewersReal(dbname), open(jsonfile, 'w'))\n",
      "  return json.load(open(jsonfile))\n",
      "\n",
      "def getLecturesToViewers():\n",
      "  return getLecturesToViewersJsonMemoized(getDatabaseName())"
     ],
     "language": "python",
     "metadata": {},
     "outputs": [],
     "prompt_number": 5
    }
   ],
   "metadata": {}
  }
 ]
}