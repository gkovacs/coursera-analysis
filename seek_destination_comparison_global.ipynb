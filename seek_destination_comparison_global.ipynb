{
 "metadata": {
  "name": "",
  "signature": "sha256:96af55ed96765e065cb777d092e1e87211992b57b8ae5546377b6b6a101ce662"
 },
 "nbformat": 3,
 "nbformat_minor": 0,
 "worksheets": [
  {
   "cells": [
    {
     "cell_type": "code",
     "collapsed": false,
     "input": [
      "# noexport\n",
      "\n",
      "import os\n",
      "os.system('export_notebook seek_destination_comparison_global.ipynb')"
     ],
     "language": "python",
     "metadata": {},
     "outputs": [
      {
       "metadata": {},
       "output_type": "pyout",
       "prompt_number": 1,
       "text": [
        "0"
       ]
      }
     ],
     "prompt_number": 1
    },
    {
     "cell_type": "code",
     "collapsed": false,
     "input": [
      "from coursera_analytics_common import *\n",
      "import numpy"
     ],
     "language": "python",
     "metadata": {},
     "outputs": [
      {
       "output_type": "stream",
       "stream": "stdout",
       "text": [
        "59641\n",
        "8935\n"
       ]
      }
     ],
     "prompt_number": 2
    },
    {
     "cell_type": "code",
     "collapsed": false,
     "input": [
      "video_to_all_seek_destinations = json.load(open('video_to_all_seek_destinations.json'))\n",
      "other_seek_destinations = []\n",
      "prequiz_seek_destinations = []\n",
      "for lecture_id,seek_destinations in video_to_all_seek_destinations.iteritems():\n",
      "  lecture_id = int(lecture_id)\n",
      "  print 'processing ' + str(lecture_id)\n",
      "  if len(video_annotations.in_video_quiz_times_ml_004[lecture_id]) == 0:\n",
      "    continue\n",
      "  is_prequiz = [False for x in seek_destinations]\n",
      "  for quiz_time in video_annotations.in_video_quiz_times_ml_004[lecture_id]:\n",
      "    for i in range(max(0, quiz_time - 10), min(quiz_time, len(seek_destinations) - 1)):\n",
      "      is_prequiz[i] = True\n",
      "  prequiz_vals = [x for i,x in enumerate(seek_destinations) if is_prequiz[i] and i > 5]\n",
      "  prequiz_avg = numpy.mean(prequiz_vals)\n",
      "  other_vals = [x for i,x in enumerate(seek_destinations) if not is_prequiz[i] and i > 5]\n",
      "  other_avg = numpy.mean(other_vals)\n",
      "  prequiz_seek_destinations.append(prequiz_avg)\n",
      "  other_seek_destinations.append(other_avg)\n",
      "print numpy.mean(prequiz_seek_destinations)\n",
      "print numpy.mean(other_seek_destinations)\n",
      "print numpy.mean(prequiz_seek_destinations) / numpy.mean(other_seek_destinations)"
     ],
     "language": "python",
     "metadata": {},
     "outputs": [
      {
       "output_type": "stream",
       "stream": "stdout",
       "text": [
        "processing 24\n",
        "processing 25\n",
        "processing 26\n",
        "processing 27\n",
        "processing 20\n",
        "processing 21\n",
        "processing 22\n",
        "processing 23\n",
        "processing 28\n",
        "processing 29\n",
        "processing 4\n",
        "processing 8\n",
        "processing 59\n",
        "processing 58\n",
        "processing 55\n",
        "processing 54\n",
        "processing 57\n",
        "processing 56\n",
        "processing 51\n",
        "processing 50\n",
        "processing 53\n",
        "processing 52\n",
        "processing 114\n",
        "processing 88\n",
        "processing 89\n",
        "processing 111\n",
        "processing 110\n",
        "processing 113\n",
        "processing 112\n",
        "processing 82\n",
        "processing 83\n",
        "processing 80\n",
        "processing 81\n",
        "processing 86\n",
        "processing 87\n",
        "processing 84\n",
        "processing 85\n",
        "processing 3\n",
        "processing 7\n",
        "processing 108\n",
        "processing 109\n",
        "processing 102\n",
        "processing 103\n",
        "processing 100\n",
        "processing 101\n",
        "processing 106\n",
        "processing 107\n",
        "processing 104\n",
        "processing 105\n",
        "processing 39\n",
        "processing 38\n",
        "processing 33\n",
        "processing 32\n",
        "processing 31\n",
        "processing 30\n",
        "processing 37\n",
        "processing 36\n",
        "processing 35\n",
        "processing 34\n",
        "processing 60\n",
        "processing 61\n",
        "processing 62\n",
        "processing 63\n",
        "processing 64\n",
        "processing 65\n",
        "processing 66\n",
        "processing 67\n",
        "processing 68\n",
        "processing 69\n",
        "processing 2\n",
        "processing 6\n",
        "processing 99\n",
        "processing 98\n",
        "processing 91\n",
        "processing 90\n",
        "processing 93\n",
        "processing 92\n",
        "processing 95\n",
        "processing 97\n",
        "processing 96\n",
        "processing 11\n",
        "processing 10\n",
        "processing 13\n",
        "processing 12\n",
        "processing 15\n",
        "processing 14\n",
        "processing 17\n",
        "processing 16\n",
        "processing 19\n",
        "processing 18\n",
        "processing 48\n",
        "processing 49\n",
        "processing 46\n",
        "processing 47\n",
        "processing 44\n",
        "processing 45\n",
        "processing 42"
       ]
      },
      {
       "output_type": "stream",
       "stream": "stdout",
       "text": [
        "\n",
        "processing 43\n",
        "processing 40\n",
        "processing 41\n",
        "processing 1\n",
        "processing 5\n",
        "processing 9\n",
        "processing 77\n",
        "processing 76\n",
        "processing 75\n",
        "processing 74\n",
        "processing 73\n",
        "processing 72\n",
        "processing 71\n",
        "processing 70\n",
        "processing 79\n",
        "processing 78\n",
        "98.0923809524\n",
        "28.2397519422\n",
        "3.47355674913\n"
       ]
      }
     ],
     "prompt_number": 35
    },
    {
     "cell_type": "code",
     "collapsed": false,
     "input": [
      "#print video_to_all_seek_destinations.keys()\n",
      "#import numpy\n",
      "#numpy.mean([3,5,8])\n",
      "print list(enumerate([3,5,7]))"
     ],
     "language": "python",
     "metadata": {},
     "outputs": [
      {
       "output_type": "stream",
       "stream": "stdout",
       "text": [
        "[(0, 3), (1, 5), (2, 7)]\n"
       ]
      }
     ],
     "prompt_number": 9
    }
   ],
   "metadata": {}
  }
 ]
}