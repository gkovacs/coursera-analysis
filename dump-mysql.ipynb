{
 "metadata": {
  "name": ""
 },
 "nbformat": 3,
 "nbformat_minor": 0,
 "worksheets": [
  {
   "cells": [
    {
     "cell_type": "code",
     "collapsed": false,
     "input": [
      "import MySQLdb\n",
      "import sqlite3\n",
      "import json\n",
      "import gzip\n",
      "import os\n",
      "import cPickle as pickle\n",
      "\n",
      "# For autoreloading of modules (%autoreload, %aimport)    \n",
      "import video_annotations\n",
      "reload(video_annotations)\n",
      "import video_annotations\n",
      "\n",
      "from json import loads, dumps\n",
      "\n",
      "from pandas import DataFrame\n",
      "from pandas.io.sql import read_frame, write_frame\n",
      "\n",
      "from collections import Counter\n",
      "\n",
      "datastage_login = json.load(open('datastage_login.json'))\n",
      "\n",
      "#database = MySQLdb.connect(host='datastage.stanford.edu', user=datastage_login['user'], passwd=datastage_login['passwd'])"
     ],
     "language": "python",
     "metadata": {},
     "outputs": [],
     "prompt_number": 49
    },
    {
     "cell_type": "code",
     "collapsed": false,
     "input": [
      "import collections\n",
      "import functools\n",
      "\n",
      "class memoized(object):\n",
      "   '''Decorator. Caches a function's return value each time it is called.\n",
      "   If called later with the same arguments, the cached value is returned\n",
      "   (not reevaluated).\n",
      "   '''\n",
      "   def __init__(self, func):\n",
      "      self.func = func\n",
      "      self.cache = {}\n",
      "   def __call__(self, *args):\n",
      "      if not isinstance(args, collections.Hashable):\n",
      "         # uncacheable. a list, for instance.\n",
      "         # better to not cache than blow up.\n",
      "         return self.func(*args)\n",
      "      if args in self.cache:\n",
      "         return self.cache[args]\n",
      "      else:\n",
      "         value = self.func(*args)\n",
      "         self.cache[args] = value\n",
      "         return value\n",
      "   def __repr__(self):\n",
      "      '''Return the function's docstring.'''\n",
      "      return self.func.__doc__\n",
      "   def __get__(self, obj, objtype):\n",
      "      '''Support instance methods.'''\n",
      "      return functools.partial(self.__call__, obj)\n",
      "\n"
     ],
     "language": "python",
     "metadata": {},
     "outputs": [],
     "prompt_number": 50
    },
    {
     "cell_type": "code",
     "collapsed": false,
     "input": [
      "databases = {}\n",
      "\n",
      "#databasename = 'ml-004_clickstream_video.sqlite'\n",
      "#databasename = 'ml-004_clickstream_video.sqlite'\n",
      "databasename = 'coursera_crypto-009_hash_mapping'\n",
      "tablename = 'hash_mapping'\n",
      "\n",
      "def getDatabase():\n",
      "  if databasename not in databases and 'sqlite' in databasename:\n",
      "    databases[databasename] = sqlite3.connect('/lfs/local/0/geza/' + databasename)\n",
      "  elif databasename not in databases:\n",
      "    databases[databasename] = MySQLdb.connect(host='datastage.stanford.edu', user=datastage_login['user'], passwd=datastage_login['passwd'], db=databasename)\n",
      "  return databases[databasename]\n",
      "\n",
      "def getTableName():\n",
      "  return tablename\n",
      "\n",
      "def getDatabaseName():\n",
      "  return databasename\n",
      "\n",
      "def listFieldsForDatabase(fieldnames, database_instance, extraquery=''):\n",
      "  fieldnameString = ','.join(fieldnames)\n",
      "  data = read_frame(\"select \" + fieldnameString + \" from \" + getTableName() + \" \" + extraquery, database_instance)\n",
      "  return data.itertuples(index=False)\n",
      "\n",
      "def listFields(fieldnames, extraquery=''):\n",
      "  return listFieldsForDatabase(fieldnames, getDatabase(), extraquery)\n",
      "\n",
      "def listFieldsForDatabasePandas(fieldnames, database_instance, extraquery=''):\n",
      "  fieldnameString = ','.join(fieldnames)\n",
      "  data = read_frame(\"select \" + fieldnameString + \" from \" + getTableName() + \" \" + extraquery, database_instance)\n",
      "  return data\n",
      "\n",
      "def listFieldsPandas(fieldnames, extraquery=''):\n",
      "  return listFieldsForDatabasePandas(fieldnames, getDatabase(), extraquery)\n"
     ],
     "language": "python",
     "metadata": {},
     "outputs": [],
     "prompt_number": 51
    },
    {
     "cell_type": "code",
     "collapsed": false,
     "input": [
      "def getPickleFileForTable(tbname=tablename, dbname=databasename):\n",
      "  return '/lfs/local/0/geza/' + dbname + '_' + tbname\n",
      "\n",
      "def dumpTable(tbname, dbname):\n",
      "  if os.path.exists(getPickleFileForTable(tbname, dbname)):\n",
      "    print 'table has already been dumped at ' + getPickleFileForTable(tbname, dbname)\n",
      "    return\n",
      "  global tablename\n",
      "  global databasename\n",
      "  tablename = tbname\n",
      "  databasename = dbname\n",
      "  data = listFieldsPandas(['*'])\n",
      "  pickle.dump(data, open(getPickleFileForTable(tbname, dbname), 'w'))\n",
      "\n",
      "def loadTable(tbname, dbname):\n",
      "  return pickle.load(open(getPickleFileForTable(tbname, dbname)))"
     ],
     "language": "python",
     "metadata": {},
     "outputs": [],
     "prompt_number": 53
    },
    {
     "cell_type": "code",
     "collapsed": false,
     "input": [
      "dumpTable('hash_mapping', 'coursera_crypto-009_hash_mapping')\n",
      "#print loadTable('hash_mapping', 'coursera_crypto-009_hash_mapping')\n",
      "dumpTable('course_grades', 'coursera_crypto-009_anonymized_general')\n",
      "dumpTable('quiz_submission_metadata', 'coursera_crypto-009_anonymized_general')\n",
      "dumpTable('quiz_metadata', 'coursera_crypto-009_anonymized_general')"
     ],
     "language": "python",
     "metadata": {},
     "outputs": [
      {
       "output_type": "stream",
       "stream": "stdout",
       "text": [
        "table has already been dumped at /lfs/local/0/geza/coursera_crypto-009_hash_mapping_hash_mapping\n",
        "table has already been dumped at /lfs/local/0/geza/coursera_crypto-009_anonymized_general_course_grades\n",
        "table has already been dumped at /lfs/local/0/geza/coursera_crypto-009_anonymized_general_quiz_submission_metadata\n",
        "table has already been dumped at /lfs/local/0/geza/coursera_crypto-009_anonymized_general_quiz_metadata\n"
       ]
      }
     ],
     "prompt_number": 55
    },
    {
     "cell_type": "code",
     "collapsed": false,
     "input": [
      "data = loadTable('quiz_submission_metadata', 'coursera_crypto-009_anonymized_general')\n"
     ],
     "language": "python",
     "metadata": {},
     "outputs": [],
     "prompt_number": 43
    },
    {
     "cell_type": "code",
     "collapsed": false,
     "input": [
      "quiz_submission_counts = Counter([x[0] for x in data[['item_id']].itertuples(index=False)])\n",
      "quiz_submission_counts = {k: v for k,v in quiz_submission_counts.iteritems() if v > 100}\n",
      "print quiz_submission_counts"
     ],
     "language": "python",
     "metadata": {},
     "outputs": [
      {
       "output_type": "stream",
       "stream": "stdout",
       "text": [
        "{9: 39160, 10: 29675, 11: 33950, 12: 21223, 18: 5486, 19: 28846, 20: 13944, 26: 6435, 27: 7643, 33: 4924, 34: 8985, 35: 4124, 36: 8977, 38: 7120, 39: 3186, 40: 4238, 41: 2882, 42: 6107, 44: 2462, 46: 3632, 47: 4070, 49: 2415, 51: 2360, 54: 6022, 55: 8624, 56: 3909, 57: 15806, 58: 10171, 61: 4840, 65: 1461, 69: 7071, 70: 1926, 71: 2313, 72: 1767, 73: 2307, 74: 1605, 79: 2760, 80: 1654, 81: 2235, 82: 8822, 83: 5334, 84: 6079, 85: 1747, 86: 1554, 88: 1301, 89: 1496, 90: 1525, 92: 1297, 93: 2608, 95: 1432, 96: 1257, 97: 1336, 100: 1972, 101: 4613, 102: 3854, -2: 57688, 118: 316, 119: 10590, 120: 32204, 121: 2510, 122: 1641, 123: 1545, 125: 6821, -1: 57688}\n"
       ]
      }
     ],
     "prompt_number": 47
    },
    {
     "cell_type": "code",
     "collapsed": false,
     "input": [],
     "language": "python",
     "metadata": {},
     "outputs": []
    }
   ],
   "metadata": {}
  }
 ]
}