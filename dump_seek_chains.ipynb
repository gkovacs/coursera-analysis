{
 "cells": [
  {
   "cell_type": "code",
   "execution_count": 4,
   "metadata": {
    "collapsed": false
   },
   "outputs": [
    {
     "data": {
      "text/plain": [
       "0"
      ]
     },
     "execution_count": 4,
     "metadata": {},
     "output_type": "execute_result"
    }
   ],
   "source": [
    "# noexport\n",
    "\n",
    "import os\n",
    "os.system('export_notebook dump_seek_chains.ipynb')"
   ]
  },
  {
   "cell_type": "code",
   "execution_count": 5,
   "metadata": {
    "collapsed": false
   },
   "outputs": [],
   "source": [
    "#from coursera_lib_common import parseOptions\n",
    "#from navigation_events import SeekChain\n",
    "from video_annotations import ml_004 as vid\n",
    "#from lectures_to_viewers import getViewersToLectures\n",
    "from coursera_analytics_common import getSeekChains"
   ]
  },
  {
   "cell_type": "code",
   "execution_count": 3,
   "metadata": {
    "collapsed": false
   },
   "outputs": [],
   "source": [
    "import cPickle as pickle\n",
    "import jsonpickle\n",
    "import json\n",
    "import os"
   ]
  },
  {
   "cell_type": "code",
   "execution_count": 2,
   "metadata": {
    "collapsed": false
   },
   "outputs": [
    {
     "name": "stdout",
     "output_type": "stream",
     "text": [
      "1\n"
     ]
    },
    {
     "ename": "NameError",
     "evalue": "name 'json' is not defined",
     "output_type": "error",
     "traceback": [
      "\u001b[0;31m---------------------------------------------------------------------------\u001b[0m\n\u001b[0;31mNameError\u001b[0m                                 Traceback (most recent call last)",
      "\u001b[0;32m<ipython-input-2-40f7830cac9e>\u001b[0m in \u001b[0;36m<module>\u001b[0;34m()\u001b[0m\n\u001b[1;32m     12\u001b[0m     \u001b[0mseek_chains\u001b[0m \u001b[0;34m=\u001b[0m \u001b[0mgetSeekChains\u001b[0m\u001b[0;34m(\u001b[0m\u001b[0mlecture_id\u001b[0m\u001b[0;34m)\u001b[0m\u001b[0;34m\u001b[0m\u001b[0m\n\u001b[1;32m     13\u001b[0m     \u001b[0mpickle\u001b[0m\u001b[0;34m.\u001b[0m\u001b[0mdump\u001b[0m\u001b[0;34m(\u001b[0m\u001b[0mseek_chains\u001b[0m\u001b[0;34m,\u001b[0m \u001b[0mopen\u001b[0m\u001b[0;34m(\u001b[0m\u001b[0mpfile\u001b[0m\u001b[0;34m,\u001b[0m \u001b[0;34m'w'\u001b[0m\u001b[0;34m)\u001b[0m\u001b[0;34m,\u001b[0m \u001b[0mpickle\u001b[0m\u001b[0;34m.\u001b[0m\u001b[0mHIGHEST_PROTOCOL\u001b[0m\u001b[0;34m)\u001b[0m\u001b[0;34m\u001b[0m\u001b[0m\n\u001b[0;32m---> 14\u001b[0;31m     \u001b[0mjson\u001b[0m\u001b[0;34m.\u001b[0m\u001b[0mdump\u001b[0m\u001b[0;34m(\u001b[0m\u001b[0mjsonpickle\u001b[0m\u001b[0;34m.\u001b[0m\u001b[0mencode\u001b[0m\u001b[0;34m(\u001b[0m\u001b[0mseek_chains\u001b[0m\u001b[0;34m)\u001b[0m\u001b[0;34m,\u001b[0m \u001b[0mopen\u001b[0m\u001b[0;34m(\u001b[0m\u001b[0mjfile\u001b[0m\u001b[0;34m,\u001b[0m \u001b[0;34m'w'\u001b[0m\u001b[0;34m)\u001b[0m\u001b[0;34m)\u001b[0m\u001b[0;34m\u001b[0m\u001b[0m\n\u001b[0m",
      "\u001b[0;31mNameError\u001b[0m: name 'json' is not defined"
     ]
    }
   ],
   "source": [
    "for lecture_id in vid.video_lengths.keys():\n",
    "  pfile = '/lfs/local/0/geza/new_seek_chains/seek_chains_' + str(lecture_id) + '.pickle'\n",
    "  jfile = '/lfs/local/0/geza/new_seek_chains/seek_chains_' + str(lecture_id) + '.json'\n",
    "  if not os.path.exists(pfile):\n",
    "    print lecture_id\n",
    "    seek_chains = getSeekChains(lecture_id)\n",
    "    pickle.dump(seek_chains, open(pfile, 'w'), pickle.HIGHEST_PROTOCOL)\n",
    "    #json.dump(jsonpickle.encode(seek_chains), open(jfile, 'w'))"
   ]
  },
  {
   "cell_type": "code",
   "execution_count": null,
   "metadata": {
    "collapsed": false
   },
   "outputs": [
    {
     "name": "stdout",
     "output_type": "stream",
     "text": [
      "1\n",
      "2\n",
      "3\n",
      "4\n",
      "5\n",
      "6\n",
      "7\n",
      "8\n",
      "9\n",
      "10\n",
      "11\n",
      "12\n",
      "13"
     ]
    }
   ],
   "source": [
    "if not os.path.exists('/lfs/local/0/geza/new_seek_chains/video_to_seek_chains.pickle'):\n",
    "  video_to_seek_chains = {}\n",
    "  for lecture_id in vid.video_lengths.keys():\n",
    "    print lecture_id\n",
    "    pfile = '/lfs/local/0/geza/new_seek_chains/seek_chains_' + str(lecture_id) + '.pickle'\n",
    "    seek_chains = pickle.load(open(pfile))\n",
    "    video_to_seek_chains[lecture_id] = seek_chains\n",
    "  print 'dumping'\n",
    "  pickle.dump(video_to_seek_chains, open('/lfs/local/0/geza/new_seek_chains/video_to_seek_chains.pickle', 'w'), pickle.HIGHEST_PROTOCOL)\n",
    "  #json.dump(jsonpickle.encode(video_to_seek_chains), open('/lfs/local/geza/0/new_seek_chains/video_to_see_chains.json', 'w'))"
   ]
  }
 ],
 "metadata": {
  "kernelspec": {
   "display_name": "Python 2",
   "language": "python",
   "name": "python2"
  },
  "language_info": {
   "codemirror_mode": {
    "name": "ipython",
    "version": 2
   },
   "file_extension": ".py",
   "mimetype": "text/x-python",
   "name": "python",
   "nbconvert_exporter": "python",
   "pygments_lexer": "ipython2",
   "version": "2.7.5"
  }
 },
 "nbformat": 4,
 "nbformat_minor": 0
}
