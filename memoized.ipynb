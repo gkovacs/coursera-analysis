{
 "metadata": {
  "name": "",
  "signature": "sha256:191d715f4264aae208228fd3c0a5289adae12f106d0b17ceee39161f8e06f06e"
 },
 "nbformat": 3,
 "nbformat_minor": 0,
 "worksheets": [
  {
   "cells": [
    {
     "cell_type": "code",
     "collapsed": false,
     "input": [
      "import collections\n",
      "import functools\n",
      "\n",
      "class memoized(object):\n",
      "   '''Decorator. Caches a function's return value each time it is called.\n",
      "   If called later with the same arguments, the cached value is returned\n",
      "   (not reevaluated).\n",
      "   '''\n",
      "   def __init__(self, func):\n",
      "      self.func = func\n",
      "      self.cache = {}\n",
      "   def __call__(self, *args):\n",
      "      if not isinstance(args, collections.Hashable):\n",
      "         # uncacheable. a list, for instance.\n",
      "         # better to not cache than blow up.\n",
      "         return self.func(*args)\n",
      "      if args in self.cache:\n",
      "         return self.cache[args]\n",
      "      else:\n",
      "         value = self.func(*args)\n",
      "         self.cache[args] = value\n",
      "         return value\n",
      "   def __repr__(self):\n",
      "      '''Return the function's docstring.'''\n",
      "      return self.func.__doc__\n",
      "   def __get__(self, obj, objtype):\n",
      "      '''Support instance methods.'''\n",
      "      return functools.partial(self.__call__, obj)\n"
     ],
     "language": "python",
     "metadata": {},
     "outputs": []
    }
   ],
   "metadata": {}
  }
 ]
}