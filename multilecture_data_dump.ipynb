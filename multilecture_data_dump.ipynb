{
 "metadata": {
  "name": "",
  "signature": "sha256:f30c3219a180834009f119f88045d8b2e1f5c5a711891571efc8c205c05c73b2"
 },
 "nbformat": 3,
 "nbformat_minor": 0,
 "worksheets": [
  {
   "cells": [
    {
     "cell_type": "code",
     "collapsed": false,
     "input": [
      "# noexport\n",
      "\n",
      "import os\n",
      "os.system('export_notebook multilecture_data_dump.ipynb')"
     ],
     "language": "python",
     "metadata": {},
     "outputs": [
      {
       "metadata": {},
       "output_type": "pyout",
       "prompt_number": 3,
       "text": [
        "0"
       ]
      }
     ],
     "prompt_number": 3
    },
    {
     "cell_type": "code",
     "collapsed": false,
     "input": [
      "from coursera_analytics_common import *"
     ],
     "language": "python",
     "metadata": {},
     "outputs": [
      {
       "output_type": "stream",
       "stream": "stdout",
       "text": [
        "59641\n",
        "8935\n"
       ]
      }
     ],
     "prompt_number": 4
    },
    {
     "cell_type": "code",
     "collapsed": false,
     "input": [
      "# noexport\n",
      "\n",
      "import json\n",
      "import os\n",
      "\n",
      "video_to_parts_played_more_than_once = {}\n",
      "\n",
      "if os.path.exists('video_to_parts_played_more_than_once.json'):\n",
      "  video_to_parts_played_more_than_once = json.load(open('video_to_parts_played_more_than_once.json'))\n",
      "else:\n",
      "  for videonumber in listVideos():\n",
      "    if videonumber in video_to_parts_played_more_than_once:\n",
      "      continue\n",
      "    print 'processing video ' + str(videonumber)\n",
      "    resetNumDataExceptions()\n",
      "    skipped_users = set()\n",
      "    successful_users = set()\n",
      "    partsPlayed = getPartsPlayedMoreThanOnce(videonumber, skipped_users=skipped_users, successful_users=successful_users)\n",
      "    video_to_parts_played_more_than_once[videonumber] = partsPlayed\n",
      "    print 'finished processing video ' + str(videonumber) + ' errors: ' + str(getNumDataExceptions()) + ' skipped: ' + str(len(skipped_users)) + ' successful: ' + str(len(successful_users))\n",
      "  print 'making json dump'\n",
      "  json.dump(video_to_parts_played_more_than_once, open('video_to_parts_played_more_than_once.json', 'w'))\n",
      "  print 'finished'\n"
     ],
     "language": "python",
     "metadata": {},
     "outputs": []
    },
    {
     "cell_type": "code",
     "collapsed": false,
     "input": [
      "# noexport\n",
      "\n",
      "import json\n",
      "import os\n",
      "\n",
      "video_to_parts_played = {}\n",
      "\n",
      "if os.path.exists('video_to_parts_played.json'):\n",
      "  video_to_parts_played = json.load(open('video_to_parts_played.json'))\n",
      "else:\n",
      "  for videonumber in listVideos():\n",
      "    if videonumber in video_to_parts_played:\n",
      "      continue\n",
      "    print 'processing video ' + str(videonumber)\n",
      "    resetNumDataExceptions()\n",
      "    skipped_users = set()\n",
      "    successful_users = set()\n",
      "    partsPlayed = getPartsPlayed(videonumber, skipped_users=skipped_users, successful_users=successful_users)\n",
      "    video_to_parts_played[videonumber] = partsPlayed\n",
      "    print 'finished processing video ' + str(videonumber) + ' errors: ' + str(getNumDataExceptions()) + ' skipped: ' + str(len(skipped_users)) + ' successful: ' + str(len(successful_users))\n",
      "  print 'making json dump'\n",
      "  json.dump(video_to_parts_played, open('video_to_parts_played.json', 'w'))\n",
      "  print 'finished'"
     ],
     "language": "python",
     "metadata": {},
     "outputs": []
    },
    {
     "cell_type": "code",
     "collapsed": false,
     "input": [
      "# noexport\n",
      "\n",
      "import json\n",
      "import os\n",
      "\n",
      "video_to_parts_played_reviewsession = {}\n",
      "\n",
      "if os.path.exists('video_to_parts_played_reviewsession.json'):\n",
      "  video_to_parts_played = json.load(open('video_to_parts_played_reviewsession.json'))\n",
      "else:\n",
      "  for videonumber in listVideos():\n",
      "    if videonumber in video_to_parts_played_reviewsession:\n",
      "      continue\n",
      "    print 'processing video ' + str(videonumber)\n",
      "    resetNumDataExceptions()\n",
      "    skipped_users = set()\n",
      "    successful_users = set()\n",
      "    partsPlayed = getPartsPlayed(videonumber, skipped_users=skipped_users, successful_users=successful_users, filter_func=filterReviewSessionOnly)\n",
      "    video_to_parts_played_reviewsession[videonumber] = partsPlayed\n",
      "    print 'finished processing video ' + str(videonumber) + ' errors: ' + str(getNumDataExceptions()) + ' skipped: ' + str(len(skipped_users)) + ' successful: ' + str(len(successful_users))\n",
      "  print 'making json dump'\n",
      "  json.dump(video_to_parts_played_reviewsession, open('video_to_parts_played_reviewsession.json', 'w'))\n",
      "  print 'finished'"
     ],
     "language": "python",
     "metadata": {},
     "outputs": []
    },
    {
     "cell_type": "code",
     "collapsed": false,
     "input": [
      "video_to_all_seek_destinations = {}\n",
      "\n",
      "if os.path.exists('video_to_all_seek_destinations.json'):\n",
      "  video_to_all_seek_destinations = json.load(open('video_to_all_seek_destinations.json'))\n",
      "else:\n",
      "  for videonumber in listVideos():\n",
      "    if videonumber in video_to_all_seek_destinations:\n",
      "      continue\n",
      "    print 'processing video ' + str(videonumber)\n",
      "    resetNumDataExceptions()\n",
      "    skipped_users = set()\n",
      "    successful_users = set()\n",
      "    allSeekDestinations = getAllSeekDestinations(videonumber, skipped_users=skipped_users, successful_users=successful_users)\n",
      "    video_to_all_seek_destinations[videonumber] = allSeekDestinations\n",
      "    print 'finished processing video ' + str(videonumber) + ' errors: ' + str(getNumDataExceptions()) + ' skipped: ' + str(len(skipped_users)) + ' successful: ' + str(len(successful_users))\n",
      "  print 'making json dump'\n",
      "  json.dump(video_to_all_seek_destinations, open('video_to_all_seek_destinations.json', 'w'))\n",
      "  print 'finished'"
     ],
     "language": "python",
     "metadata": {},
     "outputs": [
      {
       "output_type": "stream",
       "stream": "stdout",
       "text": [
        "processing video 1\n",
        "finished processing video 1 errors: 64 skipped: 64 successful: 45497"
       ]
      },
      {
       "output_type": "stream",
       "stream": "stdout",
       "text": [
        "\n",
        "processing video 2\n",
        "finished processing video 2 errors: 96 skipped: 96 successful: 39640"
       ]
      }
     ]
    },
    {
     "cell_type": "code",
     "collapsed": false,
     "input": [
      "video_to_all_seek_sources = {}\n",
      "\n",
      "if os.path.exists('video_to_all_seek_sources.json'):\n",
      "  video_to_all_seek_sources = json.load(open('video_to_all_seek_sources.json'))\n",
      "else:\n",
      "  for videonumber in listVideos():\n",
      "    if videonumber in video_to_all_seek_sources:\n",
      "      continue\n",
      "    print 'processing video ' + str(videonumber)\n",
      "    resetNumDataExceptions()\n",
      "    skipped_users = set()\n",
      "    successful_users = set()\n",
      "    allSeekSources = getAllSeekSources(videonumber, skipped_users=skipped_users, successful_users=successful_users)\n",
      "    video_to_all_seek_sources[videonumber] = allSeekSources\n",
      "    print 'finished processing video ' + str(videonumber) + ' errors: ' + str(getNumDataExceptions()) + ' skipped: ' + str(len(skipped_users)) + ' successful: ' + str(len(successful_users))\n",
      "  print 'making json dump'\n",
      "  json.dump(video_to_all_seek_sources, open('video_to_all_seek_sources.json', 'w'))\n",
      "  print 'finished'"
     ],
     "language": "python",
     "metadata": {},
     "outputs": []
    },
    {
     "cell_type": "code",
     "collapsed": false,
     "input": [
      "video_to_parts_skipped_forward_over = {}\n",
      "\n",
      "if os.path.exists('video_to_parts_skipped_forward_over.json'):\n",
      "  video_to_parts_skipped_forward_over = json.load(open('video_to_parts_skipped_forward_over.json'))\n",
      "else:\n",
      "  for videonumber in listVideos():\n",
      "    if videonumber in video_to_parts_skipped_forward_over:\n",
      "      continue\n",
      "    print 'processing video ' + str(videonumber)\n",
      "    resetNumDataExceptions()\n",
      "    skipped_users = set()\n",
      "    successful_users = set()\n",
      "    dataforvid = getPartsSkippedForwardOver(videonumber, skipped_users=skipped_users, successful_users=successful_users)\n",
      "    video_to_parts_skipped_forward_over[videonumber] = dataforvid\n",
      "    print 'finished processing video ' + str(videonumber) + ' errors: ' + str(getNumDataExceptions()) + ' skipped: ' + str(len(skipped_users)) + ' successful: ' + str(len(successful_users))\n",
      "  print 'making json dump'\n",
      "  json.dump(video_to_parts_skipped_forward_over, open('video_to_parts_skipped_forward_over.json', 'w'))\n",
      "  print 'finished'"
     ],
     "language": "python",
     "metadata": {},
     "outputs": [
      {
       "output_type": "stream",
       "stream": "stdout",
       "text": [
        "processing video 1\n",
        "finished processing video 1 errors: 64 skipped: 64 successful: 45497"
       ]
      },
      {
       "output_type": "stream",
       "stream": "stdout",
       "text": [
        "\n",
        "processing video 2\n",
        "finished processing video 2 errors: 96 skipped: 96 successful: 39640"
       ]
      },
      {
       "output_type": "stream",
       "stream": "stdout",
       "text": [
        "\n",
        "processing video 3\n",
        "finished processing video 3 errors: 116 skipped: 116 successful: 36122"
       ]
      },
      {
       "output_type": "stream",
       "stream": "stdout",
       "text": [
        "\n",
        "processing video 4\n",
        "finished processing video 4 errors: 140 skipped: 140 successful: 32634"
       ]
      },
      {
       "output_type": "stream",
       "stream": "stdout",
       "text": [
        "\n",
        "processing video 5\n",
        "finished processing video 5 errors: 127 skipped: 127 successful: 33180"
       ]
      },
      {
       "output_type": "stream",
       "stream": "stdout",
       "text": [
        "\n",
        "processing video 6\n",
        "finished processing video 6 errors: 124 skipped: 124 successful: 30356"
       ]
      },
      {
       "output_type": "stream",
       "stream": "stdout",
       "text": [
        "\n",
        "processing video 7\n",
        "finished processing video 7 errors: 169 skipped: 169 successful: 28071"
       ]
      },
      {
       "output_type": "stream",
       "stream": "stdout",
       "text": [
        "\n",
        "processing video 8\n",
        "finished processing video 8 errors: 174 skipped: 174 successful: 25917"
       ]
      },
      {
       "output_type": "stream",
       "stream": "stdout",
       "text": [
        "\n",
        "processing video 9\n",
        "finished processing video 9 errors: 180 skipped: 180 successful: 23856"
       ]
      },
      {
       "output_type": "stream",
       "stream": "stdout",
       "text": [
        "\n",
        "processing video 10\n",
        "finished processing video 10 errors: 182 skipped: 182 successful: 24152"
       ]
      },
      {
       "output_type": "stream",
       "stream": "stdout",
       "text": [
        "\n",
        "processing video 11\n",
        "finished processing video 11 errors: 177 skipped: 177 successful: 26007"
       ]
      },
      {
       "output_type": "stream",
       "stream": "stdout",
       "text": [
        "\n",
        "processing video 12\n",
        "finished processing video 12 errors: 136 skipped: 136 successful: 21813"
       ]
      },
      {
       "output_type": "stream",
       "stream": "stdout",
       "text": [
        "\n",
        "processing video 13\n",
        "finished processing video 13 errors: 69 skipped: 69 successful: 17279"
       ]
      },
      {
       "output_type": "stream",
       "stream": "stdout",
       "text": [
        "\n",
        "processing video 14\n",
        "finished processing video 14 errors: 155 skipped: 155 successful: 15425"
       ]
      },
      {
       "output_type": "stream",
       "stream": "stdout",
       "text": [
        "\n",
        "processing video 15\n",
        "finished processing video 15 errors: 202 skipped: 202 successful: 15274"
       ]
      },
      {
       "output_type": "stream",
       "stream": "stdout",
       "text": [
        "\n",
        "processing video 16\n",
        "finished processing video 16 errors: 190 skipped: 190 successful: 14768"
       ]
      },
      {
       "output_type": "stream",
       "stream": "stdout",
       "text": [
        "\n",
        "processing video 17\n",
        "finished processing video 17 errors: 172 skipped: 172 successful: 15074"
       ]
      },
      {
       "output_type": "stream",
       "stream": "stdout",
       "text": [
        "\n",
        "processing video 18\n",
        "finished processing video 18 errors: 178 skipped: 178 successful: 15984"
       ]
      },
      {
       "output_type": "stream",
       "stream": "stdout",
       "text": [
        "\n",
        "processing video 19\n",
        "finished processing video 19 errors: 110 skipped: 110 successful: 21883"
       ]
      },
      {
       "output_type": "stream",
       "stream": "stdout",
       "text": [
        "\n",
        "processing video 20\n",
        "finished processing video 20 errors: 87 skipped: 87 successful: 20950"
       ]
      },
      {
       "output_type": "stream",
       "stream": "stdout",
       "text": [
        "\n",
        "processing video 21\n",
        "finished processing video 21 errors: 132 skipped: 132 successful: 20364"
       ]
      },
      {
       "output_type": "stream",
       "stream": "stdout",
       "text": [
        "\n",
        "processing video 22\n",
        "finished processing video 22 errors: 131 skipped: 131 successful: 19453"
       ]
      },
      {
       "output_type": "stream",
       "stream": "stdout",
       "text": [
        "\n",
        "processing video 23\n",
        "finished processing video 23 errors: 110 skipped: 110 successful: 19278"
       ]
      },
      {
       "output_type": "stream",
       "stream": "stdout",
       "text": [
        "\n",
        "processing video 24\n",
        "finished processing video 24 errors: 153 skipped: 153 successful: 19125"
       ]
      },
      {
       "output_type": "stream",
       "stream": "stdout",
       "text": [
        "\n",
        "processing video 25\n",
        "finished processing video 25 errors: 103 skipped: 103 successful: 17148"
       ]
      },
      {
       "output_type": "stream",
       "stream": "stdout",
       "text": [
        "\n",
        "processing video 26\n",
        "finished processing video 26 errors: 104 skipped: 104 successful: 18438"
       ]
      },
      {
       "output_type": "stream",
       "stream": "stdout",
       "text": [
        "\n",
        "processing video 27\n",
        "finished processing video 27 errors: 118 skipped: 118 successful: 16120"
       ]
      },
      {
       "output_type": "stream",
       "stream": "stdout",
       "text": [
        "\n",
        "processing video 28\n",
        "finished processing video 28 errors: 105 skipped: 105 successful: 15025"
       ]
      },
      {
       "output_type": "stream",
       "stream": "stdout",
       "text": [
        "\n",
        "processing video 29\n",
        "finished processing video 29 errors: 96 skipped: 96 successful: 14246"
       ]
      },
      {
       "output_type": "stream",
       "stream": "stdout",
       "text": [
        "\n",
        "processing video 30\n",
        "finished processing video 30 errors: 96 skipped: 96 successful: 14097"
       ]
      },
      {
       "output_type": "stream",
       "stream": "stdout",
       "text": [
        "\n",
        "processing video 31\n",
        "finished processing video 31 errors: 98 skipped: 98 successful: 13859"
       ]
      },
      {
       "output_type": "stream",
       "stream": "stdout",
       "text": [
        "\n",
        "processing video 32\n",
        "finished processing video 32 errors: 90 skipped: 90 successful: 14275"
       ]
      },
      {
       "output_type": "stream",
       "stream": "stdout",
       "text": [
        "\n",
        "processing video 33\n",
        "finished processing video 33 errors: 108 skipped: 108 successful: 16732"
       ]
      },
      {
       "output_type": "stream",
       "stream": "stdout",
       "text": [
        "\n",
        "processing video 34\n",
        "finished processing video 34 errors: 131 skipped: 131 successful: 15690"
       ]
      },
      {
       "output_type": "stream",
       "stream": "stdout",
       "text": [
        "\n",
        "processing video 35\n",
        "finished processing video 35 errors: 150 skipped: 150 successful: 15262"
       ]
      },
      {
       "output_type": "stream",
       "stream": "stdout",
       "text": [
        "\n",
        "processing video 36\n",
        "finished processing video 36 errors: 166 skipped: 166 successful: 14300"
       ]
      },
      {
       "output_type": "stream",
       "stream": "stdout",
       "text": [
        "\n",
        "processing video 37\n",
        "finished processing video 37 errors: 152 skipped: 152 successful: 13762"
       ]
      },
      {
       "output_type": "stream",
       "stream": "stdout",
       "text": [
        "\n",
        "processing video 38\n",
        "finished processing video 38 errors: 130 skipped: 130 successful: 13460"
       ]
      },
      {
       "output_type": "stream",
       "stream": "stdout",
       "text": [
        "\n",
        "processing video 39\n",
        "finished processing video 39 errors: 99 skipped: 99 successful: 13582"
       ]
      },
      {
       "output_type": "stream",
       "stream": "stdout",
       "text": [
        "\n",
        "processing video 40\n",
        "finished processing video 40 errors: 128 skipped: 128 successful: 13124"
       ]
      },
      {
       "output_type": "stream",
       "stream": "stdout",
       "text": [
        "\n",
        "processing video 41\n",
        "finished processing video 41 errors: 112 skipped: 112 successful: 12811"
       ]
      },
      {
       "output_type": "stream",
       "stream": "stdout",
       "text": [
        "\n",
        "processing video 42\n",
        "finished processing video 42 errors: 106 skipped: 106 successful: 12462"
       ]
      },
      {
       "output_type": "stream",
       "stream": "stdout",
       "text": [
        "\n",
        "processing video 43\n",
        "finished processing video 43 errors: 81 skipped: 81 successful: 13621"
       ]
      },
      {
       "output_type": "stream",
       "stream": "stdout",
       "text": [
        "\n",
        "processing video 44\n",
        "finished processing video 44 errors: 131 skipped: 131 successful: 12879"
       ]
      },
      {
       "output_type": "stream",
       "stream": "stdout",
       "text": [
        "\n",
        "processing video 45\n",
        "finished processing video 45 errors: 149 skipped: 149 successful: 13039"
       ]
      },
      {
       "output_type": "stream",
       "stream": "stdout",
       "text": [
        "\n",
        "processing video 46\n",
        "finished processing video 46 errors: 135 skipped: 135 successful: 12541"
       ]
      },
      {
       "output_type": "stream",
       "stream": "stdout",
       "text": [
        "\n",
        "processing video 47\n",
        "finished processing video 47 errors: 130 skipped: 130 successful: 12158"
       ]
      },
      {
       "output_type": "stream",
       "stream": "stdout",
       "text": [
        "\n",
        "processing video 48\n",
        "finished processing video 48 errors: 101 skipped: 101 successful: 11918"
       ]
      },
      {
       "output_type": "stream",
       "stream": "stdout",
       "text": [
        "\n",
        "processing video 49\n",
        "finished processing video 49 errors: 106 skipped: 106 successful: 11836"
       ]
      },
      {
       "output_type": "stream",
       "stream": "stdout",
       "text": [
        "\n",
        "processing video 50\n",
        "finished processing video 50 errors: 121 skipped: 121 successful: 11679"
       ]
      },
      {
       "output_type": "stream",
       "stream": "stdout",
       "text": [
        "\n",
        "processing video 51\n",
        "finished processing video 51 errors: 154 skipped: 154 successful: 11173"
       ]
      },
      {
       "output_type": "stream",
       "stream": "stdout",
       "text": [
        "\n",
        "processing video 52\n",
        "finished processing video 52 errors: 139 skipped: 139 successful: 10306"
       ]
      },
      {
       "output_type": "stream",
       "stream": "stdout",
       "text": [
        "\n",
        "processing video 53\n",
        "finished processing video 53 errors: 109 skipped: 109 successful: 9917"
       ]
      },
      {
       "output_type": "stream",
       "stream": "stdout",
       "text": [
        "\n",
        "processing video 54\n",
        "finished processing video 54 errors: 98 skipped: 98 successful: 9622"
       ]
      },
      {
       "output_type": "stream",
       "stream": "stdout",
       "text": [
        "\n",
        "processing video 55\n",
        "finished processing video 55 errors: 104 skipped: 104 successful: 9322"
       ]
      },
      {
       "output_type": "stream",
       "stream": "stdout",
       "text": [
        "\n",
        "processing video 56\n",
        "finished processing video 56 errors: 138 skipped: 138 successful: 9376"
       ]
      },
      {
       "output_type": "stream",
       "stream": "stdout",
       "text": [
        "\n",
        "processing video 57\n",
        "finished processing video 57 errors: 120 skipped: 120 successful: 9224"
       ]
      },
      {
       "output_type": "stream",
       "stream": "stdout",
       "text": [
        "\n",
        "processing video 58\n",
        "finished processing video 58 errors: 34 skipped: 34 successful: 15020"
       ]
      },
      {
       "output_type": "stream",
       "stream": "stdout",
       "text": [
        "\n",
        "processing video 59\n",
        "finished processing video 59 errors: 70 skipped: 70 successful: 9616"
       ]
      },
      {
       "output_type": "stream",
       "stream": "stdout",
       "text": [
        "\n",
        "processing video 60\n",
        "finished processing video 60 errors: 70 skipped: 70 successful: 9243"
       ]
      },
      {
       "output_type": "stream",
       "stream": "stdout",
       "text": [
        "\n",
        "processing video 61\n",
        "finished processing video 61 errors: 165 skipped: 165 successful: 9045"
       ]
      },
      {
       "output_type": "stream",
       "stream": "stdout",
       "text": [
        "\n",
        "processing video 62\n",
        "finished processing video 62 errors: 107 skipped: 107 successful: 8859"
       ]
      },
      {
       "output_type": "stream",
       "stream": "stdout",
       "text": [
        "\n",
        "processing video 63\n",
        "finished processing video 63 errors: 125 skipped: 125 successful: 8662"
       ]
      },
      {
       "output_type": "stream",
       "stream": "stdout",
       "text": [
        "\n",
        "processing video 64\n",
        "finished processing video 64 errors: 133 skipped: 133 successful: 8608"
       ]
      },
      {
       "output_type": "stream",
       "stream": "stdout",
       "text": [
        "\n",
        "processing video 65\n",
        "finished processing video 65 errors: 100 skipped: 100 successful: 8415"
       ]
      },
      {
       "output_type": "stream",
       "stream": "stdout",
       "text": [
        "\n",
        "processing video 66\n",
        "finished processing video 66 errors: 90 skipped: 90 successful: 8529"
       ]
      },
      {
       "output_type": "stream",
       "stream": "stdout",
       "text": [
        "\n",
        "processing video 67\n",
        "finished processing video 67 errors: 111 skipped: 111 successful: 8246"
       ]
      },
      {
       "output_type": "stream",
       "stream": "stdout",
       "text": [
        "\n",
        "processing video 68\n",
        "finished processing video 68 errors: 104 skipped: 104 successful: 8082"
       ]
      },
      {
       "output_type": "stream",
       "stream": "stdout",
       "text": [
        "\n",
        "processing video 69\n",
        "finished processing video 69 errors: 112 skipped: 112 successful: 7884"
       ]
      },
      {
       "output_type": "stream",
       "stream": "stdout",
       "text": [
        "\n",
        "processing video 70\n",
        "finished processing video 70 errors: 126 skipped: 126 successful: 7853"
       ]
      },
      {
       "output_type": "stream",
       "stream": "stdout",
       "text": [
        "\n",
        "processing video 71\n",
        "finished processing video 71 errors: 136 skipped: 136 successful: 9111"
       ]
      },
      {
       "output_type": "stream",
       "stream": "stdout",
       "text": [
        "\n",
        "processing video 72\n",
        "finished processing video 72 errors: 135 skipped: 135 successful: 8389"
       ]
      },
      {
       "output_type": "stream",
       "stream": "stdout",
       "text": [
        "\n",
        "processing video 73\n",
        "finished processing video 73 errors: 154 skipped: 154 successful: 7718"
       ]
      },
      {
       "output_type": "stream",
       "stream": "stdout",
       "text": [
        "\n",
        "processing video 74\n",
        "finished processing video 74 errors: 150 skipped: 150 successful: 8184"
       ]
      },
      {
       "output_type": "stream",
       "stream": "stdout",
       "text": [
        "\n",
        "processing video 75\n",
        "finished processing video 75 errors: 144 skipped: 144 successful: 7823"
       ]
      },
      {
       "output_type": "stream",
       "stream": "stdout",
       "text": [
        "\n",
        "processing video 76\n",
        "finished processing video 76 errors: 144 skipped: 144 successful: 7783"
       ]
      },
      {
       "output_type": "stream",
       "stream": "stdout",
       "text": [
        "\n",
        "processing video 77\n",
        "finished processing video 77 errors: 54 skipped: 54 successful: 7882"
       ]
      },
      {
       "output_type": "stream",
       "stream": "stdout",
       "text": [
        "\n",
        "processing video 78\n",
        "finished processing video 78 errors: 176 skipped: 176 successful: 7817"
       ]
      },
      {
       "output_type": "stream",
       "stream": "stdout",
       "text": [
        "\n",
        "processing video 79\n",
        "finished processing video 79 errors: 144 skipped: 144 successful: 7483"
       ]
      },
      {
       "output_type": "stream",
       "stream": "stdout",
       "text": [
        "\n",
        "processing video 80\n",
        "finished processing video 80 errors: 126 skipped: 126 successful: 7282"
       ]
      },
      {
       "output_type": "stream",
       "stream": "stdout",
       "text": [
        "\n",
        "processing video 81\n",
        "finished processing video 81 errors: 85 skipped: 85 successful: 7325"
       ]
      },
      {
       "output_type": "stream",
       "stream": "stdout",
       "text": [
        "\n",
        "processing video 82\n",
        "finished processing video 82 errors: 111 skipped: 111 successful: 7449"
       ]
      },
      {
       "output_type": "stream",
       "stream": "stdout",
       "text": [
        "\n",
        "processing video 83\n",
        "finished processing video 83 errors: 120 skipped: 120 successful: 7129"
       ]
      },
      {
       "output_type": "stream",
       "stream": "stdout",
       "text": [
        "\n",
        "processing video 84\n",
        "finished processing video 84 errors: 156 skipped: 156 successful: 7219"
       ]
      },
      {
       "output_type": "stream",
       "stream": "stdout",
       "text": [
        "\n",
        "processing video 85\n",
        "finished processing video 85 errors: 205 skipped: 205 successful: 7109"
       ]
      },
      {
       "output_type": "stream",
       "stream": "stdout",
       "text": [
        "\n",
        "processing video 86\n",
        "finished processing video 86 errors: 151 skipped: 151 successful: 6906"
       ]
      },
      {
       "output_type": "stream",
       "stream": "stdout",
       "text": [
        "\n",
        "processing video 87\n",
        "finished processing video 87 errors: 109 skipped: 109 successful: 6798"
       ]
      },
      {
       "output_type": "stream",
       "stream": "stdout",
       "text": [
        "\n",
        "processing video 88\n",
        "finished processing video 88 errors: 171 skipped: 171 successful: 6716"
       ]
      },
      {
       "output_type": "stream",
       "stream": "stdout",
       "text": [
        "\n",
        "processing video 89\n",
        "finished processing video 89 errors: 126 skipped: 126 successful: 6985"
       ]
      },
      {
       "output_type": "stream",
       "stream": "stdout",
       "text": [
        "\n",
        "processing video 90\n",
        "finished processing video 90 errors: 372 skipped: 372 successful: 6444"
       ]
      },
      {
       "output_type": "stream",
       "stream": "stdout",
       "text": [
        "\n",
        "processing video 91\n",
        "finished processing video 91 errors: 274 skipped: 274 successful: 6553"
       ]
      },
      {
       "output_type": "stream",
       "stream": "stdout",
       "text": [
        "\n",
        "processing video 92\n",
        "finished processing video 92 errors: 357 skipped: 357 successful: 6307"
       ]
      },
      {
       "output_type": "stream",
       "stream": "stdout",
       "text": [
        "\n",
        "processing video 93\n",
        "finished processing video 93 errors: 261 skipped: 261 successful: 6209"
       ]
      },
      {
       "output_type": "stream",
       "stream": "stdout",
       "text": [
        "\n",
        "processing video 95\n",
        "finished processing video 95 errors: 370 skipped: 370 successful: 6064"
       ]
      },
      {
       "output_type": "stream",
       "stream": "stdout",
       "text": [
        "\n",
        "processing video 96\n",
        "finished processing video 96 errors: 332 skipped: 332 successful: 5129"
       ]
      },
      {
       "output_type": "stream",
       "stream": "stdout",
       "text": [
        "\n",
        "processing video 97\n",
        "finished processing video 97 errors: 324 skipped: 324 successful: 4799"
       ]
      },
      {
       "output_type": "stream",
       "stream": "stdout",
       "text": [
        "\n",
        "processing video 98\n",
        "finished processing video 98 errors: 223 skipped: 223 successful: 6642"
       ]
      },
      {
       "output_type": "stream",
       "stream": "stdout",
       "text": [
        "\n",
        "processing video 99\n",
        "finished processing video 99 errors: 327 skipped: 327 successful: 6376"
       ]
      },
      {
       "output_type": "stream",
       "stream": "stdout",
       "text": [
        "\n",
        "processing video 100\n",
        "finished processing video 100 errors: 226 skipped: 226 successful: 6345"
       ]
      },
      {
       "output_type": "stream",
       "stream": "stdout",
       "text": [
        "\n",
        "processing video 101\n",
        "finished processing video 101 errors: 353 skipped: 353 successful: 6047"
       ]
      },
      {
       "output_type": "stream",
       "stream": "stdout",
       "text": [
        "\n",
        "processing video 102\n",
        "finished processing video 102 errors: 312 skipped: 312 successful: 5929"
       ]
      },
      {
       "output_type": "stream",
       "stream": "stdout",
       "text": [
        "\n",
        "processing video 103\n",
        "finished processing video 103 errors: 380 skipped: 380 successful: 5662"
       ]
      },
      {
       "output_type": "stream",
       "stream": "stdout",
       "text": [
        "\n",
        "processing video 104\n",
        "finished processing video 104 errors: 160 skipped: 160 successful: 6395"
       ]
      },
      {
       "output_type": "stream",
       "stream": "stdout",
       "text": [
        "\n",
        "processing video 105\n",
        "finished processing video 105 errors: 383 skipped: 383 successful: 5953"
       ]
      },
      {
       "output_type": "stream",
       "stream": "stdout",
       "text": [
        "\n",
        "processing video 106\n",
        "finished processing video 106 errors: 342 skipped: 342 successful: 5762"
       ]
      },
      {
       "output_type": "stream",
       "stream": "stdout",
       "text": [
        "\n",
        "processing video 107\n",
        "finished processing video 107 errors: 460 skipped: 460 successful: 5608"
       ]
      },
      {
       "output_type": "stream",
       "stream": "stdout",
       "text": [
        "\n",
        "processing video 108\n",
        "finished processing video 108 errors: 432 skipped: 432 successful: 5681"
       ]
      },
      {
       "output_type": "stream",
       "stream": "stdout",
       "text": [
        "\n",
        "processing video 109\n",
        "finished processing video 109 errors: 536 skipped: 536 successful: 5533"
       ]
      },
      {
       "output_type": "stream",
       "stream": "stdout",
       "text": [
        "\n",
        "processing video 110\n",
        "finished processing video 110 errors: 322 skipped: 322 successful: 5819"
       ]
      },
      {
       "output_type": "stream",
       "stream": "stdout",
       "text": [
        "\n",
        "processing video 111\n",
        "finished processing video 111 errors: 494 skipped: 494 successful: 5466"
       ]
      },
      {
       "output_type": "stream",
       "stream": "stdout",
       "text": [
        "\n",
        "processing video 112\n",
        "finished processing video 112 errors: 462 skipped: 462 successful: 5394"
       ]
      },
      {
       "output_type": "stream",
       "stream": "stdout",
       "text": [
        "\n",
        "processing video 113\n",
        "finished processing video 113 errors: 516 skipped: 516 successful: 5245"
       ]
      },
      {
       "output_type": "stream",
       "stream": "stdout",
       "text": [
        "\n",
        "processing video 114\n",
        "finished processing video 114 errors: 315 skipped: 315 successful: 5482"
       ]
      },
      {
       "output_type": "stream",
       "stream": "stdout",
       "text": [
        "\n",
        "making json dump\n",
        "finished"
       ]
      },
      {
       "output_type": "stream",
       "stream": "stdout",
       "text": [
        "\n"
       ]
      },
      {
       "output_type": "stream",
       "stream": "stderr",
       "text": [
        "/afs/cs.stanford.edu/u/geza/venv/lib/python2.7/site-packages/pandas/io/sql.py:1165: FutureWarning: read_frame is depreciated, use read_sql\n",
        "  warnings.warn(\"read_frame is depreciated, use read_sql\", FutureWarning)\n"
       ]
      }
     ]
    },
    {
     "cell_type": "code",
     "collapsed": false,
     "input": [
      "video_to_parts_skipped_back_over = {}\n",
      "\n",
      "if os.path.exists('video_to_parts_skipped_back_over.json'):\n",
      "  video_to_parts_skipped_back_over = json.load(open('video_to_parts_skipped_back_over.json'))\n",
      "else:\n",
      "  for videonumber in listVideos():\n",
      "    if videonumber in video_to_parts_skipped_back_over:\n",
      "      continue\n",
      "    print 'processing video ' + str(videonumber)\n",
      "    resetNumDataExceptions()\n",
      "    skipped_users = set()\n",
      "    successful_users = set()\n",
      "    dataforvid = getPartsSkippedBackOver(videonumber, skipped_users=skipped_users, successful_users=successful_users)\n",
      "    video_to_parts_skipped_back_over[videonumber] = dataforvid\n",
      "    print 'finished processing video ' + str(videonumber) + ' errors: ' + str(getNumDataExceptions()) + ' skipped: ' + str(len(skipped_users)) + ' successful: ' + str(len(successful_users))\n",
      "  print 'making json dump'\n",
      "  json.dump(video_to_parts_skipped_back_over, open('video_to_parts_skipped_back_over.json', 'w'))\n",
      "  print 'finished'"
     ],
     "language": "python",
     "metadata": {},
     "outputs": [],
     "prompt_number": 4
    },
    {
     "cell_type": "code",
     "collapsed": false,
     "input": [
      "video_to_user_to_startzero_events = {}\n",
      "\n",
      "count = 0\n",
      "if os.path.exists('video_to_user_to_startzero_events.json'):\n",
      "  video_to_user_to_startzero_events = json.load(open('video_to_user_to_startzero_events.json'))\n",
      "else:\n",
      "  for videonumber in listVideos():\n",
      "    video_to_user_to_startzero_events[videonumber] = {}\n",
      "  for user,lectures in getViewersToLectures().iteritems():\n",
      "    for lecture_id in lectures:\n",
      "      try:\n",
      "        all_events = extractAllEventsForUserInLecture(lecture_id, user)\n",
      "        if all_events == None:\n",
      "          continue\n",
      "      except DataException as e:\n",
      "        continue\n",
      "      for event in all_events:\n",
      "        if event.event_type == 'play' and event.start == 0:\n",
      "          if user not in video_to_user_to_startzero_events[lecture_id]:\n",
      "            video_to_user_to_startzero_events[lecture_id][user] = []\n",
      "          video_to_user_to_startzero_events[lecture_id][user].append(event.timestamp)\n",
      "  json.dump(video_to_user_to_startzero_events, open('video_to_user_to_startzero_events.json', 'w'))\n",
      "    "
     ],
     "language": "python",
     "metadata": {},
     "outputs": [
      {
       "output_type": "stream",
       "stream": "stderr",
       "text": [
        "/afs/cs.stanford.edu/u/geza/venv/lib/python2.7/site-packages/pandas/io/sql.py:1165: FutureWarning: read_frame is depreciated, use read_sql\n",
        "  warnings.warn(\"read_frame is depreciated, use read_sql\", FutureWarning)\n"
       ]
      },
      {
       "ename": "AttributeError",
       "evalue": "'dict' object has no attribute 'append'",
       "output_type": "pyerr",
       "traceback": [
        "\u001b[1;31m---------------------------------------------------------------------------\u001b[0m\n\u001b[1;31mAttributeError\u001b[0m                            Traceback (most recent call last)",
        "\u001b[1;32m<ipython-input-3-c051bcf09400>\u001b[0m in \u001b[0;36m<module>\u001b[1;34m()\u001b[0m\n\u001b[0;32m     19\u001b[0m           \u001b[1;32mif\u001b[0m \u001b[0muser\u001b[0m \u001b[1;32mnot\u001b[0m \u001b[1;32min\u001b[0m \u001b[0mvideo_to_user_to_startzero_events\u001b[0m\u001b[1;33m[\u001b[0m\u001b[0mlecture_id\u001b[0m\u001b[1;33m]\u001b[0m\u001b[1;33m:\u001b[0m\u001b[1;33m\u001b[0m\u001b[0m\n\u001b[0;32m     20\u001b[0m             \u001b[0mvideo_to_user_to_startzero_events\u001b[0m\u001b[1;33m[\u001b[0m\u001b[0mlecture_id\u001b[0m\u001b[1;33m]\u001b[0m\u001b[1;33m[\u001b[0m\u001b[0muser\u001b[0m\u001b[1;33m]\u001b[0m \u001b[1;33m=\u001b[0m \u001b[1;33m{\u001b[0m\u001b[1;33m}\u001b[0m\u001b[1;33m\u001b[0m\u001b[0m\n\u001b[1;32m---> 21\u001b[1;33m           \u001b[0mvideo_to_user_to_startzero_events\u001b[0m\u001b[1;33m[\u001b[0m\u001b[0mlecture_id\u001b[0m\u001b[1;33m]\u001b[0m\u001b[1;33m[\u001b[0m\u001b[0muser\u001b[0m\u001b[1;33m]\u001b[0m\u001b[1;33m.\u001b[0m\u001b[0mappend\u001b[0m\u001b[1;33m(\u001b[0m\u001b[0mevent\u001b[0m\u001b[1;33m.\u001b[0m\u001b[0mtimestamp\u001b[0m\u001b[1;33m)\u001b[0m\u001b[1;33m\u001b[0m\u001b[0m\n\u001b[0m\u001b[0;32m     22\u001b[0m   \u001b[0mjson\u001b[0m\u001b[1;33m.\u001b[0m\u001b[0mdump\u001b[0m\u001b[1;33m(\u001b[0m\u001b[0mvideo_to_user_to_startzero_events\u001b[0m\u001b[1;33m,\u001b[0m \u001b[0mopen\u001b[0m\u001b[1;33m(\u001b[0m\u001b[1;34m'video_to_user_to_startzero_events.json'\u001b[0m\u001b[1;33m,\u001b[0m \u001b[1;34m'w'\u001b[0m\u001b[1;33m)\u001b[0m\u001b[1;33m)\u001b[0m\u001b[1;33m\u001b[0m\u001b[0m\n\u001b[0;32m     23\u001b[0m \u001b[1;33m\u001b[0m\u001b[0m\n",
        "\u001b[1;31mAttributeError\u001b[0m: 'dict' object has no attribute 'append'"
       ]
      }
     ],
     "prompt_number": 3
    },
    {
     "cell_type": "code",
     "collapsed": false,
     "input": [
      "'''\n",
      "import cPickle as pickle\n",
      "\n",
      "for lecture_id in listVideos():\n",
      "  print lecture_id\n",
      "  seek_chains = getSeekChains(lecture_id)\n",
      "  pickle.dump(seek_chains, open('seek_chains_' + str(lecture_id) +'.pickle', 'w'))\n",
      "'''\n",
      "\n",
      "'''\n",
      "video_to_seek_chains = {}\n",
      "\n",
      "count = 0\n",
      "if os.path.exists('video_to_seek_chains.pickle'):\n",
      "  video_to_seek_chains = pickle.load(open('video_to_seek_chains.pickle'))\n",
      "else:\n",
      "  for lecture_id in listVideos():\n",
      "    print lecture_id\n",
      "    video_to_seek_chains[lecture_id] = getSeekChains(lecture_id)\n",
      "  pickle.dump(video_to_seek_chains, open('video_to_seek_chains.pickle', 'w'))\n",
      "'''    "
     ],
     "language": "python",
     "metadata": {},
     "outputs": [
      {
       "ename": "NameError",
       "evalue": "name 'listVideos' is not defined",
       "output_type": "pyerr",
       "traceback": [
        "\u001b[0;31m---------------------------------------------------------------------------\u001b[0m\n\u001b[0;31mNameError\u001b[0m                                 Traceback (most recent call last)",
        "\u001b[0;32m<ipython-input-2-8aafc9fb1610>\u001b[0m in \u001b[0;36m<module>\u001b[0;34m()\u001b[0m\n\u001b[1;32m      1\u001b[0m \u001b[0;32mimport\u001b[0m \u001b[0mcPickle\u001b[0m \u001b[0;32mas\u001b[0m \u001b[0mpickle\u001b[0m\u001b[0;34m\u001b[0m\u001b[0m\n\u001b[1;32m      2\u001b[0m \u001b[0;34m\u001b[0m\u001b[0m\n\u001b[0;32m----> 3\u001b[0;31m \u001b[0;32mfor\u001b[0m \u001b[0mlecture_id\u001b[0m \u001b[0;32min\u001b[0m \u001b[0mlistVideos\u001b[0m\u001b[0;34m(\u001b[0m\u001b[0;34m)\u001b[0m\u001b[0;34m:\u001b[0m\u001b[0;34m\u001b[0m\u001b[0m\n\u001b[0m\u001b[1;32m      4\u001b[0m   \u001b[0;32mprint\u001b[0m \u001b[0mlecture_id\u001b[0m\u001b[0;34m\u001b[0m\u001b[0m\n\u001b[1;32m      5\u001b[0m   \u001b[0mseek_chains\u001b[0m \u001b[0;34m=\u001b[0m \u001b[0mgetSeekChains\u001b[0m\u001b[0;34m(\u001b[0m\u001b[0mlecture_id\u001b[0m\u001b[0;34m)\u001b[0m\u001b[0;34m\u001b[0m\u001b[0m\n",
        "\u001b[0;31mNameError\u001b[0m: name 'listVideos' is not defined"
       ]
      }
     ],
     "prompt_number": 2
    }
   ],
   "metadata": {}
  }
 ]
}