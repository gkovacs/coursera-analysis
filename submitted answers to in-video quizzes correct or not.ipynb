{
 "cells": [
  {
   "cell_type": "code",
   "execution_count": 1,
   "metadata": {
    "collapsed": true
   },
   "outputs": [],
   "source": [
    "import csv\n",
    "import ujson as json\n",
    "from memoized import memoized\n",
    "import xml.etree.ElementTree as et\n",
    "\n",
    "@memoized\n",
    "def loadjson(table_name):\n",
    "  return json.load(open('/lfs/local/0/geza/ml-004_data_export/' + table_name + '.json'))\n",
    "\n",
    "def get_table_path(table_name):\n",
    "  csv_path = '/lfs/local/0/geza/ml-004_data_export/'\n",
    "  return csv_path + table_name + '.csv'\n",
    "\n",
    "def get_table_data(table_name):\n",
    "  return csv.DictReader(open(get_table_path(table_name)), doublequote=False, delimiter=',', escapechar='\\\\')\n",
    "\n",
    "def print_first_lines(table_name, n=10):\n",
    "  for x in get_table_data(table_name):\n",
    "    if n <= 0:\n",
    "      break\n",
    "    n -= 1\n",
    "    print x"
   ]
  },
  {
   "cell_type": "code",
   "execution_count": 2,
   "metadata": {
    "collapsed": true
   },
   "outputs": [],
   "source": [
    "invideo_quiz_itemids = set()\n",
    "\n",
    "for line in get_table_data('quiz_metadata'):\n",
    "  if line['deleted'] != '0':\n",
    "    continue\n",
    "  if line['duration'] != '0':\n",
    "    continue\n",
    "  quiz_id = int(line['id'])\n",
    "  if quiz_id > 144:\n",
    "    continue\n",
    "  if line['quiz_type'] != 'video':\n",
    "    continue\n",
    "  invideo_quiz_itemids.add(quiz_id)\n"
   ]
  },
  {
   "cell_type": "code",
   "execution_count": 3,
   "metadata": {
    "collapsed": false
   },
   "outputs": [],
   "source": [
    "# only enable invideo quizzes with 1 in-video quiz\n",
    "\n",
    "#invideo_quiz_itemids = set([2, 3, 4, 5, 6, 7, 9, 10, 11, 25, 26, 27, 28, 29, 30, 31, 32, 38, 41, 42, 43, 45, 46, 47, 48, 49, 50, 51, 53, 54, 55, 56, 57, 58, 59, 60, 61, 63, 64, 76, 77, 78, 79, 80, 81, 82, 83, 84, 86, 87, 88, 89, 90, 91, 92, 93, 94, 95, 96, 97, 98, 99, 100, 101, 102, 103, 104, 105, 106, 107, 108, 109, 110, 111, 112, 113, 114, 115, 117, 118, 119, 120, 121, 122, 123, 124, 125, 126, 127, 129])\n",
    "\n",
    "invideo_quiz_itemids = set([4, 5, 6, 7, 9, 10, 25, 26, 27, 28, 29, 30, 31, 32, 38, 41, 42, 43, 45, 46, 47, 48, 49, 50, 51, 53, 54, 55, 56, 57, 58, 59, 60, 61, 63, 64, 76, 77, 78, 79, 80, 81, 82, 83, 84, 86, 87, 88, 89, 90, 91, 92, 93, 94, 95, 96, 97, 98, 99, 100, 101, 102, 103, 104, 105, 106, 107, 108, 109, 110, 111, 112, 113, 114, 115, 117, 118, 119, 120, 121, 122, 123, 124, 125, 126, 127, 129])\n"
   ]
  },
  {
   "cell_type": "code",
   "execution_count": 4,
   "metadata": {
    "collapsed": true
   },
   "outputs": [],
   "source": [
    "submission_id_to_quiz_id = {}\n",
    "submission_id_to_user_id = {}\n",
    "\n",
    "for line in get_table_data('quiz_submission_metadata'):\n",
    "  item_id = int(line['item_id'])\n",
    "  submission_id = int(line['id'])\n",
    "  user_id = line['session_user_id']\n",
    "  if item_id not in invideo_quiz_itemids:\n",
    "    continue\n",
    "  submission_id_to_user_id[submission_id] = user_id\n",
    "  submission_id_to_quiz_id[submission_id] = item_id\n"
   ]
  },
  {
   "cell_type": "code",
   "execution_count": 9,
   "metadata": {
    "collapsed": false
   },
   "outputs": [],
   "source": [
    "submission_id_to_answer = {}\n",
    "\n",
    "exit_loop = False\n",
    "\n",
    "for key,value in loadjson('kvs_course.quiz.submission'):\n",
    "  if exit_loop:\n",
    "    break\n",
    "  parts = key.split('.')\n",
    "  submission_id = int(parts[1].split(':')[1])\n",
    "  if submission_id not in submission_id_to_quiz_id:\n",
    "    continue\n",
    "  if submission_id not in submission_id_to_user_id:\n",
    "    continue\n",
    "  quiz_id = submission_id_to_quiz_id[submission_id]\n",
    "  user_id = submission_id_to_user_id[submission_id]\n",
    "  if quiz_id not in invideo_quiz_itemids:\n",
    "    continue\n",
    "  answers = value['answers']\n",
    "  if len(answers) != 1:\n",
    "    continue\n",
    "  answer = answers.values()[0].values()[0]\n",
    "  submission_id_to_answer[submission_id] = answer\n",
    "  "
   ]
  },
  {
   "cell_type": "code",
   "execution_count": 13,
   "metadata": {
    "collapsed": true
   },
   "outputs": [],
   "source": [
    "#json.dump(submission_id_to_answer, open('/lfs/local/0/geza/submission_id_to_answer.json', 'w'))"
   ]
  },
  {
   "cell_type": "code",
   "execution_count": 10,
   "metadata": {
    "collapsed": false
   },
   "outputs": [
    {
     "name": "stdout",
     "output_type": "stream",
     "text": [
      "deac2bdac89df36b0158a36172025dc6\n"
     ]
    }
   ],
   "source": [
    "#print submission_id_to_answer[2097152]"
   ]
  },
  {
   "cell_type": "code",
   "execution_count": 11,
   "metadata": {
    "collapsed": false
   },
   "outputs": [],
   "source": [
    "quiz_to_answer_to_count = {}\n",
    "\n",
    "for submission_id,answer in submission_id_to_answer.iteritems():\n",
    "  if submission_id not in submission_id_to_quiz_id:\n",
    "    continue\n",
    "  if submission_id not in submission_id_to_user_id:\n",
    "    continue\n",
    "  quiz_id = submission_id_to_quiz_id[submission_id]\n",
    "  user_id = submission_id_to_user_id[submission_id]\n",
    "  if quiz_id not in quiz_to_answer_to_count:\n",
    "    quiz_to_answer_to_count[quiz_id] = {}\n",
    "  if answer not in quiz_to_answer_to_count[quiz_id]:\n",
    "    quiz_to_answer_to_count[quiz_id][answer] = 0\n",
    "  quiz_to_answer_to_count[quiz_id][answer] += 1"
   ]
  },
  {
   "cell_type": "code",
   "execution_count": 17,
   "metadata": {
    "collapsed": true
   },
   "outputs": [],
   "source": [
    "quiz_to_correct_answer = {}\n",
    "\n",
    "for quiz_id,answer_to_count in quiz_to_answer_to_count.iteritems():\n",
    "  count_and_answer = [(count, answer) for answer,count in answer_to_count.items()]\n",
    "  best_answer = sorted(count_and_answer)[len(count_and_answer) - 1][1]\n",
    "  quiz_to_correct_answer[quiz_id] = best_answer "
   ]
  },
  {
   "cell_type": "code",
   "execution_count": 20,
   "metadata": {
    "collapsed": true
   },
   "outputs": [],
   "source": [
    "submission_id_to_correct = {}\n",
    "\n",
    "for submission_id,answer in submission_id_to_answer.iteritems():\n",
    "  if submission_id not in submission_id_to_quiz_id:\n",
    "    continue\n",
    "  if submission_id not in submission_id_to_user_id:\n",
    "    continue\n",
    "  quiz_id = submission_id_to_quiz_id[submission_id]\n",
    "  user_id = submission_id_to_user_id[submission_id]\n",
    "  correct_answer = quiz_to_correct_answer[quiz_id]\n",
    "  correctness = correct_answer == answer\n",
    "  submission_id_to_correct[submission_id] = correctness"
   ]
  },
  {
   "cell_type": "code",
   "execution_count": 21,
   "metadata": {
    "collapsed": true
   },
   "outputs": [],
   "source": [
    "#json.dump(submission_id_to_correct, open('/lfs/local/0/geza/submission_id_to_correct.json', 'w'))"
   ]
  },
  {
   "cell_type": "code",
   "execution_count": 18,
   "metadata": {
    "collapsed": true
   },
   "outputs": [],
   "source": [
    "#json.dump(quiz_to_correct_answer, open('/lfs/local/0/geza/quiz_to_correct_answer.json', 'w'))"
   ]
  },
  {
   "cell_type": "code",
   "execution_count": 19,
   "metadata": {
    "collapsed": false
   },
   "outputs": [
    {
     "name": "stdout",
     "output_type": "stream",
     "text": [
      "muEi5gyrg3\n"
     ]
    }
   ],
   "source": [
    "#print quiz_to_correct_answer[5]"
   ]
  },
  {
   "cell_type": "code",
   "execution_count": 12,
   "metadata": {
    "collapsed": false
   },
   "outputs": [
    {
     "name": "stdout",
     "output_type": "stream",
     "text": [
      "{4: {u'cIrwuamv01': 4242, u'hg80Rm7BvA': 1110, u'2gBgxGj2NR': 29526, u'5sSZfbyH6N': 277}, 5: {u'YfU9ilgrvJ': 67, u'CEgT77LLCl': 108, u'muEi5gyrg3': 30563, u'VsZTBP5GWA': 759}, 6: {u'YfU9ilgrvJ': 205, u'CEgT77LLCl': 289, u'muEi5gyrg3': 1277, u'VsZTBP5GWA': 30318}, 7: {u'9JcoJAKXH6': 7832, u'AuddBmY8xZ': 22277, u'wEKo9vutSr': 4383, u'ZE1NZI8S5d': 4816}, 9: {u's2jYX64VJX': 21038, u'J3dZndsMLr': 11605, u'WT9Kka8vqB': 2532, u'ywbT93ti2F': 513}, 10: {u'3NAsEMcLCo': 2478, u'fM2bYlhWSR': 21912, u'dWYsa1K4Gg': 1389, u'6nZkhj8Aue': 2540}, 25: {u'ca5993af294fc39ba6a8ac399fec508e': 33, u'ec27a7d997b80dfc8d5034f6de005e26': 295, u'6d7251327a44f6abcbebcd382842f987': 15, u'9dd92b534b3916b1150b36d66a6abd1f': 11470}, 26: {u'bbf92f895f4d3446977389934a88eb3f': 27, u'db022531ce1c28a4c17c36b9a6bc13ad': 124, u'd8b4298857f0043081302476fe5dd67d': 77, u'46a88833c8fd16152926ce7b8ed50d33': 12054}, 27: {u'89dc6767d288438ac6f0178ff5b0e40c': 20438, u'01b94121b090ca3c8135ce4ae1ae0814': 1548, u'821268b0413f509c4a155b58a9e0e763': 1649, u'b432360d7abc1f564e52fd670c3b1ab4': 2568}, 28: {u'b9bfda99f46ec9c8896e2784b7942065': 6649, u'deac2bdac89df36b0158a36172025dc6': 7560, u'33b0ecb39caed4b1de965122b10df740': 5698, u'16bc75af29f4569c0f32bf01767fe2a8': 22952}, 29: {u'b27c113d330fcf182e866c2b4a4584d0': 3222, u'91732aa35cff5b851a292699a88244bf': 126, u'efcc8ea20b8eff1b74d88a72011872b6': 19097, u'49f65038fee111ea097e99c7b0d1d6c6': 549}, 30: {u'dccf33328b0e92882b98ad16cd4a7680': 18166, u'439b299d0d3b8420430a897f2575e809': 5821, u'06a63d651a7c9b4f2da4da9b4961fcb9': 480, u'3227ee08ed2cb93cac9873dcc97e3399': 733}, 31: {u'81ae16d803376b3bbb50d3df1185dfaa': 1662, u'be2141036e13daf0deeb0038ea5e741e': 1162, u'b1b92acc82e8f1255bdb2b7e96baf44b': 17935, u'2bd1895e54ce19e404af4bdc16e26776': 1884}, 32: {u'81ae16d803376b3bbb50d3df1185dfaa': 18109, u'be2141036e13daf0deeb0038ea5e741e': 805, u'b1b92acc82e8f1255bdb2b7e96baf44b': 246, u'2bd1895e54ce19e404af4bdc16e26776': 821}, 38: {u'b1c3e83da4d479d56944caeea9508ec2': 180, u'2988c087bd68e0b4ca5d6bd4d8af3f07': 461, u'c43e57ce66c7e4611bebdd6ad6b76c08': 11990, u'703cfb71ae7bdea8396b9440c3c1fa18': 92}, 41: {u'3b81892cd29fcccfdf48f51f15acd95b': 1852, u'e88acd99c3d9dadf452a70e100c8ffbe': 1676, u'aa7fc313d0a3ebfa964b20833f25b5a5': 3550, u'b830e967f7bf7ce1b0788c2e1800896a': 15392}, 42: {u'0c090beb1d6a059736cbc7a299b9f783': 270, u'e20becd1df2d94f7d0cb6a2d86f11530': 129, u'8fbdf0f130e2c27fe59cff00c5c832da': 16120, u'689c390bf9f4f7941f8d005199330e83': 63}, 43: {u'340b82c30f762632e6c757de8d5c90c6': 6701, u'89e32bf07f43bcac07e0e91e6cb15d69': 2215, u'6c745e22607406b05a6b6f4086199e0c': 1526, u'1c0883c0ec4fb83305b1390ef3c6da87': 14420}, 45: {u'e9599079e4a528808e54b13142e94c63': 471, u'05826f4b781a25d1cecae26174f83fd9': 1299, u'35ab3397a278515bed27bc4597ab7cbf': 1052, u'692cd8128be091f271b217ba4ce6f606': 12183}, 46: {u'9016bd4e36f1b3319558c7d587d070e2': 414, u'8e7f6c81989ee0cd9e7bbc52d2a196f0': 13449, u'd54c664fb53730f7b32c690cb680479c': 489, u'f4d3660011196aef819c169e5afa615c': 1334}, 47: {u'f2f63b446e8e6a5dce02f3fb01bb0aea': 165, u'2cef1cb77325680eefe8238ef94feb80': 257, u'4629ef070bf4a2cf2ba69530d3b528d6': 12950, u'e0773a54c14b23fdfbbf2fff8f5c13b9': 87}, 48: {u'8f6160edc33de27db68d44ee41e69b4f': 3120, u'055e91c36d044031948eee23a592b4ea': 12277, u'd2b530b3532acb9b7d47f9da8307c51d': 2286, u'c69a8e081cea2aa4b83dba574d7633f8': 2066}, 49: {u'd14d16434a9fcc75bb5d9a15c7fe8821': 11999, u'd315a19cc33d580df0eee793ccf63423': 2507, u'f83d18a59277480d53ee91c07d15301c': 1514, u'e80535bb288233b54f25cd1343cdadd8': 2466}, 50: {u'ff8f2d0c472cb21336247fa18f104fae': 602, u'83409e9410d5e30a61c9ba79c1db8e44': 3402, u'3844faafcefd7bb41b70de23560ac29a': 1257, u'133147b33a560d938c01669362472064': 11567}, 51: {u'0c06676eaf30cea42a691281879e61f4': 1483, u'96fd218be9639d35e79e015f407b7c40': 12874, u'6967d79924556619d023dec03c45cc16': 2361, u'49eda177bfd6067e3e7f2f9a36412a63': 3121}, 53: {u'e46df226fcca799c0cef55a2704bc9df': 11417, u'6700da56ed2781a8b471f71812cdc58a': 5307, u'0776a87be863d99ddf36d21982b71625': 3906, u'4f5540bda6187595a0ba84805d48efae': 3231}, 54: {u'c6d3313ac0ae54e5f68a255ddfb56552': 1459, u'9e13c31bcf0bc2c7ce41fef50ad19ffb': 1393, u'da90fb9d415abd0568acc9d1f8ac022f': 11711, u'925185b5e0eff266d6116435d34607f6': 2601}, 55: {u'917b91a34f695f98fdc2ebbe3ea450a4': 11615, u'a25f659695d47505bd11156f1ca1af4e': 616, u'32bb9e37cabb2d579e038c3a6a130518': 925, u'5a534b31968e72f048c1d0971957c885': 556}, 56: {u'0039c195259e7d8184c134c4b216354c': 606, u'bfe006c56d761d75f1756f8a02b59bd2': 11391, u'4b43621197457c694be20a91fc2020f4': 1023, u'd5b8769204879ceab88e278a4eb65176': 2614}, 57: {u'ccba49a828c2d8b172f0721163f5ded8': 11097, u'0d90dc8d9ba6014a692013a83c1abc32': 1046, u'0e678f735fa322a20d82a8e9686e7c3c': 4214, u'2162f01cfcca1fbda7103afb23ecdf67': 5221}, 58: {u'226d7bf4e409e1a3eb45294821482498': 1419, u'7717402d51e3ecda8085870a30a0773a': 12397, u'f88d973fbbb354a085cd6afc1f51d6b8': 619, u'137aeec19bde1d11a010b5307865f96e': 2173}, 59: {u'c2b7c0a9d86c637debb2d1a7e891e394': 4275, u'3e4ded68d7537653c862932580175843': 1569, u'ee2270ec406438a366c2aa3d0e1a53db': 1964, u'944ae770279d8e287172e0a9e7beb8fe': 10549}, 60: {u'38339ec9aca75cc798b04c8f06100a7a': 1813, u'972db283a2c4febee57eaacbfc02e3a7': 2739, u'21e46ecd3a3383a50340ede88ea72107': 8661, u'94ec9cc91883276b32a01bbcd4d10348': 1839}, 61: {u'bc61c327d2ae88c98eb9ff38fbb1763b': 9051, u'bbdc520fec98196be1d4e0f5688b6b1b': 383, u'b5c91e2a83d8436e68cdaf279069e305': 1627, u'30086a0ec7dbc1ebdfe4f2adbed1b84f': 4650}, 63: {u'8859e7563b44ee3c73b6fa3fd553d5a5': 1641, u'f5ba1af83c74c9751896530383b652c0': 8267, u'6570021f35210efb21ebed26246af1a1': 982, u'64c917bfc1c5cf31b9e74327dc99c6ee': 1843}, 64: {u'10abdfecbe6d551884e9036382c4abdc': 202, u'528b37ee8634ae8fad39e6f7c04b8e07': 1189, u'56113a4fa773f38c683928c718372da5': 8741, u'dbcc2e6a34067a103ee2e69e525ad460': 623}, 76: {u'dde531f324aa982012df66ccf03272cc': 44, u'95cb8d86032be0d59667025b602b00dc': 1717, u'f744fb88acbeb88abb8a550cab3557ee': 2183, u'fbfea4fd3606cedf65e7bae82dc46038': 11106}, 77: {u'ec08dbd63e33f168efaf9c1699108c4e': 518, u'8eae0f4e2afea3fab9c3088ec6c10c24': 9393, u'30c0590a91578cfd85e073b008751713': 605, u'ee8600d01d542f2c6561365aea295498': 609}, 78: {u'5b95b5d6668e6684253ed4cdada51250': 1118, u'3abc360a97da190535a22060d9149554': 901, u'3a704dff3ef15259c7c78a683a3014b3': 349, u'2fe32e0164efa03aba209bc0eef3a914': 8749}, 79: {u'98cf3a99139efc241a30316f1ff0269d': 748, u'55bfdb13decac83d5946f3e5db94acc7': 8663, u'6a060fabc7b56db4fac70c3c7672d746': 320, u'39792dd50b6f777f7500099f2792287d': 1236}, 80: {u'57086c57128f8a260b964127970cfeec': 1924, u'55abdb92021173b330bc324340cb6659': 1869, u'9ec9e6d467869acbc19d54e2398ca371': 7495, u'68cbc00bf5c9eabfd9da3f7e831316cb': 3678}, 81: {u'6e40549088ec8b3ffd9769a5e9f6fb83': 834, u'e157413e5ed19233e5f5fc1c9581c0e4': 1541, u'3aaba8a59d3226db46cf18d46bf3cd1e': 214, u'38bf6d197f3d479479dbe2bafec096f4': 8623}, 82: {u'3af89e1e2e56b6db6c262c53520a9b07': 1942, u'5334f465602b460e5775d5e16ae4cf68': 7198, u'cdfc775b22cb291e17934e5a11af32f8': 2531, u'aa2322f0601f735a34e448452f7415c1': 1355}, 83: {u'94639876db3409caadb22241ade174e1': 449, u'82c3fbad15ca52f28af9a7b96babd472': 4142, u'4c18ac20408d0090b1661ffd63cec44b': 13315, u'03d655929baddc061340853f9f00744d': 3676}, 84: {u'793dcb560e68eb29575e37b11128f3bb': 7906, u'7e7744a4a9be5fdf2cc7985a7f60da15': 316, u'c4aa02059540060c56156c0a2be248d4': 445, u'c468e2e672105eda9003fcd20ec0169d': 86}, 86: {u'b63add9dc264d3513b3e8ed5606229c1': 7225, u'6df2336cc181c9281c26a9073c6ce9dd': 123, u'a89ab5b57ab32356f2e0fe02fb76f5c9': 1218, u'295a045ac6b0f155d0609a5b22ee4c1f': 47}, 87: {u'41b4685cc202191a83e7d8473a8ead96': 964, u'65869cc148cc5862b88f7b0f5e24e374': 1108, u'bb021a452f911d9016d371f3b6d9e601': 1265, u'4e4ef60881402bc27a1847a8224f5083': 8020}, 88: {u'354e0373c86a174e5744b4c6f43fcbce': 346, u'70f053751520d1453543e2c1ab2e15d9': 167, u'60b46f56e7f2cbc0b0c0f84e7e04f37c': 542, u'466faf4513dab29f779388467d9d4125': 8942}, 89: {u'2d49dd98f3590f9894ebc34c1a58de96': 3229, u'5c94edb9306f1388d19b854416bb3603': 1210, u'3f936da787036aff371085a3d770cb12': 7619, u'0dd7ec3859ecf42a94796b4c8b8d41d4': 2719}, 90: {u'2339105d54c5f7e6432587597672ce3e': 2623, u'f22bb3f1f680395f3a74bac61beec35e': 2142, u'8884a8ef717721f09e36d7ce86f4f546': 5651, u'8da878576d10f6432a7d8553bf5bdc95': 1609}, 91: {u'58f30a00516134d312c5dd7a0326b1fe': 767, u'2f3da90ca23c6fff8cfeb1dde405016f': 7751, u'42fe76bee775e16529c7547f214eca27': 395, u'de0daa3cae15758e7370f5e1cc7f6c79': 1868}, 92: {u'f3a2bf7babc444a9cfcc4a278dde1d42': 2620, u'f1d5ce954ce4269c8314b26f2df06565': 8013, u'04f297f7deedfb79a30fe804ea6b5c92': 674, u'0b29d5b1a19fe4505fa6a7d8c3dc464b': 305}, 93: {u'45f02924c14859b6a65f9ff3f1ba5dc1': 2682, u'42a906fc1d164522571549dc9c37f80e': 920, u'57ccde0cb54203485457768f8213bdb0': 7034, u'f8bf2ef55139339704c51629daff40fd': 1513}, 94: {u'34f6d05717360da28427817333e6f122': 7961, u'2ca77674db44db21267b619bb2476b52': 31, u'd8ba863c1bafb64ef5820e01f85db2b5': 52, u'5139902c72df95f2a40b2eb88629bbe0': 622}, 95: {u'3e717e2a4f623c9fc3ba0a92cb4dce9c': 188, u'b803a0332ca8a59bdd5011eb015b1bcf': 9811, u'149fbd681fc58b04735e3df64c33bff5': 1623, u'786f5514ed758495f2cd2cca51a13f41': 255}, 96: {u'8da19d2850396b87d760d547f6e3d448': 3212, u'539fad846a3f6ac0e32f5596c4b73e4f': 3491, u'db8ba2b5091409abafd94f9252480f34': 5475, u'c3d98b168750a286719ed326dd1fe1ea': 2585}, 97: {u'fe30488f01094a3a063515ac7fc5d257': 2232, u'6a7dbdd6da07aaf9534f7d5a8750abb1': 253, u'8132372dd4d8e18f18105068153a6f49': 6992, u'd5642146bf860968a9efb9e0e48c80cb': 443}, 98: {u'81044d75f804fa370848bf0f71917c0d': 1311, u'6a17bfb21944d8fa08eac84e83fbb160': 987, u'37314183ddc4627351c238872854dcfe': 3090, u'edb5875df857f91166925f9a4a9cdb88': 6865}, 99: {u'065acbc00fd1dd8e1956ed8f33f4490b': 121, u'ae7eb180a5ecbed266ed551980e92172': 109, u'78829d6c1f972eb6a1e177c571bd1a5f': 7030, u'8909be026d72106447084800b11b1f26': 708}, 100: {u'23def20340b6cd5d82bd9ad21749a99a': 81, u'55d84d2e0f3fd4de052c82af8c74e1dd': 215, u'ab93a69a35b8f9d08762cbf72b0ba68e': 1434, u'd2b4eed1d166a267c39369abb0ed05b3': 8918}, 101: {u'3f5be5c4422c531accf562c15255fc8c': 598, u'b21193a20818360ca3df5731a465ba40': 538, u'1e018029f18318f7558172a3b868f439': 531, u'10cdab248750ff85d62b7a3a9f322264': 6801}, 102: {u'e1f07f18fbd8e40bb61d7a3ededa5139': 1618, u'a54dc81350e7c1ff63605c4c20aa955c': 1118, u'6c286c983a2213f91862bebd9433983c': 3276, u'05dcf100204f1105ba54f5be0ad48cea': 6078}, 103: {u'6f3cfdb81f42baed283cb9293c7d9de0': 115, u'7299c7e8242158ece0738c856eae7cd1': 6564, u'6ea48779677d101917b2e7c006c3e0ee': 120, u'9f7fffacbb3ddcb03ad821d8dff3fde8': 50}, 104: {u'0235bd53fe2b6b3e3d33f86b3e616ea5': 2108, u'821ba3434c350ab83a20879956e5de95': 387, u'7ddf3b6b6201ccb2a4a20984448f8b71': 356, u'221d2798434be666edc37eeef25c21c3': 6510}, 105: {u'1d73ca1d10258c0d680f969bf99edbbe': 20, u'18a473e33d8b61c13a765c565d7b5a80': 106, u'ee172d85804faa8f38a696f7677ddc45': 594, u'9906a5c863536d1a989fd49dac1389a6': 6502}, 106: {u'607084954f83a24fb787a89357bf5f3d': 5009, u'b8eea6649f88bf072a9320d3f04a5592': 1844}, 107: {u'236c0373c1e3f2762aa625e0fd185dae': 6039, u'dfc52b4d617f2ae9988cf78669e13175': 799, u'46db6033cb60d215d4cbc3cb1672e9c0': 522, u'6d8a40192ca1df49ced869675c23246f': 1015}, 108: {u'da60bbe9df770e38134181686fd55ba9': 610, u'847d1ad96ce6d6c74d7763aa9b479634': 6586, u'ad825030a14eed5c432b2a7781afaa78': 930, u'a92ab4def0acdeb060cddc9c6aecbde8': 599}, 109: {u'bb3ef19df28b80a11d75766cc868b85f': 1209, u'8b4bf122e417bdaaeb7fcc0b4f86a03b': 832, u'92fab5a2197f103bd7091f971bacf02e': 5945, u'7cd42cc20b2490618c20bcf13fb9e15e': 2191}, 110: {u'92169598647c8d07387e93f5df77b231': 141, u'9bba4c6e801713a1fb28246fdac93346': 128, u'fe5a322095d8da44092b6b1354dd8265': 78, u'fec9589722c23baee8cb926200a79b21': 6119}, 111: {u'621f1b0d024829cb1062a2ddf3b7c0d8': 172, u'c99263341789402d741e4568dc9fd05a': 6056, u'b63014f98e78955bcfd2e8a397c53e16': 446, u'370bdad353cb0b6ef2c2a7c79b4fca65': 194}, 112: {u'fbe9fc7f307f2fcffa1e70ea68c3873f': 491, u'd1d51de061005bfe857471cc10a5c9df': 394, u'134062052e36f71146f57c86dacfcff2': 229, u'7fd268c3e2ebbcd563987c892960c010': 4578}, 113: {u'910301431cd467e9c770ae520e5d8d14': 457, u'f1892ef6c34fa2d106aec84d77a9547d': 27, u'a16ce71371544a9c7f6ca46edb3277a7': 4927, u'3bc045d048417adfbb72bc2e9c79b6dd': 1343}, 114: {u'aea729d00683c2d3df400d72e8098f5c': 6447, u'01ef40a66829562083c8000be90f1855': 255, u'273fb02a887209c1a44254902e02c861': 1347, u'75b5475c3ab032332f98011d1ed34199': 324}, 115: {u'cfe04fc4659b03dac634d94229364b4b': 1646, u'd9d810c541586f05aafb736b3fe680ce': 6452, u'67e5ff4ee5bff5cb2cbfbe05c75fee29': 1107, u'ecb5f31b6a12b9601de757af08d310e2': 782}, 117: {u'7cae376be1a8a3e76bb8d7a9fd5a3916': 273, u'18786e7d273c00d4c12c46ee51f8ad50': 213, u'5fb1eefc42e6b38dad6f4786c38dcafb': 507, u'35143edfd6421a9e0f7dfd93672294dd': 6093}, 118: {u'e2c34a2b1f86c8ffb22141576685a567': 491, u'b53a1c72818f14efec26788dbaefbd14': 1404, u'6d6c0a054d48785735a26e349cbf5e37': 420, u'28ea2bd1ee685bd59ad00cabc128ec9f': 5907}, 119: {u'065a0b2e4505a4f784c6c72004fb2768': 178, u'4ce9c35d25f7358bc30aee079ea776ac': 254, u'95fe93bfc29772ece0fd65bde026956c': 211, u'f65714f0f64fcc5e70ac3f86560b3b08': 5588}, 120: {u'699dc3302a3e10b5e2de0d0fbb6a5bf3': 906, u'dec397d6bde7a7e738829921194d2675': 1418, u'ecb2746a6626b5430f3c5ffe3e2cd7f0': 3962, u'b7aaf2b668ebde8573b84c1fd029613b': 5924}, 121: {u'fbe191938968da0c127bed62b9bbc84c': 68, u'9b3708e841f3ba3762c8d2b2c9ff41ec': 6027, u'f214c40c4956683ff9a580807e9e6901': 1297, u'1f997e560b136e2cabdf8d4b1881db33': 380}, 122: {u'066de6f1241f017dbaa5475d83d53ad0': 143, u'2cf8876ae1c15a32cee66eccdd0a1958': 5767, u'9c69c383e70e17dcde13a8adaf22698f': 1088, u'6105b586293c6cdcb44177510662bf43': 302}, 123: {u'43dc54574393b39177ba47d98ee9c764': 2871, u'a1cbca93567995e8a136888d72100db9': 584, u'ad53f5bb91a1d552ccf4ead01b5eb62a': 13, u'8dd37a4bb12819f6c06cfef58d77a350': 5824}, 124: {u'a4ed8b6150ed24ec857cd6c65e90b0ff': 864, u'00fd785e43c3b47f97317fbd947dcc9d': 72, u'b2fc1771d769a19a5ae327d02718261e': 68, u'22f54e32976510e7cbbca6fb2ebc187a': 5963}, 125: {u'34eda049d4b2b0947d24adcee12ae539': 5421, u'5e79c260603e2add08c8c33737ae6859': 1493, u'acdb2f6eca90ffd16bce4ad0e414a6f2': 987, u'408c24b1e5c2d6d8d53e2d91315da40c': 517}, 126: {u'79b73dc245d14399a382ab8cbf51bc2c': 5780, u'977d7b7e12b66666e9db323ca173607f': 52, u'fcde446bdf4b243243fd556234cb7708': 84, u'6e7caf71533d01c1a20813e1a93463c7': 121}, 127: {u'199190233f0020b5db8f64b47b9773ab': 5443, u'4d1b87a75baee809dedd96a4af2e50f3': 1012, u'625aa10684422a13a98987e8d5a3ac52': 631, u'707c5bc80895cc65b0c8a313bae5ac90': 605}, 129: {u'e2df07c8123571e7205c5fd1fda0d49d': 1568, u'9f053ae4fd1cf04088fa807a899c8a5f': 5179, u'7e12b81da5883f4e69cb8901724f6b72': 2061, u'feb3a2a43cbc7a093ef7f3180a1ca630': 50}}\n"
     ]
    }
   ],
   "source": []
  },
  {
   "cell_type": "code",
   "execution_count": 12,
   "metadata": {
    "collapsed": false
   },
   "outputs": [],
   "source": [
    "'''\n",
    "submission_id_to_answer = {}\n",
    "\n",
    "quiz_id_to_max_answers = {}\n",
    "\n",
    "for x in invideo_quiz_itemids:\n",
    "  quiz_id_to_max_answers[x] = 0\n",
    "\n",
    "exit_loop = False\n",
    "\n",
    "for key,value in loadjson('kvs_course.quiz.submission'):\n",
    "  if exit_loop:\n",
    "    break\n",
    "  parts = key.split('.')\n",
    "  submission_id = int(parts[1].split(':')[1])\n",
    "  if submission_id not in submission_id_to_quiz_id:\n",
    "    continue\n",
    "  if submission_id not in submission_id_to_user_id:\n",
    "    continue\n",
    "  quiz_id = submission_id_to_quiz_id[submission_id]\n",
    "  user_id = submission_id_to_user_id[submission_id]\n",
    "  if quiz_id not in invideo_quiz_itemids:\n",
    "    continue\n",
    "  answers = value['answers']\n",
    "  quiz_id_to_max_answers[quiz_id] = max(quiz_id_to_max_answers[quiz_id], len(answers))\n",
    "'''"
   ]
  },
  {
   "cell_type": "code",
   "execution_count": 15,
   "metadata": {
    "collapsed": false
   },
   "outputs": [
    {
     "name": "stdout",
     "output_type": "stream",
     "text": [
      "set([4, 5, 6, 7, 9, 10, 25, 26, 27, 28, 29, 30, 31, 32, 38, 41, 42, 43, 45, 46, 47, 48, 49, 50, 51, 53, 54, 55, 56, 57, 58, 59, 60, 61, 63, 64, 76, 77, 78, 79, 80, 81, 82, 83, 84, 86, 87, 88, 89, 90, 91, 92, 93, 94, 95, 96, 97, 98, 99, 100, 101, 102, 103, 104, 105, 106, 107, 108, 109, 110, 111, 112, 113, 114, 115, 117, 118, 119, 120, 121, 122, 123, 124, 125, 126, 127, 129])\n"
     ]
    }
   ],
   "source": [
    "#print quiz_id_to_max_answers\n",
    "'''\n",
    "quizzes_with_one_answer = set()\n",
    "for k,v in quiz_id_to_max_answers.items():\n",
    "  if v == 1:\n",
    "    quizzes_with_one_answer.add(k)\n",
    "\n",
    "print quizzes_with_one_answer\n",
    "'''"
   ]
  },
  {
   "cell_type": "code",
   "execution_count": 7,
   "metadata": {
    "collapsed": false
   },
   "outputs": [],
   "source": [
    "'''\n",
    "#quiz_2_answer_distributions = {}\n",
    "#quiz_2_answers_key = set()\n",
    "quiz_id_to_answers_key = {}\n",
    "\n",
    "# quiz_id = 21 is an example of one that has two\n",
    "# quiz_id = 22 is an example of a quiz that has four questions!\n",
    "\n",
    "for key,value in loadjson('kvs_course.quiz.saved'):\n",
    "  parts = key.split('.')\n",
    "  quiz_id = int(parts[1].split(':')[1])\n",
    "  if quiz_id not in invideo_quiz_itemids:\n",
    "    continue\n",
    "  user_id = parts[2].split(':')[1]\n",
    "  if quiz_id not in quiz_id_to_answers_key:\n",
    "    quiz_id_to_answers_key[quiz_id] = set()\n",
    "  for x in value['answers'].keys():\n",
    "    quiz_id_to_answers_key[quiz_id].add(x)\n",
    "'''"
   ]
  },
  {
   "cell_type": "code",
   "execution_count": 10,
   "metadata": {
    "collapsed": false
   },
   "outputs": [
    {
     "name": "stdout",
     "output_type": "stream",
     "text": [
      "[1, 1, 1, 1, 1, 1, 1, 1, 1, 2, 3, 2, 4, 1, 1, 1, 1, 1, 1, 1, 1, 0, 0, 0, 0, 0, 1, 0, 0, 1, 1, 1, 2, 1, 1, 1, 1, 1, 1, 1, 0, 1, 1, 1, 1, 1, 1, 1, 1, 1, 2, 1, 1, 0, 2, 1, 1, 1, 1, 1, 1, 1, 1, 1, 2, 1, 1, 1, 1, 1, 1, 1, 1, 1, 1, 1, 1, 1, 1, 1, 1, 1, 1, 1, 1, 1, 1, 1, 1, 1, 1, 1, 1, 1, 1, 2, 1, 1, 1, 1, 1, 1, 1, 1, 1, 1, 1, 2, 1, 0]\n",
      "{2: set([u'l9nypDpiHq']), 3: set([u'XRH6Bfw1ub']), 4: set([u'DIsCI26ARr']), 5: set([u'MPky4kp4xX']), 6: set([u'0d1iR1YFqK']), 7: set([u'd8Rtc7LCHS']), 9: set([u'qC8kiV3NhH']), 10: set([u'F7CFqgWAOd']), 11: set([u'nzOSLZkEXV']), 21: set([u'3c2b16ed68c0fc61df870ea549d79271', u'57859454cf35d425bd94006afdc9e1fe']), 22: set([u'cf2a66ef4fcbb82846f7d784de4763eb', u'969fd508d737a44cd4a5fe69a583942f', u'cda9dad8fb55efcabea787717102f417']), 23: set([u'00eb0e871e6ce85883cddb9d12d566c0', u'8b4486925af827a18afd8fcaaabbf164']), 24: set([u'8a904036386999c4f1f6846b687276c3', u'c8be7aa3a9ad4ddaa7a89759b749d4e5', u'5b2ba42c35aaac2b01cd8a53ea9527d6', u'e5838670d9efc65d7133f262cd352ab8']), 25: set([u'805a2e0fcda986965492bc212f552b86']), 26: set([u'6f6afdadddd0e0c65c8c99853bfd0663']), 27: set([u'791cf62ccc3d917d55572d730369f5d8']), 28: set([u'e54e8c69a65bcbc318b917e38953c209']), 29: set([u'58b4401ec2b72d36407ff4abf7865fce']), 30: set([u'48c58d91e8b4ba69e855527382fd0024']), 31: set([u'e6c165be4366066b2b12c03a7a73261c']), 32: set([u'e6c165be4366066b2b12c03a7a73261c']), 33: set([]), 34: set([]), 35: set([]), 36: set([]), 37: set([]), 38: set([u'2f34f3972ff9229b54de55e22962e138']), 39: set([]), 40: set([]), 41: set([u'70b8c6c56af273d8bfa4e170fcaf94e9']), 42: set([u'1d036ffe94adadf12d016373ece24900']), 43: set([u'e5673e3958bf0966215b10e527f5644b']), 44: set([u'e20066c3ca636a3a383f6df848851d75', u'5fb0393c15b1e33b2697739238828372']), 45: set([u'b9dae914fb51e0c502f9d3cd827652ac']), 46: set([u'525304f1c63b25d3c91039c84fb7f7f1']), 47: set([u'fd3185c5e99048a2176cba5c8e2e47b8']), 48: set([u'5c05be748857f196ed7b9e53c1b3ce7e']), 49: set([u'da7d98e2c5f96e59b3df6f6f06b23d4d']), 50: set([u'3a56e066f61c9859ce51ff3c58a5c586']), 51: set([u'5433995b83ec4c858532e4f3f8eb5f9d']), 52: set([]), 53: set([u'103b548649cabfdc5f8f0d5e16b2ed27']), 54: set([u'7a1807638d9a042ef8e072bad4fd3bb1']), 55: set([u'6c4a5f15785489d0b24cd7d41f0deb3d']), 56: set([u'6a3dddb6b2ba7c23fc7726c691894c02']), 57: set([u'f6ae5fa4fcb77394ea1b126f11f16645']), 58: set([u'885ec8468d4fe42b64fb743cc13da6c2']), 59: set([u'853866b30fb844f960d86e3194e9e6ee']), 60: set([u'5e0df061f0f71b13980dc4008b1da09c']), 61: set([u'6ab5d4ebdb0bbeeafec3bdec9ba4ec1a']), 62: set([u'788d097e06b20a04302c9e3ec6e3bc76', u'f72865cfcc4874aea29a54b67d8e6a03']), 63: set([u'5ebd5f3774e0d6895f9fec318ff9acfc']), 64: set([u'dd268b567e7f90f1e60fad9403dbf415']), 65: set([]), 72: set([u'cb22bb7a05d07a6948215d0e7f160b48', u'b525479091f6e8ab9e080e8b1fd747cb']), 76: set([u'8453c64fbd2235bf2d6d633b52b5d44a']), 77: set([u'996e62712319fa725077861bcf6de041']), 78: set([u'43dc4df04ba4d6f79d38f500e8f3fb28']), 79: set([u'06f5eddcb9f676c856a65cedace93509']), 80: set([u'4ebf199126200af80ec064a05cac1d9a']), 81: set([u'88b382f2af1e18a65d67427c44d9f50c']), 82: set([u'cccf380367a84a6e2f8ed71153bf2b2d']), 83: set([u'48eea7bb4e2d62179c977be378915129']), 84: set([u'adecb4e71876ba4196d62b16f3c9edfc']), 85: set([u'e40e45b5e17cac9140074e2fa42443d7', u'b7097a8d95c85a841144cc650f27ae8a']), 86: set([u'42dbfd679204cd5962aef51e17aa6fc7']), 87: set([u'ec298f2c4835d4bd5e4b448f35f997d2']), 88: set([u'e3f604653c20f799729127dc8fbb6746']), 89: set([u'427782b523e9c4b98e60f9830790e136']), 90: set([u'de2eaa1e18062a97c1877d7db640d51c']), 91: set([u'42cdabf0b8c78e87c457bfbb23091ea2']), 92: set([u'03056cf0f92ee5e4c590ad299dc6afa5']), 93: set([u'49290bcbee8d16b1607477327003ebc6']), 94: set([u'df496a202d6056f7f8cfe39756a0cec0']), 95: set([u'f9ab666752e11d78a8619021194549d0']), 96: set([u'ef0b1aa37c40794830ec90d7563b729e']), 97: set([u'b382af52e6ef81b269fe991d1c612da8']), 98: set([u'9d27e978bceaf129e6cec8eea85c4902']), 99: set([u'571e8aedb209d3427af2e2ce719e8f1f']), 100: set([u'377314c298bb912f68760cd07b0658fb']), 101: set([u'7df1109f26725ab15a3091df604dc981']), 102: set([u'00af3273c49ac5e7da4e8d75b436dd50']), 103: set([u'c293a0716b94aadb55188f4844711372']), 104: set([u'04b3ddeaa1ecf46d990de6f16b672d1b']), 105: set([u'66661088cf7c1912eea06741f22234e0']), 106: set([u'6854fb924b3515e240b052f04b3ba8e5']), 107: set([u'21fcaa687ab58f0d1456e3b4c7dde560']), 108: set([u'ee46e63899c9907db7e61b3b287c3b9d']), 109: set([u'5a9cc0e33d8bda7720bb611de21b8f7d']), 110: set([u'b90b86698c1a9a3608141cae08a76fd5']), 111: set([u'5e31ccc98b0d4747929b08552099c32e']), 112: set([u'd9e6137fa4a4e5818e82a7ac067427e8']), 113: set([u'270b0a74e84141643ddd2137c7c47a1d']), 114: set([u'1a3df3fb59d472189819967b3aaaa445']), 115: set([u'36479f5e7e72617ec5ec73bb6b65b24c']), 116: set([u'c3852a52e0a8e44b8633811a4b5aefef', u'c9edaa1b01fc2ef39bc32dc0b82fc849']), 117: set([u'cc768bf5b7dceb35d7c5fb6aaef8cfb3']), 118: set([u'a32d3489f3a2b4a2300a6da656f5257b']), 119: set([u'cea8fad2299fa9f620628fca53b37d31']), 120: set([u'bc2ab645ba757cd97d3f50e3993d3f64']), 121: set([u'f6ab17cb348527a33e403de57224e3f3']), 122: set([u'db7ac39b702390eb0929ce1ceb07b189']), 123: set([u'72b00ee9ed4d3116d52a59231660e6f2']), 124: set([u'85d40f56b8198ce36032e931b35d292a']), 125: set([u'0d200af3da37cab2aa3e859d15c54c8f']), 126: set([u'315c02d43f693b1d1c416550e5ee1579']), 127: set([u'e31bc125f0a632612b74d21176e67783']), 128: set([u'6154392209e9092a4f26f58bdca96b21', u'7a0b6840fe7e95897c280c307aa20ee1']), 129: set([u'af72af8f5145bfb29cd414d1e54cb1d4']), 130: set([])}\n",
      "set([2, 3, 4, 5, 6, 7, 9, 10, 11, 25, 26, 27, 28, 29, 30, 31, 32, 38, 41, 42, 43, 45, 46, 47, 48, 49, 50, 51, 53, 54, 55, 56, 57, 58, 59, 60, 61, 63, 64, 76, 77, 78, 79, 80, 81, 82, 83, 84, 86, 87, 88, 89, 90, 91, 92, 93, 94, 95, 96, 97, 98, 99, 100, 101, 102, 103, 104, 105, 106, 107, 108, 109, 110, 111, 112, 113, 114, 115, 117, 118, 119, 120, 121, 122, 123, 124, 125, 126, 127, 129])\n",
      "90\n"
     ]
    }
   ],
   "source": [
    "'''\n",
    "print [len(x) for x in quiz_id_to_answers_key.values()]\n",
    "print quiz_id_to_answers_key\n",
    "\n",
    "quiz_ids_with_just_one_question = set()\n",
    "for k,v in quiz_id_to_answers_key.items():\n",
    "  if len(v) == 1:\n",
    "    quiz_ids_with_just_one_question.add(k)\n",
    "\n",
    "print quiz_ids_with_just_one_question\n",
    "print len(quiz_ids_with_just_one_question)\n",
    "'''"
   ]
  },
  {
   "cell_type": "code",
   "execution_count": 3,
   "metadata": {
    "collapsed": false
   },
   "outputs": [
    {
     "name": "stdout",
     "output_type": "stream",
     "text": [
      "submission.submission_id:1\n",
      "{u'active': True, u'start_time': 1343006234, u'random_seed': 1343006234, u'saved_time': 1343006294, u'answers': {u'49ec22c8a5bcc3e5be33545a76d30b2a': {u'0': u'e09933a3f9f7d62e5f7ecd977a4b4798'}}}\n"
     ]
    }
   ],
   "source": [
    "#for key,value in loadjson('kvs_course.quiz.submission'):\n",
    "#  print key\n",
    "#  print value\n",
    "#  break"
   ]
  },
  {
   "cell_type": "code",
   "execution_count": null,
   "metadata": {
    "collapsed": true
   },
   "outputs": [],
   "source": [
    "\n",
    "#1381764882"
   ]
  }
 ],
 "metadata": {
  "kernelspec": {
   "display_name": "Python 2",
   "language": "python",
   "name": "python2"
  },
  "language_info": {
   "codemirror_mode": {
    "name": "ipython",
    "version": 2
   },
   "file_extension": ".py",
   "mimetype": "text/x-python",
   "name": "python",
   "nbconvert_exporter": "python",
   "pygments_lexer": "ipython2",
   "version": "2.7.3"
  }
 },
 "nbformat": 4,
 "nbformat_minor": 0
}
