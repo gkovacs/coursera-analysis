{
 "metadata": {
  "name": "",
  "signature": "sha256:d6dbac37dce2c377c08e452f7be66f4019d2299fa00549ee375852078941d323"
 },
 "nbformat": 3,
 "nbformat_minor": 0,
 "worksheets": [
  {
   "cells": [
    {
     "cell_type": "code",
     "collapsed": false,
     "input": [
      "# noexport\n",
      "\n",
      "import os\n",
      "os.system('export_notebook bokeh_utils.ipynb')"
     ],
     "language": "python",
     "metadata": {},
     "outputs": [
      {
       "metadata": {},
       "output_type": "pyout",
       "prompt_number": 4,
       "text": [
        "0"
       ]
      }
     ],
     "prompt_number": 4
    },
    {
     "cell_type": "code",
     "collapsed": false,
     "input": [
      "from bokeh.plotting import *\n",
      "#output_notebook()"
     ],
     "language": "python",
     "metadata": {},
     "outputs": []
    },
    {
     "cell_type": "code",
     "collapsed": false,
     "input": [
      "def plotline(arr, title=''):\n",
      "  p1 = figure(title=title)\n",
      "  p1.line(\n",
      "    range(len(arr)), # x coordinates\n",
      "    arr, # y coordinates\n",
      "    color='#ff0000',\n",
      "    label='something',\n",
      "  )\n",
      "  show()\n",
      "\n",
      "def plotlines(arrs, title=''):\n",
      "  p1 = figure(title=title)\n",
      "  colors = ['#ff0000', '#00ff00', '#0000ff', '#00ffff']\n",
      "  for arr,color in zip(arrs,colors):\n",
      "    p1.line(\n",
      "      range(len(arr)), # x coordinates\n",
      "      arr, # y coordinates\n",
      "      color=color,\n",
      "      label='something',\n",
      "    )\n",
      "  show()"
     ],
     "language": "python",
     "metadata": {},
     "outputs": [],
     "prompt_number": 2
    }
   ],
   "metadata": {}
  }
 ]
}