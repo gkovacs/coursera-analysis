{
 "metadata": {
  "name": "",
  "signature": "sha256:03dc3d35b119f4f93aef08edc3cf14f3351a2691a93e669f420660ef16d8fa3d"
 },
 "nbformat": 3,
 "nbformat_minor": 0,
 "worksheets": []
}