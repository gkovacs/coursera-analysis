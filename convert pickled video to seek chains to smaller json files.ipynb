{
 "cells": [
  {
   "cell_type": "code",
   "execution_count": 4,
   "metadata": {
    "collapsed": true
   },
   "outputs": [],
   "source": [
    "import ujson as json"
   ]
  },
  {
   "cell_type": "code",
   "execution_count": 1,
   "metadata": {
    "collapsed": true
   },
   "outputs": [],
   "source": [
    "import cPickle as pickle\n",
    "\n",
    "video_to_seek_chains = pickle.load(open('/lfs/local/0/geza/new_seek_chains/video_to_seek_chains.pickle'))"
   ]
  },
  {
   "cell_type": "code",
   "execution_count": 2,
   "metadata": {
    "collapsed": false
   },
   "outputs": [
    {
     "name": "stdout",
     "output_type": "stream",
     "text": [
      "[1, 2, 3, 4, 5, 6, 7, 8, 9, 10, 11, 12, 13, 14, 15, 16, 17, 18, 19, 20, 21, 22, 23, 24, 25, 26, 27, 28, 29, 30, 31, 32, 33, 34, 35, 36, 37, 38, 39, 40, 41, 42, 43, 44, 45, 46, 47, 48, 49, 50, 51, 52, 53, 54, 55, 56, 57, 58, 59, 60, 61, 62, 63, 64, 65, 66, 67, 68, 69, 70, 71, 72, 73, 74, 75, 76, 77, 78, 79, 80, 81, 82, 83, 84, 85, 86, 87, 88, 89, 90, 91, 92, 93, 95, 96, 97, 98, 99, 100, 101, 102, 103, 104, 105, 106, 107, 108, 109, 110, 111, 112, 113, 114]\n"
     ]
    }
   ],
   "source": [
    "print video_to_seek_chains.keys()"
   ]
  },
  {
   "cell_type": "code",
   "execution_count": 6,
   "metadata": {
    "collapsed": false
   },
   "outputs": [],
   "source": [
    "video_to_simple_seek_chains = {}\n",
    "for lecture_id,seek_chains in video_to_seek_chains.iteritems():\n",
    "  simple_seek_chains = [{'user': seek_chain.user, 'direction': seek_chain.direction, 'start': seek_chain.start, 'end': seek_chain.end, 'timestamp': seek_chain.timestamp} for seek_chain in seek_chains]\n",
    "  video_to_simple_seek_chains[lecture_id] = simple_seek_chains\n",
    "\n",
    "json.dump(video_to_simple_seek_chains, open('/lfs/local/0/geza/new_seek_chains/video_to_simple_seek_chains.json', 'w'))"
   ]
  },
  {
   "cell_type": "code",
   "execution_count": 7,
   "metadata": {
    "collapsed": true
   },
   "outputs": [],
   "source": [
    "lecture_to_user_to_simple_seek_chains = {}\n",
    "for lecture_id,seek_chains in video_to_seek_chains.iteritems():\n",
    "  lecture_to_user_to_simple_seek_chains[lecture_id] = {}\n",
    "  for seek_chain in seek_chains:\n",
    "    user = seek_chain.user\n",
    "    direction = seek_chain.direction\n",
    "    start = seek_chain.start\n",
    "    end = seek_chain.end\n",
    "    timestamp = seek_chain.timestamp\n",
    "    if user not in lecture_to_user_to_simple_seek_chains[lecture_id]:\n",
    "      lecture_to_user_to_simple_seek_chains[lecture_id][user] = []\n",
    "    simple_seek_chain = {'direction': direction, 'start': start, 'end': end, 'timestamp': timestamp}\n",
    "    lecture_to_user_to_simple_seek_chains[lecture_id][user].append(simple_seek_chain)\n",
    "\n",
    "json.dump(lecture_to_user_to_simple_seek_chains, open('/lfs/local/0/geza/new_seek_chains/lecture_to_user_to_simple_seek_chains.json', 'w'))"
   ]
  },
  {
   "cell_type": "code",
   "execution_count": 10,
   "metadata": {
    "collapsed": false
   },
   "outputs": [],
   "source": [
    "lecture_to_user_to_simple_seek_events = {}\n",
    "for lecture_id,seek_chains in video_to_seek_chains.iteritems():\n",
    "  lecture_to_user_to_simple_seek_events[lecture_id] = {}\n",
    "  for seek_chain in seek_chains:\n",
    "    for seek_event in seek_chain.seek_events:\n",
    "      user = seek_event.user\n",
    "      direction = seek_event.direction\n",
    "      start = seek_event.start\n",
    "      end = seek_event.end\n",
    "      timestamp = seek_event.timestamp\n",
    "      if user not in lecture_to_user_to_simple_seek_events[lecture_id]:\n",
    "        lecture_to_user_to_simple_seek_events[lecture_id][user] = []\n",
    "      simple_seek_event = {'direction': direction, 'start': start, 'end': end, 'timestamp': timestamp}\n",
    "      lecture_to_user_to_simple_seek_events[lecture_id][user].append(simple_seek_event)\n",
    "\n",
    "json.dump(lecture_to_user_to_simple_seek_events, open('/lfs/local/0/geza/new_seek_chains/lecture_to_user_to_simple_seek_events.json', 'w'))"
   ]
  }
 ],
 "metadata": {
  "kernelspec": {
   "display_name": "Python 2",
   "language": "python",
   "name": "python2"
  },
  "language_info": {
   "codemirror_mode": {
    "name": "ipython",
    "version": 2
   },
   "file_extension": ".py",
   "mimetype": "text/x-python",
   "name": "python",
   "nbconvert_exporter": "python",
   "pygments_lexer": "ipython2",
   "version": "2.7.3"
  }
 },
 "nbformat": 4,
 "nbformat_minor": 0
}
