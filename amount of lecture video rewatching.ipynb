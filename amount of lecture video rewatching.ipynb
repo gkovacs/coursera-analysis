{
 "metadata": {
  "name": "",
  "signature": "sha256:eb61500317bd1ce8bd43fa2f59feadef7bb3f643c1ca4d33f1d3f219cfa65cc2"
 },
 "nbformat": 3,
 "nbformat_minor": 0,
 "worksheets": [
  {
   "cells": [
    {
     "cell_type": "code",
     "collapsed": false,
     "input": [
      "import csv\n",
      "import json\n",
      "from memoized import memoized\n",
      "\n",
      "@memoized\n",
      "def loadjson(table_name):\n",
      "  return json.load(open('/lfs/local/0/geza/ml-004_data_export/' + table_name + '.json'))\n",
      "\n",
      "def get_table_path(table_name):\n",
      "  csv_path = '/lfs/local/0/geza/ml-004_data_export/'\n",
      "  return csv_path + table_name + '.csv'\n",
      "\n",
      "def get_table_data(table_name):\n",
      "  return csv.DictReader(open(get_table_path(table_name)), doublequote=False, delimiter=',', escapechar='\\\\')\n",
      "\n",
      "def print_first_lines(table_name, n=10):\n",
      "  for x in get_table_data(table_name):\n",
      "    if n <= 0:\n",
      "      break\n",
      "    n -= 1\n",
      "    print x"
     ],
     "language": "python",
     "metadata": {},
     "outputs": [],
     "prompt_number": 5
    },
    {
     "cell_type": "code",
     "collapsed": false,
     "input": [
      "user_to_lectures_viewed = {}\n",
      "user_to_lectures_reviewed = {}\n",
      "\n",
      "for line in get_table_data('lecture_submission_metadata'):\n",
      "  action = line['action']\n",
      "  user = line['session_user_id']\n",
      "  lecture = line['item_id']\n",
      "  submission_time = int(line['submission_time'])\n",
      "  if submission_time > 1391185339: # newer than jan 31, 2014\n",
      "    continue\n",
      "  if action == 'view':\n",
      "    if user not in user_to_lectures_viewed:\n",
      "      user_to_lectures_viewed[user] = set()\n",
      "    if lecture in user_to_lectures_viewed[user]:\n",
      "      if user not in user_to_lectures_reviewed:\n",
      "        user_to_lectures_reviewed[user] = set()\n",
      "      user_to_lectures_reviewed[user].add(lecture)\n",
      "    else:\n",
      "      user_to_lectures_viewed[user].add(lecture)\n"
     ],
     "language": "python",
     "metadata": {},
     "outputs": [],
     "prompt_number": 6
    },
    {
     "cell_type": "code",
     "collapsed": false,
     "input": [
      "\n",
      "num_lecture_views_to_num_users = [0]*114\n",
      "\n",
      "for user,lectures_viewed in user_to_lectures_viewed.items():\n",
      "  num_lecture_views = len(lectures_viewed)\n",
      "  if num_lecture_views >= 113:\n",
      "    num_lecture_views = 113\n",
      "  num_lecture_views_to_num_users[num_lecture_views] += 1\n",
      "\n",
      "at_least_n_views = [sum(num_lecture_views_to_num_users[i:]) for i in range(len(num_lecture_views_to_num_users))]"
     ],
     "language": "python",
     "metadata": {},
     "outputs": [],
     "prompt_number": 7
    },
    {
     "cell_type": "code",
     "collapsed": false,
     "input": [
      "\n",
      "num_lecture_reviews_to_num_users = [0]*114\n",
      "\n",
      "for user,lectures_reviewed in user_to_lectures_reviewed.items():\n",
      "  num_lecture_reviews = len(lectures_reviewed)\n",
      "  if num_lecture_reviews >= 113:\n",
      "    num_lecture_reviews = 113\n",
      "  num_lecture_reviews_to_num_users[num_lecture_reviews] += 1\n",
      "\n",
      "at_least_n_reviews = [sum(num_lecture_reviews_to_num_users[i:]) for i in range(len(num_lecture_reviews_to_num_users))]"
     ],
     "language": "python",
     "metadata": {},
     "outputs": [],
     "prompt_number": 8
    },
    {
     "cell_type": "code",
     "collapsed": false,
     "input": [
      "print at_least_n_views\n"
     ],
     "language": "python",
     "metadata": {},
     "outputs": [
      {
       "output_type": "stream",
       "stream": "stdout",
       "text": [
        "[61453, 61453, 49992, 44160, 40095, 36467, 34113, 32299, 30579, 29263, 28086, 27200, 26413, 25203, 24526, 23946, 23422, 22982, 22556, 21883, 21288, 20737, 20228, 19794, 19371, 18920, 18394, 17855, 17390, 16966, 16647, 16313, 15950, 14966, 14596, 14296, 14017, 13729, 13456, 13194, 12913, 12713, 12498, 12297, 11917, 11687, 11505, 11315, 11126, 10976, 10826, 10413, 10193, 9938, 9756, 9596, 9451, 9330, 9243, 8944, 8805, 8693, 8599, 8525, 8419, 8308, 8177, 8096, 8008, 7919, 7833, 7684, 7584, 7500, 7429, 7345, 7263, 7144, 7062, 6983, 6913, 6856, 6762, 6689, 6604, 6536, 6455, 6381, 6315, 6167, 6080, 5985, 5896, 5817, 5741, 5650, 5561, 5469, 5380, 5284, 5170, 5026, 4896, 4685, 4554, 4423, 4268, 4081, 3766, 3559, 3381, 3206, 2981, 2659]\n"
       ]
      }
     ],
     "prompt_number": 9
    },
    {
     "cell_type": "code",
     "collapsed": false,
     "input": [
      "print at_least_n_reviews"
     ],
     "language": "python",
     "metadata": {},
     "outputs": [
      {
       "output_type": "stream",
       "stream": "stdout",
       "text": [
        "[42136, 42136, 32088, 26965, 23478, 21007, 18994, 17318, 15927, 14748, 13706, 12827, 11942, 11140, 10412, 9727, 9135, 8527, 7957, 7464, 6982, 6565, 6138, 5738, 5348, 5041, 4713, 4417, 4108, 3865, 3613, 3370, 3173, 2968, 2769, 2595, 2431, 2277, 2147, 2011, 1884, 1763, 1644, 1528, 1428, 1340, 1263, 1170, 1093, 1018, 950, 878, 823, 761, 722, 674, 633, 579, 536, 495, 459, 429, 397, 371, 359, 324, 303, 282, 263, 255, 240, 223, 205, 185, 172, 157, 149, 138, 128, 117, 104, 97, 91, 81, 73, 69, 64, 60, 56, 47, 42, 42, 41, 40, 35, 29, 23, 23, 20, 18, 18, 18, 15, 13, 13, 11, 10, 9, 9, 8, 7, 6, 4, 2]\n"
       ]
      }
     ],
     "prompt_number": 10
    },
    {
     "cell_type": "code",
     "collapsed": false,
     "input": [
      "print sum([len(x) for x in user_to_lectures_viewed.values()])"
     ],
     "language": "python",
     "metadata": {},
     "outputs": [
      {
       "output_type": "stream",
       "stream": "stdout",
       "text": [
        "1495954\n"
       ]
      }
     ],
     "prompt_number": 11
    },
    {
     "cell_type": "code",
     "collapsed": false,
     "input": [
      "print sum([len(x) for x in user_to_lectures_reviewed.values()])"
     ],
     "language": "python",
     "metadata": {},
     "outputs": [
      {
       "output_type": "stream",
       "stream": "stdout",
       "text": [
        "423303\n"
       ]
      }
     ],
     "prompt_number": 12
    },
    {
     "cell_type": "code",
     "collapsed": false,
     "input": [],
     "language": "python",
     "metadata": {},
     "outputs": []
    }
   ],
   "metadata": {}
  }
 ]
}