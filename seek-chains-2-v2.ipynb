{
 "metadata": {
  "name": "",
  "signature": "sha256:f747ee94965a214e73800817afa12cf37fdf561f926a808ae5e8d276c6177489"
 },
 "nbformat": 3,
 "nbformat_minor": 0,
 "worksheets": [
  {
   "cells": [
    {
     "cell_type": "code",
     "collapsed": false,
     "input": [
      "from coursera_analytics_common import *"
     ],
     "language": "python",
     "metadata": {},
     "outputs": [],
     "prompt_number": 2
    },
    {
     "cell_type": "code",
     "collapsed": false,
     "input": [
      "%matplotlib inline\n",
      "import matplotlib.pyplot\n",
      "import matplotlib.pylab as pylab\n",
      "import numpy\n",
      "from plotutils import binsum, binavg, barPlotWithStderr, plotBarDictionary"
     ],
     "language": "python",
     "metadata": {},
     "outputs": [],
     "prompt_number": 3
    },
    {
     "cell_type": "code",
     "collapsed": false,
     "input": [
      "def labelInVideoQuizzes(lecture_id):\n",
      "  assert lecture_id in video_annotations.in_video_quiz_times_ml_004\n",
      "  for quiz_time in video_annotations.in_video_quiz_times_ml_004[lecture_id]:\n",
      "    pylab.axvline(x=quiz_time, color=\"black\")\n",
      "\n",
      "def labelSlideStarts(lecture_id):\n",
      "  assert lecture_id in video_annotations.slides_ml_004\n",
      "  for slide in video_annotations.slides_ml_004[lecture_id]:\n",
      "    pylab.axvline(x=slide.start, color=\"green\", linestyle=\"dotted\")\n",
      "\n",
      "def labelSlideEnds(lecture_id):\n",
      "  assert lecture_id in video_annotations.slides_ml_004\n",
      "  for slide in video_annotations.slides_ml_004[lecture_id]:\n",
      "    pylab.axvline(x=slide.end, color=\"orange\", linestyle=\"dotted\")\n"
     ],
     "language": "python",
     "metadata": {},
     "outputs": [],
     "prompt_number": 4
    },
    {
     "cell_type": "heading",
     "level": 1,
     "metadata": {},
     "source": [
      "How to Read these Graphs"
     ]
    },
    {
     "cell_type": "markdown",
     "metadata": {},
     "source": [
      "black solid line = in-video quiz locations\n",
      "\n",
      "green dotted line = slide starts\n",
      "\n",
      "orange dotted line = slide ends"
     ]
    },
    {
     "cell_type": "heading",
     "level": 1,
     "metadata": {},
     "source": [
      "Lecture 1 (Welcome)"
     ]
    },
    {
     "cell_type": "markdown",
     "metadata": {},
     "source": [
      "http://class.coursera.org/ml-004/lecture/1"
     ]
    },
    {
     "cell_type": "heading",
     "level": 2,
     "metadata": {},
     "source": [
      "Parts Skipped Forward Over"
     ]
    },
    {
     "cell_type": "code",
     "collapsed": false,
     "input": [
      "resetNumDataExceptions()\n",
      "skipped_users = set()\n",
      "successful_users = set()\n",
      "partsSkippedForwardOver = getPartsSkippedForwardOver(1, skipped_users=skipped_users, successful_users=successful_users)\n",
      "print getNumDataExceptions()\n",
      "print len(skipped_users)\n",
      "print len(successful_users)\n"
     ],
     "language": "python",
     "metadata": {},
     "outputs": [
      {
       "output_type": "stream",
       "stream": "stdout",
       "text": [
        "64\n",
        "64\n",
        "45497\n"
       ]
      },
      {
       "output_type": "stream",
       "stream": "stderr",
       "text": [
        "/afs/cs.stanford.edu/u/geza/venv/lib/python2.7/site-packages/pandas/io/sql.py:1165: FutureWarning: read_frame is depreciated, use read_sql\n",
        "  warnings.warn(\"read_frame is depreciated, use read_sql\", FutureWarning)\n"
       ]
      }
     ],
     "prompt_number": 5
    },
    {
     "cell_type": "code",
     "collapsed": false,
     "input": [
      "pylab.plot(partsSkippedForwardOver)\n",
      "labelInVideoQuizzes(1)\n",
      "labelSlideStarts(1)\n",
      "labelSlideEnds(1)"
     ],
     "language": "python",
     "metadata": {},
     "outputs": [
      {
       "metadata": {},
       "output_type": "display_data",
       "png": "[encoded data removed]",
       "text": [
        "<matplotlib.figure.Figure at 0x5313050>"
       ]
      }
     ],
     "prompt_number": 6
    },
    {
     "cell_type": "heading",
     "level": 2,
     "metadata": {},
     "source": [
      "Parts Skipped Back Over"
     ]
    },
    {
     "cell_type": "code",
     "collapsed": false,
     "input": [
      "resetNumDataExceptions()\n",
      "skipped_users = set()\n",
      "successful_users = set()\n",
      "partsSkippedBackOver = getPartsSkippedBackOver(1, skipped_users=skipped_users, successful_users=successful_users)\n",
      "print getNumDataExceptions()\n",
      "print len(skipped_users)\n",
      "print len(successful_users)"
     ],
     "language": "python",
     "metadata": {},
     "outputs": [
      {
       "output_type": "stream",
       "stream": "stdout",
       "text": [
        "64\n",
        "64\n",
        "45497\n"
       ]
      }
     ],
     "prompt_number": 7
    },
    {
     "cell_type": "code",
     "collapsed": false,
     "input": [
      "pylab.plot(partsSkippedBackOver)\n",
      "labelInVideoQuizzes(1)\n",
      "labelSlideStarts(1)\n",
      "labelSlideEnds(1)"
     ],
     "language": "python",
     "metadata": {},
     "outputs": [
      {
       "metadata": {},
       "output_type": "display_data",
       "png": "[encoded data removed]",
       "text": [
        "<matplotlib.figure.Figure at 0x4b91fa50>"
       ]
      }
     ],
     "prompt_number": 8
    },
    {
     "cell_type": "heading",
     "level": 2,
     "metadata": {},
     "source": [
      "Parts Played"
     ]
    },
    {
     "cell_type": "code",
     "collapsed": false,
     "input": [
      "resetNumDataExceptions()\n",
      "skipped_users = set()\n",
      "successful_users = set()\n",
      "partsPlayed = getPartsPlayed(1, skipped_users=skipped_users, successful_users=successful_users)\n",
      "print getNumDataExceptions()\n",
      "print len(skipped_users)\n",
      "print len(successful_users)\n"
     ],
     "language": "python",
     "metadata": {},
     "outputs": [
      {
       "output_type": "stream",
       "stream": "stdout",
       "text": [
        "64\n",
        "1861\n",
        "43700\n"
       ]
      }
     ],
     "prompt_number": 9
    },
    {
     "cell_type": "code",
     "collapsed": false,
     "input": [
      "pylab.plot(partsPlayed)\n",
      "labelInVideoQuizzes(1)\n",
      "labelSlideStarts(1)\n",
      "labelSlideEnds(1)"
     ],
     "language": "python",
     "metadata": {},
     "outputs": [
      {
       "metadata": {},
       "output_type": "display_data",
       "png": "[encoded data removed]",
       "text": [
        "<matplotlib.figure.Figure at 0x4b919390>"
       ]
      }
     ],
     "prompt_number": 10
    },
    {
     "cell_type": "code",
     "collapsed": false,
     "input": [
      "resetNumDataExceptions()\n",
      "skipped_users = set()\n",
      "successful_users = set()\n",
      "partsPlayed = getPartsPlayed(1, skipped_users=skipped_users, successful_users=successful_users, filter_func=filterReviewSessionOnly)\n",
      "print getNumDataExceptions()\n",
      "print len(skipped_users)\n",
      "print len(successful_users)\n"
     ],
     "language": "python",
     "metadata": {},
     "outputs": [
      {
       "output_type": "stream",
       "stream": "stdout",
       "text": [
        "64\n",
        "525\n",
        "45036\n"
       ]
      }
     ],
     "prompt_number": 11
    },
    {
     "cell_type": "code",
     "collapsed": false,
     "input": [
      "pylab.plot(partsPlayed)\n",
      "labelInVideoQuizzes(1)\n",
      "labelSlideStarts(1)\n",
      "labelSlideEnds(1)"
     ],
     "language": "python",
     "metadata": {},
     "outputs": [
      {
       "metadata": {},
       "output_type": "display_data",
       "png": "[encoded data removed]",
       "text": [
        "<matplotlib.figure.Figure at 0x4b90cd90>"
       ]
      }
     ],
     "prompt_number": 12
    },
    {
     "cell_type": "heading",
     "level": 1,
     "metadata": {},
     "source": [
      "Lecture 13 (Matricies and Vectors)"
     ]
    },
    {
     "cell_type": "markdown",
     "metadata": {},
     "source": [
      "http://class.coursera.org/ml-004/lecture/13"
     ]
    },
    {
     "cell_type": "heading",
     "level": 2,
     "metadata": {},
     "source": [
      "Parts Skipped Forward Over"
     ]
    },
    {
     "cell_type": "code",
     "collapsed": false,
     "input": [
      "resetNumDataExceptions()\n",
      "skipped_users = set()\n",
      "successful_users = set()\n",
      "partsSkippedForwardOver = getPartsSkippedForwardOver(13, skipped_users=skipped_users, successful_users=successful_users)\n",
      "print getNumDataExceptions()\n",
      "print len(skipped_users)\n",
      "print len(successful_users)\n"
     ],
     "language": "python",
     "metadata": {},
     "outputs": [
      {
       "output_type": "stream",
       "stream": "stdout",
       "text": [
        "69\n",
        "69\n",
        "17279\n"
       ]
      }
     ],
     "prompt_number": 13
    },
    {
     "cell_type": "code",
     "collapsed": false,
     "input": [
      "pylab.plot(partsSkippedForwardOver)\n",
      "labelInVideoQuizzes(13)\n",
      "#labelSlideStarts(13)\n",
      "#labelSlideEnds(13)\n",
      "\n",
      "#pylab.title('Lecture 68: Number of forward seeks across each second of video')\n",
      "pylab.xlabel('Position in the video, in seconds')\n",
      "pylab.ylabel('Number of forward seeks across this second of video')"
     ],
     "language": "python",
     "metadata": {},
     "outputs": [
      {
       "metadata": {},
       "output_type": "pyout",
       "prompt_number": 14,
       "text": [
        "<matplotlib.text.Text at 0x5fa21ad0>"
       ]
      },
      {
       "metadata": {},
       "output_type": "display_data",
       "png": "[encoded data removed]",
       "text": [
        "<matplotlib.figure.Figure at 0x4b92ead0>"
       ]
      }
     ],
     "prompt_number": 14
    },
    {
     "cell_type": "code",
     "collapsed": false,
     "input": [
      "resetNumDataExceptions()\n",
      "skipped_users = set()\n",
      "successful_users = set()\n",
      "partsSkippedForwardOver = getPartsSkippedForwardOver(13, skipped_users=skipped_users, successful_users=successful_users, filter_func=filterReviewSessionOnly)\n",
      "print getNumDataExceptions()\n",
      "print len(skipped_users)\n",
      "print len(successful_users)\n"
     ],
     "language": "python",
     "metadata": {},
     "outputs": [
      {
       "output_type": "stream",
       "stream": "stdout",
       "text": [
        "69\n",
        "69\n",
        "17279\n"
       ]
      }
     ],
     "prompt_number": 15
    },
    {
     "cell_type": "code",
     "collapsed": false,
     "input": [
      "pylab.plot(partsSkippedForwardOver)\n",
      "labelInVideoQuizzes(13)\n",
      "labelSlideStarts(13)\n",
      "labelSlideEnds(13)"
     ],
     "language": "python",
     "metadata": {},
     "outputs": [
      {
       "metadata": {},
       "output_type": "display_data",
       "png": "[encoded data removed]",
       "text": [
        "<matplotlib.figure.Figure at 0x5fb92610>"
       ]
      }
     ],
     "prompt_number": 16
    },
    {
     "cell_type": "heading",
     "level": 2,
     "metadata": {},
     "source": [
      "Parts Skipped Back Over"
     ]
    },
    {
     "cell_type": "code",
     "collapsed": false,
     "input": [
      "resetNumDataExceptions()\n",
      "skipped_users = set()\n",
      "successful_users = set()\n",
      "partsSkippedBackOver = getPartsSkippedBackOver(13, skipped_users=skipped_users, successful_users=successful_users)\n",
      "print getNumDataExceptions()\n",
      "print len(skipped_users)\n",
      "print len(successful_users)\n"
     ],
     "language": "python",
     "metadata": {},
     "outputs": [
      {
       "output_type": "stream",
       "stream": "stdout",
       "text": [
        "69\n",
        "69\n",
        "17279\n"
       ]
      }
     ],
     "prompt_number": 17
    },
    {
     "cell_type": "code",
     "collapsed": false,
     "input": [
      "pylab.plot(partsSkippedBackOver)\n",
      "labelInVideoQuizzes(13)\n",
      "labelSlideStarts(13)\n",
      "labelSlideEnds(13)"
     ],
     "language": "python",
     "metadata": {},
     "outputs": [
      {
       "metadata": {},
       "output_type": "display_data",
       "png": "[encoded data removed]",
       "text": [
        "<matplotlib.figure.Figure at 0x15f7110>"
       ]
      }
     ],
     "prompt_number": 18
    },
    {
     "cell_type": "code",
     "collapsed": false,
     "input": [
      "resetNumDataExceptions()\n",
      "skipped_users = set()\n",
      "successful_users = set()\n",
      "partsSkippedBackOver = getPartsSkippedBackOver(13, skipped_users=skipped_users, successful_users=successful_users, filter_func=filterReviewSessionOnly)\n",
      "print getNumDataExceptions()\n",
      "print len(skipped_users)\n",
      "print len(successful_users)\n"
     ],
     "language": "python",
     "metadata": {},
     "outputs": [
      {
       "output_type": "stream",
       "stream": "stdout",
       "text": [
        "69\n",
        "69\n",
        "17279\n"
       ]
      }
     ],
     "prompt_number": 19
    },
    {
     "cell_type": "code",
     "collapsed": false,
     "input": [
      "pylab.plot(partsSkippedBackOver)\n",
      "labelInVideoQuizzes(13)\n",
      "labelSlideStarts(13)\n",
      "labelSlideEnds(13)"
     ],
     "language": "python",
     "metadata": {},
     "outputs": [
      {
       "metadata": {},
       "output_type": "display_data",
       "png": "[encoded data removed]",
       "text": [
        "<matplotlib.figure.Figure at 0x5fb61a10>"
       ]
      }
     ],
     "prompt_number": 20
    },
    {
     "cell_type": "heading",
     "level": 2,
     "metadata": {},
     "source": [
      "Parts Played"
     ]
    },
    {
     "cell_type": "code",
     "collapsed": false,
     "input": [
      "resetNumDataExceptions()\n",
      "skipped_users = set()\n",
      "successful_users = set()\n",
      "partsPlayed = getPartsPlayed(13, skipped_users=skipped_users, successful_users=successful_users)\n",
      "print getNumDataExceptions()\n",
      "print len(skipped_users)\n",
      "print len(successful_users)\n"
     ],
     "language": "python",
     "metadata": {},
     "outputs": [
      {
       "output_type": "stream",
       "stream": "stdout",
       "text": [
        "69\n",
        "762\n",
        "16586\n"
       ]
      }
     ],
     "prompt_number": 21
    },
    {
     "cell_type": "code",
     "collapsed": false,
     "input": [
      "pylab.plot(partsPlayed)\n",
      "labelInVideoQuizzes(13)\n",
      "#labelSlideStarts(13)\n",
      "#labelSlideEnds(13)\n",
      "\n",
      "#pylab.title('ML4 Lecture 13: Number of views for each second of video (includes rewatches)')\n",
      "pylab.xlabel('Position in the video, in seconds')\n",
      "pylab.ylabel('Number of views for this second of video')"
     ],
     "language": "python",
     "metadata": {},
     "outputs": [
      {
       "metadata": {},
       "output_type": "pyout",
       "prompt_number": 22,
       "text": [
        "<matplotlib.text.Text at 0x60e9ab90>"
       ]
      },
      {
       "metadata": {},
       "output_type": "display_data",
       "png": "[encoded data removed]",
       "text": [
        "<matplotlib.figure.Figure at 0x5fb5bb90>"
       ]
      }
     ],
     "prompt_number": 22
    },
    {
     "cell_type": "code",
     "collapsed": false,
     "input": [
      "resetNumDataExceptions()\n",
      "skipped_users = set()\n",
      "successful_users = set()\n",
      "partsPlayed = getPartsPlayed(13, skipped_users=skipped_users, successful_users=successful_users, filter_func=filterReviewSessionOnly)\n",
      "print getNumDataExceptions()\n",
      "print len(skipped_users)\n",
      "print len(successful_users)\n"
     ],
     "language": "python",
     "metadata": {},
     "outputs": [
      {
       "output_type": "stream",
       "stream": "stdout",
       "text": [
        "69\n",
        "229\n",
        "17119\n"
       ]
      }
     ],
     "prompt_number": 23
    },
    {
     "cell_type": "code",
     "collapsed": false,
     "input": [
      "pylab.plot(partsPlayed)\n",
      "labelInVideoQuizzes(13)\n",
      "#labelSlideStarts(13)\n",
      "#labelSlideEnds(13)\n",
      "pylab.xlabel('Position in the video, in seconds')\n",
      "pylab.ylabel('Number of views for this second of video')"
     ],
     "language": "python",
     "metadata": {},
     "outputs": [
      {
       "metadata": {},
       "output_type": "pyout",
       "prompt_number": 24,
       "text": [
        "<matplotlib.text.Text at 0x60ed31d0>"
       ]
      },
      {
       "metadata": {},
       "output_type": "display_data",
       "png": "[encoded data removed]",
       "text": [
        "<matplotlib.figure.Figure at 0x4b905750>"
       ]
      }
     ],
     "prompt_number": 24
    },
    {
     "cell_type": "heading",
     "level": 2,
     "metadata": {},
     "source": [
      "All Seek Sources for Video 13"
     ]
    },
    {
     "cell_type": "code",
     "collapsed": false,
     "input": [
      "resetNumDataExceptions()\n",
      "skipped_users = set()\n",
      "successful_users = set()\n",
      "seekSources = getAllSeekSources(13, skipped_users=skipped_users, successful_users=successful_users)\n",
      "print getNumDataExceptions()\n",
      "print len(skipped_users)\n",
      "print len(successful_users)\n",
      "\n"
     ],
     "language": "python",
     "metadata": {},
     "outputs": [
      {
       "output_type": "stream",
       "stream": "stdout",
       "text": [
        "69\n",
        "69\n",
        "17279\n"
       ]
      }
     ],
     "prompt_number": 25
    },
    {
     "cell_type": "code",
     "collapsed": false,
     "input": [
      "pylab.plot(binavg(seekSources))\n",
      "labelInVideoQuizzes(13)\n",
      "labelSlideStarts(13)\n",
      "#labelSlideEnds(13)\n",
      "\n",
      "pylab.title('ML4 Lecture 13: Sources of seeks (to any destination)')\n",
      "pylab.ylabel('Number of seeks from this source')\n",
      "pylab.xlabel('Position in the video, in seconds')"
     ],
     "language": "python",
     "metadata": {},
     "outputs": [
      {
       "metadata": {},
       "output_type": "pyout",
       "prompt_number": 26,
       "text": [
        "<matplotlib.text.Text at 0x60fbf0d0>"
       ]
      },
      {
       "metadata": {},
       "output_type": "display_data",
       "png": "[encoded data removed]",
       "text": [
        "<matplotlib.figure.Figure at 0x60f61510>"
       ]
      }
     ],
     "prompt_number": 26
    },
    {
     "cell_type": "heading",
     "level": 2,
     "metadata": {},
     "source": [
      "All Seek Sources for Video 14"
     ]
    },
    {
     "cell_type": "code",
     "collapsed": false,
     "input": [
      "resetNumDataExceptions()\n",
      "skipped_users = set()\n",
      "successful_users = set()\n",
      "seekSources = getAllSeekSources(14, skipped_users=skipped_users, successful_users=successful_users)\n",
      "print getNumDataExceptions()\n",
      "print len(skipped_users)\n",
      "print len(successful_users)\n",
      "\n"
     ],
     "language": "python",
     "metadata": {},
     "outputs": [
      {
       "output_type": "stream",
       "stream": "stdout",
       "text": [
        "155\n",
        "155\n",
        "15425\n"
       ]
      }
     ],
     "prompt_number": 27
    },
    {
     "cell_type": "code",
     "collapsed": false,
     "input": [
      "pylab.plot(binavg(seekSources))\n",
      "labelInVideoQuizzes(14)\n",
      "#labelSlideStarts(13)\n",
      "#labelSlideEnds(13)\n",
      "\n",
      "pylab.title('ML4 Lecture 14: Sources of seeks (to any destination)')\n",
      "pylab.ylabel('Number of seeks from this source')\n",
      "pylab.xlabel('Position in the video, in seconds')"
     ],
     "language": "python",
     "metadata": {},
     "outputs": [
      {
       "metadata": {},
       "output_type": "pyout",
       "prompt_number": 28,
       "text": [
        "<matplotlib.text.Text at 0x84a74850>"
       ]
      },
      {
       "metadata": {},
       "output_type": "display_data",
       "png": "[encoded data removed]",
       "text": [
        "<matplotlib.figure.Figure at 0x5fba0f10>"
       ]
      }
     ],
     "prompt_number": 28
    },
    {
     "cell_type": "code",
     "collapsed": false,
     "input": [
      "resetNumDataExceptions()\n",
      "skipped_users = set()\n",
      "successful_users = set()\n",
      "seekDestinations = getAllSeekDestinations(13, skipped_users=skipped_users, successful_users=successful_users)\n",
      "print getNumDataExceptions()\n",
      "print len(skipped_users)\n",
      "print len(successful_users)\n",
      "\n"
     ],
     "language": "python",
     "metadata": {},
     "outputs": [
      {
       "output_type": "stream",
       "stream": "stdout",
       "text": [
        "69\n",
        "69\n",
        "17279\n"
       ]
      }
     ],
     "prompt_number": 29
    },
    {
     "cell_type": "code",
     "collapsed": false,
     "input": [
      "pylab.plot(binavg(seekDestinations))\n",
      "labelInVideoQuizzes(13)\n",
      "labelSlideStarts(13)\n",
      "#labelSlideEnds(13)\n",
      "\n",
      "pylab.title('ML4 Lecture 13: Destinations of seeks (from any source)')\n",
      "pylab.ylabel('Number of seeks to this destination')\n",
      "pylab.xlabel('Position in the video, in seconds')"
     ],
     "language": "python",
     "metadata": {},
     "outputs": [
      {
       "metadata": {},
       "output_type": "pyout",
       "prompt_number": 30,
       "text": [
        "<matplotlib.text.Text at 0x84b30510>"
       ]
      },
      {
       "metadata": {},
       "output_type": "display_data",
       "png": "[encoded data removed]",
       "text": [
        "<matplotlib.figure.Figure at 0x5fb92690>"
       ]
      }
     ],
     "prompt_number": 30
    },
    {
     "cell_type": "code",
     "collapsed": false,
     "input": [
      "resetNumDataExceptions()\n",
      "skipped_users = set()\n",
      "successful_users = set()\n",
      "seekDestinations = getAllSeekDestinations(14, skipped_users=skipped_users, successful_users=successful_users)\n",
      "print getNumDataExceptions()\n",
      "print len(skipped_users)\n",
      "print len(successful_users)\n",
      "\n"
     ],
     "language": "python",
     "metadata": {},
     "outputs": [
      {
       "output_type": "stream",
       "stream": "stdout",
       "text": [
        "155\n",
        "155\n",
        "15425\n"
       ]
      }
     ],
     "prompt_number": 31
    },
    {
     "cell_type": "code",
     "collapsed": false,
     "input": [
      "pylab.plot(binavg(seekDestinations))\n",
      "labelInVideoQuizzes(14)\n",
      "#labelSlideStarts(14)\n",
      "#labelSlideEnds(13)\n",
      "\n",
      "pylab.title('ML4 Lecture 14: Destinations of seeks (from any source)')\n",
      "pylab.ylabel('Number of seeks to this destination')\n",
      "pylab.xlabel('Position in the video, in seconds')"
     ],
     "language": "python",
     "metadata": {},
     "outputs": [
      {
       "metadata": {},
       "output_type": "pyout",
       "prompt_number": 32,
       "text": [
        "<matplotlib.text.Text at 0x84d0dc10>"
       ]
      },
      {
       "metadata": {},
       "output_type": "display_data",
       "png": "[encoded data removed]",
       "text": [
        "<matplotlib.figure.Figure at 0x5fb8bb90>"
       ]
      }
     ],
     "prompt_number": 32
    },
    {
     "cell_type": "heading",
     "level": 2,
     "metadata": {},
     "source": [
      "Seek Sources for Video Quiz 1, Lecture 13"
     ]
    },
    {
     "cell_type": "code",
     "collapsed": false,
     "input": [
      "resetNumDataExceptions()\n",
      "skipped_users = set()\n",
      "successful_users = set()\n",
      "seekSources = getSeekSources(13, in_video_quiz_times_ml_004[13][0]-10, in_video_quiz_times_ml_004[13][0]+1, skipped_users=skipped_users, successful_users=successful_users)\n",
      "print getNumDataExceptions()\n",
      "print len(skipped_users)\n",
      "print len(successful_users)"
     ],
     "language": "python",
     "metadata": {},
     "outputs": [
      {
       "ename": "NameError",
       "evalue": "name 'in_video_quiz_times_ml_004' is not defined",
       "output_type": "pyerr",
       "traceback": [
        "\u001b[1;31m---------------------------------------------------------------------------\u001b[0m\n\u001b[1;31mNameError\u001b[0m                                 Traceback (most recent call last)",
        "\u001b[1;32m<ipython-input-33-a89dcdfaad70>\u001b[0m in \u001b[0;36m<module>\u001b[1;34m()\u001b[0m\n\u001b[0;32m      2\u001b[0m \u001b[0mskipped_users\u001b[0m \u001b[1;33m=\u001b[0m \u001b[0mset\u001b[0m\u001b[1;33m(\u001b[0m\u001b[1;33m)\u001b[0m\u001b[1;33m\u001b[0m\u001b[0m\n\u001b[0;32m      3\u001b[0m \u001b[0msuccessful_users\u001b[0m \u001b[1;33m=\u001b[0m \u001b[0mset\u001b[0m\u001b[1;33m(\u001b[0m\u001b[1;33m)\u001b[0m\u001b[1;33m\u001b[0m\u001b[0m\n\u001b[1;32m----> 4\u001b[1;33m \u001b[0mseekSources\u001b[0m \u001b[1;33m=\u001b[0m \u001b[0mgetSeekSources\u001b[0m\u001b[1;33m(\u001b[0m\u001b[1;36m13\u001b[0m\u001b[1;33m,\u001b[0m \u001b[0min_video_quiz_times_ml_004\u001b[0m\u001b[1;33m[\u001b[0m\u001b[1;36m13\u001b[0m\u001b[1;33m]\u001b[0m\u001b[1;33m[\u001b[0m\u001b[1;36m0\u001b[0m\u001b[1;33m]\u001b[0m\u001b[1;33m-\u001b[0m\u001b[1;36m10\u001b[0m\u001b[1;33m,\u001b[0m \u001b[0min_video_quiz_times_ml_004\u001b[0m\u001b[1;33m[\u001b[0m\u001b[1;36m13\u001b[0m\u001b[1;33m]\u001b[0m\u001b[1;33m[\u001b[0m\u001b[1;36m0\u001b[0m\u001b[1;33m]\u001b[0m\u001b[1;33m+\u001b[0m\u001b[1;36m1\u001b[0m\u001b[1;33m,\u001b[0m \u001b[0mskipped_users\u001b[0m\u001b[1;33m=\u001b[0m\u001b[0mskipped_users\u001b[0m\u001b[1;33m,\u001b[0m \u001b[0msuccessful_users\u001b[0m\u001b[1;33m=\u001b[0m\u001b[0msuccessful_users\u001b[0m\u001b[1;33m)\u001b[0m\u001b[1;33m\u001b[0m\u001b[0m\n\u001b[0m\u001b[0;32m      5\u001b[0m \u001b[1;32mprint\u001b[0m \u001b[0mgetNumDataExceptions\u001b[0m\u001b[1;33m(\u001b[0m\u001b[1;33m)\u001b[0m\u001b[1;33m\u001b[0m\u001b[0m\n\u001b[0;32m      6\u001b[0m \u001b[1;32mprint\u001b[0m \u001b[0mlen\u001b[0m\u001b[1;33m(\u001b[0m\u001b[0mskipped_users\u001b[0m\u001b[1;33m)\u001b[0m\u001b[1;33m\u001b[0m\u001b[0m\n",
        "\u001b[1;31mNameError\u001b[0m: name 'in_video_quiz_times_ml_004' is not defined"
       ]
      }
     ],
     "prompt_number": 33
    },
    {
     "cell_type": "code",
     "collapsed": false,
     "input": [
      "pylab.plot(seekSources)\n",
      "labelInVideoQuizzes(13)\n",
      "labelSlideStarts(13)\n",
      "labelSlideEnds(13)"
     ],
     "language": "python",
     "metadata": {},
     "outputs": []
    },
    {
     "cell_type": "code",
     "collapsed": false,
     "input": [
      "pylab.plot(binavg(seekSources))\n",
      "labelInVideoQuizzes(13)\n",
      "labelSlideStarts(13)\n",
      "#labelSlideEnds(13)\n",
      "pylab.title('ML4 Lecture 13: Sources of Seeks to In-Video Quiz 1')\n",
      "pylab.ylabel('Number of seeks from this source')\n",
      "pylab.xlabel('Position in the video, in seconds')"
     ],
     "language": "python",
     "metadata": {},
     "outputs": []
    },
    {
     "cell_type": "heading",
     "level": 2,
     "metadata": {},
     "source": [
      "Sources of Seeks to In-Video Quiz 1, Lecture 14"
     ]
    },
    {
     "cell_type": "code",
     "collapsed": false,
     "input": [
      "resetNumDataExceptions()\n",
      "skipped_users = set()\n",
      "successful_users = set()\n",
      "seekSources = getSeekSources(14, in_video_quiz_times_ml_004[14][0]-10, in_video_quiz_times_ml_004[14][0]+1, skipped_users=skipped_users, successful_users=successful_users)\n",
      "print getNumDataExceptions()\n",
      "print len(skipped_users)\n",
      "print len(successful_users)"
     ],
     "language": "python",
     "metadata": {},
     "outputs": []
    },
    {
     "cell_type": "code",
     "collapsed": false,
     "input": [
      "pylab.plot(binavg(seekSources))\n",
      "labelInVideoQuizzes(14)\n",
      "#labelSlideStarts(14)\n",
      "#labelSlideEnds(14)\n",
      "pylab.title('ML4 Lecture 14: Sources of Seeks to In-Video Quiz 1')\n",
      "pylab.ylabel('Number of seeks from this source')\n",
      "pylab.xlabel('Position in the video, in seconds')"
     ],
     "language": "python",
     "metadata": {},
     "outputs": []
    },
    {
     "cell_type": "heading",
     "level": 2,
     "metadata": {},
     "source": [
      "Sources of seeks to In-video Quiz 2, Lecture 14"
     ]
    },
    {
     "cell_type": "code",
     "collapsed": false,
     "input": [
      "resetNumDataExceptions()\n",
      "skipped_users = set()\n",
      "successful_users = set()\n",
      "seekSources = getSeekSources(14, in_video_quiz_times_ml_004[14][1]-10, in_video_quiz_times_ml_004[14][1]+1, skipped_users=skipped_users, successful_users=successful_users)\n",
      "print getNumDataExceptions()\n",
      "print len(skipped_users)\n",
      "print len(successful_users)"
     ],
     "language": "python",
     "metadata": {},
     "outputs": []
    },
    {
     "cell_type": "code",
     "collapsed": false,
     "input": [
      "pylab.plot(binavg(seekSources))\n",
      "labelInVideoQuizzes(14)\n",
      "#labelSlideStarts(14)\n",
      "#labelSlideEnds(14)\n",
      "pylab.title('ML4 Lecture 14: Sources of Seeks to In-Video Quiz 2')\n",
      "pylab.ylabel('Number of seeks from this source')\n",
      "pylab.xlabel('Position in the video, in seconds')"
     ],
     "language": "python",
     "metadata": {},
     "outputs": []
    },
    {
     "cell_type": "code",
     "collapsed": false,
     "input": [
      "resetNumDataExceptions()\n",
      "skipped_users = set()\n",
      "successful_users = set()\n",
      "seekSources = getSeekSources(14, in_video_quiz_times_ml_004[14][2]-10, in_video_quiz_times_ml_004[14][2]+1, skipped_users=skipped_users, successful_users=successful_users)\n",
      "print getNumDataExceptions()\n",
      "print len(skipped_users)\n",
      "print len(successful_users)"
     ],
     "language": "python",
     "metadata": {},
     "outputs": []
    },
    {
     "cell_type": "code",
     "collapsed": false,
     "input": [
      "pylab.plot(binavg(seekSources))\n",
      "labelInVideoQuizzes(14)\n",
      "#labelSlideStarts(14)\n",
      "#labelSlideEnds(14)\n",
      "pylab.title('ML4 Lecture 14: Sources of Seeks to In-Video Quiz 3')\n",
      "pylab.ylabel('Number of seeks from this source')\n",
      "pylab.xlabel('Position in the video, in seconds')"
     ],
     "language": "python",
     "metadata": {},
     "outputs": []
    },
    {
     "cell_type": "code",
     "collapsed": false,
     "input": [
      "import matplotlib.cm\n",
      "\n",
      "#gridZ = [[1, 3, 5], [2, 6, 9], [0, 0, 0]]\n",
      "gridZ = numpy.zeros((3,3), numpy.float64)\n",
      "\n",
      "gridZ[0][1] = 2\n",
      "gridZ[0][2] = 1\n",
      "\n",
      "#pylab.pcolormesh(gridZ, shading='gourad')\n",
      "#pylab.plot_surface(gridZ)\n",
      "\n",
      "# fake data:\n",
      "#randomAxisA = numpy.random.normal(size=1000)\n",
      "#randomAxisB = randomAxisA*3 + numpy.random.normal(size=1000)\n",
      "\n",
      "#randomAxisA = [0, 3, 5, 3]\n",
      "#randomAxisB = [0, 1, 9, 1]\n",
      "\n",
      "randomAxisA,randomAxisB = getSeekChainsToTwoArrays(13)\n",
      "\n"
     ],
     "language": "python",
     "metadata": {},
     "outputs": []
    },
    {
     "cell_type": "code",
     "collapsed": false,
     "input": [
      "import plotly.plotly as py\n",
      "from plotly.graph_objs import *\n",
      "\n",
      "def iplot(data, layout=None):\n",
      "  if not layout:\n",
      "    py.iplot(Figure(data=data))\n",
      "  else:\n",
      "    py.iplot(Figure(data=data, layout=layout))\n",
      "\n",
      "def scatter(x, y):\n",
      "  return Data([Scatter(x=x, y=y)])\n",
      "\n",
      "def scatterdict(d):\n",
      "  return scatter(d.keys(), d.values())\n",
      "\n",
      "def scatterlist(l):\n",
      "  return scatter(range(len(l)), l)\n",
      "\n",
      "def mklayout(title, x, y):\n",
      "  if title and x and y:\n",
      "    return Layout(title=title, xaxis=XAxis(title=x), yaxis=YAxis(title=y))\n",
      "  if title and x:\n",
      "    return Layout(title=title, xaxis=XAxis(title=x))\n",
      "  if title and y:\n",
      "    return Layout(title=title, yaxis=YAxis(title=y))\n",
      "  if x and y:\n",
      "    return Layout(xaxis=XAxis(title=x), yaxis=YAxis(title=y))\n",
      "  if title:\n",
      "    return Layout(title=title)\n",
      "  if x:\n",
      "    return Layout(xaxis=XAxis(title=x))\n",
      "  if y:\n",
      "    return Layout(yaxis=YAxis(title=y))\n",
      "  return Layout()\n",
      "\n",
      "fig_data = []\n",
      "fig_labels = []\n",
      "fig_xlabel = None\n",
      "fig_ylabel = None\n",
      "fig_title = None\n",
      "\n",
      "#def newfig():\n",
      "#  global fig_data\n",
      "#  global fig_labels\n",
      "#  fig_data = []\n",
      "#  fig_labels = []\n",
      "\n",
      "def addxlabel(label):\n",
      "  global fig_xlabel\n",
      "  fig_xlabel = label\n",
      "\n",
      "def addylabel(label):\n",
      "  global fig_ylabel\n",
      "  fig_ylabel = label\n",
      "\n",
      "def addtitle(label):\n",
      "  global fig_title\n",
      "  fig_title = label\n",
      "\n",
      "def addtrace(datl, label=None):\n",
      "  fig_data.append(datl)\n",
      "  if label:\n",
      "    fig_labels.append(label)\n",
      "  else:\n",
      "    fig_labels.append('trace ' + str(len(fig_labels)))\n",
      "\n",
      "def plotfig():\n",
      "  global fig_data\n",
      "  global fig_labels\n",
      "  global fig_xlabel\n",
      "  global fig_ylabel\n",
      "  global fig_title\n",
      "  figd = Data([Scatter(x=range(len(datl)), y=datl, name=labl) for datl,labl in zip(fig_data, fig_labels)])\n",
      "  figl = mklayout(fig_title, fig_xlabel, fig_ylabel)\n",
      "  fig_data = []\n",
      "  fig_labels = []\n",
      "  fig_xlabel = None\n",
      "  fig_ylabel = None\n",
      "  fig_title = None\n",
      "  py.iplot(Figure(data=figd, layout=figl))\n",
      "  \n",
      "curfigure = None\n",
      "\n",
      "def newfig_mpl():\n",
      "  global curfigure\n",
      "  curfigure = pylab.figure()\n",
      "\n",
      "def plotfig_mpl():\n",
      "  py.iplot_mpl(curfigure)\n"
     ],
     "language": "python",
     "metadata": {},
     "outputs": []
    },
    {
     "cell_type": "code",
     "collapsed": false,
     "input": [
      "xypoints = {'x': randomAxisA, 'y': randomAxisB, 'type': 'scatter', 'mode': 'markers', 'marker': {'size': 1, 'opacity': 0.5, 'symbol': 'square'}}\n",
      "#hist2d = {'x': randomAxisA, 'y': randomAxisB, 'type':'histogram2d'}\n",
      "\n",
      "#py.iplot([xypoints], layout={'title': 'Seek Sources and Destinations in ML4 Lecture 14'})\n",
      "#py.iplot(Figure(data=[xypoints])) #, layout=Layout(title='Seek Sources and Destinations in ML4 Lecture 14', xaxis=XAxis(title='Seek source position in video, in seconds'), yaxis=YAxis(title='Seek destination position in video, in seconds'))))\n",
      "py.iplot(Figure(data=[xypoints], layout=Layout(xaxis=XAxis(showgrid=False), yaxis=YAxis(showgrid=False))))"
     ],
     "language": "python",
     "metadata": {},
     "outputs": []
    },
    {
     "cell_type": "code",
     "collapsed": false,
     "input": [
      "from plotly.graph_objs import *\n",
      "\n",
      "#xypoints = {'x': randomAxisA, 'y': randomAxisB, 'type': 'scatter', 'mode': 'markers', 'marker': {'size': 1, 'opacity': 0.5, 'symbol': 'square'}}\n",
      "hist2d = Histogram2d(x=randomAxisA, y=randomAxisB, nbinsx=50, nbinsy=50)\n",
      "\n",
      "#py.iplot(Figure(data=[hist2d], layout=Layout(title='Seek Sources and Destinations in ML4 Lecture 14', xaxis=XAxis(title='Seek source position in video, in seconds', showgrid=False), yaxis=YAxis(title='Seek destination position in video, in seconds', showgrid=False))))\n",
      "py.iplot(Figure(data=[hist2d], layout=Layout(xaxis=XAxis(showgrid=False), yaxis=YAxis(showgrid=False))))\n"
     ],
     "language": "python",
     "metadata": {},
     "outputs": []
    },
    {
     "cell_type": "code",
     "collapsed": false,
     "input": [
      "print in_video_quiz_times_ml_004[13]"
     ],
     "language": "python",
     "metadata": {},
     "outputs": []
    },
    {
     "cell_type": "code",
     "collapsed": false,
     "input": [
      "\n",
      "randomAxisA,randomAxisB = getSeekChainsToTwoArrays(14)\n",
      "\n"
     ],
     "language": "python",
     "metadata": {},
     "outputs": []
    },
    {
     "cell_type": "code",
     "collapsed": false,
     "input": [
      "xypoints = {'x': randomAxisA, 'y': randomAxisB, 'type': 'scatter', 'mode': 'markers', 'marker': {'size': 1, 'opacity': 0.5, 'symbol': 'square'}}\n",
      "#hist2d = {'x': randomAxisA, 'y': randomAxisB, 'type':'histogram2d'}\n",
      "\n",
      "#py.iplot([xypoints], layout={'title': 'Seek Sources and Destinations in ML4 Lecture 14'})\n",
      "#py.iplot(Figure(data=[xypoints])) #, layout=Layout(title='Seek Sources and Destinations in ML4 Lecture 14', xaxis=XAxis(title='Seek source position in video, in seconds'), yaxis=YAxis(title='Seek destination position in video, in seconds'))))\n",
      "py.iplot(Figure(data=[xypoints], layout=Layout(xaxis=XAxis(showgrid=False), yaxis=YAxis(showgrid=False))))"
     ],
     "language": "python",
     "metadata": {},
     "outputs": []
    },
    {
     "cell_type": "code",
     "collapsed": false,
     "input": [
      "from plotly.graph_objs import *\n",
      "\n",
      "#xypoints = {'x': randomAxisA, 'y': randomAxisB, 'type': 'scatter', 'mode': 'markers', 'marker': {'size': 1, 'opacity': 0.5, 'symbol': 'square'}}\n",
      "hist2d = Histogram2d(x=randomAxisA, y=randomAxisB, nbinsx=50, nbinsy=50)\n",
      "\n",
      "py.iplot(Figure(data=[hist2d])) #, layout=Layout(title='Seek Sources and Destinations in ML4 Lecture 14', xaxis=XAxis(title='Seek source position in video, in seconds'), yaxis=YAxis(title='Seek destination position in video, in seconds'))))\n"
     ],
     "language": "python",
     "metadata": {},
     "outputs": []
    },
    {
     "cell_type": "code",
     "collapsed": false,
     "input": [
      "\n",
      "randomAxisA,randomAxisB = getSeekChainsToTwoArrays(68)\n",
      "\n"
     ],
     "language": "python",
     "metadata": {},
     "outputs": []
    },
    {
     "cell_type": "code",
     "collapsed": false,
     "input": [
      "xypoints = {'x': randomAxisA, 'y': randomAxisB, 'type': 'scatter', 'mode': 'markers', 'marker': {'size': 1, 'opacity': 0.5, 'symbol': 'square'}}\n",
      "#hist2d = {'x': randomAxisA, 'y': randomAxisB, 'type':'histogram2d'}\n",
      "\n",
      "#py.iplot([xypoints], layout={'title': 'Seek Sources and Destinations in ML4 Lecture 14'})\n",
      "py.iplot(Figure(data=[xypoints])) #, layout=Layout(title='Seek Sources and Destinations in ML4 Lecture 14', xaxis=XAxis(title='Seek source position in video, in seconds'), yaxis=YAxis(title='Seek destination position in video, in seconds'))))\n"
     ],
     "language": "python",
     "metadata": {},
     "outputs": []
    },
    {
     "cell_type": "code",
     "collapsed": false,
     "input": [],
     "language": "python",
     "metadata": {},
     "outputs": []
    },
    {
     "cell_type": "code",
     "collapsed": false,
     "input": [
      "def labelInVideoQuizzesBothAxes(lecture_id):\n",
      "  assert lecture_id in video_annotations.in_video_quiz_times_ml_004\n",
      "  for quiz_time in video_annotations.in_video_quiz_times_ml_004[lecture_id]:\n",
      "    pylab.axvline(x=quiz_time, color=\"black\")\n",
      "    pylab.axhline(y=quiz_time, color=\"black\")\n",
      "\n",
      "\n",
      "pylab.hist2d(randomAxisA, randomAxisB, (50, 50), cmap=matplotlib.cm.jet)\n",
      "labelInVideoQuizzesBothAxes(13)\n",
      "pylab.colorbar()\n"
     ],
     "language": "python",
     "metadata": {},
     "outputs": []
    },
    {
     "cell_type": "heading",
     "level": 2,
     "metadata": {},
     "source": [
      "Seek Destinations for Video Start"
     ]
    },
    {
     "cell_type": "code",
     "collapsed": false,
     "input": [
      "resetNumDataExceptions()\n",
      "skipped_users = set()\n",
      "successful_users = set()\n",
      "seekDestinations = getSeekDestinations(13, 0, 10, skipped_users=skipped_users, successful_users=successful_users)\n",
      "print getNumDataExceptions()\n",
      "print len(skipped_users)\n",
      "print len(successful_users)\n",
      "\n"
     ],
     "language": "python",
     "metadata": {},
     "outputs": []
    },
    {
     "cell_type": "code",
     "collapsed": false,
     "input": [
      "pylab.plot(binavg(seekDestinations))\n",
      "labelInVideoQuizzes(13)\n",
      "labelSlideStarts(13)\n",
      "#labelSlideEnds(13)\n",
      "pylab.ylim(0.0, 100)\n",
      "pylab.title('ML4 Lecture 13: Destinations of Seeks from the First 10 Seconds of the Video')\n",
      "pylab.ylabel('Number of seeks to this destination')\n",
      "pylab.xlabel('Position in the video, in seconds')"
     ],
     "language": "python",
     "metadata": {},
     "outputs": []
    },
    {
     "cell_type": "heading",
     "level": 2,
     "metadata": {},
     "source": [
      "Seek Desinations for Video Quiz 1"
     ]
    },
    {
     "cell_type": "code",
     "collapsed": false,
     "input": [
      "resetNumDataExceptions()\n",
      "skipped_users = set()\n",
      "successful_users = set()\n",
      "seekDestinations = getSeekDestinations(13, in_video_quiz_times_ml_004[13][0]-1, in_video_quiz_times_ml_004[13][0]+10, skipped_users=skipped_users, successful_users=successful_users)\n",
      "print getNumDataExceptions()\n",
      "print len(skipped_users)\n",
      "print len(successful_users)"
     ],
     "language": "python",
     "metadata": {},
     "outputs": []
    },
    {
     "cell_type": "code",
     "collapsed": false,
     "input": [
      "pylab.plot(seekDestinations)\n",
      "labelInVideoQuizzes(13)\n",
      "labelSlideStarts(13)\n",
      "#labelSlideEnds(13)"
     ],
     "language": "python",
     "metadata": {},
     "outputs": []
    },
    {
     "cell_type": "code",
     "collapsed": false,
     "input": [
      "pylab.plot(binavg(seekDestinations))\n",
      "labelInVideoQuizzes(13)\n",
      "labelSlideStarts(13)\n",
      "#labelSlideEnds(13)\n",
      "\n",
      "#pylab.ylim(0.0, 100)\n",
      "pylab.title('ML4 Lecture 13: Destinations of Seeks from In-Video Quiz 1')\n",
      "pylab.ylabel('Number of seeks to this source')\n",
      "pylab.xlabel('Position in the video, in seconds')"
     ],
     "language": "python",
     "metadata": {},
     "outputs": []
    },
    {
     "cell_type": "heading",
     "level": 2,
     "metadata": {},
     "source": [
      "Seek Destinations for Video Quiz 2"
     ]
    },
    {
     "cell_type": "code",
     "collapsed": false,
     "input": [
      "resetNumDataExceptions()\n",
      "skipped_users = set()\n",
      "successful_users = set()\n",
      "seekDestinations = getSeekDestinations(13, in_video_quiz_times_ml_004[13][1]-1, in_video_quiz_times_ml_004[13][1]+10, skipped_users=skipped_users, successful_users=successful_users)\n",
      "print getNumDataExceptions()\n",
      "print len(skipped_users)\n",
      "print len(successful_users)"
     ],
     "language": "python",
     "metadata": {},
     "outputs": []
    },
    {
     "cell_type": "code",
     "collapsed": false,
     "input": [
      "pylab.plot(binavg(seekDestinations))\n",
      "labelInVideoQuizzes(13)\n",
      "labelSlideStarts(13)\n",
      "#labelSlideEnds(13)\n",
      "\n",
      "#pylab.ylim(0.0, 100)\n",
      "pylab.title('ML4 Lecture 13: Destinations of Seeks from In-Video Quiz 2')\n",
      "pylab.ylabel('Number of seeks to this source')\n",
      "pylab.xlabel('Position in the video, in seconds')"
     ],
     "language": "python",
     "metadata": {},
     "outputs": []
    },
    {
     "cell_type": "heading",
     "level": 2,
     "metadata": {},
     "source": [
      "Seek Sources for Video Quiz 2"
     ]
    },
    {
     "cell_type": "code",
     "collapsed": false,
     "input": [
      "resetNumDataExceptions()\n",
      "skipped_users = set()\n",
      "successful_users = set()\n",
      "seekSources = getSeekSources(13, in_video_quiz_times_ml_004[13][1]-10, in_video_quiz_times_ml_004[13][1]+1, skipped_users=skipped_users, successful_users=successful_users)\n",
      "print getNumDataExceptions()\n",
      "print len(skipped_users)\n",
      "print len(successful_users)"
     ],
     "language": "python",
     "metadata": {},
     "outputs": []
    },
    {
     "cell_type": "code",
     "collapsed": false,
     "input": [
      "pylab.plot(seekSources)\n",
      "labelInVideoQuizzes(13)\n",
      "labelSlideStarts(13)\n",
      "#labelSlideEnds(13)\n",
      "\n",
      "#pylab.ylim(0.0, 100)\n",
      "pylab.title('ML4 Lecture 13: Sources of Seeks to In-Video Quiz 2')\n",
      "pylab.ylabel('Number of seeks from this source')\n",
      "pylab.xlabel('Position in the video, in seconds')"
     ],
     "language": "python",
     "metadata": {},
     "outputs": []
    },
    {
     "cell_type": "code",
     "collapsed": false,
     "input": [
      "pylab.plot(binavg(seekSources))\n",
      "labelInVideoQuizzes(13)\n",
      "labelSlideStarts(13)\n",
      "#labelSlideEnds(13)\n",
      "\n",
      "#pylab.ylim(0.0, 100)\n",
      "pylab.title('ML4 Lecture 13: Sources of Seeks to In-Video Quiz 2')\n",
      "pylab.ylabel('Number of seeks from this source')\n",
      "pylab.xlabel('Position in the video, in seconds')"
     ],
     "language": "python",
     "metadata": {},
     "outputs": []
    },
    {
     "cell_type": "heading",
     "level": 2,
     "metadata": {},
     "source": [
      "Seek Destinations for Video Quiz 2"
     ]
    },
    {
     "cell_type": "code",
     "collapsed": false,
     "input": [
      "pylab.plot(seekDestinations)\n",
      "labelInVideoQuizzes(13)\n",
      "labelSlideStarts(13)\n",
      "labelSlideEnds(13)"
     ],
     "language": "python",
     "metadata": {},
     "outputs": []
    },
    {
     "cell_type": "code",
     "collapsed": false,
     "input": [
      "resetNumDataExceptions()\n",
      "skipped_users = set()\n",
      "successful_users = set()\n",
      "seekDestinations = getSeekDestinations(13, in_video_quiz_times_ml_004[13][1]-1, in_video_quiz_times_ml_004[13][1]+1, skipped_users=skipped_users, successful_users=successful_users)\n",
      "print getNumDataExceptions()\n",
      "print len(skipped_users)\n",
      "print len(successful_users)"
     ],
     "language": "python",
     "metadata": {},
     "outputs": []
    },
    {
     "cell_type": "code",
     "collapsed": false,
     "input": [
      "pylab.plot(binavg(seekDestinations))\n",
      "labelInVideoQuizzes(13)\n",
      "labelSlideStarts(13)\n",
      "labelSlideEnds(13)"
     ],
     "language": "python",
     "metadata": {},
     "outputs": []
    },
    {
     "cell_type": "heading",
     "level": 2,
     "metadata": {},
     "source": [
      "Seek Destinations for Start"
     ]
    },
    {
     "cell_type": "code",
     "collapsed": false,
     "input": [
      "resetNumDataExceptions()\n",
      "skipped_users = set()\n",
      "successful_users = set()\n",
      "seekDestinations = getSeekDestinations(13, 0, 10, skipped_users=skipped_users, successful_users=successful_users)\n",
      "print getNumDataExceptions()\n",
      "print len(skipped_users)\n",
      "print len(successful_users)\n",
      "pylab.plot(binavg(seekDestinations))\n",
      "labelInVideoQuizzes(13)\n",
      "labelSlideStarts(13)\n",
      "labelSlideEnds(13)"
     ],
     "language": "python",
     "metadata": {},
     "outputs": []
    },
    {
     "cell_type": "code",
     "collapsed": false,
     "input": [],
     "language": "python",
     "metadata": {},
     "outputs": []
    },
    {
     "cell_type": "heading",
     "level": 1,
     "metadata": {},
     "source": [
      "Lecture 46 (Model Representation)"
     ]
    },
    {
     "cell_type": "markdown",
     "metadata": {},
     "source": [
      "http://class.coursera.org/ml-004/lecture/46"
     ]
    },
    {
     "cell_type": "heading",
     "level": 2,
     "metadata": {},
     "source": [
      "Parts Skipped Forward Over"
     ]
    },
    {
     "cell_type": "code",
     "collapsed": false,
     "input": [
      "resetNumDataExceptions()\n",
      "skipped_users = set()\n",
      "successful_users = set()\n",
      "partsSkippedForwardOver = getPartsSkippedForwardOver(46, skipped_users=skipped_users, successful_users=successful_users)\n",
      "print getNumDataExceptions()\n",
      "print len(skipped_users)\n",
      "print len(successful_users)\n"
     ],
     "language": "python",
     "metadata": {},
     "outputs": []
    },
    {
     "cell_type": "code",
     "collapsed": false,
     "input": [
      "pylab.plot(partsSkippedForwardOver)\n",
      "labelInVideoQuizzes(46)\n",
      "labelSlideStarts(46)\n",
      "labelSlideEnds(46)\n"
     ],
     "language": "python",
     "metadata": {},
     "outputs": []
    },
    {
     "cell_type": "heading",
     "level": 2,
     "metadata": {},
     "source": [
      "Parts Skipped Back Over"
     ]
    },
    {
     "cell_type": "code",
     "collapsed": false,
     "input": [
      "resetNumDataExceptions()\n",
      "skipped_users = set()\n",
      "successful_users = set()\n",
      "partsSkippedBackOver = getPartsSkippedBackOver(46, skipped_users=skipped_users, successful_users=successful_users)\n",
      "print getNumDataExceptions()\n",
      "print len(skipped_users)\n",
      "print len(successful_users)\n"
     ],
     "language": "python",
     "metadata": {},
     "outputs": []
    },
    {
     "cell_type": "code",
     "collapsed": false,
     "input": [
      "pylab.plot(partsSkippedBackOver)\n",
      "labelInVideoQuizzes(46)\n",
      "labelSlideStarts(46)\n",
      "labelSlideEnds(46)"
     ],
     "language": "python",
     "metadata": {},
     "outputs": []
    },
    {
     "cell_type": "heading",
     "level": 2,
     "metadata": {},
     "source": [
      "Parts Played"
     ]
    },
    {
     "cell_type": "code",
     "collapsed": false,
     "input": [
      "resetNumDataExceptions()\n",
      "skipped_users = set()\n",
      "successful_users = set()\n",
      "partsPlayed = getPartsPlayed(46, skipped_users=skipped_users, successful_users=successful_users)\n",
      "print getNumDataExceptions()\n",
      "print len(skipped_users)\n",
      "print len(successful_users)\n"
     ],
     "language": "python",
     "metadata": {},
     "outputs": []
    },
    {
     "cell_type": "code",
     "collapsed": false,
     "input": [
      "pylab.plot(partsPlayed)\n",
      "labelInVideoQuizzes(46)\n",
      "labelSlideStarts(46)\n",
      "#labelSlideEnds(46)"
     ],
     "language": "python",
     "metadata": {},
     "outputs": []
    },
    {
     "cell_type": "heading",
     "level": 2,
     "metadata": {},
     "source": [
      "Seek Sources for Video Quiz"
     ]
    },
    {
     "cell_type": "code",
     "collapsed": false,
     "input": [
      "resetNumDataExceptions()\n",
      "skipped_users = set()\n",
      "successful_users = set()\n",
      "seekSources = getSeekSources(46, in_video_quiz_times_ml_004[46][0]-10, in_video_quiz_times_ml_004[46][0]+1, skipped_users=skipped_users, successful_users=successful_users)\n",
      "print getNumDataExceptions()\n",
      "print len(skipped_users)\n",
      "print len(successful_users)"
     ],
     "language": "python",
     "metadata": {},
     "outputs": []
    },
    {
     "cell_type": "code",
     "collapsed": false,
     "input": [
      "pylab.plot(seekSources)\n",
      "labelInVideoQuizzes(46)\n",
      "labelSlideStarts(46)\n",
      "labelSlideEnds(46)"
     ],
     "language": "python",
     "metadata": {},
     "outputs": []
    },
    {
     "cell_type": "code",
     "collapsed": false,
     "input": [
      "pylab.plot(binavg(seekSources))\n",
      "labelInVideoQuizzes(46)\n",
      "labelSlideStarts(46)\n",
      "labelSlideEnds(46)"
     ],
     "language": "python",
     "metadata": {},
     "outputs": []
    },
    {
     "cell_type": "heading",
     "level": 2,
     "metadata": {},
     "source": [
      "Seek Destinations for Video Quiz"
     ]
    },
    {
     "cell_type": "code",
     "collapsed": false,
     "input": [
      "resetNumDataExceptions()\n",
      "skipped_users = set()\n",
      "successful_users = set()\n",
      "seekDestinations = getSeekDestinations(46, in_video_quiz_times_ml_004[46][0]-1, in_video_quiz_times_ml_004[46][0]+1, skipped_users=skipped_users, successful_users=successful_users)\n",
      "print getNumDataExceptions()\n",
      "print len(skipped_users)\n",
      "print len(successful_users)"
     ],
     "language": "python",
     "metadata": {},
     "outputs": []
    },
    {
     "cell_type": "code",
     "collapsed": false,
     "input": [
      "pylab.plot(seekDestinations)\n",
      "labelInVideoQuizzes(46)\n",
      "labelSlideStarts(46)\n",
      "labelSlideEnds(46)"
     ],
     "language": "python",
     "metadata": {},
     "outputs": []
    },
    {
     "cell_type": "code",
     "collapsed": false,
     "input": [
      "pylab.plot(binavg(seekDestinations))\n",
      "labelInVideoQuizzes(46)\n",
      "labelSlideStarts(46)\n",
      "labelSlideEnds(46)"
     ],
     "language": "python",
     "metadata": {},
     "outputs": []
    },
    {
     "cell_type": "heading",
     "level": 1,
     "metadata": {},
     "source": [
      "Lecture 112 (Getting Lots and Lots of Artificial Data)"
     ]
    },
    {
     "cell_type": "heading",
     "level": 2,
     "metadata": {},
     "source": [
      "https://class.coursera.org/ml-004/lecture/112"
     ]
    },
    {
     "cell_type": "heading",
     "level": 2,
     "metadata": {},
     "source": [
      "Parts Skipped Forward Over"
     ]
    },
    {
     "cell_type": "code",
     "collapsed": false,
     "input": [
      "resetNumDataExceptions()\n",
      "skipped_users = set()\n",
      "successful_users = set()\n",
      "partsSkippedForwardOver = getPartsSkippedForwardOver(112, skipped_users=skipped_users, successful_users=successful_users)\n",
      "print getNumDataExceptions()\n",
      "print len(skipped_users)\n",
      "print len(successful_users)\n"
     ],
     "language": "python",
     "metadata": {},
     "outputs": []
    },
    {
     "cell_type": "code",
     "collapsed": false,
     "input": [
      "pylab.plot(partsSkippedForwardOver)\n",
      "labelInVideoQuizzes(112)\n",
      "labelSlideStarts(112)\n",
      "labelSlideEnds(112)\n"
     ],
     "language": "python",
     "metadata": {},
     "outputs": []
    },
    {
     "cell_type": "heading",
     "level": 2,
     "metadata": {},
     "source": [
      "Parts Skipped Backward Over"
     ]
    },
    {
     "cell_type": "code",
     "collapsed": false,
     "input": [
      "resetNumDataExceptions()\n",
      "skipped_users = set()\n",
      "successful_users = set()\n",
      "partsSkippedBackOver = getPartsSkippedBackOver(112, skipped_users=skipped_users, successful_users=successful_users)\n",
      "print getNumDataExceptions()\n",
      "print len(skipped_users)\n",
      "print len(successful_users)\n"
     ],
     "language": "python",
     "metadata": {},
     "outputs": []
    },
    {
     "cell_type": "code",
     "collapsed": false,
     "input": [
      "pylab.plot(partsSkippedBackOver)\n",
      "labelInVideoQuizzes(112)\n",
      "labelSlideStarts(112)\n",
      "labelSlideEnds(112)"
     ],
     "language": "python",
     "metadata": {},
     "outputs": []
    },
    {
     "cell_type": "heading",
     "level": 2,
     "metadata": {},
     "source": [
      "Parts Played"
     ]
    },
    {
     "cell_type": "code",
     "collapsed": false,
     "input": [
      "resetNumDataExceptions()\n",
      "skipped_users = set()\n",
      "successful_users = set()\n",
      "partsPlayed = getPartsPlayed(112, skipped_users=skipped_users, successful_users=successful_users)\n",
      "print getNumDataExceptions()\n",
      "print len(skipped_users)\n",
      "print len(successful_users)\n"
     ],
     "language": "python",
     "metadata": {},
     "outputs": []
    },
    {
     "cell_type": "code",
     "collapsed": false,
     "input": [
      "pylab.plot(partsPlayed)\n",
      "labelInVideoQuizzes(112)\n",
      "labelSlideStarts(112)\n",
      "labelSlideEnds(112)"
     ],
     "language": "python",
     "metadata": {},
     "outputs": []
    },
    {
     "cell_type": "heading",
     "level": 2,
     "metadata": {},
     "source": [
      "Seek Sources for Video Quiz 1"
     ]
    },
    {
     "cell_type": "code",
     "collapsed": false,
     "input": [
      "resetNumDataExceptions()\n",
      "skipped_users = set()\n",
      "successful_users = set()\n",
      "seekSources = getSeekSources(112, in_video_quiz_times_ml_004[112][0]-10, in_video_quiz_times_ml_004[112][0]+1, skipped_users=skipped_users, successful_users=successful_users)\n",
      "print getNumDataExceptions()\n",
      "print len(skipped_users)\n",
      "print len(successful_users)"
     ],
     "language": "python",
     "metadata": {},
     "outputs": []
    },
    {
     "cell_type": "code",
     "collapsed": false,
     "input": [
      "pylab.plot(seekSources)\n",
      "labelInVideoQuizzes(46)\n",
      "labelSlideStarts(46)\n",
      "labelSlideEnds(46)"
     ],
     "language": "python",
     "metadata": {},
     "outputs": []
    },
    {
     "cell_type": "heading",
     "level": 1,
     "metadata": {},
     "source": [
      "Lecture something"
     ]
    },
    {
     "cell_type": "heading",
     "level": 2,
     "metadata": {},
     "source": [
      "Parts Played"
     ]
    },
    {
     "cell_type": "code",
     "collapsed": false,
     "input": [
      "videonumber = 90\n",
      "\n",
      "resetNumDataExceptions()\n",
      "skipped_users = set()\n",
      "successful_users = set()\n",
      "partsPlayed = getPartsPlayed(videonumber, skipped_users=skipped_users, successful_users=successful_users)\n",
      "print getNumDataExceptions()\n",
      "print len(skipped_users)\n",
      "print len(successful_users)\n",
      "\n",
      "pylab.plot(partsPlayed)\n",
      "labelInVideoQuizzes(videonumber)\n",
      "#labelSlideStarts(videonumber)\n",
      "#labelSlideEnds(videonumber)"
     ],
     "language": "python",
     "metadata": {},
     "outputs": []
    },
    {
     "cell_type": "code",
     "collapsed": false,
     "input": [
      "videonumber = 81\n",
      "\n",
      "resetNumDataExceptions()\n",
      "skipped_users = set()\n",
      "successful_users = set()\n",
      "partsPlayed = getPartsPlayed(videonumber, skipped_users=skipped_users, successful_users=successful_users)\n",
      "print getNumDataExceptions()\n",
      "print len(skipped_users)\n",
      "print len(successful_users)\n",
      "\n",
      "pylab.plot(partsPlayed)\n",
      "labelInVideoQuizzes(videonumber)\n",
      "#labelSlideStarts(videonumber)\n",
      "#labelSlideEnds(videonumber)"
     ],
     "language": "python",
     "metadata": {},
     "outputs": []
    },
    {
     "cell_type": "code",
     "collapsed": false,
     "input": [
      "videonumber = 68\n",
      "\n",
      "resetNumDataExceptions()\n",
      "skipped_users = set()\n",
      "successful_users = set()\n",
      "partsPlayed = getPartsPlayed(videonumber, skipped_users=skipped_users, successful_users=successful_users)\n",
      "print getNumDataExceptions()\n",
      "print len(skipped_users)\n",
      "print len(successful_users)"
     ],
     "language": "python",
     "metadata": {},
     "outputs": []
    },
    {
     "cell_type": "code",
     "collapsed": false,
     "input": [
      "pylab.plot(partsPlayed)\n",
      "labelInVideoQuizzes(videonumber)\n",
      "labelSlideStarts(videonumber)\n",
      "#labelSlideEnds(videonumber)\n",
      "pylab.axvline(x=90, color=\"red\", linestyle=\"dotted\")\n",
      "pylab.axvline(x=656, color=\"purple\", linestyle=\"dotted\")\n",
      "# the small jump that occurs around 90 seconds into the video is due to the instructor showing some code and starting to write on the slides\n",
      "\n",
      "pylab.title('ML4 Lecture 68: Number of views for each second of video (includes rewatches)')\n",
      "pylab.xlabel('Position in the video, in seconds')\n",
      "pylab.ylabel('Number of views for this second of video')"
     ],
     "language": "python",
     "metadata": {},
     "outputs": []
    },
    {
     "cell_type": "code",
     "collapsed": false,
     "input": [
      "videonumber = 68\n",
      "\n",
      "resetNumDataExceptions()\n",
      "skipped_users = set()\n",
      "successful_users = set()\n",
      "partsPlayed = getPartsPlayedMoreThanOnce(videonumber, skipped_users=skipped_users, successful_users=successful_users)\n",
      "print getNumDataExceptions()\n",
      "print len(skipped_users)\n",
      "print len(successful_users)"
     ],
     "language": "python",
     "metadata": {},
     "outputs": []
    },
    {
     "cell_type": "code",
     "collapsed": false,
     "input": [
      "pylab.plot(partsPlayed)\n",
      "labelInVideoQuizzes(videonumber)\n",
      "labelSlideStarts(videonumber)\n",
      "#labelSlideEnds(videonumber)\n",
      "pylab.axvline(x=90, color=\"red\", linestyle=\"dotted\")\n",
      "pylab.axvline(x=656, color=\"purple\", linestyle=\"dotted\")\n",
      "# the small jump that occurs around 90 seconds into the video is due to the instructor showing some code and starting to write on the slides\n",
      "\n",
      "pylab.title('ML4 Lecture 68: Number of rewatches for each second of video (excludes user\\'s first watch)')\n",
      "pylab.xlabel('Position in the video, in seconds')\n",
      "pylab.ylabel('Number of rewatches for this second of video')"
     ],
     "language": "python",
     "metadata": {},
     "outputs": []
    },
    {
     "cell_type": "code",
     "collapsed": false,
     "input": [
      "videonumber = 13\n",
      "\n",
      "resetNumDataExceptions()\n",
      "skipped_users = set()\n",
      "successful_users = set()\n",
      "partsPlayed = getPartsPlayedMoreThanOnce(videonumber, skipped_users=skipped_users, successful_users=successful_users)\n",
      "print getNumDataExceptions()\n",
      "print len(skipped_users)\n",
      "print len(successful_users)"
     ],
     "language": "python",
     "metadata": {},
     "outputs": []
    },
    {
     "cell_type": "code",
     "collapsed": false,
     "input": [
      "pylab.plot(partsPlayed)\n",
      "labelInVideoQuizzes(videonumber)\n",
      "labelSlideStarts(videonumber)\n",
      "#labelSlideEnds(videonumber)\n",
      "pylab.axvline(x=90, color=\"red\", linestyle=\"dotted\")\n",
      "pylab.axvline(x=656, color=\"purple\", linestyle=\"dotted\")\n",
      "# the small jump that occurs around 90 seconds into the video is due to the instructor showing some code and starting to write on the slides\n",
      "\n",
      "pylab.title('ML4 Lecture 13: Number of rewatches for each second of video (excludes user\\'s first watch)')\n",
      "pylab.xlabel('Position in the video, in seconds')\n",
      "pylab.ylabel('Number of rewatches for this second of video')"
     ],
     "language": "python",
     "metadata": {},
     "outputs": []
    },
    {
     "cell_type": "code",
     "collapsed": false,
     "input": [
      "videonumber = 68\n",
      "\n",
      "resetNumDataExceptions()\n",
      "skipped_users = set()\n",
      "successful_users = set()\n",
      "partsPlayed = getPartsPlayedOncePerUser(videonumber, skipped_users=skipped_users, successful_users=successful_users)\n",
      "print getNumDataExceptions()\n",
      "print len(skipped_users)\n",
      "print len(successful_users)"
     ],
     "language": "python",
     "metadata": {},
     "outputs": []
    },
    {
     "cell_type": "code",
     "collapsed": false,
     "input": [
      "pylab.plot(partsPlayed)\n",
      "labelInVideoQuizzes(videonumber)\n",
      "labelSlideStarts(videonumber)\n",
      "#labelSlideEnds(videonumber)\n",
      "pylab.axvline(x=90, color=\"red\", linestyle=\"dotted\")\n",
      "pylab.axvline(x=656, color=\"purple\", linestyle=\"dotted\")\n",
      "# the small jump that occurs around 90 seconds into the video is due to the instructor showing some code and starting to write on the slides"
     ],
     "language": "python",
     "metadata": {},
     "outputs": []
    },
    {
     "cell_type": "code",
     "collapsed": false,
     "input": [
      "videonumber = 68\n",
      "\n",
      "resetNumDataExceptions()\n",
      "skipped_users = set()\n",
      "successful_users = set()\n",
      "partsPlayed = getPartsPlayed(videonumber, skipped_users=skipped_users, successful_users=successful_users, filter_func=filterReviewSessionOnly)\n",
      "print getNumDataExceptions()\n",
      "print len(skipped_users)\n",
      "print len(successful_users)\n",
      "\n",
      "pylab.plot(partsPlayed)\n",
      "labelInVideoQuizzes(videonumber)\n",
      "labelSlideStarts(videonumber)\n",
      "#labelSlideEnds(videonumber)\n",
      "\n",
      "pylab.title('ML4 Lecture 68: Number of views for each second of video (excludes first viewing session)')\n",
      "pylab.xlabel('Position in the video, in seconds')\n",
      "pylab.ylabel('Number of rewatches for this second of video')"
     ],
     "language": "python",
     "metadata": {},
     "outputs": []
    },
    {
     "cell_type": "code",
     "collapsed": false,
     "input": [
      "videonumber = 13\n",
      "\n",
      "resetNumDataExceptions()\n",
      "skipped_users = set()\n",
      "successful_users = set()\n",
      "partsPlayed = getPartsPlayed(videonumber, skipped_users=skipped_users, successful_users=successful_users, filter_func=filterReviewSessionOnly)\n",
      "print getNumDataExceptions()\n",
      "print len(skipped_users)\n",
      "print len(successful_users)\n",
      "\n",
      "pylab.plot(partsPlayed)\n",
      "labelInVideoQuizzes(videonumber)\n",
      "labelSlideStarts(videonumber)\n",
      "#labelSlideEnds(videonumber)\n",
      "\n",
      "pylab.title('ML4 Lecture 13: Number of views for each second of video (excludes first viewing session)')\n",
      "pylab.xlabel('Position in the video, in seconds')\n",
      "pylab.ylabel('Number of rewatches for this second of video')"
     ],
     "language": "python",
     "metadata": {},
     "outputs": []
    },
    {
     "cell_type": "heading",
     "level": 2,
     "metadata": {},
     "source": [
      "Parts Skipped Backward Over"
     ]
    },
    {
     "cell_type": "code",
     "collapsed": false,
     "input": [
      "resetNumDataExceptions()\n",
      "skipped_users = set()\n",
      "successful_users = set()\n",
      "partsSkippedBackOver = getPartsSkippedBackOver(68, skipped_users=skipped_users, successful_users=successful_users)\n",
      "print getNumDataExceptions()\n",
      "print len(skipped_users)\n",
      "print len(successful_users)\n"
     ],
     "language": "python",
     "metadata": {},
     "outputs": []
    },
    {
     "cell_type": "code",
     "collapsed": false,
     "input": [
      "pylab.plot(partsSkippedBackOver)\n",
      "labelInVideoQuizzes(68)\n",
      "labelSlideStarts(68)\n",
      "#labelSlideEnds(68)\n",
      "pylab.axvline(x=90, color=\"red\", linestyle=\"dotted\")\n",
      "pylab.axvline(x=656, color=\"purple\", linestyle=\"dotted\")\n",
      "\n",
      "pylab.title('ML4 Lecture 68: Number of backseeks across each second of video')\n",
      "pylab.xlabel('Position in the video, in seconds')\n",
      "pylab.ylabel('Number of backseeks across this second of video')"
     ],
     "language": "python",
     "metadata": {},
     "outputs": []
    },
    {
     "cell_type": "code",
     "collapsed": false,
     "input": [],
     "language": "python",
     "metadata": {},
     "outputs": []
    },
    {
     "cell_type": "heading",
     "level": 2,
     "metadata": {},
     "source": [
      "Parts Skipped Forward Over"
     ]
    },
    {
     "cell_type": "code",
     "collapsed": false,
     "input": [
      "resetNumDataExceptions()\n",
      "skipped_users = set()\n",
      "successful_users = set()\n",
      "partsSkippedForwardOver = getPartsSkippedForwardOver(68, skipped_users=skipped_users, successful_users=successful_users)\n",
      "print getNumDataExceptions()\n",
      "print len(skipped_users)\n",
      "print len(successful_users)\n"
     ],
     "language": "python",
     "metadata": {},
     "outputs": []
    },
    {
     "cell_type": "code",
     "collapsed": false,
     "input": [
      "pylab.plot(partsSkippedForwardOver)\n",
      "labelInVideoQuizzes(68)\n",
      "labelSlideStarts(68)\n",
      "#labelSlideEnds(68)\n",
      "pylab.axvline(x=90, color=\"red\", linestyle=\"dotted\")\n",
      "pylab.axvline(x=656, color=\"purple\", linestyle=\"dotted\")\n",
      "\n",
      "pylab.title('Lecture 68: Number of forward seeks across each second of video')\n",
      "pylab.xlabel('Position in the video, in seconds')\n",
      "pylab.ylabel('Number of forward seeks across this second of video')"
     ],
     "language": "python",
     "metadata": {},
     "outputs": []
    },
    {
     "cell_type": "heading",
     "level": 2,
     "metadata": {},
     "source": [
      "Seek Destinations from Time 0"
     ]
    },
    {
     "cell_type": "code",
     "collapsed": false,
     "input": [
      "resetNumDataExceptions()\n",
      "skipped_users = set()\n",
      "successful_users = set()\n",
      "seekDestinations = getSeekDestinations(68, 0, 10, skipped_users=skipped_users, successful_users=successful_users)\n",
      "print getNumDataExceptions()\n",
      "print len(skipped_users)\n",
      "print len(successful_users)\n"
     ],
     "language": "python",
     "metadata": {},
     "outputs": []
    },
    {
     "cell_type": "code",
     "collapsed": false,
     "input": [
      "pylab.plot(binavg(seekDestinations))\n",
      "labelInVideoQuizzes(68)\n",
      "labelSlideStarts(68)\n",
      "#labelSlideEnds(68)\n",
      "pylab.axvline(x=90, color=\"red\", linestyle=\"dotted\")\n",
      "pylab.axvline(x=656, color=\"purple\", linestyle=\"dotted\")\n",
      "pylab.title('ML4 Lecture 68: Destinations of Seeks from the First 10 Seconds of the Video')\n",
      "pylab.xlabel('Position in the video, in seconds')\n",
      "pylab.ylabel('Number of seeks to this destination')"
     ],
     "language": "python",
     "metadata": {},
     "outputs": []
    },
    {
     "cell_type": "code",
     "collapsed": false,
     "input": [
      "resetNumDataExceptions()\n",
      "skipped_users = set()\n",
      "successful_users = set()\n",
      "seekSources = getSeekSources(68, in_video_quiz_times_ml_004[68][0]-10, in_video_quiz_times_ml_004[68][0]+1, skipped_users=skipped_users, successful_users=successful_users)\n",
      "print getNumDataExceptions()\n",
      "print len(skipped_users)\n",
      "print len(successful_users)"
     ],
     "language": "python",
     "metadata": {},
     "outputs": []
    },
    {
     "cell_type": "code",
     "collapsed": false,
     "input": [
      "pylab.plot(binavg(seekSources))\n",
      "labelInVideoQuizzes(68)\n",
      "labelSlideStarts(68)\n",
      "#labelSlideEnds(68)\n",
      "pylab.axvline(x=90, color=\"red\", linestyle=\"dotted\")\n",
      "pylab.axvline(x=656, color=\"purple\", linestyle=\"dotted\")\n",
      "pylab.title('ML4 Lecture 68: Sources of Seeks to In-Video Quiz 1')\n",
      "pylab.xlabel('Position in the video, in seconds')\n",
      "pylab.ylabel('Number of seeks to this destination')"
     ],
     "language": "python",
     "metadata": {},
     "outputs": []
    },
    {
     "cell_type": "heading",
     "level": 1,
     "metadata": {},
     "source": [
      "Another Lecture, 2 in-video quizzes"
     ]
    },
    {
     "cell_type": "heading",
     "level": 2,
     "metadata": {},
     "source": [
      "Parts Played"
     ]
    },
    {
     "cell_type": "code",
     "collapsed": false,
     "input": [
      "videonumber = 14\n",
      "\n",
      "resetNumDataExceptions()\n",
      "skipped_users = set()\n",
      "successful_users = set()\n",
      "partsPlayed = getPartsPlayed(videonumber, skipped_users=skipped_users, successful_users=successful_users)\n",
      "print getNumDataExceptions()\n",
      "print len(skipped_users)\n",
      "print len(successful_users)\n",
      "\n",
      "pylab.plot(partsPlayed)\n",
      "labelInVideoQuizzes(videonumber)\n",
      "#labelSlideStarts(videonumber)\n",
      "#labelSlideEnds(videonumber)\n",
      "\n",
      "pylab.title('ML4 Lecture 14: Number of views for each second of video (includes rewatches)')\n",
      "pylab.xlabel('Position in the video, in seconds')\n",
      "pylab.ylabel('Number of views for this second of video')"
     ],
     "language": "python",
     "metadata": {},
     "outputs": []
    },
    {
     "cell_type": "code",
     "collapsed": false,
     "input": [
      "videonumber = 14\n",
      "\n",
      "resetNumDataExceptions()\n",
      "skipped_users = set()\n",
      "successful_users = set()\n",
      "partsPlayed = getPartsPlayed(videonumber, skipped_users=skipped_users, successful_users=successful_users, filter_func=filterReviewSessionOnly)\n",
      "print getNumDataExceptions()\n",
      "print len(skipped_users)\n",
      "print len(successful_users)\n",
      "\n",
      "pylab.plot(partsPlayed)\n",
      "labelInVideoQuizzes(videonumber)\n",
      "#labelSlideStarts(videonumber)\n",
      "#labelSlideEnds(videonumber)\n",
      "\n",
      "pylab.title('ML4 Lecture 14: Number of views for each second of video (excludes first viewing session)')\n",
      "pylab.xlabel('Position in the video, in seconds')\n",
      "pylab.ylabel('Number of rewatches for this second of video')"
     ],
     "language": "python",
     "metadata": {},
     "outputs": []
    },
    {
     "cell_type": "code",
     "collapsed": false,
     "input": [
      "videonumber = 14\n",
      "\n",
      "resetNumDataExceptions()\n",
      "skipped_users = set()\n",
      "successful_users = set()\n",
      "partsPlayed = getPartsPlayedOncePerUser(videonumber, skipped_users=skipped_users, successful_users=successful_users)\n",
      "print getNumDataExceptions()\n",
      "print len(skipped_users)\n",
      "print len(successful_users)\n",
      "\n",
      "pylab.plot(partsPlayed)\n",
      "labelInVideoQuizzes(videonumber)\n",
      "#labelSlideStarts(videonumber)\n",
      "#labelSlideEnds(videonumber)"
     ],
     "language": "python",
     "metadata": {},
     "outputs": []
    },
    {
     "cell_type": "code",
     "collapsed": false,
     "input": [
      "videonumber = 14\n",
      "\n",
      "resetNumDataExceptions()\n",
      "skipped_users = set()\n",
      "successful_users = set()\n",
      "partsPlayed = getPartsPlayedMoreThanOnce(videonumber, skipped_users=skipped_users, successful_users=successful_users)\n",
      "print getNumDataExceptions()\n",
      "print len(skipped_users)\n",
      "print len(successful_users)\n",
      "\n",
      "pylab.plot(partsPlayed)\n",
      "labelInVideoQuizzes(videonumber)\n",
      "#labelSlideStarts(videonumber)\n",
      "#labelSlideEnds(videonumber)"
     ],
     "language": "python",
     "metadata": {},
     "outputs": []
    },
    {
     "cell_type": "code",
     "collapsed": false,
     "input": [
      "resetNumDataExceptions()\n",
      "skipped_users = set()\n",
      "successful_users = set()\n",
      "partsSkippedBackOver = getPartsSkippedBackOver(14, skipped_users=skipped_users, successful_users=successful_users)\n",
      "print getNumDataExceptions()\n",
      "print len(skipped_users)\n",
      "print len(successful_users)\n"
     ],
     "language": "python",
     "metadata": {},
     "outputs": []
    },
    {
     "cell_type": "code",
     "collapsed": false,
     "input": [
      "pylab.plot(partsSkippedBackOver)\n",
      "labelInVideoQuizzes(68)\n",
      "labelSlideStarts(68)\n",
      "#labelSlideEnds(68)\n",
      "pylab.axvline(x=90, color=\"red\", linestyle=\"dotted\")\n",
      "pylab.axvline(x=656, color=\"purple\", linestyle=\"dotted\")"
     ],
     "language": "python",
     "metadata": {},
     "outputs": []
    },
    {
     "cell_type": "heading",
     "level": 2,
     "metadata": {},
     "source": [
      "Lecture 13 and others"
     ]
    },
    {
     "cell_type": "code",
     "collapsed": false,
     "input": [
      "videonumber = 13\n",
      "\n",
      "resetNumDataExceptions()\n",
      "skipped_users = set()\n",
      "successful_users = set()\n",
      "partsPlayed = getPartsPlayed(videonumber, skipped_users=skipped_users, successful_users=successful_users)\n",
      "print getNumDataExceptions()\n",
      "print len(skipped_users)\n",
      "print len(successful_users)\n",
      "\n",
      "pylab.plot(partsPlayed)\n",
      "labelInVideoQuizzes(videonumber)\n",
      "#labelSlideStarts(videonumber)\n",
      "#labelSlideEnds(videonumber)"
     ],
     "language": "python",
     "metadata": {},
     "outputs": []
    },
    {
     "cell_type": "code",
     "collapsed": false,
     "input": [
      "videonumber = 13\n",
      "\n",
      "resetNumDataExceptions()\n",
      "skipped_users = set()\n",
      "successful_users = set()\n",
      "partsPlayed = getPartsPlayedMoreThanOnce(videonumber, skipped_users=skipped_users, successful_users=successful_users)\n",
      "print getNumDataExceptions()\n",
      "print len(skipped_users)\n",
      "print len(successful_users)\n",
      "\n",
      "pylab.plot(partsPlayed)\n",
      "labelInVideoQuizzes(videonumber)\n",
      "#labelSlideStarts(videonumber)\n",
      "#labelSlideEnds(videonumber)"
     ],
     "language": "python",
     "metadata": {},
     "outputs": []
    },
    {
     "cell_type": "code",
     "collapsed": false,
     "input": [
      "videonumber = 15\n",
      "\n",
      "resetNumDataExceptions()\n",
      "skipped_users = set()\n",
      "successful_users = set()\n",
      "partsPlayed = getPartsPlayed(videonumber, skipped_users=skipped_users, successful_users=successful_users)\n",
      "print getNumDataExceptions()\n",
      "print len(skipped_users)\n",
      "print len(successful_users)\n",
      "\n",
      "pylab.plot(partsPlayed)\n",
      "labelInVideoQuizzes(videonumber)\n",
      "#labelSlideStarts(videonumber)\n",
      "#labelSlideEnds(videonumber)"
     ],
     "language": "python",
     "metadata": {},
     "outputs": []
    },
    {
     "cell_type": "code",
     "collapsed": false,
     "input": [
      "videonumber = 36\n",
      "\n",
      "resetNumDataExceptions()\n",
      "skipped_users = set()\n",
      "successful_users = set()\n",
      "partsPlayed = getPartsPlayed(videonumber, skipped_users=skipped_users, successful_users=successful_users)\n",
      "print getNumDataExceptions()\n",
      "print len(skipped_users)\n",
      "print len(successful_users)\n",
      "\n",
      "pylab.plot(partsPlayed)\n",
      "labelInVideoQuizzes(videonumber)\n",
      "#labelSlideStarts(videonumber)\n",
      "#labelSlideEnds(videonumber)"
     ],
     "language": "python",
     "metadata": {},
     "outputs": []
    }
   ],
   "metadata": {}
  }
 ]
}