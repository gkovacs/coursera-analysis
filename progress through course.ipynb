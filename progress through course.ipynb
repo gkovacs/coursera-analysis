{
 "metadata": {
  "name": ""
 },
 "nbformat": 3,
 "nbformat_minor": 0,
 "worksheets": [
  {
   "cells": [
    {
     "cell_type": "markdown",
     "metadata": {},
     "source": [
      "Interactions as a function of progress through the course"
     ]
    },
    {
     "cell_type": "code",
     "collapsed": false,
     "input": [
      "import MySQLdb\n",
      "from pandas import DataFrame\n",
      "from pandas.io.sql import read_frame\n",
      "\n",
      "import json\n",
      "\n",
      "datastage_login = json.load(open('datastage_login.json'))\n",
      "\n",
      "tablename = 'VideoInteraction'\n",
      "databasename = 'Edx'\n",
      "\n",
      "databases = {}\n",
      "\n",
      "def getTableName():\n",
      "  return tablename\n",
      "\n",
      "def getDatabaseName():\n",
      "  return databasename\n",
      "\n",
      "def getDatabase():\n",
      "  if databasename not in databases:\n",
      "    databases[databasename] = MySQLdb.connect(host='datastage.stanford.edu', user=datastage_login['user'], passwd=datastage_login['passwd'], db=databasename)\n",
      "  return databases[databasename]\n",
      "\n",
      "def listDistinct(fieldname, extraquery=''):\n",
      "  data = read_frame(\"select distinct \" + fieldname + \" from \" + getTableName() + \" \" + extraquery, getDatabase())\n",
      "  return [x[0] for x in data[[fieldname]].itertuples(index=False)]\n",
      "\n",
      "def listFields(fieldnames, extraquery=''):\n",
      "  fieldnameString = ','.join(fieldnames)\n",
      "  data = read_frame(\"select \" + fieldnameString + \" from \" + getTableName() + \" \" + extraquery, getDatabase())\n",
      "  return data.itertuples(index=False)\n",
      "\n",
      "\n"
     ],
     "language": "python",
     "metadata": {},
     "outputs": [],
     "prompt_number": 1
    },
    {
     "cell_type": "code",
     "collapsed": false,
     "input": [
      "%matplotlib inline\n",
      "import matplotlib.pyplot\n",
      "import numpy\n",
      "\n",
      "def binsum(inp):\n",
      "  output = []\n",
      "  for i in range(len(inp)):\n",
      "    curbin = inp[i-2:i+3]\n",
      "    val = sum(curbin)\n",
      "    output.append(val)\n",
      "  return output\n",
      "\n",
      "def barPlotWithStderr(means, stderrs=None, x_tick_labels=None, xlabel='', ylabel='', title='', addLabels=True):\n",
      "    if stderrs:\n",
      "        assert len(means) == len(stderrs)\n",
      "    if x_tick_labels:\n",
      "        assert len(means) == len(x_tick_labels)\n",
      "        x_tick_labels = [str(x) for x in x_tick_labels]\n",
      "    else:\n",
      "        x_tick_labels = [str(x) for x in range(len(means))]\n",
      "    N = len(means)\n",
      "    ind = numpy.arange(N) # the x locations for the groups\n",
      "    width = 0.35 # the width of the bars\n",
      "    fig, ax = matplotlib.pyplot.subplots()\n",
      "    if stderrs:\n",
      "        rects1 = ax.bar(ind, means, width, color='r', yerr=stderrs)\n",
      "    else:\n",
      "        rects1 = ax.bar(ind, means, width, color='r')\n",
      "    \n",
      "    if ylabel and not title:\n",
      "        title = ylabel\n",
      "    ax.set_title(title)\n",
      "    ax.set_ylabel(ylabel)\n",
      "    ax.set_xlabel(xlabel)\n",
      "    ax.set_xticks(ind+width)\n",
      "    ax.set_xticklabels( x_tick_labels )\n",
      "    \n",
      "    def autolabel(rects):\n",
      "        # attach some text labels\n",
      "        for rect in rects:\n",
      "            height = rect.get_height()\n",
      "            #ax.text('foobar', 1.05*height, '%d'%int(height), ha='center', va='bottom')\n",
      "            ax.text(rect.get_x()+rect.get_width()/2., 1.05*height, '%d'%int(height), ha='center', va='bottom')\n",
      "    if addLabels:\n",
      "      autolabel(rects1)\n",
      "\n",
      "def plotBarDictionary(datadict, xlabel='', ylabel='', title='', x_tick_label_map=None):\n",
      "    keys = datadict.keys()\n",
      "    keys.sort()\n",
      "    means = [datadict[k] for k in keys]\n",
      "    if not x_tick_label_map:\n",
      "      x_tick_labels = keys\n",
      "    else:\n",
      "      x_tick_labels = [x_tick_label_map[key] for key in keys]\n",
      "    barPlotWithStderr(means, x_tick_labels=x_tick_labels, xlabel=xlabel, ylabel=ylabel, title=title)"
     ],
     "language": "python",
     "metadata": {},
     "outputs": [],
     "prompt_number": 2
    },
    {
     "cell_type": "code",
     "collapsed": false,
     "input": [
      "#print read_frame(\"select distinct course_display_name from \" + getTableName() + \" limit 100\", getDatabase())\n",
      "print read_frame(\"select distinct course_display_name from \" + getTableName() + \" limit 10\", getDatabase())"
     ],
     "language": "python",
     "metadata": {},
     "outputs": [
      {
       "ename": "OperationalError",
       "evalue": "(2003, \"Can't connect to MySQL server on 'datastage.stanford.edu' (60)\")",
       "output_type": "pyerr",
       "traceback": [
        "\u001b[0;31m---------------------------------------------------------------------------\u001b[0m\n\u001b[0;31mOperationalError\u001b[0m                          Traceback (most recent call last)",
        "\u001b[0;32m<ipython-input-3-32338b242ccb>\u001b[0m in \u001b[0;36m<module>\u001b[0;34m()\u001b[0m\n\u001b[1;32m      1\u001b[0m \u001b[0;31m#print read_frame(\"select distinct course_display_name from \" + getTableName() + \" limit 100\", getDatabase())\u001b[0m\u001b[0;34m\u001b[0m\u001b[0;34m\u001b[0m\u001b[0m\n\u001b[0;32m----> 2\u001b[0;31m \u001b[0;32mprint\u001b[0m \u001b[0mread_frame\u001b[0m\u001b[0;34m(\u001b[0m\u001b[0;34m\"select distinct course_display_name from \"\u001b[0m \u001b[0;34m+\u001b[0m \u001b[0mgetTableName\u001b[0m\u001b[0;34m(\u001b[0m\u001b[0;34m)\u001b[0m \u001b[0;34m+\u001b[0m \u001b[0;34m\" limit 10\"\u001b[0m\u001b[0;34m,\u001b[0m \u001b[0mgetDatabase\u001b[0m\u001b[0;34m(\u001b[0m\u001b[0;34m)\u001b[0m\u001b[0;34m)\u001b[0m\u001b[0;34m\u001b[0m\u001b[0m\n\u001b[0m",
        "\u001b[0;32m<ipython-input-1-05a808c8dc13>\u001b[0m in \u001b[0;36mgetDatabase\u001b[0;34m()\u001b[0m\n\u001b[1;32m     20\u001b[0m \u001b[0;32mdef\u001b[0m \u001b[0mgetDatabase\u001b[0m\u001b[0;34m(\u001b[0m\u001b[0;34m)\u001b[0m\u001b[0;34m:\u001b[0m\u001b[0;34m\u001b[0m\u001b[0m\n\u001b[1;32m     21\u001b[0m   \u001b[0;32mif\u001b[0m \u001b[0mdatabasename\u001b[0m \u001b[0;32mnot\u001b[0m \u001b[0;32min\u001b[0m \u001b[0mdatabases\u001b[0m\u001b[0;34m:\u001b[0m\u001b[0;34m\u001b[0m\u001b[0m\n\u001b[0;32m---> 22\u001b[0;31m     \u001b[0mdatabases\u001b[0m\u001b[0;34m[\u001b[0m\u001b[0mdatabasename\u001b[0m\u001b[0;34m]\u001b[0m \u001b[0;34m=\u001b[0m \u001b[0mMySQLdb\u001b[0m\u001b[0;34m.\u001b[0m\u001b[0mconnect\u001b[0m\u001b[0;34m(\u001b[0m\u001b[0mhost\u001b[0m\u001b[0;34m=\u001b[0m\u001b[0;34m'datastage.stanford.edu'\u001b[0m\u001b[0;34m,\u001b[0m \u001b[0muser\u001b[0m\u001b[0;34m=\u001b[0m\u001b[0mdatastage_login\u001b[0m\u001b[0;34m[\u001b[0m\u001b[0;34m'user'\u001b[0m\u001b[0;34m]\u001b[0m\u001b[0;34m,\u001b[0m \u001b[0mpasswd\u001b[0m\u001b[0;34m=\u001b[0m\u001b[0mdatastage_login\u001b[0m\u001b[0;34m[\u001b[0m\u001b[0;34m'passwd'\u001b[0m\u001b[0;34m]\u001b[0m\u001b[0;34m,\u001b[0m \u001b[0mdb\u001b[0m\u001b[0;34m=\u001b[0m\u001b[0mdatabasename\u001b[0m\u001b[0;34m)\u001b[0m\u001b[0;34m\u001b[0m\u001b[0m\n\u001b[0m\u001b[1;32m     23\u001b[0m   \u001b[0;32mreturn\u001b[0m \u001b[0mdatabases\u001b[0m\u001b[0;34m[\u001b[0m\u001b[0mdatabasename\u001b[0m\u001b[0;34m]\u001b[0m\u001b[0;34m\u001b[0m\u001b[0m\n\u001b[1;32m     24\u001b[0m \u001b[0;34m\u001b[0m\u001b[0m\n",
        "\u001b[0;32m/usr/local/lib/python2.7/site-packages/MySQLdb/__init__.pyc\u001b[0m in \u001b[0;36mConnect\u001b[0;34m(*args, **kwargs)\u001b[0m\n\u001b[1;32m     79\u001b[0m     \u001b[0;34m\"\"\"Factory function for connections.Connection.\"\"\"\u001b[0m\u001b[0;34m\u001b[0m\u001b[0m\n\u001b[1;32m     80\u001b[0m     \u001b[0;32mfrom\u001b[0m \u001b[0mMySQLdb\u001b[0m\u001b[0;34m.\u001b[0m\u001b[0mconnections\u001b[0m \u001b[0;32mimport\u001b[0m \u001b[0mConnection\u001b[0m\u001b[0;34m\u001b[0m\u001b[0m\n\u001b[0;32m---> 81\u001b[0;31m     \u001b[0;32mreturn\u001b[0m \u001b[0mConnection\u001b[0m\u001b[0;34m(\u001b[0m\u001b[0;34m*\u001b[0m\u001b[0margs\u001b[0m\u001b[0;34m,\u001b[0m \u001b[0;34m**\u001b[0m\u001b[0mkwargs\u001b[0m\u001b[0;34m)\u001b[0m\u001b[0;34m\u001b[0m\u001b[0m\n\u001b[0m\u001b[1;32m     82\u001b[0m \u001b[0;34m\u001b[0m\u001b[0m\n\u001b[1;32m     83\u001b[0m \u001b[0mconnect\u001b[0m \u001b[0;34m=\u001b[0m \u001b[0mConnection\u001b[0m \u001b[0;34m=\u001b[0m \u001b[0mConnect\u001b[0m\u001b[0;34m\u001b[0m\u001b[0m\n",
        "\u001b[0;32m/usr/local/lib/python2.7/site-packages/MySQLdb/connections.pyc\u001b[0m in \u001b[0;36m__init__\u001b[0;34m(self, *args, **kwargs)\u001b[0m\n\u001b[1;32m    191\u001b[0m         \u001b[0mautocommit\u001b[0m \u001b[0;34m=\u001b[0m \u001b[0mkwargs2\u001b[0m\u001b[0;34m.\u001b[0m\u001b[0mpop\u001b[0m\u001b[0;34m(\u001b[0m\u001b[0;34m'autocommit'\u001b[0m\u001b[0;34m,\u001b[0m \u001b[0mFalse\u001b[0m\u001b[0;34m)\u001b[0m\u001b[0;34m\u001b[0m\u001b[0m\n\u001b[1;32m    192\u001b[0m \u001b[0;34m\u001b[0m\u001b[0m\n\u001b[0;32m--> 193\u001b[0;31m         \u001b[0msuper\u001b[0m\u001b[0;34m(\u001b[0m\u001b[0mConnection\u001b[0m\u001b[0;34m,\u001b[0m \u001b[0mself\u001b[0m\u001b[0;34m)\u001b[0m\u001b[0;34m.\u001b[0m\u001b[0m__init__\u001b[0m\u001b[0;34m(\u001b[0m\u001b[0;34m*\u001b[0m\u001b[0margs\u001b[0m\u001b[0;34m,\u001b[0m \u001b[0;34m**\u001b[0m\u001b[0mkwargs2\u001b[0m\u001b[0;34m)\u001b[0m\u001b[0;34m\u001b[0m\u001b[0m\n\u001b[0m\u001b[1;32m    194\u001b[0m         \u001b[0mself\u001b[0m\u001b[0;34m.\u001b[0m\u001b[0mcursorclass\u001b[0m \u001b[0;34m=\u001b[0m \u001b[0mcursorclass\u001b[0m\u001b[0;34m\u001b[0m\u001b[0m\n\u001b[1;32m    195\u001b[0m         self.encoders = dict([ (k, v) for k, v in conv.items()\n",
        "\u001b[0;31mOperationalError\u001b[0m: (2003, \"Can't connect to MySQL server on 'datastage.stanford.edu' (60)\")"
       ]
      }
     ],
     "prompt_number": 3
    }
   ],
   "metadata": {}
  }
 ]
}