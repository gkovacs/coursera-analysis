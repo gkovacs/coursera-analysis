{
 "metadata": {
  "name": "",
  "signature": "sha256:8c6b9f0b4299937d2d191799c3cb4a71ed0a98c4393ec7580c5930c01bfa075c"
 },
 "nbformat": 3,
 "nbformat_minor": 0,
 "worksheets": [
  {
   "cells": [
    {
     "cell_type": "code",
     "collapsed": false,
     "input": [
      "#import pymysql as db\n",
      "try:\n",
      "  import MySQLdb\n",
      "except:\n",
      "  import pymysql as MySQLdb\n",
      "import sqlite3\n",
      "from pandas import DataFrame\n",
      "from pandas.io.sql import read_sql\n",
      "import json\n",
      "#from pandas.io.pytables import HDFStore, read_hdf\n",
      "#import multiprocessing\n",
      "#pool = multiprocessing.Pool(100)\n",
      "#print pool.map(f, range(10))\n",
      "\n",
      "#tablename = 'course_grades'\n",
      "#tablename = 'videos'\n",
      "#databasename = 'coursera_eventing_12-002-ml'\n",
      "#databasename = 'coursera_eventing_pgm-003'\n",
      "#databasename = 'coursera_pgm-003_anonymized_general'\n",
      "\n",
      "datastage_login = json.load(open('datastage_login.json'))\n",
      "\n",
      "from memoized import memoized\n"
     ],
     "language": "python",
     "metadata": {},
     "outputs": [],
     "prompt_number": 3
    },
    {
     "cell_type": "code",
     "collapsed": false,
     "input": [
      "\n",
      "databases = {}\n",
      "\n",
      "#databasename = 'ml-004_clickstream_video.sqlite'\n",
      "#databasename = 'ml-004_clickstream_video.sqlite'\n",
      "databasename = 'crypto-009_clickstream_video.sqlite'\n",
      "tablename = 'videos'\n",
      "\n",
      "def listVideosReal(dbname):\n",
      "  output_set = set()\n",
      "  output = []\n",
      "  for lecture_id in listDistinct('lecture_id'):\n",
      "    if lecture_id not in output_set:\n",
      "      output_set.add(lecture_id)\n",
      "      output.append(lecture_id)\n",
      "  return sorted(output)\n",
      "\n",
      "@memoized\n",
      "def listVideosJsonMemoized(dbname):\n",
      "  jsonfile = dbname + '_videolist.pickle'\n",
      "  if not os.path.exists(jsonfile):\n",
      "    pickle.dump(listVideosReal(dbname), open(jsonfile, 'w'))\n",
      "  return pickle.load(open(jsonfile))\n",
      "\n",
      "def listVideos():\n",
      "  return listVideosJsonMemoized(getDatabaseName())\n",
      "\n",
      "def getTableName():\n",
      "  return tablename\n",
      "\n",
      "def getDatabaseName():\n",
      "  return databasename\n",
      "\n",
      "def getDatabasePath():\n",
      "  return '/lfs/local/0/geza/' + databasename\n",
      "\n",
      "def getDatabaseNameForLectureNum(lectureid):\n",
      "  return getDatabaseName().replace('.sqlite', '_lecture-' + str(lectureid) + '.sqlite')\n",
      "\n",
      "def getDatabasePathForLectureNum(lectureid):\n",
      "  return getDatabasePath().replace('.sqlite', '_lecture-' + str(lectureid) + '.sqlite')\n",
      "\n",
      "def getDatabaseNameForLectureNumAndUser(lectureid, userid):\n",
      "  return getDatabaseName().replace('.sqlite', '_lecture-' + str(lectureid) + '_user-' + str(userid) + '.sqlite')\n",
      "\n",
      "def getDatabasePathForLectureNumAndUser(lectureid, userid):\n",
      "  return getDatabasePath().replace('.sqlite', '_lecture-' + str(lectureid) + '_user-' + str(userid) + '.sqlite')\n",
      "\n",
      "def getColumns():\n",
      "  return list(read_sql(\"select * from \" + getTableName() + \" limit 1\", getDatabase()).columns.values)\n",
      "\n",
      "def getDatabase(dbname=databasename):\n",
      "  if dbname not in databases and 'sqlite' in dbname:\n",
      "    databases[dbname] = sqlite3.connect('/lfs/local/0/geza/' + dbname)\n",
      "  elif databasename not in databases:\n",
      "    MySQLdb.connect(host='datastage.stanford.edu', user=datastage_login['user'], passwd=datastage_login['passwd'], db=dbname)\n",
      "  return databases[dbname]\n",
      "\n",
      "def getDatabaseForLectureNum(lectureid):\n",
      "  if 'sqlite' not in databasename:\n",
      "    raise Exception('can only use getDatabaseForLectureNum feature on sqlite databases')\n",
      "  real_database_name = getDatabasePathForLectureNum(lectureid)\n",
      "  if real_database_name not in databases:\n",
      "    databases[real_database_name] = sqlite3.connect(real_database_name)\n",
      "  return databases[real_database_name]\n",
      "\n",
      "def getDatabaseForLectureNumAndUser(lectureid, userid):\n",
      "  if 'sqlite' not in databasename:\n",
      "    raise Exception('can only use getDatabaseForLectureNumAndUser feature on sqlite databases')\n",
      "  real_database_name = getDatabasePathForLectureNumAndUser(lectureid, userid)\n",
      "  if real_database_name not in databases:\n",
      "    databases[real_database_name] = sqlite3.connect(real_database_name)\n",
      "  return databases[real_database_name]\n",
      "\n",
      "def listDistinctForDatabase(fieldname, database_instance, extraquery=''):\n",
      "  data = read_sql(\"select distinct \" + fieldname + \" from \" + getTableName() + \" \" + extraquery, database_instance)\n",
      "  return [x[0] for x in data[[fieldname]].itertuples(index=False)]\n",
      "\n",
      "def listDistinct(fieldname, extraquery=''):\n",
      "  return listDistinctForDatabase(fieldname, getDatabase(), extraquery)\n",
      "\n",
      "def listDistinctForLecture(fieldname, lectureid, extraquery=''):\n",
      "  if not os.path.exists(getDatabasePathForLectureNum(lectureid)):\n",
      "    cacheLecture(lectureid)\n",
      "  return listDistinctForDatabase(fieldname, getDatabaseForLectureNum(lectureid), extraquery)\n",
      "\n",
      "def listFieldsForDatabase(fieldnames, database_instance, extraquery=''):\n",
      "  fieldnameString = ','.join(fieldnames)\n",
      "  data = read_sql(\"select \" + fieldnameString + \" from \" + getTableName() + \" \" + extraquery, database_instance)\n",
      "  return data.itertuples(index=False)\n",
      "\n",
      "def listFields(fieldnames, extraquery=''):\n",
      "  return listFieldsForDatabase(fieldnames, getDatabase(), extraquery)\n",
      "\n",
      "@memoized\n",
      "def getDataFrame(dbname, tbname):\n",
      "  return read_sql(\"select * from \" + getTableName(), getDatabase(dbname))\n",
      "\n",
      "def getDataFrame():\n",
      "  return getDataFrameReal(getDatabase(), getTableName())\n",
      "\n",
      "def cacheLecture(lectureid):\n",
      "  if os.path.exists(getDatabasePathForLectureNum(lectureid)):\n",
      "    return\n",
      "  print 'caching lecture:', lectureid\n",
      "  data = read_sql('select * from ' + getTableName() + ' where lecture_id=' + str(lectureid), getDatabase())\n",
      "  write_frame(data, getTableName(), getDatabaseForLectureNum(lectureid))\n",
      "\n",
      "def listFieldsForLecture(fieldnames, lectureid, extraquery=''):\n",
      "  if not os.path.exists(getDatabasePathForLectureNum(lectureid)):\n",
      "    cacheLecture(lectureid)\n",
      "  return listFieldsForDatabase(fieldnames, getDatabaseForLectureNum(lectureid), extraquery)\n",
      "\n",
      "@memoized\n",
      "def getFrameForLectureReal(dbname, lectureid):\n",
      "  if not os.path.exists(getDatabasePathForLectureNum(lectureid)):\n",
      "    cacheLecture(lectureid)\n",
      "  return read_sql('select * from ' + getTableName(), getDatabaseForLectureNum(lectureid))\n",
      "\n",
      "def getFrameForLecture(lectureid):\n",
      "  return getFrameForLectureReal(getDatabaseName(), lectureid)\n",
      "\n",
      "@memoized\n",
      "def getUserToEventsForLectureReal(dbname, lectureid):\n",
      "  lecture_frame = getFrameForLectureReal(dbname, lectureid)\n",
      "  return frameToDictByKey(lecture_frame, 'anon_username')\n",
      "\n",
      "def getFrameForLectureUser(lectureid, userid):\n",
      "  user_to_events = getUserToEventsForLectureReal(getDatabaseName(), lectureid)\n",
      "  if userid in user_to_events:\n",
      "    return user_to_events[userid]\n",
      "  else:\n",
      "    return None\n",
      "\n",
      "def frameToDictByKey(frame, key):\n",
      "  output = {}\n",
      "  for k,grouped_frame in frame.groupby(key):\n",
      "    output[k] = grouped_frame\n",
      "  return output\n",
      "\n",
      "#def cacheLectureUser(lectureid, userid):\n",
      "#  #if os.path.exists(getDatabasePathForLectureNumAndUser(lectureid, userid)):\n",
      "#  #  return\n",
      "#  print 'caching lecture and user id:', lectureid, userid\n",
      "#  #data = read_sql('select * from ' + getTableName() + ' where lecture_id=' + str(lectureid) + ' and anon_username=\"' + str(userid) + '\"', getDatabaseForLectureNum(lectureid))\n",
      "#  #frame = getFrameForLecture(lectureid)\n",
      "#  #data = frame[frame.anon_username == userid]\n",
      "#  data = getFrameForLectureAndUser(lectureid, userid)\n",
      "#  #write_frame(data, getTableName(), getDatabaseForLectureNumAndUser(lectureid, userid))\n"
     ],
     "language": "python",
     "metadata": {},
     "outputs": [],
     "prompt_number": 4
    },
    {
     "cell_type": "code",
     "collapsed": false,
     "input": [
      "%matplotlib inline\n",
      "import matplotlib.pyplot\n",
      "import matplotlib.pylab as pylab\n",
      "import numpy\n",
      "\n",
      "def binsum(inp):\n",
      "  output = []\n",
      "  for i in range(len(inp)):\n",
      "    curbin = inp[i-2:i+3]\n",
      "    val = sum(curbin)\n",
      "    output.append(val)\n",
      "  return output\n",
      "\n",
      "def barPlotWithStderr(means, stderrs=None, x_tick_labels=None, xlabel='', ylabel='', title='', addLabels=True):\n",
      "    if stderrs:\n",
      "        assert len(means) == len(stderrs)\n",
      "    if x_tick_labels:\n",
      "        assert len(means) == len(x_tick_labels)\n",
      "        x_tick_labels = [str(x) for x in x_tick_labels]\n",
      "    else:\n",
      "        x_tick_labels = [str(x) for x in range(len(means))]\n",
      "    N = len(means)\n",
      "    ind = numpy.arange(N) # the x locations for the groups\n",
      "    width = 0.35 # the width of the bars\n",
      "    fig, ax = matplotlib.pyplot.subplots()\n",
      "    if stderrs:\n",
      "        rects1 = ax.bar(ind, means, width, color='r', yerr=stderrs)\n",
      "    else:\n",
      "        rects1 = ax.bar(ind, means, width, color='r')\n",
      "    \n",
      "    if ylabel and not title:\n",
      "        title = ylabel\n",
      "    ax.set_title(title)\n",
      "    ax.set_ylabel(ylabel)\n",
      "    ax.set_xlabel(xlabel)\n",
      "    ax.set_xticks(ind+width)\n",
      "    ax.set_xticklabels( x_tick_labels )\n",
      "    \n",
      "    def autolabel(rects):\n",
      "        # attach some text labels\n",
      "        for rect in rects:\n",
      "            height = rect.get_height()\n",
      "            #ax.text('foobar', 1.05*height, '%d'%int(height), ha='center', va='bottom')\n",
      "            ax.text(rect.get_x()+rect.get_width()/2., 1.05*height, '%d'%int(height), ha='center', va='bottom')\n",
      "    if addLabels:\n",
      "      autolabel(rects1)\n",
      "\n",
      "def plotBarDictionary(datadict, xlabel='', ylabel='', title='', x_tick_label_map=None):\n",
      "    keys = datadict.keys()\n",
      "    keys.sort()\n",
      "    means = [datadict[k] for k in keys]\n",
      "    if not x_tick_label_map:\n",
      "      x_tick_labels = keys\n",
      "    else:\n",
      "      x_tick_labels = [x_tick_label_map[key] for key in keys]\n",
      "    barPlotWithStderr(means, x_tick_labels=x_tick_labels, xlabel=xlabel, ylabel=ylabel, title=title)"
     ],
     "language": "python",
     "metadata": {},
     "outputs": [],
     "prompt_number": 5
    },
    {
     "cell_type": "code",
     "collapsed": false,
     "input": [
      "#frame = getDataFrame()"
     ],
     "language": "python",
     "metadata": {},
     "outputs": [],
     "prompt_number": 6
    },
    {
     "cell_type": "code",
     "collapsed": false,
     "input": [
      "#print frame"
     ],
     "language": "python",
     "metadata": {},
     "outputs": [],
     "prompt_number": 7
    },
    {
     "cell_type": "code",
     "collapsed": false,
     "input": [
      "lecture_end_times = {}\n",
      "lecture_pause_to_counts = {}\n",
      "\n",
      "for event_type,curr_time,lecture_id in listFields(['event_type', 'curr_time', 'lecture_id'], 'where event_type=\"pause\"'):\n",
      "  if curr_time > 3600: # there are no lectures more than an hour long, if have such a result is bugggy data\n",
      "    continue\n",
      "  if lecture_id not in lecture_end_times:\n",
      "    lecture_end_times[lecture_id] = curr_time\n",
      "    lecture_pause_to_counts[lecture_id] = {curr_time: 1}\n",
      "  else:\n",
      "    if curr_time not in lecture_pause_to_counts[lecture_id]:\n",
      "      lecture_pause_to_counts[lecture_id][curr_time] = 0\n",
      "    lecture_pause_to_counts[lecture_id][curr_time] += 1\n",
      "    if (lecture_pause_to_counts[lecture_id][curr_time] >= 10):\n",
      "      lecture_end_times[lecture_id] = max(curr_time, lecture_end_times[lecture_id])"
     ],
     "language": "python",
     "metadata": {},
     "outputs": [],
     "prompt_number": 8
    },
    {
     "cell_type": "code",
     "collapsed": false,
     "input": [
      "def fix_lecture_end_times(ref_times):\n",
      "  for k,v in ref_times.iteritems():\n",
      "    if k in lecture_end_times:\n",
      "      lecture_end_times[k] = v\n",
      "\n",
      "import video_annotations\n",
      "\n",
      "fix_lecture_end_times(video_annotations.video_lengths_crypto_009)\n"
     ],
     "language": "python",
     "metadata": {},
     "outputs": [],
     "prompt_number": 9
    },
    {
     "cell_type": "code",
     "collapsed": false,
     "input": [
      "import plotly.plotly as py\n",
      "from plotly.graph_objs import *\n",
      "\n",
      "def iplot(data, layout=None):\n",
      "  if not layout:\n",
      "    py.iplot(Figure(data=data))\n",
      "  else:\n",
      "    py.iplot(Figure(data=data, layout=layout))\n",
      "\n",
      "def scatter(x, y):\n",
      "  return Data([Scatter(x=x, y=y)])\n",
      "\n",
      "def scatterdict(d):\n",
      "  return scatter(d.keys(), d.values())\n",
      "\n",
      "def scatterlist(l):\n",
      "  return scatter(range(len(l)), l)\n",
      "\n",
      "def mklayout(title, x, y):\n",
      "  if title and x and y:\n",
      "    return Layout(title=title, xaxis=XAxis(title=x), yaxis=YAxis(title=y))\n",
      "  if title and x:\n",
      "    return Layout(title=title, xaxis=XAxis(title=x))\n",
      "  if title and y:\n",
      "    return Layout(title=title, yaxis=YAxis(title=y))\n",
      "  if x and y:\n",
      "    return Layout(xaxis=XAxis(title=x), yaxis=YAxis(title=y))\n",
      "  if title:\n",
      "    return Layout(title=title)\n",
      "  if x:\n",
      "    return Layout(xaxis=XAxis(title=x))\n",
      "  if y:\n",
      "    return Layout(yaxis=YAxis(title=y))\n",
      "  return Layout()\n",
      "\n",
      "fig_data = []\n",
      "fig_labels = []\n",
      "fig_xlabel = None\n",
      "fig_ylabel = None\n",
      "fig_title = None\n",
      "\n",
      "#def newfig():\n",
      "#  global fig_data\n",
      "#  global fig_labels\n",
      "#  fig_data = []\n",
      "#  fig_labels = []\n",
      "\n",
      "def addxlabel(label):\n",
      "  global fig_xlabel\n",
      "  fig_xlabel = label\n",
      "\n",
      "def addylabel(label):\n",
      "  global fig_ylabel\n",
      "  fig_ylabel = label\n",
      "\n",
      "def addtitle(label):\n",
      "  global fig_title\n",
      "  fig_title = label\n",
      "\n",
      "def addtrace(datl, label=None):\n",
      "  fig_data.append(datl)\n",
      "  if label:\n",
      "    fig_labels.append(label)\n",
      "  else:\n",
      "    fig_labels.append('trace ' + str(len(fig_labels)))\n",
      "\n",
      "def plotfig():\n",
      "  global fig_data\n",
      "  global fig_labels\n",
      "  global fig_xlabel\n",
      "  global fig_ylabel\n",
      "  global fig_title\n",
      "  figd = Data([Scatter(x=range(len(datl)), y=datl, name=labl) for datl,labl in zip(fig_data, fig_labels)])\n",
      "  figl = mklayout(fig_title, fig_xlabel, fig_ylabel)\n",
      "  fig_data = []\n",
      "  fig_labels = []\n",
      "  fig_xlabel = None\n",
      "  fig_ylabel = None\n",
      "  fig_title = None\n",
      "  py.iplot(Figure(data=figd, layout=figl))\n",
      "  \n",
      "curfigure = None\n",
      "\n",
      "def newfig_mpl():\n",
      "  global curfigure\n",
      "  curfigure = pylab.figure()\n",
      "\n",
      "def plotfig_mpl():\n",
      "  py.iplot_mpl(curfigure)\n"
     ],
     "language": "python",
     "metadata": {},
     "outputs": [],
     "prompt_number": 10
    },
    {
     "cell_type": "code",
     "collapsed": false,
     "input": [
      "data = scatterdict(lecture_end_times)\n",
      "layout = mklayout('lecture end times', 'lecture index', 'lecture duration in seconds')\n",
      "iplot(data, layout)"
     ],
     "language": "python",
     "metadata": {},
     "outputs": [
      {
       "html": [
        "<iframe id=\"igraph\" scrolling=\"no\" style=\"border:none;\"seamless=\"seamless\" src=\"https://plot.ly/~geza/335\" height=\"525\" width=\"100%\"></iframe>"
       ],
       "metadata": {},
       "output_type": "display_data",
       "text": [
        "<IPython.core.display.HTML at 0x25b8e10>"
       ]
      }
     ],
     "prompt_number": 11
    },
    {
     "cell_type": "code",
     "collapsed": false,
     "input": [
      "print lecture_end_times"
     ],
     "language": "python",
     "metadata": {},
     "outputs": [
      {
       "output_type": "stream",
       "stream": "stdout",
       "text": [
        "{1: 634, 2: 951, 3: 1129, 4: 1113, 5: 1187, 6: 1394, 7: 1178, 8: 1494, 9: 931, 10: 654, 12: 1004, 13: 1319, 14: 1181, 15: 963, 16: 813, 17: 704, 18: 690, 19: 433, 20: 973, 21: 559, 22: 915, 23: 598, 24: 1181, 25: 519, 26: 926, 27: 653, 28: 877, 29: 694, 30: 488, 31: 424, 32: 508, 33: 773, 34: 313, 35: 725, 36: 1217, 37: 1059, 38: 846, 39: 1370, 40: 589, 41: 815, 42: 873, 43: 1228, 44: 865, 45: 733, 46: 671, 47: 678, 48: 1140, 49: 656, 50: 855, 51: 1084, 52: 1028, 53: 754, 54: 1119, 55: 939, 56: 624, 57: 1054, 58: 1267, 59: 995, 60: 835, 61: 1169, 62: 791, 63: 620, 64: 704, 65: 319, 66: 829, 67: 1087}\n"
       ]
      }
     ],
     "prompt_number": 12
    },
    {
     "cell_type": "code",
     "collapsed": false,
     "input": [
      "numLectures = 0\n",
      "for lecture_id, in listFields(['max(lecture_id)']):\n",
      "  numLectures = lecture_id + 1\n",
      "print numLectures"
     ],
     "language": "python",
     "metadata": {},
     "outputs": [
      {
       "output_type": "stream",
       "stream": "stdout",
       "text": [
        "68\n"
       ]
      }
     ],
     "prompt_number": 13
    },
    {
     "cell_type": "code",
     "collapsed": false,
     "input": [
      "for anon_username,event_type,curr_time,lecture_id in listFields(['anon_username', 'event_type', 'curr_time', 'lecture_id'], 'where event_type=\"play\" limit 10'):\n",
      "  print curr_time, curr_time == 0"
     ],
     "language": "python",
     "metadata": {},
     "outputs": [
      {
       "output_type": "stream",
       "stream": "stdout",
       "text": [
        "894.678939 False\n",
        "897.613279 False\n",
        "786.614794 False\n",
        "629.284991 False\n",
        "3.133335 False\n",
        "676.177129 False\n",
        "0.0 True\n",
        "0.0 True\n",
        "0.0 True\n",
        "19.067167 False\n"
       ]
      }
     ],
     "prompt_number": 14
    },
    {
     "cell_type": "code",
     "collapsed": false,
     "input": [
      "lecture_to_user_to_start_timestamps = [{} for i in range(numLectures)]\n",
      "lecture_to_user_to_finish_timestamps = [{} for i in range(numLectures)]\n",
      "lecture_to_user_to_seek_timestamps = [{} for i in range(numLectures)]\n",
      "\n",
      "lecture_to_user_to_seek_times = [{} for i in range(numLectures)]\n",
      "\n",
      "for anon_username,event_type,curr_time,lecture_id,event_timestamp in listFields(['anon_username', 'event_type', 'curr_time', 'lecture_id', 'event_timestamp'], 'where event_type=\"play\"'):\n",
      "  if abs(curr_time - 0) > 3:\n",
      "    continue\n",
      "  if anon_username not in lecture_to_user_to_start_timestamps[lecture_id]:\n",
      "    lecture_to_user_to_start_timestamps[lecture_id][anon_username] = []\n",
      "  lecture_to_user_to_start_timestamps[lecture_id][anon_username].append(event_timestamp)\n",
      "\n",
      "for anon_username,event_type,curr_time,lecture_id,event_timestamp in listFields(['anon_username', 'event_type', 'curr_time', 'lecture_id', 'event_timestamp'], 'where event_type=\"pause\"'):\n",
      "  #if curr_time != lecture_end_times[lecture_id]:\n",
      "  if abs(curr_time - lecture_end_times[lecture_id]) > 3:\n",
      "    continue\n",
      "  if anon_username not in lecture_to_user_to_finish_timestamps[lecture_id]:\n",
      "    lecture_to_user_to_finish_timestamps[lecture_id][anon_username] = []\n",
      "  lecture_to_user_to_finish_timestamps[lecture_id][anon_username].append(event_timestamp)\n",
      "\n",
      "for anon_username,event_type,curr_time,lecture_id,event_timestamp in listFields(['anon_username', 'event_type', 'curr_time', 'lecture_id', 'event_timestamp'], 'where event_type=\"seeked\" and curr_time<>0'):\n",
      "  if curr_time == lecture_end_times[lecture_id]:\n",
      "    continue\n",
      "  if anon_username not in lecture_to_user_to_seek_timestamps[lecture_id]:\n",
      "    lecture_to_user_to_seek_timestamps[lecture_id][anon_username] = []\n",
      "    lecture_to_user_to_seek_times[lecture_id][anon_username] = []\n",
      "  lecture_to_user_to_seek_timestamps[lecture_id][anon_username].append(event_timestamp)\n",
      "  lecture_to_user_to_seek_times[lecture_id][anon_username].append(curr_time)\n"
     ],
     "language": "python",
     "metadata": {},
     "outputs": [],
     "prompt_number": 15
    },
    {
     "cell_type": "code",
     "collapsed": false,
     "input": [
      "lecture_to_num_users_finished_without_starting = [0 for i in range(numLectures)]\n",
      "\n",
      "#for user_to_finish_timestamps,user_to_start_timestamps in zip(lecture_to_user_to_finish_timestamps, lecture_to_user_to_start_timestamps):\n",
      "for lecture_num in range(numLectures):\n",
      "  user_to_finish_timestamps = lecture_to_user_to_finish_timestamps[lecture_num]\n",
      "  user_to_start_timestamps = lecture_to_user_to_start_timestamps[lecture_num]\n",
      "  for userid,finish_timestamps in user_to_finish_timestamps.iteritems():\n",
      "    if userid not in user_to_start_timestamps:\n",
      "      if lecture_num == 114:\n",
      "        print userid\n",
      "      lecture_to_num_users_finished_without_starting[lecture_num] += 1\n",
      "\n",
      "\n",
      "data = scatterlist(lecture_to_num_users_finished_without_starting)\n",
      "iplot(data)\n",
      "#layout = mklayout('view start events over time', 'lecture num', 'number of view start events')\n",
      "#iplot(data, layout)\n"
     ],
     "language": "python",
     "metadata": {},
     "outputs": [
      {
       "html": [
        "<iframe id=\"igraph\" scrolling=\"no\" style=\"border:none;\"seamless=\"seamless\" src=\"https://plot.ly/~geza/336\" height=\"525\" width=\"100%\"></iframe>"
       ],
       "metadata": {},
       "output_type": "display_data",
       "text": [
        "<IPython.core.display.HTML at 0x25b88d0>"
       ]
      }
     ],
     "prompt_number": 16
    },
    {
     "cell_type": "code",
     "collapsed": false,
     "input": [
      "for tup in listFields(['anon_username', 'event_type', 'curr_time', 'lecture_id', 'event_timestamp'], 'where anon_username=\"2466e09c4681bc4a744502d81838596a2d81c12b\"'):\n",
      "  print tup\n"
     ],
     "language": "python",
     "metadata": {},
     "outputs": [],
     "prompt_number": 17
    },
    {
     "cell_type": "code",
     "collapsed": false,
     "input": [
      "lecture_to_num_start = []\n",
      "lecture_to_num_finish = []\n",
      "lecture_to_num_seek = []\n",
      "\n",
      "for v in lecture_to_user_to_start_timestamps:\n",
      "  lecture_to_num_start.append(sum([len(x) for x in v.values()]))\n",
      "\n",
      "for v in lecture_to_user_to_finish_timestamps:\n",
      "  lecture_to_num_finish.append(sum([len(x) for x in v.values()]))\n",
      "\n",
      "for v in lecture_to_user_to_seek_timestamps:\n",
      "  lecture_to_num_seek.append(sum([len(x) for x in v.values()]))"
     ],
     "language": "python",
     "metadata": {},
     "outputs": [],
     "prompt_number": 18
    },
    {
     "cell_type": "code",
     "collapsed": false,
     "input": [
      "data = scatterlist(lecture_to_num_start)\n",
      "layout = mklayout('view start events over time', 'lecture num', 'number of view start events')\n",
      "iplot(data, layout)\n"
     ],
     "language": "python",
     "metadata": {},
     "outputs": [
      {
       "html": [
        "<iframe id=\"igraph\" scrolling=\"no\" style=\"border:none;\"seamless=\"seamless\" src=\"https://plot.ly/~geza/337\" height=\"525\" width=\"100%\"></iframe>"
       ],
       "metadata": {},
       "output_type": "display_data",
       "text": [
        "<IPython.core.display.HTML at 0x2c15f90>"
       ]
      }
     ],
     "prompt_number": 19
    },
    {
     "cell_type": "code",
     "collapsed": false,
     "input": [
      "data = scatterlist(lecture_to_num_finish)\n",
      "layout = mklayout('view finish events over time', 'lecture num', 'number of view finish events')\n",
      "iplot(data, layout)\n"
     ],
     "language": "python",
     "metadata": {},
     "outputs": [
      {
       "html": [
        "<iframe id=\"igraph\" scrolling=\"no\" style=\"border:none;\"seamless=\"seamless\" src=\"https://plot.ly/~geza/338\" height=\"525\" width=\"100%\"></iframe>"
       ],
       "metadata": {},
       "output_type": "display_data",
       "text": [
        "<IPython.core.display.HTML at 0x2c43450>"
       ]
      }
     ],
     "prompt_number": 20
    },
    {
     "cell_type": "code",
     "collapsed": false,
     "input": [
      "data = scatterlist(lecture_to_num_seek)\n",
      "layout = mklayout('seek events over time', 'lecture num', 'number of seek events')\n",
      "iplot(data, layout)\n"
     ],
     "language": "python",
     "metadata": {},
     "outputs": [
      {
       "html": [
        "<iframe id=\"igraph\" scrolling=\"no\" style=\"border:none;\"seamless=\"seamless\" src=\"https://plot.ly/~geza/339\" height=\"525\" width=\"100%\"></iframe>"
       ],
       "metadata": {},
       "output_type": "display_data",
       "text": [
        "<IPython.core.display.HTML at 0x2c431d0>"
       ]
      }
     ],
     "prompt_number": 21
    },
    {
     "cell_type": "code",
     "collapsed": false,
     "input": [
      "lecture_to_finish_ratio = []\n",
      "\n",
      "for numstart,numfinish in zip(lecture_to_num_start, lecture_to_num_finish):\n",
      "  if numstart == 0:\n",
      "    lecture_to_finish_ratio.append(0)\n",
      "  else:\n",
      "    lecture_to_finish_ratio.append(float(numfinish)/numstart)\n",
      "\n",
      "data = scatterlist(lecture_to_finish_ratio)\n",
      "layout = mklayout('lecture finish fraction over time', 'lecture num', 'fraction of students who finish viewing lecture')\n",
      "iplot(data, layout)\n"
     ],
     "language": "python",
     "metadata": {},
     "outputs": [
      {
       "html": [
        "<iframe id=\"igraph\" scrolling=\"no\" style=\"border:none;\"seamless=\"seamless\" src=\"https://plot.ly/~geza/340\" height=\"525\" width=\"100%\"></iframe>"
       ],
       "metadata": {},
       "output_type": "display_data",
       "text": [
        "<IPython.core.display.HTML at 0x2c43350>"
       ]
      }
     ],
     "prompt_number": 22
    },
    {
     "cell_type": "code",
     "collapsed": false,
     "input": [
      "lecture_to_seek_ratio = []\n",
      "\n",
      "for numstart,numseek in zip(lecture_to_num_start, lecture_to_num_seek):\n",
      "  if numstart == 0:\n",
      "    lecture_to_seek_ratio.append(0)\n",
      "  else:\n",
      "    lecture_to_seek_ratio.append(float(numseek)/numstart)\n",
      "\n",
      "data = scatterlist(lecture_to_seek_ratio)\n",
      "layout = mklayout('ratio of seek events to video starts over time', 'lecture num', 'ratio of seek events to number of video starts')\n",
      "iplot(data, layout)\n"
     ],
     "language": "python",
     "metadata": {},
     "outputs": [
      {
       "html": [
        "<iframe id=\"igraph\" scrolling=\"no\" style=\"border:none;\"seamless=\"seamless\" src=\"https://plot.ly/~geza/341\" height=\"525\" width=\"100%\"></iframe>"
       ],
       "metadata": {},
       "output_type": "display_data",
       "text": [
        "<IPython.core.display.HTML at 0x2c43290>"
       ]
      }
     ],
     "prompt_number": 23
    },
    {
     "cell_type": "code",
     "collapsed": false,
     "input": [
      "lecture_to_num_users_with_at_least_one_start = []\n",
      "lecture_to_num_users_with_at_least_one_finish = []\n",
      "lecture_to_num_users_with_at_least_one_seek = []\n",
      "\n",
      "def nonzero(l):\n",
      "  if len(l) > 0:\n",
      "    return 1\n",
      "  return 0\n",
      "\n",
      "for v in lecture_to_user_to_start_timestamps:\n",
      "  lecture_to_num_users_with_at_least_one_start.append(sum([nonzero(x) for x in v.values()]))\n",
      "\n",
      "for v in lecture_to_user_to_finish_timestamps:\n",
      "  lecture_to_num_users_with_at_least_one_finish.append(sum([nonzero(x) for x in v.values()]))\n",
      "\n",
      "for v in lecture_to_user_to_seek_timestamps:\n",
      "  lecture_to_num_users_with_at_least_one_seek.append(sum([nonzero(x) for x in v.values()]))"
     ],
     "language": "python",
     "metadata": {},
     "outputs": [],
     "prompt_number": 24
    },
    {
     "cell_type": "code",
     "collapsed": false,
     "input": [
      "data = scatterlist(lecture_to_num_users_with_at_least_one_start)\n",
      "layout = mklayout('number of users who started watching lecture over time', 'lecture num', 'number of users who started watching lecture')\n",
      "iplot(data, layout)\n"
     ],
     "language": "python",
     "metadata": {},
     "outputs": [
      {
       "html": [
        "<iframe id=\"igraph\" scrolling=\"no\" style=\"border:none;\"seamless=\"seamless\" src=\"https://plot.ly/~geza/342\" height=\"525\" width=\"100%\"></iframe>"
       ],
       "metadata": {},
       "output_type": "display_data",
       "text": [
        "<IPython.core.display.HTML at 0x2c43490>"
       ]
      }
     ],
     "prompt_number": 25
    },
    {
     "cell_type": "code",
     "collapsed": false,
     "input": [
      "data = scatterlist(lecture_to_num_users_with_at_least_one_finish)\n",
      "layout = mklayout('number of users who finished watching lecture over time', 'lecture num', 'number of users who finished watching lecture')\n",
      "iplot(data, layout)\n"
     ],
     "language": "python",
     "metadata": {},
     "outputs": [
      {
       "html": [
        "<iframe id=\"igraph\" scrolling=\"no\" style=\"border:none;\"seamless=\"seamless\" src=\"https://plot.ly/~geza/343\" height=\"525\" width=\"100%\"></iframe>"
       ],
       "metadata": {},
       "output_type": "display_data",
       "text": [
        "<IPython.core.display.HTML at 0x31ddf50>"
       ]
      }
     ],
     "prompt_number": 26
    },
    {
     "cell_type": "code",
     "collapsed": false,
     "input": [
      "data = scatterlist(lecture_to_num_users_with_at_least_one_seek)\n",
      "layout = mklayout('number of users who seeked at least once in lecture over time', 'lecture num', 'number of users who seeked at least once in lecture')\n",
      "iplot(data, layout)\n"
     ],
     "language": "python",
     "metadata": {},
     "outputs": [
      {
       "html": [
        "<iframe id=\"igraph\" scrolling=\"no\" style=\"border:none;\"seamless=\"seamless\" src=\"https://plot.ly/~geza/344\" height=\"525\" width=\"100%\"></iframe>"
       ],
       "metadata": {},
       "output_type": "display_data",
       "text": [
        "<IPython.core.display.HTML at 0x326ad50>"
       ]
      }
     ],
     "prompt_number": 27
    },
    {
     "cell_type": "code",
     "collapsed": false,
     "input": [
      "lecture_to_users_who_seeked_ratio = []\n",
      "\n",
      "for numstart,numseek in zip(lecture_to_num_users_with_at_least_one_start, lecture_to_num_users_with_at_least_one_seek):\n",
      "  if numstart == 0:\n",
      "    lecture_to_users_who_seeked_ratio.append(0)\n",
      "  else:\n",
      "    lecture_to_users_who_seeked_ratio.append(float(numseek)/numstart)\n",
      "\n",
      "data = scatterlist(lecture_to_users_who_seeked_ratio)\n",
      "layout = mklayout('fraction of users who seeked at least once during the lecture, over time', 'lecture num', 'fraction of users who seeked at least once during the lecture')\n",
      "iplot(data, layout)\n"
     ],
     "language": "python",
     "metadata": {},
     "outputs": [
      {
       "html": [
        "<iframe id=\"igraph\" scrolling=\"no\" style=\"border:none;\"seamless=\"seamless\" src=\"https://plot.ly/~geza/345\" height=\"525\" width=\"100%\"></iframe>"
       ],
       "metadata": {},
       "output_type": "display_data",
       "text": [
        "<IPython.core.display.HTML at 0x31ddf10>"
       ]
      }
     ],
     "prompt_number": 28
    },
    {
     "cell_type": "code",
     "collapsed": false,
     "input": [
      "lecture_to_users_who_finished_ratio = []\n",
      "\n",
      "for numstart,numseek in zip(lecture_to_num_users_with_at_least_one_start, lecture_to_num_users_with_at_least_one_finish):\n",
      "  if numstart == 0:\n",
      "    lecture_to_users_who_finished_ratio.append(0)\n",
      "  else:\n",
      "    lecture_to_users_who_finished_ratio.append(float(numseek)/numstart)\n",
      "\n",
      "data = scatterlist(lecture_to_users_who_seeked_ratio)\n",
      "layout = mklayout('fraction of users who finished watching the lecture, over time', 'lecture num', 'fraction of users who finished watching the lecture')\n",
      "iplot(data, layout)\n"
     ],
     "language": "python",
     "metadata": {},
     "outputs": [
      {
       "html": [
        "<iframe id=\"igraph\" scrolling=\"no\" style=\"border:none;\"seamless=\"seamless\" src=\"https://plot.ly/~geza/346\" height=\"525\" width=\"100%\"></iframe>"
       ],
       "metadata": {},
       "output_type": "display_data",
       "text": [
        "<IPython.core.display.HTML at 0x2c43310>"
       ]
      }
     ],
     "prompt_number": 29
    },
    {
     "cell_type": "code",
     "collapsed": false,
     "input": [
      "num_seeks_to_users_single_lecture = [0]*51\n",
      "\n",
      "for user,seek_times in lecture_to_user_to_seek_timestamps[30].iteritems():\n",
      "  numseeks = len(seek_times)\n",
      "  if numseeks >= len(num_seeks_to_users_single_lecture):\n",
      "    num_seeks_to_users_single_lecture[len(num_seeks_to_users_single_lecture)-1] += 1\n",
      "  else:\n",
      "    num_seeks_to_users_single_lecture[numseeks] += 1\n",
      "\n",
      "data = scatterlist(num_seeks_to_users_single_lecture)\n",
      "layout = mklayout('histogram of users and seek times (in lecture 30)', 'number of times video seeked (in lecture 30)', 'number of users who seeked video this many times (in lecture 30)')\n",
      "iplot(data, layout)\n"
     ],
     "language": "python",
     "metadata": {},
     "outputs": [
      {
       "html": [
        "<iframe id=\"igraph\" scrolling=\"no\" style=\"border:none;\"seamless=\"seamless\" src=\"https://plot.ly/~geza/347\" height=\"525\" width=\"100%\"></iframe>"
       ],
       "metadata": {},
       "output_type": "display_data",
       "text": [
        "<IPython.core.display.HTML at 0x25b8650>"
       ]
      }
     ],
     "prompt_number": 30
    },
    {
     "cell_type": "code",
     "collapsed": false,
     "input": [
      "timepoint_to_num_seeks = []\n",
      "\n",
      "for user,seek_times in lecture_to_user_to_seek_times[30].iteritems():\n",
      "  for seek_time in seek_times:\n",
      "    while seek_time >= len(timepoint_to_num_seeks) - 1:\n",
      "      timepoint_to_num_seeks.append(0)\n",
      "    timepoint_to_num_seeks[int(round(seek_time))] += 1\n",
      "\n",
      "data = scatterlist(timepoint_to_num_seeks)\n",
      "layout = mklayout('distribution of seeks over time (in lecture 30)', 'time in video (in lecture 30)', 'number of seeks that go to this destination')\n",
      "iplot(data, layout)\n"
     ],
     "language": "python",
     "metadata": {},
     "outputs": [
      {
       "html": [
        "<iframe id=\"igraph\" scrolling=\"no\" style=\"border:none;\"seamless=\"seamless\" src=\"https://plot.ly/~geza/348\" height=\"525\" width=\"100%\"></iframe>"
       ],
       "metadata": {},
       "output_type": "display_data",
       "text": [
        "<IPython.core.display.HTML at 0x25b8910>"
       ]
      }
     ],
     "prompt_number": 31
    },
    {
     "cell_type": "code",
     "collapsed": false,
     "input": [
      "num_seeks_to_users_all_lectures = [0]*101\n",
      "\n",
      "for lecture in lecture_to_user_to_seek_timestamps:\n",
      "  for user,seek_times in lecture.iteritems():\n",
      "    numseeks = len(seek_times)\n",
      "    if numseeks >= len(num_seeks_to_users_all_lectures):\n",
      "      num_seeks_to_users_all_lectures[len(num_seeks_to_users_all_lectures)-1] += 1\n",
      "    else:\n",
      "      num_seeks_to_users_all_lectures[numseeks] += 1\n",
      "\n",
      "data = scatterlist(num_seeks_to_users_all_lectures)\n",
      "layout = mklayout('histogram of users and num seeks (over all lectures)', 'number of times video seeked (over all lectures)', 'number of users who seeked video this many times (over all lectures)')\n",
      "iplot(data, layout)\n",
      "\n",
      "# log-log version\n",
      "#data = scatterlistloglog(num_seeks_to_users_all_lectures)\n",
      "#layout = mklayout('histogram of users and num seeks (over all lectures)', 'number of times video seeked (over all lectures)', 'number of users who seeked video this many times (over all lectures)')\n",
      "#iplot(data, layout)\n"
     ],
     "language": "python",
     "metadata": {},
     "outputs": [
      {
       "html": [
        "<iframe id=\"igraph\" scrolling=\"no\" style=\"border:none;\"seamless=\"seamless\" src=\"https://plot.ly/~geza/349\" height=\"525\" width=\"100%\"></iframe>"
       ],
       "metadata": {},
       "output_type": "display_data",
       "text": [
        "<IPython.core.display.HTML at 0x25b8790>"
       ]
      }
     ],
     "prompt_number": 32
    },
    {
     "cell_type": "code",
     "collapsed": false,
     "input": [
      "def at_least_a_minute_apart(times):\n",
      "  prevtime=-9999\n",
      "  output = []\n",
      "  for time in sorted(times):\n",
      "    if abs(time - prevtime) > 60 * 1000:\n",
      "      output.append(time)\n",
      "      prevtime = time\n",
      "  return output\n",
      "\n",
      "def at_least_an_hour_apart(times):\n",
      "  prevtime=-9999\n",
      "  output = []\n",
      "  for time in sorted(times):\n",
      "    if abs(time - prevtime) > 3600 * 1000:\n",
      "      output.append(time)\n",
      "      prevtime = time\n",
      "  return output\n",
      "\n",
      "def at_least_a_day_apart(times):\n",
      "  prevtime=-9999\n",
      "  output = []\n",
      "  for time in sorted(times):\n",
      "    if abs(time - prevtime) > 24 * 3600 * 1000:\n",
      "      output.append(time)\n",
      "      prevtime = time\n",
      "  return output"
     ],
     "language": "python",
     "metadata": {},
     "outputs": [],
     "prompt_number": 33
    },
    {
     "cell_type": "code",
     "collapsed": false,
     "input": [
      "#newfig()\n",
      "\n",
      "xaxis_length = 6\n",
      "\n",
      "num_starts_to_users_single_lecture = [0]*xaxis_length\n",
      "\n",
      "for user,start_times in lecture_to_user_to_start_timestamps[30].iteritems():\n",
      "  numstarts = len(start_times)\n",
      "  if numstarts >= len(num_starts_to_users_single_lecture):\n",
      "    num_starts_to_users_single_lecture[len(num_starts_to_users_single_lecture)-1] += 1\n",
      "  else:\n",
      "    num_starts_to_users_single_lecture[numstarts] += 1\n",
      "\n",
      "#pylab.plot(num_starts_to_users_single_lecture, label='all watches')\n",
      "addtrace(num_starts_to_users_single_lecture, label='all watches')\n",
      "\n",
      "num_starts_minute_apart_to_users_single_lecture = [0]*xaxis_length\n",
      "\n",
      "for user,start_times in lecture_to_user_to_start_timestamps[30].iteritems():\n",
      "  numstarts = len(at_least_a_minute_apart(start_times))\n",
      "  if numstarts >= len(num_starts_minute_apart_to_users_single_lecture):\n",
      "    num_starts_minute_apart_to_users_single_lecture[len(num_starts_minute_apart_to_users_single_lecture)-1] += 1\n",
      "  else:\n",
      "    num_starts_minute_apart_to_users_single_lecture[numstarts] += 1\n",
      "\n",
      "#pylab.plot(num_starts_minute_apart_to_users_single_lecture, label='at least a minute apart')\n",
      "addtrace(num_starts_minute_apart_to_users_single_lecture, label='at least a minute apart')\n",
      "\n",
      "num_starts_hour_apart_to_users_single_lecture = [0]*xaxis_length\n",
      "\n",
      "for user,start_times in lecture_to_user_to_start_timestamps[30].iteritems():\n",
      "  numstarts = len(at_least_an_hour_apart(start_times))\n",
      "  if numstarts >= len(num_starts_hour_apart_to_users_single_lecture):\n",
      "    num_starts_hour_apart_to_users_single_lecture[len(num_starts_hour_apart_to_users_single_lecture)-1] += 1\n",
      "  else:\n",
      "    num_starts_hour_apart_to_users_single_lecture[numstarts] += 1\n",
      "\n",
      "#pylab.plot(num_starts_hour_apart_to_users_single_lecture, label='at least an hour apart')\n",
      "addtrace(num_starts_hour_apart_to_users_single_lecture, label='at least an hour apart')\n",
      "\n",
      "num_starts_day_apart_to_users_single_lecture = [0]*xaxis_length\n",
      "\n",
      "for user,start_times in lecture_to_user_to_start_timestamps[30].iteritems():\n",
      "  numstarts = len(at_least_a_day_apart(start_times))\n",
      "  if numstarts >= len(num_starts_day_apart_to_users_single_lecture):\n",
      "    num_starts_day_apart_to_users_single_lecture[len(num_starts_day_apart_to_users_single_lecture)-1] += 1\n",
      "  else:\n",
      "    num_starts_day_apart_to_users_single_lecture[numstarts] += 1\n",
      "\n",
      "#pylab.plot(num_starts_day_apart_to_users_single_lecture, label='at least a day apart')\n",
      "addtrace(num_starts_day_apart_to_users_single_lecture, label='at least a day apart')\n",
      "\n",
      "#pylab.legend(bbox_to_anchor=(1.3, 0.8))\n",
      "\n",
      "addxlabel('number of times started watching video (in lecture 30)')\n",
      "addylabel('number of users who started watching video this many times (in lecture 30)')\n",
      "addtitle('histogram of users and num starts (in lecture 30)')\n",
      "\n",
      "#from matplotlylib import fig_to_plotly\n",
      "\n",
      "#fig_to_plotly(gcf(), notebook=True)\n",
      "\n",
      "plotfig()"
     ],
     "language": "python",
     "metadata": {},
     "outputs": [
      {
       "html": [
        "<iframe id=\"igraph\" scrolling=\"no\" style=\"border:none;\"seamless=\"seamless\" src=\"https://plot.ly/~geza/350\" height=\"525\" width=\"100%\"></iframe>"
       ],
       "metadata": {},
       "output_type": "display_data",
       "text": [
        "<IPython.core.display.HTML at 0x25b8790>"
       ]
      }
     ],
     "prompt_number": 34
    },
    {
     "cell_type": "code",
     "collapsed": false,
     "input": [
      "#newfig()\n",
      "\n",
      "xaxis_length = 6\n",
      "\n",
      "num_finishes_to_users_single_lecture = [0]*xaxis_length\n",
      "\n",
      "for user,finish_times in lecture_to_user_to_finish_timestamps[30].iteritems():\n",
      "  numfinishes = len(finish_times)\n",
      "  if numfinishes >= len(num_finishes_to_users_single_lecture):\n",
      "    num_finishes_to_users_single_lecture[len(num_finishes_to_users_single_lecture)-1] += 1\n",
      "  else:\n",
      "    num_finishes_to_users_single_lecture[numfinishes] += 1\n",
      "\n",
      "addtrace(num_finishes_to_users_single_lecture, label='all watches')\n",
      "\n",
      "num_finishes_minute_apart_to_users_single_lecture = [0]*xaxis_length\n",
      "\n",
      "for user,finish_times in lecture_to_user_to_finish_timestamps[30].iteritems():\n",
      "  numfinishes = len(at_least_a_minute_apart(finish_times))\n",
      "  if numfinishes >= len(num_finishes_minute_apart_to_users_single_lecture):\n",
      "    num_finishes_minute_apart_to_users_single_lecture[len(num_finishes_minute_apart_to_users_single_lecture)-1] += 1\n",
      "  else:\n",
      "    num_finishes_minute_apart_to_users_single_lecture[numfinishes] += 1\n",
      "\n",
      "addtrace(num_finishes_minute_apart_to_users_single_lecture, label='at least a minute apart')\n",
      "\n",
      "num_finishes_hour_apart_to_users_single_lecture = [0]*xaxis_length\n",
      "\n",
      "for user,finish_times in lecture_to_user_to_finish_timestamps[30].iteritems():\n",
      "  numfinishes = len(at_least_an_hour_apart(finish_times))\n",
      "  if numfinishes >= len(num_finishes_hour_apart_to_users_single_lecture):\n",
      "    num_finishes_hour_apart_to_users_single_lecture[len(num_finishes_hour_apart_to_users_single_lecture)-1] += 1\n",
      "  else:\n",
      "    num_finishes_hour_apart_to_users_single_lecture[numfinishes] += 1\n",
      "\n",
      "addtrace(num_finishes_hour_apart_to_users_single_lecture, label='at least an hour apart')\n",
      "\n",
      "num_finishes_day_apart_to_users_single_lecture = [0]*xaxis_length\n",
      "\n",
      "for user,finish_times in lecture_to_user_to_finish_timestamps[30].iteritems():\n",
      "  numfinishes = len(at_least_a_day_apart(finish_times))\n",
      "  if numfinishes >= len(num_finishes_day_apart_to_users_single_lecture):\n",
      "    num_finishes_day_apart_to_users_single_lecture[len(num_finishes_day_apart_to_users_single_lecture)-1] += 1\n",
      "  else:\n",
      "    num_finishes_day_apart_to_users_single_lecture[numfinishes] += 1\n",
      "\n",
      "addtrace(num_finishes_day_apart_to_users_single_lecture, label='at least a day apart')\n",
      "\n",
      "#pylab.legend(bbox_to_anchor=(1.3, 0.8))\n",
      "\n",
      "addxlabel('number of times finished watching video (in lecture 30)')\n",
      "addylabel('number of users who finished watching video this many times (in lecture 30)')\n",
      "addtitle('histogram of users and num finishes (in lecture 30)')\n",
      "\n",
      "plotfig()\n"
     ],
     "language": "python",
     "metadata": {},
     "outputs": [
      {
       "html": [
        "<iframe id=\"igraph\" scrolling=\"no\" style=\"border:none;\"seamless=\"seamless\" src=\"https://plot.ly/~geza/351\" height=\"525\" width=\"100%\"></iframe>"
       ],
       "metadata": {},
       "output_type": "display_data",
       "text": [
        "<IPython.core.display.HTML at 0x2c15e50>"
       ]
      }
     ],
     "prompt_number": 35
    },
    {
     "cell_type": "code",
     "collapsed": false,
     "input": [
      "#newfig()\n",
      "\n",
      "xaxis_length = 6\n",
      "\n",
      "watch_session_to_completions = [0]*xaxis_length\n",
      "watch_session_to_seeks = [0]*xaxis_length\n",
      "watch_session_to_at_least_one_seek = [0]*xaxis_length\n",
      "watch_session_to_starts = [0]*xaxis_length\n",
      "\n",
      "for lecturenum in range(len(lecture_to_user_to_start_timestamps)):\n",
      "  for user,start_times in lecture_to_user_to_start_timestamps[lecturenum].iteritems():\n",
      "    for watch_session_idx,start_time in enumerate(at_least_an_hour_apart(start_times)):\n",
      "      finished_watching = False\n",
      "      at_least_one_seek = False\n",
      "      if user in lecture_to_user_to_finish_timestamps[lecturenum]:\n",
      "        for end_time in lecture_to_user_to_finish_timestamps[lecturenum][user]:\n",
      "          if start_time <= end_time <= start_time + 3600 * 1000:\n",
      "            finished_watching = True\n",
      "      num_seeks = 0\n",
      "      if user in lecture_to_user_to_seek_timestamps[lecturenum]:\n",
      "        for seek_time in lecture_to_user_to_seek_timestamps[lecturenum][user]:\n",
      "          if start_time <= seek_time <= start_time + 3600 * 1000:\n",
      "            num_seeks += 1\n",
      "            at_least_one_seek = True\n",
      "      if watch_session_idx >= xaxis_length:\n",
      "        watch_session_idx = xaxis_length-1\n",
      "      watch_session_to_starts[watch_session_idx] += 1\n",
      "      if finished_watching:\n",
      "        watch_session_to_completions[watch_session_idx] += 1\n",
      "      if at_least_one_seek:\n",
      "        watch_session_to_at_least_one_seek[watch_session_idx] += 1\n",
      "      watch_session_to_seeks[watch_session_idx] += num_seeks\n",
      "\n",
      "addtrace(watch_session_to_starts, label='watches started')\n",
      "addtrace(watch_session_to_completions, label='watches finished')\n",
      "addtrace(watch_session_to_at_least_one_seek, label='seeked at least once during session')\n",
      "addtrace(watch_session_to_seeks, label='total number of seeks')\n",
      "\n",
      "#pylab.legend(bbox_to_anchor=(1.3, 0.8))\n",
      "addxlabel('watch session idx - watching video for the nth time')\n",
      "addylabel('number of such events total, across all videos')\n",
      "\n",
      "plotfig()\n"
     ],
     "language": "python",
     "metadata": {},
     "outputs": [
      {
       "html": [
        "<iframe id=\"igraph\" scrolling=\"no\" style=\"border:none;\"seamless=\"seamless\" src=\"https://plot.ly/~geza/352\" height=\"525\" width=\"100%\"></iframe>"
       ],
       "metadata": {},
       "output_type": "display_data",
       "text": [
        "<IPython.core.display.HTML at 0x2c433d0>"
       ]
      }
     ],
     "prompt_number": 36
    },
    {
     "cell_type": "code",
     "collapsed": false,
     "input": [
      "#newfig()\n",
      "\n",
      "watch_session_to_completions_ratio = []\n",
      "watch_session_to_seeks_ratio = []\n",
      "watch_session_to_at_least_one_seek_ratio = []\n",
      "\n",
      "for completions,starts in zip(watch_session_to_completions,watch_session_to_starts):\n",
      "  if starts == 0:\n",
      "    watch_session_to_completions_ratio.append(0)\n",
      "  else:\n",
      "    watch_session_to_completions_ratio.append(float(completions)/starts)\n",
      "\n",
      "for seeks,starts in zip(watch_session_to_seeks,watch_session_to_starts):\n",
      "  if starts == 0:\n",
      "    watch_session_to_seeks_ratio.append(0)\n",
      "  else:\n",
      "    watch_session_to_seeks_ratio.append(float(seeks)/starts)\n",
      "\n",
      "for at_least_one_seek,starts in zip(watch_session_to_at_least_one_seek,watch_session_to_starts):\n",
      "  if starts == 0:\n",
      "    watch_session_to_at_least_one_seek_ratio.append(0)\n",
      "  else:\n",
      "    watch_session_to_at_least_one_seek_ratio.append(float(at_least_one_seek)/starts)\n",
      "\n",
      "\n",
      "addtrace(watch_session_to_completions_ratio, label='watches finished')\n",
      "addtrace(watch_session_to_at_least_one_seek_ratio, label='seeked at least once during session')\n",
      "#pylab.plot(watch_session_to_seeks_ratio, label='total number of seeks')\n",
      "\n",
      "#pylab.legend(bbox_to_anchor=(1.3, 0.8))\n",
      "addxlabel('watch session idx - watching video for the nth time')\n",
      "addylabel('number of such events total, across all videos, normalized by number of starts')\n",
      "\n",
      "#pylab.ylim([0.0,1.0])\n",
      "\n",
      "plotfig()\n"
     ],
     "language": "python",
     "metadata": {},
     "outputs": [
      {
       "html": [
        "<iframe id=\"igraph\" scrolling=\"no\" style=\"border:none;\"seamless=\"seamless\" src=\"https://plot.ly/~geza/353\" height=\"525\" width=\"100%\"></iframe>"
       ],
       "metadata": {},
       "output_type": "display_data",
       "text": [
        "<IPython.core.display.HTML at 0x4501150>"
       ]
      }
     ],
     "prompt_number": 37
    },
    {
     "cell_type": "code",
     "collapsed": false,
     "input": [
      "print watch_session_to_completions\n",
      "print watch_session_to_at_least_one_seek"
     ],
     "language": "python",
     "metadata": {},
     "outputs": [
      {
       "output_type": "stream",
       "stream": "stdout",
       "text": [
        "[93356, 10584, 1887, 445, 145, 124]\n",
        "[77136, 16823, 3725, 1009, 315, 232]\n"
       ]
      }
     ],
     "prompt_number": 38
    },
    {
     "cell_type": "code",
     "collapsed": false,
     "input": [
      "#newfig()\n",
      "\n",
      "addtrace(watch_session_to_completions_ratio, label='watches finished')\n",
      "addtrace(watch_session_to_at_least_one_seek_ratio, label='seeked at least once during session')\n",
      "addtrace(watch_session_to_seeks_ratio, label='total number of seeks')\n",
      "\n",
      "#pylab.legend(bbox_to_anchor=(1.3, 0.8))\n",
      "addxlabel('watch session idx - watching video for the nth time')\n",
      "addylabel('number of such events total, across all videos, normalized by number of starts')\n",
      "\n",
      "plotfig()"
     ],
     "language": "python",
     "metadata": {},
     "outputs": [
      {
       "html": [
        "<iframe id=\"igraph\" scrolling=\"no\" style=\"border:none;\"seamless=\"seamless\" src=\"https://plot.ly/~geza/354\" height=\"525\" width=\"100%\"></iframe>"
       ],
       "metadata": {},
       "output_type": "display_data",
       "text": [
        "<IPython.core.display.HTML at 0x2c15e50>"
       ]
      }
     ],
     "prompt_number": 39
    },
    {
     "cell_type": "code",
     "collapsed": false,
     "input": [
      "xaxis_length = 6\n",
      "\n",
      "watch_session_to_completions = [0]*xaxis_length\n",
      "watch_session_to_completions_and_at_least_one_seek = [0]*xaxis_length\n",
      "watch_session_to_starts = [0]*xaxis_length\n",
      "\n",
      "for lecturenum in range(len(lecture_to_user_to_start_timestamps)):\n",
      "  for user,start_times in lecture_to_user_to_start_timestamps[lecturenum].iteritems():\n",
      "    for watch_session_idx,start_time in enumerate(at_least_an_hour_apart(start_times)):\n",
      "      finished_watching = False\n",
      "      at_least_one_seek = False\n",
      "      if user in lecture_to_user_to_finish_timestamps[lecturenum]:\n",
      "        for end_time in lecture_to_user_to_finish_timestamps[lecturenum][user]:\n",
      "          if start_time <= end_time <= start_time + 3600 * 1000:\n",
      "            finished_watching = True\n",
      "      num_seeks = 0\n",
      "      if user in lecture_to_user_to_seek_timestamps[lecturenum]:\n",
      "        for seek_time in lecture_to_user_to_seek_timestamps[lecturenum][user]:\n",
      "          if start_time <= seek_time <= start_time + 3600 * 1000:\n",
      "            num_seeks += 1\n",
      "            at_least_one_seek = True\n",
      "      if watch_session_idx >= xaxis_length:\n",
      "        watch_session_idx = xaxis_length-1\n",
      "      watch_session_to_starts[watch_session_idx] += 1\n",
      "      if finished_watching:\n",
      "        watch_session_to_completions[watch_session_idx] += 1\n",
      "        if at_least_one_seek:\n",
      "          watch_session_to_completions_and_at_least_one_seek[watch_session_idx] += 1\n",
      "\n",
      "addtrace(watch_session_to_completions, label='watches finished')\n",
      "addtrace(watch_session_to_completions_and_at_least_one_seek, label='completed, and seeked at least once during session')\n",
      "\n",
      "#pylab.legend(bbox_to_anchor=(1.3, 0.8))\n",
      "addxlabel('watch session idx - watching video for the nth time')\n",
      "addylabel('number of such events total, across all videos')\n",
      "\n",
      "plotfig()\n"
     ],
     "language": "python",
     "metadata": {},
     "outputs": [
      {
       "html": [
        "<iframe id=\"igraph\" scrolling=\"no\" style=\"border:none;\"seamless=\"seamless\" src=\"https://plot.ly/~geza/355\" height=\"525\" width=\"100%\"></iframe>"
       ],
       "metadata": {},
       "output_type": "display_data",
       "text": [
        "<IPython.core.display.HTML at 0x2c15f90>"
       ]
      }
     ],
     "prompt_number": 40
    },
    {
     "cell_type": "code",
     "collapsed": false,
     "input": [
      "watch_session_to_completion_and_at_least_one_seek_ratio = []\n",
      "\n",
      "for completed_and_seeked_at_least_once,completions in zip(watch_session_to_completions_and_at_least_one_seek,watch_session_to_completions):\n",
      "  if completions == 0:\n",
      "    watch_session_to_completion_and_at_least_one_seek_ratio.append(0)\n",
      "  else:\n",
      "    watch_session_to_completion_and_at_least_one_seek_ratio.append(float(completed_and_seeked_at_least_once)/completions)\n",
      "\n",
      "addtrace(watch_session_to_completion_and_at_least_one_seek_ratio, label='fraction of people among those who completed who seeked at least once during the session')\n",
      "\n",
      "#pylab.legend(bbox_to_anchor=(2.3, 0.8))\n",
      "addxlabel('watch session idx - watching video for the nth time')\n",
      "addylabel('number of such events total, across all videos, normalized by number of starts')\n",
      "\n",
      "#pylab.ylim([0.0,1.0])\n",
      "\n",
      "plotfig()\n"
     ],
     "language": "python",
     "metadata": {},
     "outputs": [
      {
       "html": [
        "<iframe id=\"igraph\" scrolling=\"no\" style=\"border:none;\"seamless=\"seamless\" src=\"https://plot.ly/~geza/356\" height=\"525\" width=\"100%\"></iframe>"
       ],
       "metadata": {},
       "output_type": "display_data",
       "text": [
        "<IPython.core.display.HTML at 0x31ddd90>"
       ]
      }
     ],
     "prompt_number": 41
    },
    {
     "cell_type": "code",
     "collapsed": false,
     "input": [
      "\n",
      "\n",
      "addtrace(num_starts_day_apart_to_users_single_lecture)\n",
      "addxlabel('number of times started watching video (in lecture 30, at least a day apart)')\n",
      "addylabel('number of users who started watching video this many times (in lecture 30, at least a day apart)')\n",
      "addtitle('histogram of users and num starts (in lecture 30, at least a day apart)')\n",
      "\n",
      "plotfig()"
     ],
     "language": "python",
     "metadata": {},
     "outputs": [
      {
       "html": [
        "<iframe id=\"igraph\" scrolling=\"no\" style=\"border:none;\"seamless=\"seamless\" src=\"https://plot.ly/~geza/357\" height=\"525\" width=\"100%\"></iframe>"
       ],
       "metadata": {},
       "output_type": "display_data",
       "text": [
        "<IPython.core.display.HTML at 0x31ddd10>"
       ]
      }
     ],
     "prompt_number": 42
    },
    {
     "cell_type": "code",
     "collapsed": false,
     "input": [
      "num_finishes_to_users_single_lecture = [0]*11\n",
      "\n",
      "for user,finish_times in lecture_to_user_to_finish_timestamps[30].iteritems():\n",
      "  numfinishes = len(finish_times)\n",
      "  if numfinishes >= len(num_finishes_to_users_single_lecture):\n",
      "    num_finishes_to_users_single_lecture[len(num_finishes_to_users_single_lecture)-1] += 1\n",
      "  else:\n",
      "    num_finishes_to_users_single_lecture[numfinishes] += 1\n",
      "\n",
      "addtrace(num_finishes_to_users_single_lecture)\n",
      "addxlabel('number of times finished watching video (in lecture 30)')\n",
      "addylabel('number of users who finished watching video this many times (in lecture 30)')\n",
      "addtitle('histogram of users and num finishes (in lecture 30)')\n",
      "\n",
      "plotfig()"
     ],
     "language": "python",
     "metadata": {},
     "outputs": [
      {
       "html": [
        "<iframe id=\"igraph\" scrolling=\"no\" style=\"border:none;\"seamless=\"seamless\" src=\"https://plot.ly/~geza/358\" height=\"525\" width=\"100%\"></iframe>"
       ],
       "metadata": {},
       "output_type": "display_data",
       "text": [
        "<IPython.core.display.HTML at 0x2c43090>"
       ]
      }
     ],
     "prompt_number": 43
    },
    {
     "cell_type": "code",
     "collapsed": false,
     "input": [
      "num_starts_to_users_all_lectures = [0]*11\n",
      "\n",
      "for lecture in lecture_to_user_to_start_timestamps:\n",
      "  for user,start_times in lecture.iteritems():\n",
      "    numstarts = len(start_times)\n",
      "    if numstarts >= len(num_starts_to_users_all_lectures):\n",
      "      num_starts_to_users_all_lectures[len(num_starts_to_users_all_lectures)-1] += 1\n",
      "    else:\n",
      "      num_starts_to_users_all_lectures[numstarts] += 1\n",
      "\n",
      "addtrace(num_starts_to_users_all_lectures)\n",
      "addxlabel('number of times started watching video (all lectures)')\n",
      "addylabel('number of users who started watching video this many times (all lectures)')\n",
      "addtitle('histogram of users and num starts (all lectures)')\n",
      "\n",
      "plotfig()"
     ],
     "language": "python",
     "metadata": {},
     "outputs": [
      {
       "html": [
        "<iframe id=\"igraph\" scrolling=\"no\" style=\"border:none;\"seamless=\"seamless\" src=\"https://plot.ly/~geza/359\" height=\"525\" width=\"100%\"></iframe>"
       ],
       "metadata": {},
       "output_type": "display_data",
       "text": [
        "<IPython.core.display.HTML at 0x4501550>"
       ]
      }
     ],
     "prompt_number": 44
    },
    {
     "cell_type": "code",
     "collapsed": false,
     "input": [
      "time_between_rewatches = [0]*101\n",
      "\n",
      "def differences_between_times(start_times):\n",
      "  prev = None\n",
      "  output = []\n",
      "  for time in sorted(start_times):\n",
      "    if prev == None:\n",
      "      prev = time\n",
      "    else:\n",
      "      diff = time - prev\n",
      "      output.append(diff)\n",
      "  return output\n",
      "\n",
      "for lecture in lecture_to_user_to_start_timestamps:\n",
      "  for user,start_times in lecture.iteritems():\n",
      "    for time_spacing in differences_between_times(start_times):\n",
      "      time_spacing_in_hours = int(time_spacing / (1000*3600))\n",
      "      if time_spacing_in_hours >= len(time_between_rewatches):\n",
      "        time_spacing_in_hours = len(time_between_rewatches)-1\n",
      "      time_between_rewatches[time_spacing_in_hours] += 1\n",
      "\n",
      "addtrace(time_between_rewatches)\n",
      "#pylab.xlabel('number of times video seeked (over all lectures)')\n",
      "#pylab.ylabel('number of users who seeked video this many times (over all lectures)')\n",
      "#pylab.title('histogram of users and seek times (over all lectures)')\n",
      "addtitle('time between rewatches, in hours')\n",
      "#pylab.show()\n",
      "plotfig()\n",
      "\n",
      "#pylab.loglog(time_between_rewatches)\n",
      "#pylab.xlabel('number of times video seeked (over all lectures)')\n",
      "#pylab.ylabel('number of users who seeked video this many times (over all lectures, log-log)')\n",
      "#pylab.title('histogram of users and seek times (over all lectures, log-log)')\n",
      "#pylab.show()"
     ],
     "language": "python",
     "metadata": {},
     "outputs": [
      {
       "html": [
        "<iframe id=\"igraph\" scrolling=\"no\" style=\"border:none;\"seamless=\"seamless\" src=\"https://plot.ly/~geza/360\" height=\"525\" width=\"100%\"></iframe>"
       ],
       "metadata": {},
       "output_type": "display_data",
       "text": [
        "<IPython.core.display.HTML at 0x25b8850>"
       ]
      }
     ],
     "prompt_number": 45
    },
    {
     "cell_type": "code",
     "collapsed": false,
     "input": [
      "time_between_rewatches = [0]*101\n",
      "\n",
      "def differences_between_times(start_times):\n",
      "  prev = None\n",
      "  output = []\n",
      "  for time in sorted(start_times):\n",
      "    if prev == None:\n",
      "      prev = time\n",
      "    else:\n",
      "      diff = time - prev\n",
      "      output.append(diff)\n",
      "  return output\n",
      "\n",
      "for lecture in lecture_to_user_to_start_timestamps:\n",
      "  for user,start_times in lecture.iteritems():\n",
      "    for time_spacing in differences_between_times(start_times):\n",
      "      time_spacing_in_hours = int(time_spacing / (1000*3600))\n",
      "      if time_spacing_in_hours >= len(time_between_rewatches):\n",
      "        time_spacing_in_hours = len(time_between_rewatches)-1\n",
      "      time_between_rewatches[time_spacing_in_hours] += 1\n",
      "\n",
      "time_between_rewatches[0] = 0\n",
      "      \n",
      "addtrace(time_between_rewatches)\n",
      "#pylab.xlabel('number of times video seeked (over all lectures)')\n",
      "#pylab.ylabel('number of users who seeked video this many times (over all lectures)')\n",
      "#pylab.title('histogram of users and seek times (over all lectures)')\n",
      "addtitle('time between rewatches, in hours, excluding first hour')\n",
      "#pylab.show()\n",
      "plotfig()\n",
      "\n",
      "#pylab.loglog(time_between_rewatches)\n",
      "#pylab.xlabel('number of times video seeked (over all lectures)')\n",
      "#pylab.ylabel('number of users who seeked video this many times (over all lectures, log-log)')\n",
      "#pylab.title('histogram of users and seek times (over all lectures, log-log)')\n",
      "#pylab.show()"
     ],
     "language": "python",
     "metadata": {},
     "outputs": [
      {
       "html": [
        "<iframe id=\"igraph\" scrolling=\"no\" style=\"border:none;\"seamless=\"seamless\" src=\"https://plot.ly/~geza/361\" height=\"525\" width=\"100%\"></iframe>"
       ],
       "metadata": {},
       "output_type": "display_data",
       "text": [
        "<IPython.core.display.HTML at 0x326ad50>"
       ]
      }
     ],
     "prompt_number": 46
    },
    {
     "cell_type": "code",
     "collapsed": false,
     "input": [
      "time_between_rewatches = [0]*101\n",
      "\n",
      "def differences_between_times(start_times):\n",
      "  prev = None\n",
      "  output = []\n",
      "  for time in sorted(start_times):\n",
      "    if prev == None:\n",
      "      prev = time\n",
      "    else:\n",
      "      diff = time - prev\n",
      "      output.append(diff)\n",
      "  return output\n",
      "\n",
      "for lecture in lecture_to_user_to_start_timestamps:\n",
      "  for user,start_times in lecture.iteritems():\n",
      "    for time_spacing in differences_between_times(start_times):\n",
      "      time_spacing_in_hours = int(time_spacing / (1000*3600*24))\n",
      "      if time_spacing_in_hours >= len(time_between_rewatches):\n",
      "        time_spacing_in_hours = len(time_between_rewatches)-1\n",
      "      time_between_rewatches[time_spacing_in_hours] += 1\n",
      "\n",
      "#time_between_rewatches[0] = 0\n",
      "      \n",
      "addtrace(time_between_rewatches)\n",
      "#pylab.xlabel('number of times video seeked (over all lectures)')\n",
      "#pylab.ylabel('number of users who seeked video this many times (over all lectures)')\n",
      "#pylab.title('histogram of users and seek times (over all lectures)')\n",
      "addtitle('time between rewatches, in days')\n",
      "#pylab.show()\n",
      "plotfig()\n",
      "\n",
      "#pylab.loglog(time_between_rewatches)\n",
      "#pylab.xlabel('number of times video seeked (over all lectures)')\n",
      "#pylab.ylabel('number of users who seeked video this many times (over all lectures, log-log)')\n",
      "#pylab.title('histogram of users and seek times (over all lectures, log-log)')\n",
      "#pylab.show()"
     ],
     "language": "python",
     "metadata": {},
     "outputs": [
      {
       "html": [
        "<iframe id=\"igraph\" scrolling=\"no\" style=\"border:none;\"seamless=\"seamless\" src=\"https://plot.ly/~geza/362\" height=\"525\" width=\"100%\"></iframe>"
       ],
       "metadata": {},
       "output_type": "display_data",
       "text": [
        "<IPython.core.display.HTML at 0x31dde90>"
       ]
      }
     ],
     "prompt_number": 47
    },
    {
     "cell_type": "code",
     "collapsed": false,
     "input": [
      "time_between_rewatches = [0]*101\n",
      "\n",
      "def differences_between_times(start_times):\n",
      "  prev = None\n",
      "  output = []\n",
      "  for time in sorted(start_times):\n",
      "    if prev == None:\n",
      "      prev = time\n",
      "    else:\n",
      "      diff = time - prev\n",
      "      output.append(diff)\n",
      "  return output\n",
      "\n",
      "for lecture in lecture_to_user_to_start_timestamps:\n",
      "  for user,start_times in lecture.iteritems():\n",
      "    for time_spacing in differences_between_times(start_times):\n",
      "      time_spacing_in_hours = int(time_spacing / (1000*3600*24))\n",
      "      if time_spacing_in_hours >= len(time_between_rewatches):\n",
      "        time_spacing_in_hours = len(time_between_rewatches)-1\n",
      "      time_between_rewatches[time_spacing_in_hours] += 1\n",
      "\n",
      "time_between_rewatches[0] = 0\n",
      "      \n",
      "addtrace(time_between_rewatches)\n",
      "addxlabel('number of times video seeked (over all lectures)')\n",
      "#pylab.ylabel('number of users who seeked video this many times (over all lectures)')\n",
      "#pylab.title('histogram of users and seek times (over all lectures)')\n",
      "addtitle('time between rewatches, in days, excluding first day')\n",
      "#pylab.show()\n",
      "plotfig()\n",
      "\n",
      "#pylab.loglog(time_between_rewatches)\n",
      "#pylab.xlabel('number of times video seeked (over all lectures)')\n",
      "#pylab.ylabel('number of users who seeked video this many times (over all lectures, log-log)')\n",
      "#pylab.title('histogram of users and seek times (over all lectures, log-log)')\n",
      "#pylab.show()"
     ],
     "language": "python",
     "metadata": {},
     "outputs": [
      {
       "html": [
        "<iframe id=\"igraph\" scrolling=\"no\" style=\"border:none;\"seamless=\"seamless\" src=\"https://plot.ly/~geza/363\" height=\"525\" width=\"100%\"></iframe>"
       ],
       "metadata": {},
       "output_type": "display_data",
       "text": [
        "<IPython.core.display.HTML at 0x31ddd90>"
       ]
      }
     ],
     "prompt_number": 48
    }
   ],
   "metadata": {}
  }
 ]
}