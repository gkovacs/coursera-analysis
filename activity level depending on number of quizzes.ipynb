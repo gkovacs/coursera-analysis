{
 "cells": [
  {
   "cell_type": "code",
   "execution_count": 2,
   "metadata": {
    "collapsed": true
   },
   "outputs": [],
   "source": [
    "from video_annotations import ml_004 as vid"
   ]
  },
  {
   "cell_type": "code",
   "execution_count": 38,
   "metadata": {
    "collapsed": true
   },
   "outputs": [],
   "source": [
    "import numpy"
   ]
  },
  {
   "cell_type": "code",
   "execution_count": 4,
   "metadata": {
    "collapsed": false
   },
   "outputs": [
    {
     "name": "stdout",
     "output_type": "stream",
     "text": [
      "{1: [], 2: [194], 3: [678], 4: [780], 5: [278], 6: [132], 7: [412], 8: [], 9: [544], 10: [484], 11: [648], 12: [], 13: [146, 376], 14: [111, 241, 400], 15: [315, 448], 16: [453], 17: [519], 18: [578], 19: [204], 20: [81], 21: [514], 22: [411], 23: [395], 24: [524], 25: [], 26: [], 27: [], 28: [], 29: [], 30: [787], 31: [], 32: [], 33: [427], 34: [338], 35: [587], 36: [523, 569], 37: [794], 38: [361], 39: [363], 40: [479], 41: [222], 42: [234], 43: [534], 44: [], 45: [702], 46: [651], 47: [375], 48: [151], 49: [211], 50: [392], 51: [687], 52: [731], 53: [228], 54: [301, 679], 55: [375], 56: [718], 57: [], 58: [10, 640], 59: [331], 60: [167], 61: [682], 62: [428], 63: [467], 64: [703], 65: [361], 66: [467], 67: [546], 68: [585], 69: [779], 70: [626], 71: [831], 72: [432], 73: [1166], 74: [662], 75: [931], 76: [770], 77: [185], 78: [432], 79: [384], 80: [440], 81: [269], 82: [587], 83: [300], 84: [520], 85: [861], 86: [597], 87: [196], 88: [728], 89: [442], 90: [596], 91: [273], 92: [611], 93: [422], 95: [710], 96: [799], 97: [823], 98: [464], 99: [373], 100: [276, 427], 101: [486], 102: [311], 103: [498], 104: [204], 105: [787], 106: [346], 107: [658], 108: [724], 109: [809], 110: [397], 111: [644], 112: [557, 925], 113: [753], 114: []}\n"
     ]
    }
   ],
   "source": [
    "print vid['in_video_quiz_times']"
   ]
  },
  {
   "cell_type": "code",
   "execution_count": 6,
   "metadata": {
    "collapsed": true
   },
   "outputs": [],
   "source": [
    "lecture_id_to_num_quizzes = {}\n",
    "num_quizzes_to_lecture_ids = {0: [], 1: [], 2: [], 3: []}\n",
    "\n",
    "for lecture_id,in_video_quiz_times in vid['in_video_quiz_times'].items():\n",
    "  num_quizzes = len(in_video_quiz_times)\n",
    "  lecture_id_to_num_quizzes[lecture_id] = num_quizzes\n",
    "  num_quizzes_to_lecture_ids[num_quizzes].append(lecture_id)"
   ]
  },
  {
   "cell_type": "code",
   "execution_count": 9,
   "metadata": {
    "collapsed": true
   },
   "outputs": [],
   "source": [
    "from lectures_to_viewers import getViewersToLectures\n",
    "from video_annotations import ml_004 as vid\n",
    "from get_seek_chains import getSeekChainsFast"
   ]
  },
  {
   "cell_type": "code",
   "execution_count": 7,
   "metadata": {
    "collapsed": true
   },
   "outputs": [],
   "source": [
    "import csv\n",
    "import ujson as json\n",
    "from memoized import memoized\n",
    "\n",
    "@memoized\n",
    "def loadjson(table_name):\n",
    "  return json.load(open('/lfs/local/0/geza/ml-004_data_export/' + table_name + '.json'))\n",
    "\n",
    "def get_table_path(table_name):\n",
    "  csv_path = '/lfs/local/0/geza/ml-004_data_export/'\n",
    "  return csv_path + table_name + '.csv'\n",
    "\n",
    "def get_table_data(table_name):\n",
    "  return csv.DictReader(open(get_table_path(table_name)), doublequote=False, delimiter=',', escapechar='\\\\')\n",
    "\n",
    "def print_first_lines(table_name, n=10):\n",
    "  for x in get_table_data(table_name):\n",
    "    if n <= 0:\n",
    "      break\n",
    "    n -= 1\n",
    "    print x"
   ]
  },
  {
   "cell_type": "code",
   "execution_count": 8,
   "metadata": {
    "collapsed": true
   },
   "outputs": [],
   "source": [
    "lecture_to_user_to_simple_seek_chains = json.load(open('/lfs/local/0/geza/new_seek_chains/lecture_to_user_to_simple_seek_chains.json'))"
   ]
  },
  {
   "cell_type": "code",
   "execution_count": 42,
   "metadata": {
    "collapsed": true
   },
   "outputs": [],
   "source": [
    "lecture_to_user_to_end_events = json.load(open('video_to_user_to_end_events.json'))"
   ]
  },
  {
   "cell_type": "code",
   "execution_count": 48,
   "metadata": {
    "collapsed": true
   },
   "outputs": [],
   "source": [
    "video_to_parts_played = json.load(open('video_to_parts_played.json'))"
   ]
  },
  {
   "cell_type": "code",
   "execution_count": 71,
   "metadata": {
    "collapsed": false
   },
   "outputs": [
    {
     "name": "stdout",
     "output_type": "stream",
     "text": [
      "13\n",
      "92\n",
      "7\n"
     ]
    }
   ],
   "source": [
    "for i in [0,1,2]:\n",
    "  print len(num_quizzes_to_lecture_ids[i])"
   ]
  },
  {
   "cell_type": "markdown",
   "metadata": {},
   "source": [
    "# what % of viewers seek in: a video with 0, 1, or 2 in-video quizzes?"
   ]
  },
  {
   "cell_type": "code",
   "execution_count": 25,
   "metadata": {
    "collapsed": true
   },
   "outputs": [],
   "source": [
    "user_to_lectures_viewed = {}\n",
    "lecture_to_users = {}\n",
    "\n",
    "for line in get_table_data('lecture_submission_metadata'):\n",
    "  action = line['action']\n",
    "  user = line['session_user_id']\n",
    "  lecture = int(line['item_id'])\n",
    "  submission_time = int(line['submission_time'])\n",
    "  if submission_time > 1391185339: # newer than jan 31, 2014\n",
    "    continue\n",
    "  if action == 'view':\n",
    "    if user not in user_to_lectures_viewed:\n",
    "      user_to_lectures_viewed[user] = set()\n",
    "    user_to_lectures_viewed[user].add(lecture)\n",
    "    if lecture not in lecture_to_users:\n",
    "      lecture_to_users[lecture] = set()\n",
    "    lecture_to_users[lecture].add(user)\n"
   ]
  },
  {
   "cell_type": "code",
   "execution_count": null,
   "metadata": {
    "collapsed": true
   },
   "outputs": [],
   "source": []
  },
  {
   "cell_type": "code",
   "execution_count": 15,
   "metadata": {
    "collapsed": false
   },
   "outputs": [
    {
     "name": "stdout",
     "output_type": "stream",
     "text": [
      "[{u'start': 2.724, u'direction': u'forward', u'end': 684.1238, u'timestamp': 1383423440118L}, {u'start': 700.2538, u'direction': u'forward', u'end': 773.246482, u'timestamp': 1383423461214L}]\n"
     ]
    }
   ],
   "source": [
    "# print lecture_to_user_to_simple_seek_chains['24']['eb016f4b414ea31aa670457221e4a21c67169416']"
   ]
  },
  {
   "cell_type": "code",
   "execution_count": 19,
   "metadata": {
    "collapsed": false
   },
   "outputs": [
    {
     "name": "stdout",
     "output_type": "stream",
     "text": [
      " {1: 0, 2: 1, 3: 1, 4: 1, 5: 1, 6: 1, 7: 1, 8: 0, 9: 1, 10: 1, 11: 1, 12: 0, 13: 2, 14: 3, 15: 2, 16: 1, 17: 1, 18: 1, 19: 1, 20: 1, 21: 1, 22: 1, 23: 1, 24: 1, 25: 0, 26: 0, 27: 0, 28: 0, 29: 0, 30: 1, 31: 0, 32: 0, 33: 1, 34: 1, 35: 1, 36: 2, 37: 1, 38: 1, 39: 1, 40: 1, 41: 1, 42: 1, 43: 1, 44: 0, 45: 1, 46: 1, 47: 1, 48: 1, 49: 1, 50: 1, 51: 1, 52: 1, 53: 1, 54: 2, 55: 1, 56: 1, 57: 0, 58: 2, 59: 1, 60: 1, 61: 1, 62: 1, 63: 1, 64: 1, 65: 1, 66: 1, 67: 1, 68: 1, 69: 1, 70: 1, 71: 1, 72: 1, 73: 1, 74: 1, 75: 1, 76: 1, 77: 1, 78: 1, 79: 1, 80: 1, 81: 1, 82: 1, 83: 1, 84: 1, 85: 1, 86: 1, 87: 1, 88: 1, 89: 1, 90: 1, 91: 1, 92: 1, 93: 1, 95: 1, 96: 1, 97: 1, 98: 1, 99: 1, 100: 2, 101: 1, 102: 1, 103: 1, 104: 1, 105: 1, 106: 1, 107: 1, 108: 1, 109: 1, 110: 1, 111: 1, 112: 2, 113: 1, 114: 0}\n"
     ]
    }
   ],
   "source": [
    "print lecture_id_to_num_quizzes"
   ]
  },
  {
   "cell_type": "code",
   "execution_count": 24,
   "metadata": {
    "collapsed": false
   },
   "outputs": [],
   "source": [
    "#lecture_to_users"
   ]
  },
  {
   "cell_type": "code",
   "execution_count": 30,
   "metadata": {
    "collapsed": false
   },
   "outputs": [],
   "source": [
    "seeks_total = 0\n",
    "users_total = 0\n",
    "\n",
    "numquiz_to_seeks_total = {\n",
    "  0: 0,\n",
    "  1: 0,\n",
    "  2: 0,\n",
    "  3: 0\n",
    "}\n",
    "numquiz_to_users_total = {\n",
    "  0: 0,\n",
    "  1: 0,\n",
    "  2: 0,\n",
    "  3: 0\n",
    "}\n",
    "\n",
    "for lecture_id,users in lecture_to_users.iteritems():\n",
    "  if lecture_id not in lecture_id_to_num_quizzes:\n",
    "    continue\n",
    "  num_quizzes = lecture_id_to_num_quizzes[lecture_id]\n",
    "  #if num_quizzes not in [0, 1, 2]:\n",
    "  #  continue\n",
    "  user_to_simple_seek_chains = lecture_to_user_to_simple_seek_chains[str(lecture_id)]\n",
    "  for user in users:\n",
    "    seek_chains = []\n",
    "    if user in user_to_simple_seek_chains:\n",
    "      seek_chains = user_to_simple_seek_chains[user]\n",
    "    num_seeks = len(seek_chains)\n",
    "    users_total += 1\n",
    "    seeks_total += num_seeks\n",
    "    numquiz_to_users_total[num_quizzes] += 1\n",
    "    numquiz_to_seeks_total[num_quizzes] += num_seeks\n",
    "    \n"
   ]
  },
  {
   "cell_type": "code",
   "execution_count": 35,
   "metadata": {
    "collapsed": false
   },
   "outputs": [
    {
     "name": "stdout",
     "output_type": "stream",
     "text": [
      "2102839 1495944 1.40569366233\n",
      "279756 240604 1.16272381174\n",
      "1643222 1150335 1.42847257538\n",
      "157546 88468 1.78082470498\n"
     ]
    }
   ],
   "source": [
    "print seeks_total, users_total, float(seeks_total) / users_total\n",
    "for i in [0,1,2]:\n",
    "  print numquiz_to_seeks_total[i], numquiz_to_users_total[i], float(numquiz_to_seeks_total[i]) / numquiz_to_users_total[i]\n"
   ]
  },
  {
   "cell_type": "code",
   "execution_count": 63,
   "metadata": {
    "collapsed": false
   },
   "outputs": [
    {
     "name": "stdout",
     "output_type": "stream",
     "text": [
      "534.846153846\n",
      "628.673913043\n",
      "704.857142857\n"
     ]
    }
   ],
   "source": [
    "numquiz_to_lengths = {\n",
    "  0: [],\n",
    "  1: [],\n",
    "  2: [],\n",
    "  3: []\n",
    "}\n",
    "\n",
    "for lecture_id,num_quizzes in lecture_id_to_num_quizzes.iteritems():\n",
    "  video_length = vid['video_lengths'][lecture_id]\n",
    "  numquiz_to_lengths[num_quizzes].append(video_length)\n",
    "\n",
    "for i in [0,1,2]:\n",
    "  print numpy.mean(numquiz_to_lengths[i])\n"
   ]
  },
  {
   "cell_type": "code",
   "execution_count": 62,
   "metadata": {
    "collapsed": false
   },
   "outputs": [
    {
     "name": "stdout",
     "output_type": "stream",
     "text": [
      "{0: 281, 1: 830, 2: 980, 3: 413}\n"
     ]
    }
   ],
   "source": []
  },
  {
   "cell_type": "code",
   "execution_count": 68,
   "metadata": {
    "collapsed": true
   },
   "outputs": [],
   "source": [
    "numquiz_to_user_seeked_or_not = {\n",
    "  0: [],\n",
    "  1: [],\n",
    "  2: [],\n",
    "  3: []\n",
    "}\n",
    "\n",
    "for lecture_id,users in lecture_to_users.iteritems():\n",
    "  if lecture_id not in lecture_id_to_num_quizzes:\n",
    "    continue\n",
    "  num_quizzes = lecture_id_to_num_quizzes[lecture_id]\n",
    "  #if num_quizzes not in [0, 1, 2]:\n",
    "  #  continue\n",
    "  user_to_simple_seek_chains = lecture_to_user_to_simple_seek_chains[str(lecture_id)]\n",
    "  for user in users:\n",
    "    user_seeked = 0\n",
    "    if user in user_to_simple_seek_chains and len(user_to_simple_seek_chains[user]) > 0:\n",
    "      user_seeked = 1\n",
    "    numquiz_to_user_seeked_or_not[num_quizzes].append(user_seeked)   \n"
   ]
  },
  {
   "cell_type": "code",
   "execution_count": 69,
   "metadata": {
    "collapsed": false
   },
   "outputs": [
    {
     "name": "stdout",
     "output_type": "stream",
     "text": [
      "0.362275772639\n",
      "0.42673221279\n",
      "0.474860966677\n"
     ]
    }
   ],
   "source": [
    "for i in [0,1,2]:\n",
    "  print numpy.mean(numquiz_to_user_seeked_or_not[i])\n"
   ]
  },
  {
   "cell_type": "code",
   "execution_count": 46,
   "metadata": {
    "collapsed": false
   },
   "outputs": [],
   "source": [
    "finishes_total = 0\n",
    "users_total = 0\n",
    "\n",
    "numquiz_to_finishes_total = {\n",
    "  0: 0,\n",
    "  1: 0,\n",
    "  2: 0,\n",
    "  3: 0\n",
    "}\n",
    "numquiz_to_users_total = {\n",
    "  0: 0,\n",
    "  1: 0,\n",
    "  2: 0,\n",
    "  3: 0\n",
    "}\n",
    "\n",
    "for lecture_id,users in lecture_to_users.iteritems():\n",
    "  if lecture_id not in lecture_id_to_num_quizzes:\n",
    "    continue\n",
    "  if lecture_id == 24:\n",
    "    continue\n",
    "  num_quizzes = lecture_id_to_num_quizzes[lecture_id]\n",
    "  #if num_quizzes not in [0, 1, 2]:\n",
    "  #  continue\n",
    "  user_to_end_events = lecture_to_user_to_end_events[str(lecture_id)]\n",
    "  for user in users:\n",
    "    finished = 0\n",
    "    if user in user_to_end_events and len(user_to_end_events[user]) > 0:\n",
    "      finished = 1\n",
    "    users_total += 1\n",
    "    finishes_total += finished\n",
    "    numquiz_to_users_total[num_quizzes] += 1\n",
    "    numquiz_to_finishes_total[num_quizzes] += finished\n",
    "\n"
   ]
  },
  {
   "cell_type": "code",
   "execution_count": 47,
   "metadata": {
    "collapsed": false
   },
   "outputs": [
    {
     "name": "stdout",
     "output_type": "stream",
     "text": [
      "976698 1476123 0.661664373497\n",
      "149048 240604 0.619474322954\n",
      "763498 1130514 0.67535475014\n",
      "55552 88468 0.627933264005\n"
     ]
    }
   ],
   "source": [
    "print finishes_total, users_total, float(finishes_total) / users_total\n",
    "for i in [0,1,2]:\n",
    "  print numquiz_to_finishes_total[i], numquiz_to_users_total[i], float(numquiz_to_finishes_total[i]) / numquiz_to_users_total[i]\n"
   ]
  },
  {
   "cell_type": "code",
   "execution_count": 72,
   "metadata": {
    "collapsed": false
   },
   "outputs": [],
   "source": [
    "numquiz_to_percent_video_played = {\n",
    "  0: [],\n",
    "  1: [],\n",
    "  2: [],\n",
    "  3: []\n",
    "}\n",
    "\n",
    "numquiz_to_seconds_video_played = {\n",
    "  0: [],\n",
    "  1: [],\n",
    "  2: [],\n",
    "  3: []\n",
    "}\n",
    "\n",
    "numquiz_to_video_lengths = {\n",
    "  0: [],\n",
    "  1: [],\n",
    "  2: [],\n",
    "  3: []\n",
    "}\n",
    "\n",
    "for lecture_id,plays_for_each_second in video_to_parts_played.iteritems():\n",
    "  lecture_id = int(lecture_id)\n",
    "  if lecture_id not in lecture_id_to_num_quizzes:\n",
    "    continue\n",
    "  num_quizzes = lecture_id_to_num_quizzes[lecture_id]\n",
    "  #num_views = plays_for_each_second[0]\n",
    "  num_views = len(lecture_to_users[int(lecture_id)])\n",
    "  # alternatively: max(plays_for_each_second)\n",
    "  # alternatively: use the table mapping lecture id -> # of users who played it\n",
    "  seconds_video_played_if_viewed_by_all = num_views * len(plays_for_each_second)\n",
    "  percent_video_played = sum(plays_for_each_second) / float(seconds_video_played_if_viewed_by_all)\n",
    "  seconds_video_played = sum(plays_for_each_second) / num_views\n",
    "  numquiz_to_seconds_video_played[num_quizzes].append(seconds_video_played)\n",
    "  numquiz_to_percent_video_played[num_quizzes].append(percent_video_played)\n",
    "  numquiz_to_video_lengths[num_quizzes].append(len(plays_for_each_second))"
   ]
  },
  {
   "cell_type": "code",
   "execution_count": 73,
   "metadata": {
    "collapsed": false
   },
   "outputs": [
    {
     "name": "stdout",
     "output_type": "stream",
     "text": [
      "535.846153846\n",
      "629.673913043\n",
      "705.857142857\n"
     ]
    }
   ],
   "source": [
    "for i in [0,1,2]:\n",
    "  print numpy.mean(numquiz_to_video_lengths[i])\n",
    "\n"
   ]
  },
  {
   "cell_type": "code",
   "execution_count": 74,
   "metadata": {
    "collapsed": false
   },
   "outputs": [
    {
     "name": "stdout",
     "output_type": "stream",
     "text": [
      "0.592699659226\n",
      "0.791463973827\n",
      "0.756044086675\n"
     ]
    }
   ],
   "source": [
    "for i in [0,1,2]:\n",
    "  print numpy.mean(numquiz_to_percent_video_played[i])\n",
    "\n"
   ]
  },
  {
   "cell_type": "code",
   "execution_count": 75,
   "metadata": {
    "collapsed": false
   },
   "outputs": [
    {
     "name": "stdout",
     "output_type": "stream",
     "text": [
      "333.769230769\n",
      "492.391304348\n",
      "528.714285714\n"
     ]
    }
   ],
   "source": [
    "for i in [0,1,2]:\n",
    "  print numpy.mean(numquiz_to_seconds_video_played[i])"
   ]
  },
  {
   "cell_type": "code",
   "execution_count": null,
   "metadata": {
    "collapsed": true
   },
   "outputs": [],
   "source": [
    "print seeks_total, users_total, float(seeks_total) / users_total\n",
    "for i in [0,1,2]:\n",
    "  print numquiz_to_seeks_total[i], numquiz_to_users_total[i], float(numquiz_to_seeks_total[i]) / numquiz_to_users_total[i]\n"
   ]
  },
  {
   "cell_type": "code",
   "execution_count": 34,
   "metadata": {
    "collapsed": false
   },
   "outputs": [
    {
     "name": "stdout",
     "output_type": "stream",
     "text": [
      "{1: 414, 2: 434, 3: 749, 4: 853, 5: 490, 6: 492, 7: 669, 8: 528, 9: 620, 10: 710, 11: 690, 12: 349, 13: 525, 14: 413, 15: 819, 16: 669, 17: 542, 18: 672, 19: 502, 20: 304, 21: 531, 22: 538, 23: 459, 24: 977, 25: 358, 26: 839, 27: 967, 28: 794, 29: 578, 30: 828, 31: 775, 32: 213, 33: 488, 34: 444, 35: 889, 36: 614, 37: 846, 38: 375, 39: 582, 40: 610, 41: 640, 42: 513, 43: 575, 44: 467, 45: 721, 46: 706, 47: 435, 48: 620, 49: 231, 50: 403, 51: 719, 52: 764, 53: 467, 54: 697, 55: 411, 56: 803, 57: 390, 58: 685, 59: 350, 60: 455, 61: 723, 62: 462, 63: 680, 64: 713, 65: 410, 66: 569, 67: 791, 68: 695, 69: 845, 70: 669, 71: 887, 72: 636, 73: 1181, 74: 944, 75: 943, 76: 1262, 77: 196, 78: 752, 79: 424, 80: 469, 81: 502, 82: 609, 83: 327, 84: 545, 85: 913, 86: 630, 87: 234, 88: 768, 89: 458, 90: 627, 91: 722, 92: 787, 93: 456, 95: 737, 96: 825, 97: 843, 98: 474, 99: 871, 100: 614, 101: 506, 102: 507, 103: 510, 104: 344, 105: 799, 106: 377, 107: 691, 108: 770, 109: 848, 110: 422, 111: 879, 112: 980, 113: 830, 114: 281}\n"
     ]
    }
   ],
   "source": [
    "print vid['video_lengths']"
   ]
  },
  {
   "cell_type": "code",
   "execution_count": null,
   "metadata": {
    "collapsed": true
   },
   "outputs": [],
   "source": [
    "\n",
    "users_who_seeked_total = 0\n",
    "\n",
    "numquiz_to_users_who_seeked_total = {\n",
    "  0: 0,\n",
    "  1: 0,\n",
    "  2: 0,\n",
    "  3: 0\n",
    "}\n",
    "\n",
    "\n"
   ]
  }
 ],
 "metadata": {
  "kernelspec": {
   "display_name": "Python 2",
   "language": "python",
   "name": "python2"
  },
  "language_info": {
   "codemirror_mode": {
    "name": "ipython",
    "version": 2
   },
   "file_extension": ".py",
   "mimetype": "text/x-python",
   "name": "python",
   "nbconvert_exporter": "python",
   "pygments_lexer": "ipython2",
   "version": "2.7.3"
  }
 },
 "nbformat": 4,
 "nbformat_minor": 0
}
