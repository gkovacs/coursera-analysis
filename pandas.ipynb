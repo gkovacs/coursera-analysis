{
 "metadata": {
  "name": ""
 },
 "nbformat": 3,
 "nbformat_minor": 0,
 "worksheets": [
  {
   "cells": [
    {
     "cell_type": "code",
     "collapsed": false,
     "input": [
      "import pandas as pd\n",
      "import numpy as np\n",
      "import matplotlib.pyplot as plt\n"
     ],
     "language": "python",
     "metadata": {},
     "outputs": [],
     "prompt_number": 2
    },
    {
     "cell_type": "code",
     "collapsed": false,
     "input": [
      "s = pd.Series([1,3,5,np.nan,6,8])\n",
      "print s"
     ],
     "language": "python",
     "metadata": {},
     "outputs": [
      {
       "output_type": "stream",
       "stream": "stdout",
       "text": [
        "0     1\n",
        "1     3\n",
        "2     5\n",
        "3   NaN\n",
        "4     6\n",
        "5     8\n",
        "dtype: float64\n"
       ]
      }
     ],
     "prompt_number": 2
    },
    {
     "cell_type": "code",
     "collapsed": false,
     "input": [
      "dates = pd.date_range('20130101', periods=6)\n",
      "print dates\n",
      "print np.random.randn(6,4)\n",
      "df = pd.DataFrame(np.random.randn(6,4), index=dates,columns=list('ABCD'))\n",
      "print df"
     ],
     "language": "python",
     "metadata": {},
     "outputs": [
      {
       "output_type": "stream",
       "stream": "stdout",
       "text": [
        "<class 'pandas.tseries.index.DatetimeIndex'>\n",
        "[2013-01-01 00:00:00, ..., 2013-01-06 00:00:00]\n",
        "Length: 6, Freq: D, Timezone: None\n",
        "[[-0.04094864  0.03808125 -0.31142549 -0.26281192]\n",
        " [ 0.35792821  1.36508068  1.06853972 -1.52001513]\n",
        " [ 0.10626149 -0.45737086  0.0920748  -0.81874917]\n",
        " [-1.51161852 -2.05617246  0.39668369  1.15633567]\n",
        " [-1.05244372 -0.06785921 -0.39487671  1.26235734]\n",
        " [ 0.62905483 -0.30232708  1.04443226 -0.61782391]]\n",
        "                   A         B         C         D\n",
        "2013-01-01 -0.138947  0.213240  0.674454  0.557542\n",
        "2013-01-02  0.810246 -0.708057  1.630926  1.840861\n",
        "2013-01-03 -2.165512 -0.583681  1.637694 -0.508586\n",
        "2013-01-04  0.924666  1.132948  1.007011 -0.640051\n",
        "2013-01-05 -1.409084  0.620767 -1.134666 -1.367976\n",
        "2013-01-06  0.385168 -1.565315  1.486301 -0.950026\n"
       ]
      }
     ],
     "prompt_number": 3
    }
   ],
   "metadata": {}
  }
 ]
}