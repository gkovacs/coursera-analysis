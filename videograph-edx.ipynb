{
 "metadata": {
  "name": ""
 },
 "nbformat": 3,
 "nbformat_minor": 0,
 "worksheets": [
  {
   "cells": [
    {
     "cell_type": "code",
     "collapsed": false,
     "input": [
      "#import pymysql as db\n",
      "import MySQLdb\n",
      "import sqlite3\n",
      "from pandas import DataFrame\n",
      "from pandas.io.sql import read_frame\n",
      "import json\n",
      "#from pandas.io.pytables import HDFStore, read_hdf\n",
      "#import multiprocessing\n",
      "#pool = multiprocessing.Pool(100)\n",
      "#print pool.map(f, range(10))\n",
      "\n",
      "#tablename = 'course_grades'\n",
      "tablename = 'videos'\n",
      "databasename = 'coursera_eventing_pgm-003'\n",
      "#databasename = 'coursera_pgm-003_anonymized_general'\n",
      "\n",
      "datastage_login = json.load(open('datastage_login.json'))\n",
      "\n",
      "databases = {}\n",
      "\n",
      "def getTableName():\n",
      "  return tablename\n",
      "\n",
      "def getDatabaseName():\n",
      "  return databasename\n",
      "\n",
      "def getDatabase():\n",
      "  if databasename not in databases:\n",
      "    databases[databasename] = MySQLdb.connect(host='datastage.stanford.edu', user=datastage_login['user'], passwd=datastage_login['passwd'], db=databasename)\n",
      "  return databases[databasename]\n",
      "\n",
      "def listDistinct(fieldname, extraquery=''):\n",
      "  data = read_frame(\"select distinct \" + fieldname + \" from \" + getTableName() + \" \" + extraquery, getDatabase())\n",
      "  return [x[0] for x in data[[fieldname]].itertuples(index=False)]\n",
      "\n",
      "def listFields(fieldnames, extraquery=''):\n",
      "  fieldnameString = ','.join(fieldnames)\n",
      "  data = read_frame(\"select \" + fieldnameString + \" from \" + getTableName() + \" \" + extraquery, getDatabase())\n",
      "  return data.itertuples(index=False)\n"
     ],
     "language": "python",
     "metadata": {},
     "outputs": []
    },
    {
     "cell_type": "code",
     "collapsed": false,
     "input": [],
     "language": "python",
     "metadata": {},
     "outputs": []
    }
   ],
   "metadata": {}
  }
 ]
}