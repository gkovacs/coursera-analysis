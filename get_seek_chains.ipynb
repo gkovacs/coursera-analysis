{
 "metadata": {
  "name": "",
  "signature": "sha256:595c3377586229dd42141ce55aaaf2581d4ceafb2645a85eef7462302ee45b9e"
 },
 "nbformat": 3,
 "nbformat_minor": 0,
 "worksheets": [
  {
   "cells": [
    {
     "cell_type": "code",
     "collapsed": false,
     "input": [
      "# noexport\n",
      "\n",
      "import os\n",
      "os.system('export_notebook get_seek_chains.ipynb')"
     ],
     "language": "python",
     "metadata": {},
     "outputs": [
      {
       "metadata": {},
       "output_type": "pyout",
       "prompt_number": 2,
       "text": [
        "0"
       ]
      }
     ],
     "prompt_number": 2
    },
    {
     "cell_type": "code",
     "collapsed": false,
     "input": [
      "from memoized import memoized\n",
      "import cPickle as pickle\n",
      "import os\n",
      "import json\n",
      "\n",
      "@memoized\n",
      "def getSeekChainsFast(lecture_id):\n",
      "  pfile = 'seek_chains_' + str(lecture_id) + '.pickle'\n",
      "  if not os.path.exists(pfile):\n",
      "    raise 'file does not exist: ' + pfile\n",
      "  return pickle.load(open(pfile))\n",
      "\n",
      "@memoized\n",
      "def getPartsPlayedFast(lecture_id):\n",
      "  jfile = 'video_to_parts_played.json'\n",
      "  if not os.path.exists(jfile):\n",
      "    raise 'file does not exist: ' + jfile\n",
      "  return json.load(open(jfile))"
     ],
     "language": "python",
     "metadata": {},
     "outputs": [],
     "prompt_number": 3
    }
   ],
   "metadata": {}
  }
 ]
}