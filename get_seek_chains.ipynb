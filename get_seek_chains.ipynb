{
 "metadata": {
  "name": "",
  "signature": "sha256:86633b21faa50635d2a5eaa33eb90e6665e839c3d2d8fcd2a0ef77756430344c"
 },
 "nbformat": 3,
 "nbformat_minor": 0,
 "worksheets": [
  {
   "cells": [
    {
     "cell_type": "code",
     "collapsed": false,
     "input": [
      "# noexport\n",
      "\n",
      "import os\n",
      "os.system('export_notebook get_seek_chains.ipynb')"
     ],
     "language": "python",
     "metadata": {},
     "outputs": [
      {
       "metadata": {},
       "output_type": "pyout",
       "prompt_number": 2,
       "text": [
        "0"
       ]
      }
     ],
     "prompt_number": 2
    },
    {
     "cell_type": "code",
     "collapsed": false,
     "input": [
      "from memoized import memoized\n",
      "import cPickle as pickle\n",
      "import os\n",
      "import json\n",
      "\n",
      "@memoized\n",
      "def getSeekChainsFast(lecture_id):\n",
      "  pfile = '/lfs/local/0/geza/seek_chains_' + str(lecture_id) + '.pickle'\n",
      "  if not os.path.exists(pfile):\n",
      "    raise 'file does not exist: ' + pfile\n",
      "  return pickle.load(open(pfile))\n",
      "\n",
      "@memoized\n",
      "def getPartsPlayedFast(lecture_id):\n",
      "  jfile = '/lfs/local/0/geza/video_to_parts_played.json'\n",
      "  if not os.path.exists(jfile):\n",
      "    raise 'file does not exist: ' + jfile\n",
      "  return json.load(open(jfile))[str(lecture_id)]"
     ],
     "language": "python",
     "metadata": {},
     "outputs": [],
     "prompt_number": 3
    }
   ],
   "metadata": {}
  }
 ]
}