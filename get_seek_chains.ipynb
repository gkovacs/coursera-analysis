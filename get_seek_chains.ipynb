{
 "metadata": {
  "name": "",
  "signature": "sha256:5842adf7de9c5fb341f263ab76d99971d259fed6666aa05712341e2072dc6abe"
 },
 "nbformat": 3,
 "nbformat_minor": 0,
 "worksheets": [
  {
   "cells": [
    {
     "cell_type": "code",
     "collapsed": false,
     "input": [
      "# noexport\n",
      "\n",
      "import os\n",
      "os.system('export_notebook get_seek_chains.ipynb')"
     ],
     "language": "python",
     "metadata": {},
     "outputs": [
      {
       "metadata": {},
       "output_type": "pyout",
       "prompt_number": 5,
       "text": [
        "0"
       ]
      }
     ],
     "prompt_number": 5
    },
    {
     "cell_type": "code",
     "collapsed": false,
     "input": [
      "from memoized import memoized\n",
      "import cPickle as pickle\n",
      "import os\n",
      "\n",
      "@memoized\n",
      "def getSeekChainsFast(lecture_id):\n",
      "  pfile = 'seek_chains_' + str(lecture_id) + '.pickle'\n",
      "  if not os.path.exists(pfile):\n",
      "    raise 'file does not exist: ' + pfile\n",
      "  return pickle.load(open(pfile))"
     ],
     "language": "python",
     "metadata": {},
     "outputs": [],
     "prompt_number": 3
    }
   ],
   "metadata": {}
  }
 ]
}