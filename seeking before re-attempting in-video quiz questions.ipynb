{
 "cells": [
  {
   "cell_type": "code",
   "execution_count": 155,
   "metadata": {
    "collapsed": true
   },
   "outputs": [],
   "source": [
    "from lectures_to_viewers import getViewersToLectures\n",
    "from video_annotations import ml_004 as vid\n",
    "from get_seek_chains import getSeekChainsFast"
   ]
  },
  {
   "cell_type": "code",
   "execution_count": 156,
   "metadata": {
    "collapsed": true
   },
   "outputs": [],
   "source": [
    "#import cPickle as pickle\n",
    "\n",
    "#video_to_seek_chains = pickle.load(open('/lfs/local/0/geza/new_seek_chains/video_to_seek_chains.pickle'))"
   ]
  },
  {
   "cell_type": "code",
   "execution_count": 157,
   "metadata": {
    "collapsed": true
   },
   "outputs": [],
   "source": [
    "import csv\n",
    "import ujson as json\n",
    "from memoized import memoized\n",
    "\n",
    "@memoized\n",
    "def loadjson(table_name):\n",
    "  return json.load(open('/lfs/local/0/geza/ml-004_data_export/' + table_name + '.json'))\n",
    "\n",
    "def get_table_path(table_name):\n",
    "  csv_path = '/lfs/local/0/geza/ml-004_data_export/'\n",
    "  return csv_path + table_name + '.csv'\n",
    "\n",
    "def get_table_data(table_name):\n",
    "  return csv.DictReader(open(get_table_path(table_name)), doublequote=False, delimiter=',', escapechar='\\\\')\n",
    "\n",
    "def print_first_lines(table_name, n=10):\n",
    "  for x in get_table_data(table_name):\n",
    "    if n <= 0:\n",
    "      break\n",
    "    n -= 1\n",
    "    print x"
   ]
  },
  {
   "cell_type": "code",
   "execution_count": 158,
   "metadata": {
    "collapsed": true
   },
   "outputs": [],
   "source": [
    "import numpy"
   ]
  },
  {
   "cell_type": "code",
   "execution_count": 159,
   "metadata": {
    "collapsed": true
   },
   "outputs": [],
   "source": [
    "lecture_to_user_to_seek_event_timestamps = json.load(open('/lfs/local/0/geza/lecture_to_user_to_seek_event_timestamps.json'))"
   ]
  },
  {
   "cell_type": "code",
   "execution_count": 160,
   "metadata": {
    "collapsed": true
   },
   "outputs": [],
   "source": [
    "lecture_to_user_to_simple_seek_chains = json.load(open('/lfs/local/0/geza/new_seek_chains/lecture_to_user_to_simple_seek_chains.json'))"
   ]
  },
  {
   "cell_type": "code",
   "execution_count": 161,
   "metadata": {
    "collapsed": true
   },
   "outputs": [],
   "source": [
    "lecture_to_user_to_simple_seek_events = json.load(open('/lfs/local/0/geza/new_seek_chains/lecture_to_user_to_simple_seek_events.json'))"
   ]
  },
  {
   "cell_type": "code",
   "execution_count": 213,
   "metadata": {
    "collapsed": true
   },
   "outputs": [],
   "source": [
    "#quiz_to_correct_answer = json.load(open('/lfs/local/0/geza/quiz_to_correct_answer.json'))"
   ]
  },
  {
   "cell_type": "code",
   "execution_count": 214,
   "metadata": {
    "collapsed": true
   },
   "outputs": [],
   "source": [
    "#submission_id_to_answer = json.load(open('/lfs/local/0/geza/submission_id_to_answer.json'))"
   ]
  },
  {
   "cell_type": "code",
   "execution_count": 215,
   "metadata": {
    "collapsed": true
   },
   "outputs": [],
   "source": [
    "submission_id_to_correct = json.load(open('/lfs/local/0/geza/submission_id_to_correct.json'))"
   ]
  },
  {
   "cell_type": "code",
   "execution_count": 162,
   "metadata": {
    "collapsed": true
   },
   "outputs": [],
   "source": [
    "invideo_quiz_itemids = set()\n",
    "\n",
    "for line in get_table_data('quiz_metadata'):\n",
    "  if line['deleted'] != '0':\n",
    "    continue\n",
    "  if line['duration'] != '0':\n",
    "    continue\n",
    "  quiz_id = int(line['id'])\n",
    "  if quiz_id > 144:\n",
    "    continue\n",
    "  if line['quiz_type'] != 'video':\n",
    "    continue\n",
    "  invideo_quiz_itemids.add(quiz_id)\n"
   ]
  },
  {
   "cell_type": "code",
   "execution_count": 163,
   "metadata": {
    "collapsed": true
   },
   "outputs": [],
   "source": [
    "# exclude the quizzes with more than 1 question\n",
    "\n",
    "invideo_quiz_itemids = set([2, 3, 4, 5, 6, 7, 9, 10, 11, 25, 26, 27, 28, 29, 30, 31, 32, 38, 41, 42, 43, 45, 46, 47, 48, 49, 50, 51, 53, 54, 55, 56, 57, 58, 59, 60, 61, 63, 64, 76, 77, 78, 79, 80, 81, 82, 83, 84, 86, 87, 88, 89, 90, 91, 92, 93, 94, 95, 96, 97, 98, 99, 100, 101, 102, 103, 104, 105, 106, 107, 108, 109, 110, 111, 112, 113, 114, 115, 117, 118, 119, 120, 121, 122, 123, 124, 125, 126, 127, 129])"
   ]
  },
  {
   "cell_type": "code",
   "execution_count": 164,
   "metadata": {
    "collapsed": false
   },
   "outputs": [
    {
     "name": "stdout",
     "output_type": "stream",
     "text": [
      "set([2, 3, 4, 5, 6, 7, 9, 10, 11, 25, 26, 27, 28, 29, 30, 31, 32, 38, 41, 42, 43, 45, 46, 47, 48, 49, 50, 51, 53, 54, 55, 56, 57, 58, 59, 60, 61, 63, 64, 76, 77, 78, 79, 80, 81, 82, 83, 84, 86, 87, 88, 89, 90, 91, 92, 93, 94, 95, 96, 97, 98, 99, 100, 101, 102, 103, 104, 105, 106, 107, 108, 109, 110, 111, 112, 113, 114, 115, 117, 118, 119, 120, 121, 122, 123, 124, 125, 126, 127, 129])\n"
     ]
    }
   ],
   "source": [
    "print invideo_quiz_itemids"
   ]
  },
  {
   "cell_type": "code",
   "execution_count": 165,
   "metadata": {
    "collapsed": false
   },
   "outputs": [
    {
     "data": {
      "text/plain": [
       "\"\\nuser_to_quiz_to_attempts = {}\\n\\nfor line in loadjson('kvs_course.quiz.saved'):\\n  key,value = line\\n  parts = key.split('.')\\n  quiz_id = int(parts[1].split(':')[1])\\n  user_id = parts[2].split(':')[1]\\n  timestamp = int(value['saved_time'])\\n  if user_id not in user_to_quiz_to_attempts:\\n    user_to_quiz_to_attempts[user_id] = {}\\n  if quiz_id not in user_to_quiz_to_attempts[user_id]:\\n    user_to_quiz_to_attempts[user_id][quiz_id] = []\\n  else:\\n    print 'duplicates found'\\n    print line\\n    print user_to_quiz_to_attempts[user_id][quiz_id]\\n    break\\n  user_to_quiz_to_attempts[user_id][quiz_id].append(timestamp)\\n\""
      ]
     },
     "execution_count": 165,
     "metadata": {},
     "output_type": "execute_result"
    }
   ],
   "source": [
    "'''\n",
    "user_to_quiz_to_attempts = {}\n",
    "\n",
    "for line in loadjson('kvs_course.quiz.saved'):\n",
    "  key,value = line\n",
    "  parts = key.split('.')\n",
    "  quiz_id = int(parts[1].split(':')[1])\n",
    "  user_id = parts[2].split(':')[1]\n",
    "  timestamp = int(value['saved_time'])\n",
    "  if user_id not in user_to_quiz_to_attempts:\n",
    "    user_to_quiz_to_attempts[user_id] = {}\n",
    "  if quiz_id not in user_to_quiz_to_attempts[user_id]:\n",
    "    user_to_quiz_to_attempts[user_id][quiz_id] = []\n",
    "  else:\n",
    "    print 'duplicates found'\n",
    "    print line\n",
    "    print user_to_quiz_to_attempts[user_id][quiz_id]\n",
    "    break\n",
    "  user_to_quiz_to_attempts[user_id][quiz_id].append(timestamp)\n",
    "'''"
   ]
  },
  {
   "cell_type": "code",
   "execution_count": 166,
   "metadata": {
    "collapsed": true
   },
   "outputs": [],
   "source": [
    "submission_id_to_start_time = {}\n",
    "submission_id_to_saved_time = {}\n",
    "\n",
    "for line in loadjson('kvs_course.quiz.submission'):\n",
    "  key,value = line\n",
    "  parts = key.split('.')\n",
    "  submission_id = int(parts[1].split(':')[1])\n",
    "  #timestamp = int(value['saved_time'])\n",
    "  saved_time = int(value['saved_time'])\n",
    "  start_time = int(value['start_time'])\n",
    "  #submission_id_to_timestamp[submission_id] = timestamp\n",
    "  submission_id_to_start_time[submission_id] = start_time\n",
    "  submission_id_to_saved_time[submission_id] = saved_time\n"
   ]
  },
  {
   "cell_type": "code",
   "execution_count": 167,
   "metadata": {
    "collapsed": false
   },
   "outputs": [],
   "source": [
    "#print user_to_quiz_to_attempts"
   ]
  },
  {
   "cell_type": "code",
   "execution_count": 222,
   "metadata": {
    "collapsed": false
   },
   "outputs": [
    {
     "name": "stdout",
     "output_type": "stream",
     "text": [
      "[u'287144', u'1583071']\n"
     ]
    }
   ],
   "source": [
    "#print submission_id_to_correct.keys()[0:2]"
   ]
  },
  {
   "cell_type": "code",
   "execution_count": 223,
   "metadata": {
    "collapsed": false
   },
   "outputs": [],
   "source": [
    "\n",
    "user_to_quiz_to_attempts = {}\n",
    "\n",
    "for line in get_table_data('quiz_submission_metadata'):\n",
    "  item_id = int(line['item_id'])\n",
    "  submission_id = int(line['id'])\n",
    "  #print line['submission_time']\n",
    "  #if int(line['submission_time']) > 1388538061: # newer than jan 1, 2014\n",
    "  submission_time = int(line['submission_time'])\n",
    "  #if submission_id not in submission_id_to_saved_time:\n",
    "  #  continue\n",
    "  #submission_time = submission_id_to_saved_time[submission_id]\n",
    "  if submission_time > 1391185339: # newer than jan 31, 2014\n",
    "    continue\n",
    "  if str(submission_id) not in submission_id_to_correct:\n",
    "    continue\n",
    "  is_correct = submission_id_to_correct[str(submission_id)]\n",
    "  if item_id not in invideo_quiz_itemids:\n",
    "    continue\n",
    "  user_id = line['session_user_id']\n",
    "  if user_id not in user_to_quiz_to_attempts:\n",
    "    user_to_quiz_to_attempts[user_id] = {}\n",
    "  if item_id not in user_to_quiz_to_attempts[user_id]:\n",
    "    user_to_quiz_to_attempts[user_id][item_id] = []\n",
    "  user_to_quiz_to_attempts[user_id][item_id].append({'timestamp': submission_time, 'correct': is_correct})\n",
    "\n"
   ]
  },
  {
   "cell_type": "code",
   "execution_count": 169,
   "metadata": {
    "collapsed": true
   },
   "outputs": [],
   "source": [
    "lecture_id_to_title = {}\n",
    "lecture_title_to_id = {}\n",
    "\n",
    "for line in get_table_data('lecture_metadata'):\n",
    "  if line['deleted'] != '0':\n",
    "    continue\n",
    "  if line['final'] != '1':\n",
    "    continue\n",
    "  lecture_id = int(line['id'])\n",
    "  if lecture_id > 114:\n",
    "    continue\n",
    "  title = line['title']\n",
    "  lecture_id_to_title[lecture_id] = title\n",
    "  if title in lecture_title_to_id:\n",
    "    print 'duplicate:'\n",
    "    print title\n",
    "    print lecture_id\n",
    "    print lecture_title_to_id[title]\n",
    "    print line\n",
    "  lecture_title_to_id[title] = lecture_id"
   ]
  },
  {
   "cell_type": "code",
   "execution_count": 170,
   "metadata": {
    "collapsed": true
   },
   "outputs": [],
   "source": [
    "quiz_id_to_lecture_title = {}\n",
    "\n",
    "for line in get_table_data('quiz_metadata'):\n",
    "  if line['deleted'] != '0':\n",
    "    continue\n",
    "  if line['duration'] != '0':\n",
    "    continue\n",
    "  quiz_id = int(line['id'])\n",
    "  if quiz_id > 144:\n",
    "    continue\n",
    "  if line['quiz_type'] != 'video':\n",
    "    continue\n",
    "  title = line['title']\n",
    "  quiz_id_to_lecture_title[quiz_id] = title"
   ]
  },
  {
   "cell_type": "code",
   "execution_count": 171,
   "metadata": {
    "collapsed": false
   },
   "outputs": [],
   "source": [
    "lecture_id_to_quizzes = {}\n",
    "quiz_to_lecture_id = {}\n",
    "\n",
    "for quiz_id,lecture_title in quiz_id_to_lecture_title.items():\n",
    "  if lecture_title not in lecture_title_to_id:\n",
    "    print quiz_id\n",
    "    print quiz_id_to_xml[quiz_id]\n",
    "    continue\n",
    "  lecture_id = lecture_title_to_id[lecture_title]\n",
    "  if lecture_id not in lecture_id_to_quizzes:\n",
    "    lecture_id_to_quizzes[lecture_id] = []\n",
    "  lecture_id_to_quizzes[lecture_id].append(quiz_id)\n",
    "  quiz_to_lecture_id[quiz_id] = lecture_id\n"
   ]
  },
  {
   "cell_type": "code",
   "execution_count": 172,
   "metadata": {
    "collapsed": true
   },
   "outputs": [],
   "source": [
    "import xml.etree.ElementTree as et"
   ]
  },
  {
   "cell_type": "code",
   "execution_count": 173,
   "metadata": {
    "collapsed": false
   },
   "outputs": [],
   "source": [
    "quiz_id_to_video_time = {}\n",
    "\n",
    "for key,value in loadjson('kvs_course.quiz.xml'):\n",
    "  try:\n",
    "    tree = et.fromstring(value.encode('utf-8'))\n",
    "    time = list(tree.iter('video'))[0].get('time') #.text\n",
    "    time = float(time)\n",
    "    parts = key.split('.')\n",
    "    quiz_id = parts[1].split(':')[1]\n",
    "    quiz_id = int(quiz_id)\n",
    "    quiz_id_to_video_time[quiz_id] = time\n",
    "  except:\n",
    "    continue"
   ]
  },
  {
   "cell_type": "code",
   "execution_count": 174,
   "metadata": {
    "collapsed": true
   },
   "outputs": [],
   "source": [
    "lecture_id_to_quiz_times = {}\n",
    "\n",
    "for lecture_id,quizzes in lecture_id_to_quizzes.items():\n",
    "  lecture_id_to_quiz_times[lecture_id] = []\n",
    "  for quiz_id in quizzes:\n",
    "    quiz_time = quiz_id_to_video_time[quiz_id]\n",
    "    lecture_id_to_quiz_times[lecture_id].append(quiz_time)"
   ]
  },
  {
   "cell_type": "code",
   "execution_count": 175,
   "metadata": {
    "collapsed": false
   },
   "outputs": [
    {
     "name": "stdout",
     "output_type": "stream",
     "text": [
      "{2: [194.5], 3: [678.5], 4: [780.5], 5: [278.5], 6: [132.5], 7: [412.4], 9: [544.4], 10: [484.5], 11: [648.0], 13: [146.3], 14: [111.5], 15: [315.0], 16: [453.5], 17: [519.3], 18: [578.0], 19: [204.0], 20: [81.5], 21: [514.5], 22: [411.8], 23: [395.1], 24: [524.6], 25: [0.0], 26: [0.0], 27: [0.0], 28: [0.0], 29: [0.0], 30: [787.8], 31: [0.0], 32: [0.0], 33: [427.5], 34: [338.9], 35: [587.7], 36: [523.6], 37: [794.5], 38: [361.5], 39: [363.8], 40: [479.7], 41: [222.3], 42: [234.6], 43: [534.7], 44: [0.0], 45: [702.3], 46: [651.0], 47: [375.6], 48: [151.6], 49: [211.5], 50: [392.5], 51: [687.6], 52: [731.8], 53: [227.8], 54: [301.0], 55: [375.6], 56: [718.6], 57: [0.0], 58: [10.0], 59: [331.6], 60: [167.6], 61: [682.7], 62: [428.0], 63: [467.6], 64: [703.7], 65: [361.8], 66: [467.7], 67: [546.8], 68: [585.7], 69: [779.6], 70: [626.7], 71: [831.6], 72: [432.6], 73: [1166.8], 74: [662.8], 75: [931.4], 76: [770.7], 77: [185.0], 78: [432.6], 79: [384.7], 80: [440.7], 81: [269.5], 82: [587.7], 83: [300.6], 84: [520.7], 85: [861.7], 86: [597.7], 87: [196.5], 88: [728.6], 89: [442.7], 90: [595.8], 91: [273.5], 92: [611.6], 93: [422.4], 95: [710.6], 96: [799.7], 97: [823.7], 98: [464.7], 99: [373.6], 100: [276.8], 101: [486.3], 102: [311.7], 103: [498.5], 104: [204.5], 105: [787.5], 106: [346.8], 107: [658.6], 108: [724.6], 109: [809.6], 110: [397.6], 111: [644.5], 112: [557.6], 113: [753.6], 114: [0.0]}\n"
     ]
    }
   ],
   "source": [
    "print lecture_id_to_quiz_times"
   ]
  },
  {
   "cell_type": "code",
   "execution_count": 176,
   "metadata": {
    "collapsed": false
   },
   "outputs": [
    {
     "name": "stdout",
     "output_type": "stream",
     "text": [
      "{2: 194.5, 3: 678.5, 4: 780.5, 5: 278.5, 6: 132.5, 7: 412.4, 8: 0.0, 9: 544.4, 10: 484.5, 11: 648.0, 12: 0.0, 13: 0.0, 21: 146.3, 22: 111.5, 23: 315.0, 24: 453.5, 25: 519.3, 26: 578.0, 27: 204.0, 28: 81.5, 29: 514.5, 30: 411.8, 31: 395.1, 32: 524.6, 33: 0.0, 34: 0.0, 35: 0.0, 36: 0.0, 37: 0.0, 38: 787.8, 39: 0.0, 40: 0.0, 41: 427.5, 42: 338.9, 43: 587.7, 44: 523.6, 45: 794.5, 46: 361.5, 47: 363.8, 48: 479.7, 49: 222.3, 50: 234.6, 51: 534.7, 52: 0.0, 53: 702.3, 54: 651.0, 55: 375.6, 56: 151.6, 57: 211.5, 58: 392.5, 59: 687.6, 60: 731.8, 61: 227.8, 62: 301.0, 63: 375.6, 64: 718.6, 65: 0.0, 72: 10.0, 76: 331.6, 77: 167.6, 78: 682.7, 79: 428.0, 80: 467.6, 81: 703.7, 82: 361.8, 83: 467.7, 84: 546.8, 85: 585.7, 86: 779.6, 87: 626.7, 88: 831.6, 89: 432.6, 90: 1166.8, 91: 662.8, 92: 931.4, 93: 770.7, 94: 185.0, 95: 432.6, 96: 384.7, 97: 440.7, 98: 269.5, 99: 587.7, 100: 300.6, 101: 520.7, 102: 861.7, 103: 597.7, 104: 196.5, 105: 728.6, 106: 442.7, 107: 595.8, 108: 273.5, 109: 611.6, 110: 422.4, 111: 710.6, 112: 799.7, 113: 823.7, 114: 464.7, 115: 373.6, 116: 276.8, 117: 486.3, 118: 311.7, 119: 498.5, 120: 204.5, 121: 787.5, 122: 346.8, 123: 658.6, 124: 724.6, 125: 809.6, 126: 397.6, 127: 644.5, 128: 557.6, 129: 753.6, 130: 0.0, 131: 0.0, 146: 194.5, 147: 678.5, 148: 780.5, 149: 278.5, 150: 132.5, 151: 412.4, 152: 0.0, 153: 544.4, 154: 484.5, 155: 648.0, 156: 0.0, 157: 0.0, 165: 146.3, 166: 111.5, 167: 315.0, 168: 453.5, 169: 519.3, 170: 578.0, 171: 204.0, 172: 81.5, 173: 514.5, 174: 411.8, 175: 395.1, 176: 524.6, 177: 0.0, 178: 0.0, 179: 0.0, 180: 0.0, 181: 0.0, 182: 787.8, 183: 0.0, 184: 0.0, 185: 427.5, 186: 338.9, 187: 587.7, 188: 523.6, 189: 794.5, 190: 361.5, 191: 363.8, 192: 479.7, 193: 222.3, 194: 234.6, 195: 534.7, 196: 0.0, 197: 702.3, 198: 651.0, 199: 375.6, 200: 151.6, 201: 211.5, 202: 392.5, 203: 687.6, 204: 731.8, 205: 227.8, 206: 301.0, 207: 375.6, 208: 718.6, 209: 0.0, 216: 10.0, 220: 331.6, 221: 167.6, 222: 682.7, 223: 428.0, 224: 467.6, 225: 703.7, 226: 361.8, 227: 467.7, 228: 546.8, 229: 585.7, 230: 779.6, 231: 626.7, 232: 831.6, 233: 432.6, 234: 1166.8, 235: 662.8, 236: 931.4, 237: 770.7, 238: 185.0, 239: 432.6, 240: 384.7, 241: 440.7, 242: 269.5, 243: 587.7, 244: 300.6, 245: 520.7, 246: 861.7, 247: 597.7, 248: 196.5, 249: 728.6, 250: 442.7, 251: 595.8, 252: 273.5, 253: 611.6, 254: 422.4, 255: 710.6, 256: 799.7, 257: 823.7, 258: 464.7, 259: 373.6, 260: 276.8, 261: 486.3, 262: 311.7, 263: 498.5, 264: 204.5, 265: 787.5, 266: 346.8, 267: 658.6, 268: 724.6, 269: 809.6, 270: 397.6, 271: 644.5, 272: 557.6, 273: 753.6, 274: 0.0, 275: 0.0}\n"
     ]
    }
   ],
   "source": [
    "print quiz_id_to_video_time"
   ]
  },
  {
   "cell_type": "code",
   "execution_count": 177,
   "metadata": {
    "collapsed": true
   },
   "outputs": [],
   "source": [
    "#quiz_2_answer_distributions = {}\n",
    "\n",
    "#for key,value in loadjson('kvs_course.quiz.saved'):\n",
    "#  print key\n",
    "#  print value\n",
    "#  break"
   ]
  },
  {
   "cell_type": "markdown",
   "metadata": {
    "collapsed": false
   },
   "source": [
    "# what percent of quiz attempts are correct?"
   ]
  },
  {
   "cell_type": "code",
   "execution_count": 220,
   "metadata": {
    "collapsed": false
   },
   "outputs": [
    {
     "name": "stdout",
     "output_type": "stream",
     "text": [
      "1266433\n"
     ]
    }
   ],
   "source": [
    "#print len(submission_id_to_correct)"
   ]
  },
  {
   "cell_type": "code",
   "execution_count": 224,
   "metadata": {
    "collapsed": false
   },
   "outputs": [
    {
     "name": "stdout",
     "output_type": "stream",
     "text": [
      "889665\n",
      "345440\n"
     ]
    }
   ],
   "source": [
    "total_correct_attempts = 0\n",
    "total_incorrect_attempts = 0\n",
    "\n",
    "for user,quiz_to_attempts in user_to_quiz_to_attempts.items():\n",
    "  for quiz_id,attempts in quiz_to_attempts.items():\n",
    "    incorrect_attempts = [x for x in attempts if not x['correct']]\n",
    "    correct_attempts = [x for x in attempts if x['correct']]\n",
    "    total_correct_attempts += len(correct_attempts)\n",
    "    total_incorrect_attempts += len(incorrect_attempts)\n",
    "\n"
   ]
  },
  {
   "cell_type": "code",
   "execution_count": 225,
   "metadata": {
    "collapsed": false
   },
   "outputs": [
    {
     "name": "stdout",
     "output_type": "stream",
     "text": [
      "0.720315276839\n",
      "0.279684723161\n"
     ]
    }
   ],
   "source": [
    "print total_correct_attempts / float(total_correct_attempts + total_incorrect_attempts)\n",
    "print total_incorrect_attempts / float(total_correct_attempts + total_incorrect_attempts)"
   ]
  },
  {
   "cell_type": "code",
   "execution_count": 230,
   "metadata": {
    "collapsed": true
   },
   "outputs": [],
   "source": [
    "correct_on_first_try = 0\n",
    "incorrect_on_first_try = 0\n",
    "\n",
    "for user,quiz_to_attempts in user_to_quiz_to_attempts.items():\n",
    "  for quiz_id,attempts in quiz_to_attempts.items():\n",
    "    first_attempt = attempts[0]\n",
    "    if first_attempt['correct']:\n",
    "      correct_on_first_try += 1\n",
    "    else:\n",
    "      incorrect_on_first_try += 1"
   ]
  },
  {
   "cell_type": "code",
   "execution_count": 231,
   "metadata": {
    "collapsed": false
   },
   "outputs": [
    {
     "name": "stdout",
     "output_type": "stream",
     "text": [
      "0.759937807478\n"
     ]
    }
   ],
   "source": [
    "print correct_on_first_try / float(correct_on_first_try + incorrect_on_first_try)"
   ]
  },
  {
   "cell_type": "code",
   "execution_count": 233,
   "metadata": {
    "collapsed": true
   },
   "outputs": [],
   "source": [
    "def num_incorrect_attempts_before_correct(attempts):\n",
    "  idx = 0\n",
    "  for x in attempts:\n",
    "    if x['correct']:\n",
    "      return idx\n",
    "    idx += 1\n",
    "  return None"
   ]
  },
  {
   "cell_type": "code",
   "execution_count": 371,
   "metadata": {
    "collapsed": true
   },
   "outputs": [],
   "source": [
    "def get_incorrect_attempts(attempts):\n",
    "  incorrect_attempts_before_correct = []\n",
    "  if len(attempts) == 0:\n",
    "    return []\n",
    "  if attempts[0]['correct']:\n",
    "    return []\n",
    "  first_attempt = attempts[0]['timestamp']\n",
    "  for x in attempts:\n",
    "    timestamp = x['timestamp']\n",
    "    time_finding_answer = timestamp - first_attempt\n",
    "    if time_finding_answer > 1800:\n",
    "      break\n",
    "    if time_finding_answer < 0:\n",
    "      break\n",
    "    if x['correct']:\n",
    "      break\n",
    "    incorrect_attempts_before_correct.append(x)\n",
    "  return incorrect_attempts_before_correct"
   ]
  },
  {
   "cell_type": "code",
   "execution_count": 348,
   "metadata": {
    "collapsed": false
   },
   "outputs": [],
   "source": [
    "num_incorrect_attempts = []\n",
    "\n",
    "for user,quiz_to_attempts in user_to_quiz_to_attempts.items():\n",
    "  for quiz_id,attempts in quiz_to_attempts.items():\n",
    "    if attempts[0]['correct']:\n",
    "      continue\n",
    "    first_attempt = attempts[0]['timestamp']\n",
    "    incorrect_attempts_before_correct = get_incorrect_attempts(attempts)\n",
    "    num_incorrect_attempts.append(len(incorrect_attempts_before_correct))\n"
   ]
  },
  {
   "cell_type": "code",
   "execution_count": 349,
   "metadata": {
    "collapsed": false
   },
   "outputs": [
    {
     "name": "stdout",
     "output_type": "stream",
     "text": [
      "1.53765015971\n"
     ]
    }
   ],
   "source": [
    "print numpy.mean(num_incorrect_attempts)"
   ]
  },
  {
   "cell_type": "code",
   "execution_count": 374,
   "metadata": {
    "collapsed": false
   },
   "outputs": [],
   "source": [
    "num_incorrect_attempts_before_correct_log = []\n",
    "num_incorrect_v2 = []\n",
    "\n",
    "for user,quiz_to_attempts in user_to_quiz_to_attempts.items():\n",
    "  for quiz_id,attempts in quiz_to_attempts.items():\n",
    "    if attempts[0]['correct']:\n",
    "      continue\n",
    "    correct_attempts = [x for x in attempts if x['correct']]\n",
    "    incorrect_attempts = [x for x in attempts if not x['correct']]\n",
    "    if len(correct_attempts) == 0: # never got it right\n",
    "      continue\n",
    "    first_incorrect = incorrect_attempts[0]\n",
    "    first_correct = correct_attempts[0]\n",
    "    time_finding_answer = first_correct['timestamp'] - first_incorrect['timestamp']\n",
    "    if time_finding_answer < 0:\n",
    "      continue\n",
    "    if time_finding_answer > 1800: # more than 30 minutes\n",
    "      continue\n",
    "    incorrect_before_correct = num_incorrect_attempts_before_correct(attempts)\n",
    "    num_incorrect_attempts_before_correct_log.append(incorrect_before_correct)\n",
    "    num_incorrect_v2.append(len(get_incorrect_attempts(attempts)))\n"
   ]
  },
  {
   "cell_type": "code",
   "execution_count": 375,
   "metadata": {
    "collapsed": false
   },
   "outputs": [
    {
     "name": "stdout",
     "output_type": "stream",
     "text": [
      "1.28052402482\n"
     ]
    }
   ],
   "source": [
    "print numpy.mean(num_incorrect_v2)"
   ]
  },
  {
   "cell_type": "code",
   "execution_count": 376,
   "metadata": {
    "collapsed": false
   },
   "outputs": [
    {
     "name": "stdout",
     "output_type": "stream",
     "text": [
      "1.28052402482\n"
     ]
    }
   ],
   "source": [
    "print numpy.mean(num_incorrect_attempts_before_correct_log)"
   ]
  },
  {
   "cell_type": "code",
   "execution_count": 377,
   "metadata": {
    "collapsed": false
   },
   "outputs": [
    {
     "name": "stdout",
     "output_type": "stream",
     "text": [
      "0.724568322832\n"
     ]
    }
   ],
   "source": [
    "print len([x for x in num_incorrect_attempts_before_correct_log if x == 1]) / float(len(num_incorrect_attempts_before_correct_log))"
   ]
  },
  {
   "cell_type": "code",
   "execution_count": 379,
   "metadata": {
    "collapsed": false
   },
   "outputs": [
    {
     "name": "stdout",
     "output_type": "stream",
     "text": [
      "0.275431677168\n"
     ]
    }
   ],
   "source": [
    "print len([x for x in num_incorrect_attempts_before_correct_log if x >= 2]) / float(len(num_incorrect_attempts_before_correct_log))"
   ]
  },
  {
   "cell_type": "code",
   "execution_count": 380,
   "metadata": {
    "collapsed": false
   },
   "outputs": [],
   "source": [
    "incorrect_answer_will_eventually_get_correct = 0\n",
    "incorrect_answer_will_eventually_get_correct_within_30 = 0\n",
    "incorrect_answer_total = 0\n",
    "\n",
    "num_attempts_by_users_who_never_got_correct = []\n",
    "time_before_final_attempt = []\n",
    "\n",
    "for user,quiz_to_attempts in user_to_quiz_to_attempts.items():\n",
    "  for quiz_id,attempts in quiz_to_attempts.items():\n",
    "    incorrect_attempts = [x for x in attempts if not x['correct']]\n",
    "    correct_attempts = [x for x in attempts if x['correct']]\n",
    "    if len(incorrect_attempts) == 0:\n",
    "      continue\n",
    "    incorrect_answer_total += 1\n",
    "    if len(correct_attempts) == 0:\n",
    "      first_incorrect_attempt_time = incorrect_attempts[0]['timestamp']\n",
    "      incorrect_attempts_within_30min = [x for x in incorrect_attempts if abs(x['timestamp'] - first_incorrect_attempt_time) < 1800]\n",
    "      num_attempts_by_users_who_never_got_correct.append(len(incorrect_attempts_within_30min))\n",
    "      final_incorrect_attempt_time = incorrect_attempts_within_30min[len(incorrect_attempts_within_30min) - 1]['timestamp']\n",
    "      time_before_final_attempt.append(final_incorrect_attempt_time - first_incorrect_attempt_time)\n",
    "      continue\n",
    "    first_incorrect = incorrect_attempts[0]\n",
    "    first_correct = correct_attempts[0]\n",
    "    time_finding_answer = first_correct['timestamp'] - first_incorrect['timestamp']\n",
    "    if time_finding_answer < 0:\n",
    "      continue\n",
    "    incorrect_answer_will_eventually_get_correct += 1\n",
    "    if time_finding_answer > 1800: # more than 30 minutes\n",
    "      continue\n",
    "    incorrect_answer_will_eventually_get_correct_within_30 += 1"
   ]
  },
  {
   "cell_type": "code",
   "execution_count": 381,
   "metadata": {
    "collapsed": false
   },
   "outputs": [
    {
     "name": "stdout",
     "output_type": "stream",
     "text": [
      "2.6800993571\n"
     ]
    }
   ],
   "source": [
    "print numpy.mean([min(x, 3) for x in num_attempts_by_users_who_never_got_correct])"
   ]
  },
  {
   "cell_type": "code",
   "execution_count": 382,
   "metadata": {
    "collapsed": false
   },
   "outputs": [
    {
     "name": "stdout",
     "output_type": "stream",
     "text": [
      "13.0 28.7566627703 71.2196872738\n"
     ]
    }
   ],
   "source": [
    "print numpy.median(time_before_final_attempt), numpy.mean(time_before_final_attempt), numpy.std(time_before_final_attempt)"
   ]
  },
  {
   "cell_type": "code",
   "execution_count": null,
   "metadata": {
    "collapsed": true
   },
   "outputs": [],
   "source": []
  },
  {
   "cell_type": "code",
   "execution_count": 298,
   "metadata": {
    "collapsed": false
   },
   "outputs": [
    {
     "name": "stdout",
     "output_type": "stream",
     "text": [
      "0.13813559322\n",
      "0.0436294564582\n",
      "0.818234950321\n"
     ]
    }
   ],
   "source": [
    "print len([x for x in num_attempts_by_users_who_never_got_correct if x == 1]) / float(len(num_attempts_by_users_who_never_got_correct))\n",
    "print len([x for x in num_attempts_by_users_who_never_got_correct if x == 2]) / float(len(num_attempts_by_users_who_never_got_correct))\n",
    "print len([x for x in num_attempts_by_users_who_never_got_correct if x >= 3]) / float(len(num_attempts_by_users_who_never_got_correct))"
   ]
  },
  {
   "cell_type": "code",
   "execution_count": null,
   "metadata": {
    "collapsed": true
   },
   "outputs": [],
   "source": []
  },
  {
   "cell_type": "code",
   "execution_count": null,
   "metadata": {
    "collapsed": true
   },
   "outputs": [],
   "source": []
  },
  {
   "cell_type": "code",
   "execution_count": null,
   "metadata": {
    "collapsed": true
   },
   "outputs": [],
   "source": []
  },
  {
   "cell_type": "code",
   "execution_count": 287,
   "metadata": {
    "collapsed": false
   },
   "outputs": [
    {
     "name": "stdout",
     "output_type": "stream",
     "text": [
      "0.764962080273\n",
      "0.781371732902\n"
     ]
    }
   ],
   "source": [
    "print incorrect_answer_will_eventually_get_correct_within_30 / float(incorrect_answer_total)\n",
    "print incorrect_answer_will_eventually_get_correct / float(incorrect_answer_total)"
   ]
  },
  {
   "cell_type": "code",
   "execution_count": 283,
   "metadata": {
    "collapsed": false
   },
   "outputs": [
    {
     "name": "stdout",
     "output_type": "stream",
     "text": [
      "0.764962080273\n"
     ]
    }
   ],
   "source": []
  },
  {
   "cell_type": "code",
   "execution_count": 383,
   "metadata": {
    "collapsed": false
   },
   "outputs": [],
   "source": [
    "time_until_first_correct_answer = []\n",
    "\n",
    "incorrect_answer_will_eventually_get_correct = 0\n",
    "incorrect_answer_total = 0\n",
    "\n",
    "for user,quiz_to_attempts in user_to_quiz_to_attempts.items():\n",
    "  for quiz_id,attempts in quiz_to_attempts.items():\n",
    "    incorrect_attempts = [x for x in attempts if not x['correct']]\n",
    "    correct_attempts = [x for x in attempts if x['correct']]\n",
    "    if len(incorrect_attempts) == 0:\n",
    "      continue\n",
    "    if len(correct_attempts) == 0:\n",
    "      continue\n",
    "    first_incorrect = incorrect_attempts[0]\n",
    "    first_correct = correct_attempts[0]\n",
    "    time_finding_answer = first_correct['timestamp'] - first_incorrect['timestamp']\n",
    "    if time_finding_answer < 0:\n",
    "      continue\n",
    "    if time_finding_answer > 1800: # more than 30 minutes\n",
    "      continue\n",
    "    time_until_first_correct_answer.append(time_finding_answer)\n",
    "    "
   ]
  },
  {
   "cell_type": "code",
   "execution_count": 384,
   "metadata": {
    "collapsed": false,
    "scrolled": true
   },
   "outputs": [
    {
     "name": "stdout",
     "output_type": "stream",
     "text": [
      "13.0\n"
     ]
    }
   ],
   "source": [
    "print numpy.median(time_until_first_correct_answer)"
   ]
  },
  {
   "cell_type": "code",
   "execution_count": 385,
   "metadata": {
    "collapsed": false
   },
   "outputs": [
    {
     "name": "stdout",
     "output_type": "stream",
     "text": [
      "31.6895712087\n"
     ]
    }
   ],
   "source": [
    "print numpy.mean(time_until_first_correct_answer)"
   ]
  },
  {
   "cell_type": "code",
   "execution_count": 386,
   "metadata": {
    "collapsed": false
   },
   "outputs": [
    {
     "name": "stdout",
     "output_type": "stream",
     "text": [
      "85.0110866759\n"
     ]
    }
   ],
   "source": [
    "print numpy.std(time_until_first_correct_answer)"
   ]
  },
  {
   "cell_type": "code",
   "execution_count": 387,
   "metadata": {
    "collapsed": false
   },
   "outputs": [
    {
     "name": "stdout",
     "output_type": "stream",
     "text": [
      "13.0\n",
      "31.1891218063\n",
      "82.8278363272\n"
     ]
    }
   ],
   "source": [
    "combined_distribution = time_before_final_attempt + time_until_first_correct_answer\n",
    "print numpy.median(combined_distribution)\n",
    "print numpy.mean(combined_distribution)\n",
    "print numpy.std(combined_distribution)"
   ]
  },
  {
   "cell_type": "code",
   "execution_count": 271,
   "metadata": {
    "collapsed": false,
    "scrolled": true
   },
   "outputs": [
    {
     "ename": "SyntaxError",
     "evalue": "invalid syntax (<ipython-input-271-5f84ff5b2405>, line 1)",
     "output_type": "error",
     "traceback": [
      "\u001b[1;36m  File \u001b[1;32m\"<ipython-input-271-5f84ff5b2405>\"\u001b[1;36m, line \u001b[1;32m1\u001b[0m\n\u001b[1;33m    print correct_on_first_try / float(correct_on_first_try + )\u001b[0m\n\u001b[1;37m                                                              ^\u001b[0m\n\u001b[1;31mSyntaxError\u001b[0m\u001b[1;31m:\u001b[0m invalid syntax\n"
     ]
    }
   ],
   "source": [
    "#print correct_on_first_try / float(correct_on_first_try + )"
   ]
  },
  {
   "cell_type": "code",
   "execution_count": 277,
   "metadata": {
    "collapsed": false
   },
   "outputs": [
    {
     "name": "stdout",
     "output_type": "stream",
     "text": [
      "0.764962080273\n"
     ]
    }
   ],
   "source": [
    "print incorrect_answer_will_eventually_get_correct / float(incorrect_answer_total)"
   ]
  },
  {
   "cell_type": "markdown",
   "metadata": {},
   "source": [
    "# what % of the time do users seek before they try re-answering the question?"
   ]
  },
  {
   "cell_type": "code",
   "execution_count": null,
   "metadata": {
    "collapsed": true
   },
   "outputs": [],
   "source": [
    "time_until_first_correct_answer = []\n",
    "\n",
    "incorrect_answer_will_eventually_get_correct = 0\n",
    "incorrect_answer_total = 0\n",
    "\n",
    "for user,quiz_to_attempts in user_to_quiz_to_attempts.items():\n",
    "  for quiz_id,attempts in quiz_to_attempts.items():\n",
    "    incorrect_attempts = [x for x in attempts if not x['correct']]\n",
    "    correct_attempts = [x for x in attempts if x['correct']]\n",
    "    if len(incorrect_attempts) == 0:\n",
    "      continue\n",
    "    if len(correct_attempts) == 0:\n",
    "      continue\n",
    "    first_incorrect = incorrect_attempts[0]['timestamp']\n",
    "    first_correct = correct_attempts[0]['timestamp']\n",
    "    time_finding_answer = first_correct - first_incorrect\n",
    "    if time_finding_answer < 0:\n",
    "      continue\n",
    "    if time_finding_answer > 1800: # more than 30 minutes\n",
    "      continue\n",
    "    #time_until_first_correct_answer.append(time_finding_answer)\n",
    "    "
   ]
  },
  {
   "cell_type": "code",
   "execution_count": null,
   "metadata": {
    "collapsed": true
   },
   "outputs": [],
   "source": [
    "num_quiz_attempts_total = 0\n",
    "num_quiz_attempts_withseek = 0\n",
    "num_quiz_attempts_withseek_forward = 0\n",
    "num_quiz_attempts_withseek_backward = 0\n",
    "\n",
    "time_spent_withseek = []\n",
    "time_spent_noseek = []\n",
    "\n",
    "exit_loop = False\n",
    "\n",
    "for user,quiz_to_attempts in user_to_quiz_to_attempts.items():\n",
    "  for quiz_id,attempts in quiz_to_attempts.items():\n",
    "    if exit_loop:\n",
    "      break\n",
    "    incorrect_attempts = [x for x in attempts if not x['correct']]\n",
    "    correct_attempts = [x for x in attempts if x['correct']]\n",
    "    if len(incorrect_attempts) == 0:\n",
    "      continue\n",
    "    if len(correct_attempts) == 0:\n",
    "      continue\n",
    "    first_incorrect_attempt = incorrect_attempts[0]['timestamp']\n",
    "    first_correct_attempt = correct_attempts[0]['timestamp']\n",
    "    time_finding_answer = first_correct_attempt - first_incorrect_attempt\n",
    "    if time_finding_answer < 0:\n",
    "      continue\n",
    "    if time_finding_answer > 1800: # more than 30 minutes\n",
    "      continue\n",
    "    lecture_id = quiz_to_lecture_id[int(quiz_id)]\n",
    "    if int(lecture_id) not in lectures_with_single_invideo_quiz:\n",
    "      continue\n",
    "    video_time = quiz_id_to_video_time[int(quiz_id)]\n",
    "    is_seeker = False\n",
    "    if user in lecture_to_user_to_simple_seek_chains[str(lecture_id)]:\n",
    "      num_quiz_attempts_total += 1\n",
    "      seek_events = lecture_to_user_to_simple_seek_chains[str(lecture_id)][user]\n",
    "      for x in seek_events:\n",
    "        if exit_loop:\n",
    "          break\n",
    "        timestamp = x['timestamp']\n",
    "        if int(first_incorrect_attempt)*1000 <= int(timestamp) <= int(first_correct_attempt)*1000:\n",
    "          num_quiz_attempts_withseek += 1\n",
    "          direction = 'forward'\n",
    "          if float(x['end']) < video_time:\n",
    "            direction = 'backward'\n",
    "          if direction == 'forward':\n",
    "            num_quiz_attempts_withseek_forward += 1\n",
    "          else:\n",
    "            num_quiz_attempts_withseek_backward += 1\n",
    "          time_spent_withseek.append(time_finding_answer)\n",
    "          is_seeker = True\n",
    "          break\n",
    "    if not is_seeker:\n",
    "      time_spent_noseek.append(time_finding_answer)"
   ]
  },
  {
   "cell_type": "code",
   "execution_count": 354,
   "metadata": {
    "collapsed": false
   },
   "outputs": [],
   "source": [
    "num_quiz_attempts_total = 0\n",
    "num_quiz_attempts_withseek = 0\n",
    "num_quiz_attempts_withseek_forward = 0\n",
    "num_quiz_attempts_withseek_backward = 0\n",
    "\n",
    "time_spent_withseek_forward = []\n",
    "time_spent_withseek_backward = []\n",
    "time_spent_withseek = []\n",
    "time_spent_noseek = []\n",
    "\n",
    "incorrect_attempts_noseek = []\n",
    "incorrect_attempts_withseek = []\n",
    "incorrect_attempts_withseek_forward = []\n",
    "incorrect_attempts_withseek_backward = []\n",
    "\n",
    "exit_loop = False\n",
    "\n",
    "for user,quiz_to_attempts in user_to_quiz_to_attempts.items():\n",
    "  for quiz_id,attempts in quiz_to_attempts.items():\n",
    "    if exit_loop:\n",
    "      break\n",
    "    incorrect_attempts = [x for x in attempts if not x['correct']]\n",
    "    correct_attempts = [x for x in attempts if x['correct']]\n",
    "    if len(incorrect_attempts) == 0:\n",
    "      continue\n",
    "    if len(correct_attempts) == 0:\n",
    "      continue\n",
    "    first_incorrect_attempt = incorrect_attempts[0]['timestamp']\n",
    "    first_correct_attempt = correct_attempts[0]['timestamp']\n",
    "    time_finding_answer = first_correct_attempt - first_incorrect_attempt\n",
    "    if time_finding_answer < 0:\n",
    "      continue\n",
    "    if time_finding_answer > 1800: # more than 30 minutes\n",
    "      continue\n",
    "    lecture_id = quiz_to_lecture_id[int(quiz_id)]\n",
    "    if int(lecture_id) not in lectures_with_single_invideo_quiz:\n",
    "      continue\n",
    "    video_time = quiz_id_to_video_time[int(quiz_id)]\n",
    "    is_seeker = False\n",
    "    if user in lecture_to_user_to_simple_seek_chains[str(lecture_id)]:\n",
    "      num_quiz_attempts_total += 1\n",
    "      seek_events = lecture_to_user_to_simple_seek_chains[str(lecture_id)][user]\n",
    "      for x in seek_events:\n",
    "        if exit_loop:\n",
    "          break\n",
    "        timestamp = x['timestamp']\n",
    "        if int(first_incorrect_attempt)*1000 <= int(timestamp) <= int(first_correct_attempt)*1000:\n",
    "          num_quiz_attempts_withseek += 1\n",
    "          direction = 'forward'\n",
    "          if float(x['end']) < video_time:\n",
    "            direction = 'backward'\n",
    "          if direction == 'forward':\n",
    "            time_spent_withseek_forward.append(time_finding_answer)\n",
    "            incorrect_attempts_withseek_forward.append(len(get_incorrect_attempts(attempts)))\n",
    "            num_quiz_attempts_withseek_forward += 1\n",
    "          else:\n",
    "            time_spent_withseek_backward.append(time_finding_answer)\n",
    "            incorrect_attempts_withseek_backward.append(len(get_incorrect_attempts(attempts)))\n",
    "            num_quiz_attempts_withseek_backward += 1\n",
    "          time_spent_withseek.append(time_finding_answer)\n",
    "          incorrect_attempts_withseek.append(len(get_incorrect_attempts(attempts)))\n",
    "          is_seeker = True\n",
    "          break\n",
    "    if not is_seeker:\n",
    "      incorrect_attempts_noseek.append(len(get_incorrect_attempts(attempts)))\n",
    "      time_spent_noseek.append(time_finding_answer)"
   ]
  },
  {
   "cell_type": "code",
   "execution_count": 355,
   "metadata": {
    "collapsed": false
   },
   "outputs": [
    {
     "name": "stdout",
     "output_type": "stream",
     "text": [
      "1.28037921794\n",
      "1.50634755463\n",
      "1.50718421617\n",
      "1.47887323944\n"
     ]
    }
   ],
   "source": [
    "print numpy.mean(incorrect_attempts_noseek)\n",
    "print numpy.mean(incorrect_attempts_withseek)\n",
    "print numpy.mean(incorrect_attempts_withseek_backward)\n",
    "print numpy.mean(incorrect_attempts_withseek_forward)"
   ]
  },
  {
   "cell_type": "code",
   "execution_count": 329,
   "metadata": {
    "collapsed": false
   },
   "outputs": [
    {
     "name": "stdout",
     "output_type": "stream",
     "text": [
      "116.0 217.312674244 275.133412405\n",
      "56.0 229.11971831 367.163614034\n"
     ]
    }
   ],
   "source": [
    "\n",
    "print numpy.median(time_spent_withseek_backward), numpy.mean(time_spent_withseek_backward), numpy.std(time_spent_withseek_backward)\n",
    "print numpy.median(time_spent_withseek_forward), numpy.mean(time_spent_withseek_forward), numpy.std(time_spent_withseek_forward)\n",
    "\n"
   ]
  },
  {
   "cell_type": "code",
   "execution_count": 262,
   "metadata": {
    "collapsed": false
   },
   "outputs": [
    {
     "name": "stdout",
     "output_type": "stream",
     "text": [
      "115.0 217.661602497 278.297081012\n",
      "11.0 22.9780518495 53.3400393008\n"
     ]
    }
   ],
   "source": [
    "print numpy.median(time_spent_withseek), numpy.mean(time_spent_withseek), numpy.std(time_spent_withseek)\n",
    "print numpy.median(time_spent_noseek), numpy.mean(time_spent_noseek), numpy.std(time_spent_noseek)"
   ]
  },
  {
   "cell_type": "code",
   "execution_count": 257,
   "metadata": {
    "collapsed": false
   },
   "outputs": [
    {
     "name": "stdout",
     "output_type": "stream",
     "text": [
      "52547\n",
      "4805 0.0914419472092\n",
      "142 0.0295525494277\n",
      "4663 0.970447450572\n"
     ]
    }
   ],
   "source": [
    "print num_quiz_attempts_total\n",
    "print num_quiz_attempts_withseek, float(num_quiz_attempts_withseek) / num_quiz_attempts_total\n",
    "print num_quiz_attempts_withseek_forward, float(num_quiz_attempts_withseek_forward) / num_quiz_attempts_withseek\n",
    "print num_quiz_attempts_withseek_backward, float(num_quiz_attempts_withseek_backward) / num_quiz_attempts_withseek"
   ]
  },
  {
   "cell_type": "code",
   "execution_count": 178,
   "metadata": {
    "collapsed": false
   },
   "outputs": [],
   "source": [
    "num_quiz_attempts_noseek = 0\n",
    "num_quiz_attempts_withseek = 0\n",
    "num_quiz_attempts_withseek_forward = 0\n",
    "num_quiz_attempts_withseek_backward = 0\n",
    "\n",
    "#lectures_with_single_invideo_quiz = set([2, 3, 4, 5, 6, 7, 9, 10, 11, 25, 26, 27, 28, 29, 30, 31, 32, 38, 41, 42, 43, 45, 46, 47, 48, 49, 50, 51, 53, 54, 55, 56, 57, 58, 59, 60, 61, 63, 64, 76, 77, 78, 79, 80, 81, 82, 83, 84, 86, 87, 88, 89, 90, 91, 92, 93, 94, 95, 96, 97, 98, 99, 100, 101, 102, 103, 104, 105, 106, 107, 108, 109, 110, 111, 112, 113, 114, 115, 117, 118, 119, 120, 121, 122, 123, 124, 125, 126, 127, 129])\n",
    "lectures_with_single_invideo_quiz = set([4, 5, 6, 7, 9, 10, 25, 26, 27, 28, 29, 30, 31, 32, 38, 41, 42, 43, 45, 46, 47, 48, 49, 50, 51, 53, 54, 55, 56, 57, 58, 59, 60, 61, 63, 64, 76, 77, 78, 79, 80, 81, 82, 83, 84, 86, 87, 88, 89, 90, 91, 92, 93, 94, 95, 96, 97, 98, 99, 100, 101, 102, 103, 104, 105, 106, 107, 108, 109, 110, 111, 112, 113, 114, 115, 117, 118, 119, 120, 121, 122, 123, 124, 125, 126, 127, 129])\n",
    "\n",
    "exit_loop = False\n",
    "\n",
    "for user,quiz_to_attempts in user_to_quiz_to_attempts.items():\n",
    "  if exit_loop:\n",
    "    break\n",
    "  for quiz_id,attempts in quiz_to_attempts.items():\n",
    "    if exit_loop:\n",
    "      break\n",
    "    if len(attempts) <= 1:\n",
    "      continue\n",
    "    first_attempt = attempts[0]\n",
    "    last_attempt = attempts[len(attempts) - 1]\n",
    "    if last_attempt - first_attempt > 1800:\n",
    "      continue\n",
    "    lecture_id = quiz_to_lecture_id[int(quiz_id)]\n",
    "    if int(lecture_id) not in lectures_with_single_invideo_quiz:\n",
    "      continue\n",
    "    video_time = quiz_id_to_video_time[int(quiz_id)]\n",
    "    num_quiz_attempts_noseek += 1\n",
    "    if user in lecture_to_user_to_simple_seek_chains[str(lecture_id)]:\n",
    "      seek_events = lecture_to_user_to_simple_seek_chains[str(lecture_id)][user]\n",
    "      for x in seek_events:\n",
    "        if exit_loop:\n",
    "          break\n",
    "        timestamp = x['timestamp']\n",
    "        if int(first_attempt)*1000 <= int(timestamp) <= int(last_attempt)*1000:\n",
    "          num_quiz_attempts_withseek += 1\n",
    "          #print x\n",
    "          #direction = x['direction']\n",
    "          direction = 'forward'\n",
    "          if float(x['end']) < video_time:\n",
    "            direction = 'backward'\n",
    "          #if x['direction'] == 'forward':\n",
    "          if direction == 'forward':\n",
    "            num_quiz_attempts_withseek_forward += 1\n",
    "          else:\n",
    "            num_quiz_attempts_withseek_backward += 1\n",
    "          break\n",
    "      #break\n",
    "    #break\n",
    "  #break"
   ]
  },
  {
   "cell_type": "code",
   "execution_count": 179,
   "metadata": {
    "collapsed": false
   },
   "outputs": [
    {
     "name": "stdout",
     "output_type": "stream",
     "text": [
      "133635\n",
      "7123 0.0506045837537\n",
      "343 0.0481538677524\n",
      "6780 0.951846132248\n"
     ]
    }
   ],
   "source": [
    "print num_quiz_attempts_noseek\n",
    "print num_quiz_attempts_withseek, float(num_quiz_attempts_withseek) / (num_quiz_attempts_noseek + num_quiz_attempts_withseek)\n",
    "print num_quiz_attempts_withseek_forward, float(num_quiz_attempts_withseek_forward) / num_quiz_attempts_withseek\n",
    "print num_quiz_attempts_withseek_backward, float(num_quiz_attempts_withseek_backward) / num_quiz_attempts_withseek"
   ]
  },
  {
   "cell_type": "markdown",
   "metadata": {},
   "source": [
    "# what percentage of the back-seeks (where src=in-video quiz and dest=before in-video quiz) does this account for?"
   ]
  },
  {
   "cell_type": "code",
   "execution_count": 180,
   "metadata": {
    "collapsed": true
   },
   "outputs": [],
   "source": [
    "from datetime import datetime"
   ]
  },
  {
   "cell_type": "code",
   "execution_count": 181,
   "metadata": {
    "collapsed": false
   },
   "outputs": [],
   "source": [
    "#print user_to_quiz_to_attempts"
   ]
  },
  {
   "cell_type": "code",
   "execution_count": 182,
   "metadata": {
    "collapsed": false
   },
   "outputs": [
    {
     "data": {
      "text/plain": [
       "\"\\nback_seeks_no_attempts = 0\\nback_seeks_before_attempts = 0\\nback_seeks_between_attempts = 0\\nback_seeks_after_attempts = 0\\nback_seeks_from_quiz_total = 0\\n\\nmultiple_quiz_attempts = 0\\n\\nlectures_with_single_invideo_quiz = set([2, 3, 4, 5, 6, 7, 9, 10, 11, 25, 26, 27, 28, 29, 30, 31, 32, 38, 41, 42, 43, 45, 46, 47, 48, 49, 50, 51, 53, 54, 55, 56, 57, 58, 59, 60, 61, 63, 64, 76, 77, 78, 79, 80, 81, 82, 83, 84, 86, 87, 88, 89, 90, 91, 92, 93, 94, 95, 96, 97, 98, 99, 100, 101, 102, 103, 104, 105, 106, 107, 108, 109, 110, 111, 112, 113, 114, 115, 117, 118, 119, 120, 121, 122, 123, 124, 125, 126, 127, 129])\\n\\n\\n\\nexit_loop = False\\n\\nnum_printed = 0\\n\\nfor lecture_id,user_to_seek_timestamps in lecture_to_user_to_seek_event_timestamps:\\n  # does this lecture have exactly one in-video quiz?\\n  if int(lecture_id) not in lectures_with_single_invideo_quiz:\\n    continue\\n  quiz_time = float(lecture_id_to_quiz_times[int(lecture_id)][0])\\n  quiz_id = int(lecture_id_to_quizzes[int(lecture_id)][0])\\n  for user,seek_event_timestamps in user_to_seek_timestamps.iteritems():\\n    quiz_attempt_timestamps = []\\n    if user in user_to_quiz_to_attempts:\\n      if quiz_id in user_to_quiz_to_attempts[user]:\\n        quiz_attempt_timestamps = user_to_quiz_to_attempts[user][quiz_id]\\n        quiz_attempt_timestamps = [x*1000 for x in quiz_attempt_timestamps] # convert from seconds to milliseconds\\n    for timestamp in seek_event_timestamps:\\n      \\n\\nfor lecture_id,user_to_simple_seek_chains in lecture_to_user_to_simple_seek_chains.iteritems():\\n  if exit_loop:\\n    break\\n  # does this lecture have exactly one in-video quiz?\\n  if int(lecture_id) not in lectures_with_single_invideo_quiz:\\n    continue\\n  quiz_time = float(lecture_id_to_quiz_times[int(lecture_id)][0])\\n  quiz_id = int(lecture_id_to_quizzes[int(lecture_id)][0])\\n  for user_id,simple_seek_chains in user_to_simple_seek_chains.iteritems():\\n    if exit_loop:\\n      break\\n    quiz_attempt_timestamps = []\\n    if user in user_to_quiz_to_attempts:\\n      if quiz_id in user_to_quiz_to_attempts[user]:\\n        quiz_attempt_timestamps = user_to_quiz_to_attempts[user][quiz_id]\\n        first_quiz_attempt = quiz_attempt_timestamps[0]\\n        #quiz_attempt_timestamps = [x for x in quiz_attempt_timestamps if first_quiz_attempt <= x <= first_quiz_attempt + 1800]\\n        quiz_attempt_timestamps = [x*1000 for x in quiz_attempt_timestamps] # convert from seconds to milliseconds\\n    for seek_chain in simple_seek_chains:\\n      if exit_loop:\\n        break\\n      # does it start from the in-video quiz?\\n      start = seek_chain['start']\\n      end = seek_chain['end']\\n      direction = seek_chain['direction'] # forward or back\\n      timestamp = seek_chain['timestamp']\\n      #if len(simple_seek_chains) < 10:\\n      #  continue\\n      #print datetime.fromtimestamp(timestamp/1000)\\n      #num_printed += 1\\n      #if num_printed >= 1000:\\n      #  exit_loop = True\\n      #  break\\n      #if (quiz_time - 10 <= start <= quiz_time + 10) and direction == 'back' and end < quiz_time:\\n      if (quiz_time - 1 <= start <= quiz_time + 1) and direction == 'back' and end < quiz_time:\\n        back_seeks_from_quiz_total += 1\\n        # back seek from quiz. does it occur between or after \\n        if len(quiz_attempt_timestamps) == 0:\\n          back_seeks_no_attempts += 1\\n        if len(quiz_attempt_timestamps) > 0:\\n          first_quiz_attempt = quiz_attempt_timestamps[0]\\n          last_quiz_attempt = quiz_attempt_timestamps[len(quiz_attempt_timestamps) - 1]\\n          #if True:\\n          #if len(quiz_attempt_timestamps) > 1:\\n          #  print timestamp # this is in nov 7th (much later)\\n          #  print quiz_attempt_timestamps # this is in october 29th (much earlier)\\n          #  exit_loop = True\\n          #  break\\n          if timestamp >= first_quiz_attempt and abs(first_quiz_attempt - timestamp) < 1800*1000:\\n            # within 30 minutes and after the first quiz attempt\\n            if len(quiz_attempt_timestamps) > 1:\\n              multiple_quiz_attempts += 1\\n              #if int(first_quiz_attempt) <= int(timestamp) <= int(last_quiz_attempt):\\n              if True:\\n                # back seek occurred between attempts\\n                back_seeks_between_attempts += 1\\n          if last_quiz_attempt < timestamp:\\n            back_seeks_after_attempts += 1\\n          if first_quiz_attempt > timestamp:\\n            back_seeks_before_attempts += 1\\n\""
      ]
     },
     "execution_count": 182,
     "metadata": {},
     "output_type": "execute_result"
    }
   ],
   "source": [
    "'''\n",
    "back_seeks_no_attempts = 0\n",
    "back_seeks_before_attempts = 0\n",
    "back_seeks_between_attempts = 0\n",
    "back_seeks_after_attempts = 0\n",
    "back_seeks_from_quiz_total = 0\n",
    "\n",
    "multiple_quiz_attempts = 0\n",
    "\n",
    "lectures_with_single_invideo_quiz = set([2, 3, 4, 5, 6, 7, 9, 10, 11, 25, 26, 27, 28, 29, 30, 31, 32, 38, 41, 42, 43, 45, 46, 47, 48, 49, 50, 51, 53, 54, 55, 56, 57, 58, 59, 60, 61, 63, 64, 76, 77, 78, 79, 80, 81, 82, 83, 84, 86, 87, 88, 89, 90, 91, 92, 93, 94, 95, 96, 97, 98, 99, 100, 101, 102, 103, 104, 105, 106, 107, 108, 109, 110, 111, 112, 113, 114, 115, 117, 118, 119, 120, 121, 122, 123, 124, 125, 126, 127, 129])\n",
    "\n",
    "\n",
    "\n",
    "exit_loop = False\n",
    "\n",
    "num_printed = 0\n",
    "\n",
    "for lecture_id,user_to_seek_timestamps in lecture_to_user_to_seek_event_timestamps:\n",
    "  # does this lecture have exactly one in-video quiz?\n",
    "  if int(lecture_id) not in lectures_with_single_invideo_quiz:\n",
    "    continue\n",
    "  quiz_time = float(lecture_id_to_quiz_times[int(lecture_id)][0])\n",
    "  quiz_id = int(lecture_id_to_quizzes[int(lecture_id)][0])\n",
    "  for user,seek_event_timestamps in user_to_seek_timestamps.iteritems():\n",
    "    quiz_attempt_timestamps = []\n",
    "    if user in user_to_quiz_to_attempts:\n",
    "      if quiz_id in user_to_quiz_to_attempts[user]:\n",
    "        quiz_attempt_timestamps = user_to_quiz_to_attempts[user][quiz_id]\n",
    "        quiz_attempt_timestamps = [x*1000 for x in quiz_attempt_timestamps] # convert from seconds to milliseconds\n",
    "    for timestamp in seek_event_timestamps:\n",
    "      \n",
    "\n",
    "for lecture_id,user_to_simple_seek_chains in lecture_to_user_to_simple_seek_chains.iteritems():\n",
    "  if exit_loop:\n",
    "    break\n",
    "  # does this lecture have exactly one in-video quiz?\n",
    "  if int(lecture_id) not in lectures_with_single_invideo_quiz:\n",
    "    continue\n",
    "  quiz_time = float(lecture_id_to_quiz_times[int(lecture_id)][0])\n",
    "  quiz_id = int(lecture_id_to_quizzes[int(lecture_id)][0])\n",
    "  for user_id,simple_seek_chains in user_to_simple_seek_chains.iteritems():\n",
    "    if exit_loop:\n",
    "      break\n",
    "    quiz_attempt_timestamps = []\n",
    "    if user in user_to_quiz_to_attempts:\n",
    "      if quiz_id in user_to_quiz_to_attempts[user]:\n",
    "        quiz_attempt_timestamps = user_to_quiz_to_attempts[user][quiz_id]\n",
    "        first_quiz_attempt = quiz_attempt_timestamps[0]\n",
    "        #quiz_attempt_timestamps = [x for x in quiz_attempt_timestamps if first_quiz_attempt <= x <= first_quiz_attempt + 1800]\n",
    "        quiz_attempt_timestamps = [x*1000 for x in quiz_attempt_timestamps] # convert from seconds to milliseconds\n",
    "    for seek_chain in simple_seek_chains:\n",
    "      if exit_loop:\n",
    "        break\n",
    "      # does it start from the in-video quiz?\n",
    "      start = seek_chain['start']\n",
    "      end = seek_chain['end']\n",
    "      direction = seek_chain['direction'] # forward or back\n",
    "      timestamp = seek_chain['timestamp']\n",
    "      #if len(simple_seek_chains) < 10:\n",
    "      #  continue\n",
    "      #print datetime.fromtimestamp(timestamp/1000)\n",
    "      #num_printed += 1\n",
    "      #if num_printed >= 1000:\n",
    "      #  exit_loop = True\n",
    "      #  break\n",
    "      #if (quiz_time - 10 <= start <= quiz_time + 10) and direction == 'back' and end < quiz_time:\n",
    "      if (quiz_time - 1 <= start <= quiz_time + 1) and direction == 'back' and end < quiz_time:\n",
    "        back_seeks_from_quiz_total += 1\n",
    "        # back seek from quiz. does it occur between or after \n",
    "        if len(quiz_attempt_timestamps) == 0:\n",
    "          back_seeks_no_attempts += 1\n",
    "        if len(quiz_attempt_timestamps) > 0:\n",
    "          first_quiz_attempt = quiz_attempt_timestamps[0]\n",
    "          last_quiz_attempt = quiz_attempt_timestamps[len(quiz_attempt_timestamps) - 1]\n",
    "          #if True:\n",
    "          #if len(quiz_attempt_timestamps) > 1:\n",
    "          #  print timestamp # this is in nov 7th (much later)\n",
    "          #  print quiz_attempt_timestamps # this is in october 29th (much earlier)\n",
    "          #  exit_loop = True\n",
    "          #  break\n",
    "          if timestamp >= first_quiz_attempt and abs(first_quiz_attempt - timestamp) < 1800*1000:\n",
    "            # within 30 minutes and after the first quiz attempt\n",
    "            if len(quiz_attempt_timestamps) > 1:\n",
    "              multiple_quiz_attempts += 1\n",
    "              #if int(first_quiz_attempt) <= int(timestamp) <= int(last_quiz_attempt):\n",
    "              if True:\n",
    "                # back seek occurred between attempts\n",
    "                back_seeks_between_attempts += 1\n",
    "          if last_quiz_attempt < timestamp:\n",
    "            back_seeks_after_attempts += 1\n",
    "          if first_quiz_attempt > timestamp:\n",
    "            back_seeks_before_attempts += 1\n",
    "'''"
   ]
  },
  {
   "cell_type": "code",
   "execution_count": 183,
   "metadata": {
    "collapsed": false
   },
   "outputs": [
    {
     "name": "stdout",
     "output_type": "stream",
     "text": [
      "4519\n",
      "32049\n",
      "6478\n",
      "7605\n",
      "52859\n",
      "9908\n"
     ]
    }
   ],
   "source": [
    "print back_seeks_no_attempts\n",
    "print back_seeks_before_attempts\n",
    "print back_seeks_between_attempts\n",
    "print back_seeks_after_attempts\n",
    "print back_seeks_from_quiz_total\n",
    "print multiple_quiz_attempts"
   ]
  },
  {
   "cell_type": "code",
   "execution_count": 184,
   "metadata": {
    "collapsed": false
   },
   "outputs": [],
   "source": [
    "#print user_to_quiz_to_attempts['abcea9860ecfb2fef5140bc9e504f529ed33eb39']"
   ]
  },
  {
   "cell_type": "code",
   "execution_count": null,
   "metadata": {
    "collapsed": true
   },
   "outputs": [],
   "source": [
    "num_quiz_attempts_total = 0\n",
    "num_quiz_attempts_withseek = 0\n",
    "num_quiz_attempts_withseek_forward = 0\n",
    "num_quiz_attempts_withseek_backward = 0\n",
    "\n",
    "time_spent_withseek = []\n",
    "time_spent_noseek = []\n",
    "\n",
    "exit_loop = False\n",
    "\n",
    "for user,quiz_to_attempts in user_to_quiz_to_attempts.items():\n",
    "  for quiz_id,attempts in quiz_to_attempts.items():\n",
    "    if exit_loop:\n",
    "      break\n",
    "    incorrect_attempts = [x for x in attempts if not x['correct']]\n",
    "    correct_attempts = [x for x in attempts if x['correct']]\n",
    "    if len(incorrect_attempts) == 0:\n",
    "      continue\n",
    "    if len(correct_attempts) == 0:\n",
    "      continue\n",
    "    first_incorrect_attempt = incorrect_attempts[0]['timestamp']\n",
    "    first_correct_attempt = correct_attempts[0]['timestamp']\n",
    "    time_finding_answer = first_correct_attempt - first_incorrect_attempt\n",
    "    if time_finding_answer < 0:\n",
    "      continue\n",
    "    if time_finding_answer > 1800: # more than 30 minutes\n",
    "      continue\n",
    "    lecture_id = quiz_to_lecture_id[int(quiz_id)]\n",
    "    if int(lecture_id) not in lectures_with_single_invideo_quiz:\n",
    "      continue\n",
    "    video_time = quiz_id_to_video_time[int(quiz_id)]\n",
    "    is_seeker = False\n",
    "    if user in lecture_to_user_to_simple_seek_chains[str(lecture_id)]:\n",
    "      num_quiz_attempts_total += 1\n",
    "      seek_events = lecture_to_user_to_simple_seek_chains[str(lecture_id)][user]\n",
    "      for x in seek_events:\n",
    "        if exit_loop:\n",
    "          break\n",
    "        timestamp = x['timestamp']\n",
    "        if int(first_incorrect_attempt)*1000 <= int(timestamp) <= int(first_correct_attempt)*1000:\n",
    "          num_quiz_attempts_withseek += 1\n",
    "          direction = 'forward'\n",
    "          if float(x['end']) < video_time:\n",
    "            direction = 'backward'\n",
    "          if direction == 'forward':\n",
    "            num_quiz_attempts_withseek_forward += 1\n",
    "          else:\n",
    "            num_quiz_attempts_withseek_backward += 1\n",
    "          time_spent_withseek.append(time_finding_answer)\n",
    "          is_seeker = True\n",
    "          break\n",
    "    if not is_seeker:\n",
    "      time_spent_noseek.append(time_finding_answer)"
   ]
  },
  {
   "cell_type": "code",
   "execution_count": 319,
   "metadata": {
    "collapsed": false
   },
   "outputs": [],
   "source": [
    "back_seeks_no_attempts = 0\n",
    "back_seeks_before_attempts = 0\n",
    "back_seeks_between_attempts = 0\n",
    "back_seeks_after_attempts = 0\n",
    "back_seeks_from_quiz_total = 0\n",
    "\n",
    "back_seeks_before_first_correct = 0\n",
    "back_seeks_after_first_correct = 0\n",
    "\n",
    "back_seeks_after_first_correct_diff_session = 0\n",
    "\n",
    "back_seeks_before_first_incorrect = 0\n",
    "\n",
    "back_seeks_between_first_incorrect_and_first_correct = 0\n",
    "\n",
    "back_seeks_between_first_incorrect_and_last_incorrect = 0\n",
    "\n",
    "back_seeks_after_last_incorrect = 0\n",
    "\n",
    "back_seeks_after_last_incorrect_diff_session = 0\n",
    "\n",
    "back_seeks_after_already_correct = 0\n",
    "\n",
    "back_seeks_after_already_correct_diff_session = 0\n",
    "\n",
    "multiple_quiz_attempts = 0\n",
    "\n",
    "lectures_with_single_invideo_quiz = set([2, 3, 4, 5, 6, 7, 9, 10, 11, 25, 26, 27, 28, 29, 30, 31, 32, 38, 41, 42, 43, 45, 46, 47, 48, 49, 50, 51, 53, 54, 55, 56, 57, 58, 59, 60, 61, 63, 64, 76, 77, 78, 79, 80, 81, 82, 83, 84, 86, 87, 88, 89, 90, 91, 92, 93, 94, 95, 96, 97, 98, 99, 100, 101, 102, 103, 104, 105, 106, 107, 108, 109, 110, 111, 112, 113, 114, 115, 117, 118, 119, 120, 121, 122, 123, 124, 125, 126, 127, 129])\n",
    "\n",
    "\n",
    "\n",
    "exit_loop = False\n",
    "\n",
    "num_printed = 0\n",
    "\n",
    "for lecture_id,user_to_simple_seek_chains in lecture_to_user_to_simple_seek_chains.iteritems():\n",
    "  if exit_loop:\n",
    "    break\n",
    "  # does this lecture have exactly one in-video quiz?\n",
    "  if int(lecture_id) not in lectures_with_single_invideo_quiz:\n",
    "    continue\n",
    "  quiz_time = float(lecture_id_to_quiz_times[int(lecture_id)][0])\n",
    "  quiz_id = int(lecture_id_to_quizzes[int(lecture_id)][0])\n",
    "  for user_id,simple_seek_chains in user_to_simple_seek_chains.iteritems():\n",
    "    if exit_loop:\n",
    "      break\n",
    "    quiz_attempts = []\n",
    "    correct_quiz_attempts = []\n",
    "    incorrect_quiz_attempts = []\n",
    "    if user_id in user_to_quiz_to_attempts:\n",
    "      if quiz_id in user_to_quiz_to_attempts[user_id]:\n",
    "        quiz_attempts = user_to_quiz_to_attempts[user_id][quiz_id]\n",
    "        correct_quiz_attempts = [x['timestamp']*1000 for x in quiz_attempts if x['correct']]\n",
    "        incorrect_quiz_attempts = [x['timestamp']*1000 for x in quiz_attempts if not x['correct']]\n",
    "    for seek_chain in simple_seek_chains:\n",
    "      if exit_loop:\n",
    "        break\n",
    "      # does it start from the in-video quiz?\n",
    "      start = seek_chain['start']\n",
    "      end = seek_chain['end']\n",
    "      direction = seek_chain['direction'] # forward or back\n",
    "      timestamp = seek_chain['timestamp']\n",
    "      if (quiz_time - 1 <= start <= quiz_time + 1) and direction == 'back' and end < quiz_time:\n",
    "        back_seeks_from_quiz_total += 1\n",
    "        # back seek from quiz. does it occur between or after \n",
    "        if len(quiz_attempts) == 0:\n",
    "          back_seeks_no_attempts += 1\n",
    "        if len(quiz_attempts) > 0:\n",
    "          # got correct first time?\n",
    "          is_correct_first_time = quiz_attempts[0]['correct']\n",
    "          # note that we're assuming we have the right seek chain here. ie not taking into account duplicate sessions\n",
    "          # probably want to check that it's within 30 minutes of first answer time\n",
    "          if is_correct_first_time:\n",
    "            first_answer_time = correct_quiz_attempts[0]\n",
    "            if first_answer_time > timestamp:\n",
    "              # back seek before first attempt (which was correct)\n",
    "              back_seeks_before_first_correct += 1\n",
    "              break\n",
    "            else:\n",
    "              if abs(timestamp - first_answer_time) > 60*1000:\n",
    "                back_seeks_after_first_correct_diff_session += 1\n",
    "              else:\n",
    "                back_seeks_after_first_correct += 1\n",
    "              break\n",
    "          else:\n",
    "            # incorrect first time\n",
    "            first_answer_time = incorrect_quiz_attempts[0]\n",
    "            if first_answer_time > timestamp:\n",
    "              # back seek before first attempt (which was incorrect)\n",
    "              back_seeks_before_first_incorrect += 1\n",
    "              continue\n",
    "            else:\n",
    "              if len(correct_quiz_attempts) > 0:\n",
    "                # got it wrong first time but eventually got it right!\n",
    "                first_correct_answer_time = correct_quiz_attempts[0]\n",
    "                if first_correct_answer_time > timestamp:\n",
    "                  back_seeks_between_first_incorrect_and_first_correct += 1\n",
    "                  continue\n",
    "                else:\n",
    "                  if abs(timestamp - first_answer_time) > 60*1000:\n",
    "                    back_seeks_after_already_correct_diff_session += 1\n",
    "                  else:\n",
    "                    back_seeks_after_already_correct += 1\n",
    "                  continue # this seek occurred after we already got the answer correct\n",
    "              else:\n",
    "                # got it wrong and never got it right\n",
    "                last_incorrect_answer_time = incorrect_quiz_attempts[len(incorrect_quiz_attempts) - 1]\n",
    "                if timestamp < last_incorrect_answer_time:\n",
    "                  back_seeks_between_first_incorrect_and_last_incorrect += 1\n",
    "                  break\n",
    "                else:\n",
    "                  if abs(timestamp - first_answer_time) > 60*1000:\n",
    "                    back_seeks_after_last_incorrect_diff_session += 1\n",
    "                  else:\n",
    "                    back_seeks_after_last_incorrect += 1\n",
    "                  break"
   ]
  },
  {
   "cell_type": "code",
   "execution_count": 321,
   "metadata": {
    "collapsed": false
   },
   "outputs": [
    {
     "name": "stdout",
     "output_type": "stream",
     "text": [
      "back_seeks_no_attempts 8225 0.1936433196\n",
      "back_seeks_before_first_correct 16039 0.377610359035\n",
      "back_seeks_before_first_incorrect 9671 0.227686874632\n",
      "back_seeks_after_first_correct 1158 0.0272630959388\n",
      "back_seeks_between_first_incorrect_and_first_correct 5012 0.117998822837\n",
      "back_seeks_after_already_correct 1255 0.0295467922307\n",
      "back_seeks_after_last_incorrect 542 0.012760447322\n",
      "back_seeks_between_first_incorrect_and_last_incorrect 573 0.0134902884049\n",
      "back_seeks_after_first_correct_diff_session 2176 0.0512301353737\n",
      "back_seeks_after_already_correct_diff_session 2630 0.0619187757504\n",
      "back_seeks_after_last_incorrect_diff_session 474 0.0111595055915\n"
     ]
    }
   ],
   "source": [
    "total_back_seeks_in_session = (back_seeks_no_attempts + back_seeks_before_first_correct + back_seeks_before_first_incorrect + back_seeks_after_first_correct + back_seeks_between_first_incorrect_and_first_correct + back_seeks_after_already_correct + back_seeks_after_last_incorrect + back_seeks_between_first_incorrect_and_last_incorrect) \n",
    "\n",
    "print 'back_seeks_no_attempts', back_seeks_no_attempts, back_seeks_no_attempts / float(total_back_seeks_in_session)\n",
    "print 'back_seeks_before_first_correct', back_seeks_before_first_correct, back_seeks_before_first_correct / float(total_back_seeks_in_session)\n",
    "print 'back_seeks_before_first_incorrect', back_seeks_before_first_incorrect, back_seeks_before_first_incorrect / float(total_back_seeks_in_session)\n",
    "print 'back_seeks_after_first_correct', back_seeks_after_first_correct, back_seeks_after_first_correct / float(total_back_seeks_in_session)\n",
    "print 'back_seeks_between_first_incorrect_and_first_correct', back_seeks_between_first_incorrect_and_first_correct, back_seeks_between_first_incorrect_and_first_correct / float(total_back_seeks_in_session)\n",
    "print 'back_seeks_after_already_correct', back_seeks_after_already_correct, back_seeks_after_already_correct / float(total_back_seeks_in_session)\n",
    "print 'back_seeks_after_last_incorrect', back_seeks_after_last_incorrect, back_seeks_after_last_incorrect / float(total_back_seeks_in_session)\n",
    "print 'back_seeks_between_first_incorrect_and_last_incorrect', back_seeks_between_first_incorrect_and_last_incorrect, back_seeks_between_first_incorrect_and_last_incorrect / float(total_back_seeks_in_session)\n",
    "\n",
    "print 'back_seeks_after_first_correct_diff_session', back_seeks_after_first_correct_diff_session, back_seeks_after_first_correct_diff_session / float(total_back_seeks_in_session)\n",
    "print 'back_seeks_after_already_correct_diff_session', back_seeks_after_already_correct_diff_session, back_seeks_after_already_correct_diff_session / float(total_back_seeks_in_session)\n",
    "print 'back_seeks_after_last_incorrect_diff_session', back_seeks_after_last_incorrect_diff_session, back_seeks_after_last_incorrect_diff_session / float(total_back_seeks_in_session)\n",
    "\n"
   ]
  },
  {
   "cell_type": "code",
   "execution_count": 211,
   "metadata": {
    "collapsed": false
   },
   "outputs": [],
   "source": [
    "back_seeks_no_attempts = 0\n",
    "back_seeks_before_attempts = 0\n",
    "back_seeks_between_attempts = 0\n",
    "back_seeks_after_attempts = 0\n",
    "back_seeks_from_quiz_total = 0\n",
    "\n",
    "multiple_quiz_attempts = 0\n",
    "\n",
    "lectures_with_single_invideo_quiz = set([2, 3, 4, 5, 6, 7, 9, 10, 11, 25, 26, 27, 28, 29, 30, 31, 32, 38, 41, 42, 43, 45, 46, 47, 48, 49, 50, 51, 53, 54, 55, 56, 57, 58, 59, 60, 61, 63, 64, 76, 77, 78, 79, 80, 81, 82, 83, 84, 86, 87, 88, 89, 90, 91, 92, 93, 94, 95, 96, 97, 98, 99, 100, 101, 102, 103, 104, 105, 106, 107, 108, 109, 110, 111, 112, 113, 114, 115, 117, 118, 119, 120, 121, 122, 123, 124, 125, 126, 127, 129])\n",
    "\n",
    "\n",
    "\n",
    "exit_loop = False\n",
    "\n",
    "num_printed = 0\n",
    "\n",
    "for lecture_id,user_to_simple_seek_chains in lecture_to_user_to_simple_seek_chains.iteritems():\n",
    "  if exit_loop:\n",
    "    break\n",
    "  # does this lecture have exactly one in-video quiz?\n",
    "  if int(lecture_id) not in lectures_with_single_invideo_quiz:\n",
    "    continue\n",
    "  quiz_time = float(lecture_id_to_quiz_times[int(lecture_id)][0])\n",
    "  quiz_id = int(lecture_id_to_quizzes[int(lecture_id)][0])\n",
    "  for user_id,simple_seek_chains in user_to_simple_seek_chains.iteritems():\n",
    "    if exit_loop:\n",
    "      break\n",
    "    quiz_attempt_timestamps = []\n",
    "    if user_id in user_to_quiz_to_attempts:\n",
    "      if quiz_id in user_to_quiz_to_attempts[user_id]:\n",
    "        quiz_attempt_timestamps = user_to_quiz_to_attempts[user_id][quiz_id]\n",
    "        first_quiz_attempt = quiz_attempt_timestamps[0]\n",
    "        #quiz_attempt_timestamps = [x for x in quiz_attempt_timestamps if first_quiz_attempt <= x <= first_quiz_attempt + 1800]\n",
    "        quiz_attempt_timestamps = [x*1000 for x in quiz_attempt_timestamps] # convert from seconds to milliseconds\n",
    "        #print quiz_attempt_timestamps\n",
    "        #num_printed += 1\n",
    "        #if num_printed >= 1000:\n",
    "        #  exit_loop = True\n",
    "        #  break\n",
    "    for seek_chain in simple_seek_chains:\n",
    "      if exit_loop:\n",
    "        break\n",
    "      # does it start from the in-video quiz?\n",
    "      start = seek_chain['start']\n",
    "      end = seek_chain['end']\n",
    "      direction = seek_chain['direction'] # forward or back\n",
    "      timestamp = seek_chain['timestamp']\n",
    "      #timestamp = timestamp + 1000 * 7 * 3600\n",
    "      #if len(simple_seek_chains) != 1:\n",
    "      #  continue\n",
    "      #if len(quiz_attempt_timestamps) != 1:\n",
    "      #  continue\n",
    "      #print datetime.fromtimestamp(timestamp/1000), datetime.fromtimestamp(quiz_attempt_timestamps[0]/1000)\n",
    "      #num_printed += 1\n",
    "      #if num_printed >= 1000:\n",
    "      #  exit_loop = True\n",
    "      #  break\n",
    "      #if (quiz_time - 10 <= start <= quiz_time + 10) and direction == 'back' and end < quiz_time:\n",
    "      if (quiz_time - 1 <= start <= quiz_time + 1) and direction == 'back' and end < quiz_time:\n",
    "        back_seeks_from_quiz_total += 1\n",
    "        # back seek from quiz. does it occur between or after \n",
    "        if len(quiz_attempt_timestamps) == 0:\n",
    "          back_seeks_no_attempts += 1\n",
    "        if len(quiz_attempt_timestamps) > 0:\n",
    "          first_quiz_attempt = quiz_attempt_timestamps[0]\n",
    "          last_quiz_attempt = quiz_attempt_timestamps[len(quiz_attempt_timestamps) - 1]\n",
    "          #if True:\n",
    "          #if len(quiz_attempt_timestamps) > 1:\n",
    "          #  print timestamp # this is in nov 7th (much later)\n",
    "          #  print quiz_attempt_timestamps # this is in october 29th (much earlier)\n",
    "          #  exit_loop = True\n",
    "          #  break\n",
    "          if timestamp >= first_quiz_attempt and abs(first_quiz_attempt - timestamp) < 1800*1000:\n",
    "            # within 30 minutes and after the first quiz attempt\n",
    "            if len(quiz_attempt_timestamps) > 1:\n",
    "              multiple_quiz_attempts += 1\n",
    "              if int(first_quiz_attempt) <= int(timestamp) <= int(last_quiz_attempt):\n",
    "                # back seek occurred between attempts\n",
    "                back_seeks_between_attempts += 1\n",
    "          if last_quiz_attempt < timestamp and abs(first_quiz_attempt - timestamp) < 1800*1000:\n",
    "            back_seeks_after_attempts += 1\n",
    "          if first_quiz_attempt > timestamp and abs(first_quiz_attempt - timestamp) < 1800*1000:\n",
    "            back_seeks_before_attempts += 1"
   ]
  },
  {
   "cell_type": "code",
   "execution_count": 212,
   "metadata": {
    "collapsed": false
   },
   "outputs": [
    {
     "name": "stdout",
     "output_type": "stream",
     "text": [
      "4519\n",
      "30522\n",
      "6478\n",
      "5242\n",
      "52859\n",
      "9908\n"
     ]
    }
   ],
   "source": [
    "print back_seeks_no_attempts\n",
    "print back_seeks_before_attempts\n",
    "print back_seeks_between_attempts\n",
    "print back_seeks_after_attempts\n",
    "print back_seeks_from_quiz_total\n",
    "print multiple_quiz_attempts"
   ]
  },
  {
   "cell_type": "code",
   "execution_count": 187,
   "metadata": {
    "collapsed": false
   },
   "outputs": [
    {
     "name": "stdout",
     "output_type": "stream",
     "text": [
      "52859\n"
     ]
    }
   ],
   "source": [
    "print back_seeks_from_quiz_total"
   ]
  },
  {
   "cell_type": "code",
   "execution_count": 188,
   "metadata": {
    "collapsed": false
   },
   "outputs": [],
   "source": [
    "num_quiz_attempts_noseek = 0\n",
    "num_quiz_attempts_withseek = 0\n",
    "num_quiz_attempts_withseek_forward = 0\n",
    "num_quiz_attempts_withseek_backward = 0\n",
    "\n",
    "for user,quiz_to_attempts in user_to_quiz_to_attempts.items():\n",
    "  for quiz_id,attempts in quiz_to_attempts.items():\n",
    "    if len(attempts) <= 1:\n",
    "      continue\n",
    "    first_attempt = attempts[0]\n",
    "    last_attempt = attempts[len(attempts) - 1]\n",
    "    if last_attempt - first_attempt > 1800:\n",
    "      continue\n",
    "    lecture_id = quiz_to_lecture_id[quiz_id]\n",
    "    video_time = quiz_id_to_video_time[int(quiz_id)]\n",
    "    num_quiz_attempts_noseek += 1\n",
    "    if user in lecture_to_user_to_simple_seek_chains[str(lecture_id)]:\n",
    "      seek_events = lecture_to_user_to_simple_seek_chains[str(lecture_id)][user]\n",
    "      for x in seek_events:\n",
    "        timestamp = x['timestamp']\n",
    "        if int(first_attempt)*1000 <= int(timestamp) <= int(last_attempt)*1000:\n",
    "          num_quiz_attempts_withseek += 1\n",
    "          #print x\n",
    "          direction = 'forward'\n",
    "          if float(x['end']) < video_time:\n",
    "            direction = 'backward'\n",
    "          #if x['direction'] == 'forward':\n",
    "          if direction == 'forward':\n",
    "            num_quiz_attempts_withseek_forward += 1\n",
    "          else:\n",
    "            num_quiz_attempts_withseek_backward += 1\n",
    "          break\n",
    "      #break\n",
    "    #break\n",
    "  #break"
   ]
  },
  {
   "cell_type": "code",
   "execution_count": 189,
   "metadata": {
    "collapsed": false
   },
   "outputs": [
    {
     "name": "stdout",
     "output_type": "stream",
     "text": [
      "217872\n",
      "11480 0.0500540653668\n",
      "573 0.0499128919861\n",
      "10907 0.950087108014\n"
     ]
    }
   ],
   "source": [
    "print num_quiz_attempts_noseek\n",
    "print num_quiz_attempts_withseek, float(num_quiz_attempts_withseek) / (num_quiz_attempts_noseek + num_quiz_attempts_withseek)\n",
    "print num_quiz_attempts_withseek_forward, float(num_quiz_attempts_withseek_forward) / num_quiz_attempts_withseek\n",
    "print num_quiz_attempts_withseek_backward, float(num_quiz_attempts_withseek_backward) / num_quiz_attempts_withseek"
   ]
  },
  {
   "cell_type": "code",
   "execution_count": 190,
   "metadata": {
    "collapsed": false
   },
   "outputs": [],
   "source": [
    "num_quiz_attempts_noseek = 0\n",
    "num_quiz_attempts_withseek = 0\n",
    "num_quiz_attempts_withseek_forward = 0\n",
    "num_quiz_attempts_withseek_backward = 0\n",
    "\n",
    "for user,quiz_to_attempts in user_to_quiz_to_attempts.items():\n",
    "  for quiz_id,attempts in quiz_to_attempts.items():\n",
    "    if len(attempts) <= 1:\n",
    "      continue\n",
    "    first_attempt = attempts[0]\n",
    "    last_attempt = attempts[len(attempts) - 1]\n",
    "    if last_attempt - first_attempt > 1800:\n",
    "      continue\n",
    "    lecture_id = quiz_to_lecture_id[quiz_id]\n",
    "    video_time = quiz_id_to_video_time[int(quiz_id)]\n",
    "    num_quiz_attempts_noseek += 1\n",
    "    if user in lecture_to_user_to_simple_seek_events[str(lecture_id)]:\n",
    "      seek_events = lecture_to_user_to_simple_seek_events[str(lecture_id)][user]\n",
    "      for x in seek_events:\n",
    "        timestamp = x['timestamp']\n",
    "        if int(first_attempt)*1000 <= int(timestamp) <= int(last_attempt)*1000:\n",
    "          num_quiz_attempts_withseek += 1\n",
    "          #if x['direction'] == 'forward':\n",
    "          direction = 'forward'\n",
    "          if float(x['end']) < video_time:\n",
    "            direction = 'backward'\n",
    "          if direction == 'forward':\n",
    "            num_quiz_attempts_withseek_forward += 1\n",
    "          else:\n",
    "            num_quiz_attempts_withseek_backward += 1\n",
    "          break"
   ]
  },
  {
   "cell_type": "code",
   "execution_count": 191,
   "metadata": {
    "collapsed": false
   },
   "outputs": [
    {
     "name": "stdout",
     "output_type": "stream",
     "text": [
      "217872\n",
      "11566 0.0504101325848\n",
      "657 0.0568044267681\n",
      "10909 0.943195573232\n"
     ]
    }
   ],
   "source": [
    "print num_quiz_attempts_noseek\n",
    "print num_quiz_attempts_withseek, float(num_quiz_attempts_withseek) / (num_quiz_attempts_noseek + num_quiz_attempts_withseek)\n",
    "print num_quiz_attempts_withseek_forward, float(num_quiz_attempts_withseek_forward) / num_quiz_attempts_withseek\n",
    "print num_quiz_attempts_withseek_backward, float(num_quiz_attempts_withseek_backward) / num_quiz_attempts_withseek"
   ]
  },
  {
   "cell_type": "code",
   "execution_count": 192,
   "metadata": {
    "collapsed": true
   },
   "outputs": [],
   "source": [
    "num_quiz_attempts_noseek = 0\n",
    "num_quiz_attempts_withseek = 0\n",
    "\n",
    "for user,quiz_to_attempts in user_to_quiz_to_attempts.items():\n",
    "  for quiz_id,attempts in quiz_to_attempts.items():\n",
    "    if len(attempts) <= 1:\n",
    "      continue\n",
    "    first_attempt = attempts[0]\n",
    "    last_attempt = attempts[len(attempts) - 1]\n",
    "    if last_attempt - first_attempt > 1800:\n",
    "      continue\n",
    "    lecture_id = quiz_to_lecture_id[quiz_id]\n",
    "    num_quiz_attempts_noseek += 1\n",
    "    if user in lecture_to_user_to_seek_event_timestamps[str(lecture_id)]:\n",
    "      seek_events = lecture_to_user_to_seek_event_timestamps[str(lecture_id)][user]\n",
    "      for x in seek_events:\n",
    "        if int(first_attempt)*1000 <= int(x) <= int(last_attempt)*1000:\n",
    "          num_quiz_attempts_withseek += 1\n",
    "          break"
   ]
  },
  {
   "cell_type": "code",
   "execution_count": 193,
   "metadata": {
    "collapsed": false
   },
   "outputs": [
    {
     "name": "stdout",
     "output_type": "stream",
     "text": [
      "217872\n",
      "11904 0.05180697723\n"
     ]
    }
   ],
   "source": [
    "print num_quiz_attempts_noseek\n",
    "print num_quiz_attempts_withseek, float(num_quiz_attempts_withseek) / (num_quiz_attempts_noseek + num_quiz_attempts_withseek)"
   ]
  },
  {
   "cell_type": "code",
   "execution_count": 194,
   "metadata": {
    "collapsed": true
   },
   "outputs": [],
   "source": [
    "def current_and_prev_item(l):\n",
    "  prev_item = None\n",
    "  is_first = True\n",
    "  for x in l:\n",
    "    if is_first:\n",
    "      is_first = False\n",
    "    else:\n",
    "      yield (prev_item, x)\n",
    "    prev_item = x\n",
    "    "
   ]
  },
  {
   "cell_type": "code",
   "execution_count": 195,
   "metadata": {
    "collapsed": true
   },
   "outputs": [],
   "source": [
    "num_quiz_attempts_noseek = 0\n",
    "num_quiz_attempts_withseek = 0\n",
    "\n",
    "for user,quiz_to_attempts in user_to_quiz_to_attempts.items():\n",
    "  for quiz_id,attempts in quiz_to_attempts.items():\n",
    "    if len(attempts) <= 1:\n",
    "      continue\n",
    "    lecture_id = quiz_to_lecture_id[quiz_id]\n",
    "    for prev_attempt,next_attempt in current_and_prev_item(attempts):\n",
    "      num_quiz_attempts_noseek += 1\n",
    "      if user in lecture_to_user_to_seek_event_timestamps[str(lecture_id)]:\n",
    "        seek_events = lecture_to_user_to_seek_event_timestamps[str(lecture_id)][user]\n",
    "        for x in seek_events:\n",
    "          if int(prev_attempt)*1000 <= int(x) <= int(last_attempt)*1000:\n",
    "            num_quiz_attempts_withseek += 1\n",
    "            break"
   ]
  },
  {
   "cell_type": "code",
   "execution_count": 196,
   "metadata": {
    "collapsed": false
   },
   "outputs": [
    {
     "name": "stdout",
     "output_type": "stream",
     "text": [
      "406277\n",
      "32576 0.0742298674043\n"
     ]
    }
   ],
   "source": [
    "print num_quiz_attempts_noseek\n",
    "print num_quiz_attempts_withseek, float(num_quiz_attempts_withseek) / (num_quiz_attempts_noseek + num_quiz_attempts_withseek)"
   ]
  },
  {
   "cell_type": "code",
   "execution_count": 197,
   "metadata": {
    "collapsed": false
   },
   "outputs": [],
   "source": [
    "num_quiz_attempts_noseek = 0\n",
    "num_quiz_attempts_withseek = 0\n",
    "num_quiz_attempts_withseek_forward = 0\n",
    "num_quiz_attempts_withseek_backward = 0\n",
    "\n",
    "for user,quiz_to_attempts in user_to_quiz_to_attempts.items():\n",
    "  for quiz_id,attempts in quiz_to_attempts.items():\n",
    "    if len(attempts) <= 1:\n",
    "      continue\n",
    "    lecture_id = quiz_to_lecture_id[quiz_id]\n",
    "    video_time = quiz_id_to_video_time[int(quiz_id)]\n",
    "    for prev_attempt,next_attempt in current_and_prev_item(attempts):\n",
    "      if next_attempt - prev_attempt > 1800:\n",
    "        continue\n",
    "      num_quiz_attempts_noseek += 1\n",
    "      if user in lecture_to_user_to_simple_seek_events[str(lecture_id)]:\n",
    "        seek_events = lecture_to_user_to_simple_seek_events[str(lecture_id)][user]\n",
    "        for x in seek_events:\n",
    "          timestamp = x['timestamp']\n",
    "          if int(prev_attempt)*1000 <= int(timestamp) <= int(last_attempt)*1000:\n",
    "            num_quiz_attempts_withseek += 1\n",
    "            direction = 'forward'\n",
    "            if float(x['end']) < video_time:\n",
    "              direction = 'backward'\n",
    "            #if x['direction'] == 'forward':\n",
    "            if direction == 'forward':\n",
    "              num_quiz_attempts_withseek_forward += 1\n",
    "            else:\n",
    "              num_quiz_attempts_withseek_backward += 1\n",
    "            break"
   ]
  },
  {
   "cell_type": "code",
   "execution_count": 198,
   "metadata": {
    "collapsed": false
   },
   "outputs": [
    {
     "name": "stdout",
     "output_type": "stream",
     "text": [
      "350930\n",
      "22342 0.0598544760925\n",
      "7739 0.346387968848\n",
      "14603 0.653612031152\n"
     ]
    }
   ],
   "source": [
    "print num_quiz_attempts_noseek\n",
    "print num_quiz_attempts_withseek, float(num_quiz_attempts_withseek) / (num_quiz_attempts_noseek + num_quiz_attempts_withseek)\n",
    "print num_quiz_attempts_withseek_forward, float(num_quiz_attempts_withseek_forward) / num_quiz_attempts_withseek\n",
    "print num_quiz_attempts_withseek_backward, float(num_quiz_attempts_withseek_backward) / num_quiz_attempts_withseek"
   ]
  },
  {
   "cell_type": "code",
   "execution_count": 199,
   "metadata": {
    "collapsed": false
   },
   "outputs": [],
   "source": [
    "num_quiz_attempts_noseek = 0\n",
    "num_quiz_attempts_withseek = 0\n",
    "num_quiz_attempts_withseek_forward = 0\n",
    "num_quiz_attempts_withseek_backward = 0\n",
    "\n",
    "for user,quiz_to_attempts in user_to_quiz_to_attempts.items():\n",
    "  for quiz_id,attempts in quiz_to_attempts.items():\n",
    "    if len(attempts) <= 1:\n",
    "      continue\n",
    "    lecture_id = quiz_to_lecture_id[quiz_id]\n",
    "    video_time = quiz_id_to_video_time[int(quiz_id)]\n",
    "    for prev_attempt,next_attempt in current_and_prev_item(attempts):\n",
    "      if next_attempt - prev_attempt > 1800:\n",
    "        continue\n",
    "      num_quiz_attempts_noseek += 1\n",
    "      if user in lecture_to_user_to_simple_seek_chains[str(lecture_id)]:\n",
    "        seek_events = lecture_to_user_to_simple_seek_chains[str(lecture_id)][user]\n",
    "        for x in seek_events:\n",
    "          timestamp = x['timestamp']\n",
    "          if int(prev_attempt)*1000 <= int(timestamp) <= int(last_attempt)*1000:\n",
    "            num_quiz_attempts_withseek += 1\n",
    "            direction = 'forward'\n",
    "            if float(x['end']) < video_time:\n",
    "              direction = 'backward'\n",
    "            #if x['direction'] == 'forward':\n",
    "            if direction == 'forward':\n",
    "              num_quiz_attempts_withseek_forward += 1\n",
    "            else:\n",
    "              num_quiz_attempts_withseek_backward += 1\n",
    "            break"
   ]
  },
  {
   "cell_type": "code",
   "execution_count": 200,
   "metadata": {
    "collapsed": false
   },
   "outputs": [
    {
     "name": "stdout",
     "output_type": "stream",
     "text": [
      "350930\n",
      "22331 0.0598267700081\n",
      "8263 0.370023733823\n",
      "14068 0.629976266177\n"
     ]
    }
   ],
   "source": [
    "print num_quiz_attempts_noseek\n",
    "print num_quiz_attempts_withseek, float(num_quiz_attempts_withseek) / (num_quiz_attempts_noseek + num_quiz_attempts_withseek)\n",
    "print num_quiz_attempts_withseek_forward, float(num_quiz_attempts_withseek_forward) / num_quiz_attempts_withseek\n",
    "print num_quiz_attempts_withseek_backward, float(num_quiz_attempts_withseek_backward) / num_quiz_attempts_withseek"
   ]
  },
  {
   "cell_type": "code",
   "execution_count": null,
   "metadata": {
    "collapsed": true
   },
   "outputs": [],
   "source": []
  },
  {
   "cell_type": "code",
   "execution_count": 201,
   "metadata": {
    "collapsed": false
   },
   "outputs": [],
   "source": [
    "#print video_to_seek_chains.keys()"
   ]
  },
  {
   "cell_type": "code",
   "execution_count": 202,
   "metadata": {
    "collapsed": true
   },
   "outputs": [],
   "source": [
    "delay_between_attempts = []\n",
    "\n",
    "for user_id,quiz_to_attempts in user_to_quiz_to_attempts.items():\n",
    "  for quiz_id,attempts in quiz_to_attempts.items():\n",
    "    first_submission = attempts[0]\n",
    "    current_session_attempts = [x for x in attempts if abs(x - first_submission) < 1800]\n",
    "    for x in current_session_attempts[1:]:\n",
    "      delay_between_attempts.append(x - first_submission)\n"
   ]
  },
  {
   "cell_type": "code",
   "execution_count": 203,
   "metadata": {
    "collapsed": false
   },
   "outputs": [],
   "source": [
    "#print user_to_quiz_to_attempts"
   ]
  },
  {
   "cell_type": "code",
   "execution_count": 204,
   "metadata": {
    "collapsed": false
   },
   "outputs": [
    {
     "name": "stdout",
     "output_type": "stream",
     "text": [
      "1.35868311011\n"
     ]
    }
   ],
   "source": [
    "attempts_per_user = []\n",
    "\n",
    "for user_id,quiz_to_attempts in user_to_quiz_to_attempts.items():\n",
    "  for quiz_id,attempts in quiz_to_attempts.items():\n",
    "    first_submission = attempts[0]\n",
    "    current_session_attempts = [x for x in attempts if abs(x - first_submission) < 1800]\n",
    "    attempts_per_user.append(len(current_session_attempts))\n",
    "\n",
    "attempts_per_user = [min(x, 3) for x in attempts_per_user]\n",
    "\n",
    "print numpy.mean(attempts_per_user)"
   ]
  }
 ],
 "metadata": {
  "kernelspec": {
   "display_name": "Python 2",
   "language": "python",
   "name": "python2"
  },
  "language_info": {
   "codemirror_mode": {
    "name": "ipython",
    "version": 2
   },
   "file_extension": ".py",
   "mimetype": "text/x-python",
   "name": "python",
   "nbconvert_exporter": "python",
   "pygments_lexer": "ipython2",
   "version": "2.7.3"
  }
 },
 "nbformat": 4,
 "nbformat_minor": 0
}
